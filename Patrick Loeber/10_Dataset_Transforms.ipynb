{
  "nbformat": 4,
  "nbformat_minor": 0,
  "metadata": {
    "colab": {
      "provenance": []
    },
    "kernelspec": {
      "name": "python3",
      "display_name": "Python 3"
    },
    "language_info": {
      "name": "python"
    }
  },
  "cells": [
    {
      "cell_type": "markdown",
      "source": [
        "# Dataset Transforms"
      ],
      "metadata": {
        "id": "NuybTmLq-OFi"
      }
    },
    {
      "cell_type": "code",
      "source": [
        "import torch\n",
        "import torchvision\n",
        "\n",
        "dataset = torchvision.datasets.MNIST(\n",
        "    root='./data', transform=torchvision.transforms.ToTensor(), download=True)"
      ],
      "metadata": {
        "id": "YdxC1G1kBmfO"
      },
      "execution_count": null,
      "outputs": []
    },
    {
      "cell_type": "markdown",
      "source": [
        "Transforms can be applied to PIL Images, tensors, ndarrays, or custom data when creating the dataset."
      ],
      "metadata": {
        "id": "uOkeJKeNCKB_"
      }
    },
    {
      "cell_type": "code",
      "execution_count": 13,
      "metadata": {
        "id": "RIB2isdF6K9_"
      },
      "outputs": [],
      "source": [
        "import torch\n",
        "import torchvision\n",
        "from torch.utils.data import Dataset, DataLoader\n",
        "import numpy as np\n",
        "import math\n",
        "\n",
        "# creating a custom class for our dataset, which inherits from Dataset.\n",
        "class WineDataset(Dataset):\n",
        "\n",
        "    # this function is used for data loading\n",
        "    def __init__(self, transform=None):\n",
        "      # data loading\n",
        "      xy = np.loadtxt('./wine.csv', delimiter=',', dtype=np.float32, skiprows=1)\n",
        "      self.n_samples = xy.shape[0]\n",
        "\n",
        "      # note that we do not convert to tensor here.\n",
        "      self.x = xy[:, 1:]  # the first column is the output label\n",
        "      self.y = xy[:, [0]] # n_samples, 1\n",
        "      \n",
        "      self.transform = transform\n",
        "\n",
        "    # this function allows indexing in our dataset\n",
        "    def __getitem__(self, index):\n",
        "      sample = self.x[index], self.y[index]\n",
        "\n",
        "      # apply transformation if available.\n",
        "      if self.transform:\n",
        "        sample = self.transform(sample)\n",
        "\n",
        "      return sample\n",
        "\n",
        "    # this allows us to call len on our dataset.\n",
        "    def __len__(self):\n",
        "      return self.n_samples"
      ]
    },
    {
      "cell_type": "markdown",
      "source": [
        "The ```__call__``` method enables Python programmers to write classes where the instances behave like functions and can be called like a function. \n",
        "\n",
        "```\n",
        "class Example:\n",
        "\tdef __init__(self):\n",
        "\t\tprint(\"Instance Created\")\n",
        "\t\n",
        "\t# Defining __call__ method\n",
        "\tdef __call__(self):\n",
        "\t\tprint(\"Instance is called via special method\")\n",
        "\n",
        "# Instance created\n",
        "e = Example()\n",
        "\n",
        "# __call__ method will be called\n",
        "e()\n",
        "```"
      ],
      "metadata": {
        "id": "lxsOLD64EPdG"
      }
    },
    {
      "cell_type": "code",
      "source": [
        "# Writing our custom transform class. This converts the numpy array to tensor.\n",
        "class ToTensor:\n",
        "  # this function is described above.\n",
        "  def __call__(self, sample):\n",
        "    inputs, labels = sample\n",
        "    return torch.from_numpy(inputs), torch.from_numpy(labels)\n",
        "\n",
        "dataset = WineDataset(transform=ToTensor())\n",
        "first_data = dataset[0]\n",
        "features, labels = first_data\n",
        "print(type(features), type(labels))\n",
        "print(features)"
      ],
      "metadata": {
        "colab": {
          "base_uri": "https://localhost:8080/"
        },
        "id": "Q7REMYzD-NPn",
        "outputId": "a74b3521-77d7-49fb-ae29-3ab65704dafc"
      },
      "execution_count": 17,
      "outputs": [
        {
          "output_type": "stream",
          "name": "stdout",
          "text": [
            "<class 'torch.Tensor'> <class 'torch.Tensor'>\n",
            "tensor([1.4230e+01, 1.7100e+00, 2.4300e+00, 1.5600e+01, 1.2700e+02, 2.8000e+00,\n",
            "        3.0600e+00, 2.8000e-01, 2.2900e+00, 5.6400e+00, 1.0400e+00, 3.9200e+00,\n",
            "        1.0650e+03])\n"
          ]
        }
      ]
    },
    {
      "cell_type": "code",
      "source": [
        "# all features to be multiplied by the factor passed into the object.\n",
        "class MulTransform:\n",
        "  def __init__(self, factor):\n",
        "    self.factor = factor\n",
        "\n",
        "  def __call__(self, sample):\n",
        "    features, labels = sample\n",
        "    features *= self.factor\n",
        "    return features, labels"
      ],
      "metadata": {
        "id": "q17kwalYEzrG"
      },
      "execution_count": 19,
      "outputs": []
    },
    {
      "cell_type": "code",
      "source": [
        "composed = torchvision.transforms.Compose([ToTensor(), MulTransform(2)])\n",
        "dataset1 = WineDataset(transform=composed)\n",
        "\n",
        "first_data = dataset1[0]\n",
        "features, labels = first_data\n",
        "print(type(features), type(labels))\n",
        "print(features)"
      ],
      "metadata": {
        "colab": {
          "base_uri": "https://localhost:8080/"
        },
        "id": "EiBHay_OFH0n",
        "outputId": "899713ae-1867-4b4f-8bd5-8d231c206eb7"
      },
      "execution_count": 21,
      "outputs": [
        {
          "output_type": "stream",
          "name": "stdout",
          "text": [
            "<class 'torch.Tensor'> <class 'torch.Tensor'>\n",
            "tensor([2.8460e+01, 3.4200e+00, 4.8600e+00, 3.1200e+01, 2.5400e+02, 5.6000e+00,\n",
            "        6.1200e+00, 5.6000e-01, 4.5800e+00, 1.1280e+01, 2.0800e+00, 7.8400e+00,\n",
            "        2.1300e+03])\n"
          ]
        }
      ]
    },
    {
      "cell_type": "code",
      "source": [],
      "metadata": {
        "id": "y6y4RBlhFeXr"
      },
      "execution_count": null,
      "outputs": []
    }
  ]
}