{
  "nbformat": 4,
  "nbformat_minor": 0,
  "metadata": {
    "colab": {
      "provenance": []
    },
    "kernelspec": {
      "name": "python3",
      "display_name": "Python 3"
    },
    "language_info": {
      "name": "python"
    }
  },
  "cells": [
    {
      "cell_type": "markdown",
      "source": [
        "# Linear Regression in PyTorch."
      ],
      "metadata": {
        "id": "Uat_xJgdboSF"
      }
    },
    {
      "cell_type": "code",
      "source": [
        "# Import Dependencies\n",
        "\n",
        "import torch\n",
        "import torch.nn as nn\n",
        "import numpy as np\n",
        "from sklearn import datasets\n",
        "import matplotlib.pyplot as plt"
      ],
      "metadata": {
        "id": "DUva-R1Uv3L0"
      },
      "execution_count": null,
      "outputs": []
    },
    {
      "cell_type": "markdown",
      "source": [
        "### Preparing Our Data -"
      ],
      "metadata": {
        "id": "weV5byIVwHm7"
      }
    },
    {
      "cell_type": "code",
      "source": [
        "X_numpy, y_numpy = datasets.make_regression(n_samples=100, n_features=1, noise=20, random_state=1)\n",
        "\n",
        "X = torch.from_numpy(X_numpy.astype(np.float32))  # Numpy array generated is in double. We convert that to avoid some errors later in PyTorch.\n",
        "y = torch.from_numpy(y_numpy.astype(np.float32))\n",
        "y = y.view(y.shape[0], 1) # Making y a column vector.\n",
        "\n",
        "n_samples, n_features = X.shape"
      ],
      "metadata": {
        "id": "rkCfUZacwN8n"
      },
      "execution_count": null,
      "outputs": []
    },
    {
      "cell_type": "markdown",
      "source": [
        "### Creating Our Model "
      ],
      "metadata": {
        "id": "ZLxmaC-cw7n6"
      }
    },
    {
      "cell_type": "code",
      "source": [
        "input_size = n_features\n",
        "output_size = 1\n",
        "model = nn.Linear(input_size, output_size)"
      ],
      "metadata": {
        "id": "Fv8TY-TDw9cQ"
      },
      "execution_count": null,
      "outputs": []
    },
    {
      "cell_type": "markdown",
      "source": [
        "### Loss and Optimizer"
      ],
      "metadata": {
        "id": "lzykYD_JxHl4"
      }
    },
    {
      "cell_type": "code",
      "source": [
        "learning_rate = 0.01\n",
        "\n",
        "criterion = nn.MSELoss()  # Calculates the mean squared error. criterion is now a callable function.\n",
        "optimizer = torch.optim.SGD(model.parameters(), lr=learning_rate)"
      ],
      "metadata": {
        "id": "xrWlQLogxJzX"
      },
      "execution_count": null,
      "outputs": []
    },
    {
      "cell_type": "markdown",
      "source": [
        "### Training Loop"
      ],
      "metadata": {
        "id": "dS4sYjxfxdCp"
      }
    },
    {
      "cell_type": "code",
      "source": [
        "num_epochs = 100\n",
        "for epoch in range(num_epochs):\n",
        "  # Forward Pass and Loss\n",
        "  y_predicted = model(X)\n",
        "  loss = criterion(y_predicted, y)\n",
        "\n",
        "  # Backward Pass\n",
        "  loss.backward()\n",
        "\n",
        "  # Update weights\n",
        "  optimizer.step()\n",
        "\n",
        "  # Set gradients to zero again.\n",
        "  optimizer.zero_grad()\n",
        "\n",
        "  if epoch+1%10 == 0:\n",
        "    print(f'epoch: {epoch+1}, loss = {loss.item():.4f}')"
      ],
      "metadata": {
        "id": "alQIrib7xeaR"
      },
      "execution_count": null,
      "outputs": []
    },
    {
      "cell_type": "markdown",
      "source": [
        "### Plotting the information"
      ],
      "metadata": {
        "id": "Srw_AWwlyF2u"
      }
    },
    {
      "cell_type": "code",
      "source": [
        "predicted = model(X).detach() # We dont want this to be tracked in the computational graph.\n",
        "plt.plot(X_numpy, y_numpy, 'ro')\n",
        "plt.plot(X_numpy, predicted, 'b')\n",
        "plt.show()"
      ],
      "metadata": {
        "colab": {
          "base_uri": "https://localhost:8080/",
          "height": 265
        },
        "id": "JPy-w8LXyJu5",
        "outputId": "0b275286-1e31-4c3d-fb83-980e14aec1d3"
      },
      "execution_count": null,
      "outputs": [
        {
          "output_type": "display_data",
          "data": {
            "text/plain": [
              "<Figure size 432x288 with 1 Axes>"
            ],
            "image/png": "[encoded data removed]"
          },
          "metadata": {
            "needs_background": "light"
          }
        }
      ]
    },
    {
      "cell_type": "markdown",
      "source": [
        " The blue line is our predictions and the red dots are the original data generated by scikit-learn."
      ],
      "metadata": {
        "id": "Y-8QjBfNynCJ"
      }
    }
  ]
}