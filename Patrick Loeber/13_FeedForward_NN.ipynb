{
  "nbformat": 4,
  "nbformat_minor": 0,
  "metadata": {
    "colab": {
      "provenance": []
    },
    "kernelspec": {
      "name": "python3",
      "display_name": "Python 3"
    },
    "language_info": {
      "name": "python"
    }
  },
  "cells": [
    {
      "cell_type": "markdown",
      "source": [
        "# Digit Classification from MNIST Dataset.\n",
        "\n",
        "Creating a feed forward neural network for digit classification from the famous MNIST dataset. Also adding GPU support."
      ],
      "metadata": {
        "id": "P_XZh_6R74MX"
      }
    },
    {
      "cell_type": "code",
      "source": [
        "import torch\n",
        "import torch.nn as nn\n",
        "import torchvision\n",
        "import torchvision.transforms as transforms\n",
        "import matplotlib.pyplot as plt"
      ],
      "metadata": {
        "id": "j5DkWXK38H46"
      },
      "execution_count": 1,
      "outputs": []
    },
    {
      "cell_type": "code",
      "source": [
        "# device config\n",
        "device = torch.device('cuda' if torch.cuda.is_available() else 'mps' if torch.backends.mps.is_available() else 'cpu')\n",
        "\n",
        "# hyper parameters\n",
        "input_size = 784  # mnist has 28x28 images, which after flattening becomes 784\n",
        "hidden_size = 100\n",
        "num_classes = 10\n",
        "num_epochs = 2\n",
        "batch_size = 100\n",
        "learning_rate = 0.001\n"
      ],
      "metadata": {
        "id": "lus6MHKg8YR9"
      },
      "execution_count": 2,
      "outputs": []
    },
    {
      "cell_type": "code",
      "source": [
        "# Importing MNIST\n",
        "train_dataset = torchvision.datasets.MNIST(root='./data', train=True,\n",
        "                                           download=True, transform=transforms.ToTensor())\n",
        "\n",
        "test_dataset = torchvision.datasets.MNIST(root='./data', train=False,\n",
        "                                           download=True, transform=transforms.ToTensor())\n",
        "\n",
        "train_loader = torch.utils.data.DataLoader(dataset=train_dataset, batch_size=batch_size, shuffle=True)\n",
        "\n",
        "test_loader = torch.utils.data.DataLoader(dataset=test_dataset, batch_size=batch_size, shuffle=False)"
      ],
      "metadata": {
        "id": "UqG-p2Jf9EM4"
      },
      "execution_count": null,
      "outputs": []
    },
    {
      "cell_type": "code",
      "source": [
        "examples = iter(train_loader)\n",
        "samples, labels = next(examples)\n",
        "print(samples.shape, labels.shape)"
      ],
      "metadata": {
        "colab": {
          "base_uri": "https://localhost:8080/"
        },
        "id": "IVWxBcpN97Td",
        "outputId": "b06d51cf-11d8-4dad-b93a-e06e2ae3b01b"
      },
      "execution_count": 4,
      "outputs": [
        {
          "output_type": "stream",
          "name": "stdout",
          "text": [
            "torch.Size([100, 1, 28, 28]) torch.Size([100])\n"
          ]
        }
      ]
    },
    {
      "cell_type": "markdown",
      "source": [
        "We can see from the shape that our samples has a shape of 100x1x28x28, 100 being the batch size. We also see that our labels are in a 1-D array.\n",
        "\n",
        "We may need to first flatten our samples into an array of 100x784."
      ],
      "metadata": {
        "id": "7LIj06by-Pqi"
      }
    },
    {
      "cell_type": "code",
      "source": [
        "for i in range(6):\n",
        "  plt.subplot(2, 3, i+1)  # creating a grid with 2 rows and 3 cols\n",
        "  plt.imshow(samples[i][0], cmap='gray')  # plotting images with color map = gray\n",
        "  plt.show  # display"
      ],
      "metadata": {
        "colab": {
          "base_uri": "https://localhost:8080/",
          "height": 267
        },
        "id": "7OaqHadq-MvW",
        "outputId": "653e9b3f-3acf-4181-ea97-82375ab3908b"
      },
      "execution_count": 6,
      "outputs": [
        {
          "output_type": "display_data",
          "data": {
            "text/plain": [
              "<Figure size 432x288 with 6 Axes>"
            ],
            "image/png": "[encoded data removed]"
          },
          "metadata": {
            "needs_background": "light"
          }
        }
      ]
    },
    {
      "cell_type": "code",
      "source": [
        "class NeuralNet(nn.Module):\n",
        "  def __init__(self, input_size, hidden_size, num_classes):\n",
        "    super().__init__()\n",
        "    self.l1 = nn.Linear(input_size, hidden_size)\n",
        "    self.relu = nn.ReLU()\n",
        "    self.l2 = nn.Linear(hidden_size, num_classes)\n",
        "\n",
        "  def forward(self, x):\n",
        "    out = self.l1(x)\n",
        "    out = self.relu(out)\n",
        "    out = self.l2(out)\n",
        "    return out\n",
        "\n",
        "model = NeuralNet(input_size, hidden_size, num_classes)"
      ],
      "metadata": {
        "id": "s_kg7tir_Umy"
      },
      "execution_count": 7,
      "outputs": []
    },
    {
      "cell_type": "markdown",
      "source": [
        "We're not using softmax here because we'll be using cross entropy as our loss and PyTorch's cross entropy applies softmax to it's inputs, so doing that manually would be to apply softmax twice, which makes training slow."
      ],
      "metadata": {
        "id": "NPI9EjwHAlke"
      }
    },
    {
      "cell_type": "code",
      "source": [
        "# loss and optimizer\n",
        "criterion = nn.CrossEntropyLoss()\n",
        "optimizer = torch.optim.Adam(model.parameters(), lr=learning_rate)"
      ],
      "metadata": {
        "id": "HVGbqIykBtpE"
      },
      "execution_count": 8,
      "outputs": []
    },
    {
      "cell_type": "code",
      "source": [
        "# training loop\n",
        "n_total_steps = len(train_loader)\n",
        "for epoch in range(num_epochs):\n",
        "  for i, (images, labels) in enumerate(train_loader):\n",
        "    images = images.reshape(-1, 28*28).to(device)\n",
        "    labels = labels.to(device)\n",
        "\n",
        "    # forward pass\n",
        "    outputs = model(images)\n",
        "    loss = criterion(outputs, labels)\n",
        "\n",
        "    # backward pass\n",
        "    optimizer.zero_grad() # setting the gradients to zero\n",
        "    loss.backward() # backpropagation\n",
        "    optimizer.step()  # optimizing our parameters\n",
        "\n",
        "    if (i+1)%100 == 0:\n",
        "      print(f'epoch {epoch+1} / {num_epochs}, step {i+1}/{n_total_steps}, loss = {loss.item():.4f}')"
      ],
      "metadata": {
        "colab": {
          "base_uri": "https://localhost:8080/"
        },
        "id": "iezfwTNwB7oa",
        "outputId": "cac7fbfb-bc54-4e2b-c787-94af9b329b58"
      },
      "execution_count": 10,
      "outputs": [
        {
          "output_type": "stream",
          "name": "stdout",
          "text": [
            "epoch 1 / 2, step 100/600, loss = 0.6006\n",
            "epoch 1 / 2, step 200/600, loss = 0.3164\n",
            "epoch 1 / 2, step 300/600, loss = 0.2374\n",
            "epoch 1 / 2, step 400/600, loss = 0.2946\n",
            "epoch 1 / 2, step 500/600, loss = 0.2658\n",
            "epoch 1 / 2, step 600/600, loss = 0.2804\n",
            "epoch 2 / 2, step 100/600, loss = 0.2954\n",
            "epoch 2 / 2, step 200/600, loss = 0.1722\n",
            "epoch 2 / 2, step 300/600, loss = 0.1573\n",
            "epoch 2 / 2, step 400/600, loss = 0.3093\n",
            "epoch 2 / 2, step 500/600, loss = 0.2837\n",
            "epoch 2 / 2, step 600/600, loss = 0.1303\n"
          ]
        }
      ]
    },
    {
      "cell_type": "code",
      "source": [
        "# testing -\n",
        "with torch.no_grad():\n",
        "  n_correct = 0\n",
        "  n_samples = 0\n",
        "\n",
        "  for images, labels in test_loader:\n",
        "    images = images.reshape(-1, 28*28).to(device)\n",
        "    labels = labels.to(device)\n",
        "    outputs = model(images)\n",
        "    # returns value, index. We only need index i.e the class label\n",
        "    _, predictions = torch.max(outputs, 1)  # returns the index having the highest value.\n",
        "    n_samples += labels.shape[0]  # Gives us number of samples in current batch (should be 100)\n",
        "    n_correct += (predictions == labels).sum().item() # adding 1 for every correct prediction.\n",
        "\n",
        "  acc = 100 * n_correct / n_samples\n",
        "  print(f'accuracy = {acc}')"
      ],
      "metadata": {
        "colab": {
          "base_uri": "https://localhost:8080/"
        },
        "id": "8HZgTZJNDGWU",
        "outputId": "d745da67-ccce-4b75-b4d2-664a8c1322a4"
      },
      "execution_count": 11,
      "outputs": [
        {
          "output_type": "stream",
          "name": "stdout",
          "text": [
            "accuracy = 95.06\n"
          ]
        }
      ]
    },
    {
      "cell_type": "code",
      "source": [],
      "metadata": {
        "id": "VXivBB8UEZ_K"
      },
      "execution_count": null,
      "outputs": []
    }
  ]
}