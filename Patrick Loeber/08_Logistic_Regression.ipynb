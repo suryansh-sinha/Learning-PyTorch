{
  "cells": [
    {
      "cell_type": "markdown",
      "metadata": {
        "id": "PR0A10wvy6Hi"
      },
      "source": [
        "# Logistic Regression in PyTorch"
      ]
    },
    {
      "cell_type": "code",
      "execution_count": null,
      "metadata": {
        "id": "Vsf_Jw7izB4I"
      },
      "outputs": [],
      "source": [
        "import torch\n",
        "import torch.nn as nn\n",
        "from sklearn import datasets                            # to load a binary classification dataset\n",
        "from sklearn.preprocessing import StandardScaler        # we want to scale our features\n",
        "from sklearn.model_selection import train_test_split    # separate training and testing data\n",
        "import matplotlib.pyplot as plt\n",
        "import numpy"
      ]
    },
    {
      "attachments": {},
      "cell_type": "markdown",
      "metadata": {
        "id": "8tiJOgSrzIv5"
      },
      "source": [
        "### 0. Preparing the data"
      ]
    },
    {
      "cell_type": "code",
      "execution_count": null,
      "metadata": {
        "colab": {
          "base_uri": "https://localhost:8080/"
        },
        "id": "fxW0aGlazdJA",
        "outputId": "736bb0dc-37b9-434f-abd1-4f50a964c9d4"
      },
      "outputs": [
        {
          "name": "stdout",
          "output_type": "stream",
          "text": [
            "569 30\n"
          ]
        }
      ],
      "source": [
        "# This is a binary classification problem where we can predict breast cancer from the data.\n",
        "dataset = datasets.load_breast_cancer()\n",
        "X, y = dataset.data, dataset.target\n",
        "\n",
        "n_samples, n_features = X.shape\n",
        "print(n_samples, n_features)"
      ]
    },
    {
      "cell_type": "code",
      "execution_count": null,
      "metadata": {
        "colab": {
          "base_uri": "https://localhost:8080/"
        },
        "id": "FMuibvvMzt_p",
        "outputId": "d15dd9eb-00cc-438e-ecbb-95795bb9ad34"
      },
      "outputs": [
        {
          "name": "stdout",
          "output_type": "stream",
          "text": [
            "torch.Size([455, 1])\n"
          ]
        }
      ],
      "source": [
        "X_train, X_test, y_train, y_test = train_test_split(X, y, test_size=0.2, random_state=42)\n",
        "\n",
        "# Scale our features\n",
        "sc = StandardScaler()\n",
        "X_train = sc.fit_transform(X_train)\n",
        "X_test = sc.transform(X_test)\n",
        "\n",
        "# Converting to float 32 because np array is originally double.\n",
        "# Then converting to the torch tensor.\n",
        "X_train = torch.from_numpy(X_train.astype(numpy.float32))\n",
        "X_test = torch.from_numpy(X_test.astype(numpy.float32))\n",
        "y_train = torch.from_numpy(y_train.astype(numpy.float32))\n",
        "y_test = torch.from_numpy(y_test.astype(numpy.float32))\n",
        "\n",
        "y_train = y_train.view(y_train.shape[0], 1) # reshape to column vector\n",
        "y_test = y_test.view(y_test.shape[0], 1)    # reshape to column vector\n",
        "print(y_train.shape)"
      ]
    },
    {
      "attachments": {},
      "cell_type": "markdown",
      "metadata": {
        "id": "iwksMjg80lUs"
      },
      "source": [
        "### 1. Creating our model\n",
        "In logistic regression, we have y = wx + b and we apply sigmoid as activation function at the end."
      ]
    },
    {
      "cell_type": "code",
      "execution_count": null,
      "metadata": {
        "id": "Kf5yYV340--p"
      },
      "outputs": [],
      "source": [
        "class LogisticRegression(nn.Module):\n",
        "\n",
        "  # This is the function where we stack up all our layers.\n",
        "  # Since logistic regression only has a linear layer, we use that here.\n",
        "  def __init__(self, input_dim):\n",
        "    super().__init__()\n",
        "    # This is the linear layer. This does y = x*W.T + b. The parameters it requires are the input features and the output features.\n",
        "    # For our dataset, the input features are 30 = input_dim and our output features are 1 i.e if person has cancer or not.\n",
        "    self.linear = nn.Linear(input_dim, 1)\n",
        "\n",
        "  def forward(self, x):\n",
        "    y_predicted = torch.sigmoid(self.linear(x)) # Applying the sigmoid function to our model.\n",
        "    return y_predicted\n",
        "\n",
        "model = LogisticRegression(n_features)"
      ]
    },
    {
      "attachments": {},
      "cell_type": "markdown",
      "metadata": {
        "id": "dICIjDPd1-ll"
      },
      "source": [
        "### 2. Loss and optimizer"
      ]
    },
    {
      "cell_type": "code",
      "execution_count": null,
      "metadata": {
        "id": "uK_-jswP2G8q"
      },
      "outputs": [],
      "source": [
        "learning_rate = 0.01\n",
        "\n",
        "criterion = nn.BCELoss()\n",
        "optimizer = torch.optim.SGD(model.parameters(), lr = learning_rate)"
      ]
    },
    {
      "attachments": {},
      "cell_type": "markdown",
      "metadata": {
        "id": "PZWSz5kf2J1C"
      },
      "source": [
        "### 3. Training Loop"
      ]
    },
    {
      "cell_type": "code",
      "execution_count": null,
      "metadata": {
        "id": "yi9sZYOJ2WRR"
      },
      "outputs": [],
      "source": [
        "n_iters = 100\n",
        "\n",
        "for epoch in range(n_iters):\n",
        "  # Forward Pass and Loss\n",
        "  y_predicted = model(X_train)\n",
        "  loss = criterion(y_predicted, y_train)\n",
        "  # Backward Pass\n",
        "  loss.backward()\n",
        "  # Update\n",
        "  optimizer.step()\n",
        "  # Zero Gradients\n",
        "  optimizer.zero_grad()\n",
        "\n",
        "  if epoch+1%10 == 0:\n",
        "    print(f'epoch: {epoch+1}, loss: {loss.item():.4f}')"
      ]
    },
    {
      "attachments": {},
      "cell_type": "markdown",
      "metadata": {
        "id": "Ouug8HoC3DOP"
      },
      "source": [
        "### 4. Evaluation using testing data"
      ]
    },
    {
      "cell_type": "code",
      "execution_count": null,
      "metadata": {
        "colab": {
          "base_uri": "https://localhost:8080/"
        },
        "id": "8kNqs7wQ3FW5",
        "outputId": "f1aea8d4-bbb2-4e3d-9f6b-6a57f2990e49"
      },
      "outputs": [
        {
          "name": "stdout",
          "output_type": "stream",
          "text": [
            "Accuracy = 0.9825\n"
          ]
        }
      ],
      "source": [
        "# We dont want this to be a part of the computational graph and calculate the gradients for this operation too.\n",
        "with torch.no_grad():\n",
        "  # prediction for test data.\n",
        "  y_predicted = model(X_test)\n",
        "  # rounding off predicted y values to 0 or 1 because the output is a probability between 0 and 1.\n",
        "  # 0 being no cancer and 1 being cancer.\n",
        "  y_predicted_cls = y_predicted.round()\n",
        "  # For every prediction that is correct, it will add +1 and then divide it by number of test samples.\n",
        "  acc = y_predicted_cls.eq(y_test).sum() / float(y_test.shape[0])\n",
        "  print(f'Accuracy = {acc:.4f}')"
      ]
    },
    {
      "cell_type": "markdown",
      "metadata": {
        "id": "-iLazzY43nKc"
      },
      "source": [
        "We can see that our model has 98.25% accuracy on the dataset."
      ]
    }
  ],
  "metadata": {
    "colab": {
      "provenance": []
    },
    "kernelspec": {
      "display_name": "Python 3",
      "name": "python3"
    },
    "language_info": {
      "name": "python"
    }
  },
  "nbformat": 4,
  "nbformat_minor": 0
}
