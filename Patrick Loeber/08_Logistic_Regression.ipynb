{
  "nbformat": 4,
  "nbformat_minor": 0,
  "metadata": {
    "colab": {
      "provenance": []
    },
    "kernelspec": {
      "name": "python3",
      "display_name": "Python 3"
    },
    "language_info": {
      "name": "python"
    }
  },
  "cells": [
    {
      "cell_type": "markdown",
      "source": [
        "# Logistic Regression in PyTorch"
      ],
      "metadata": {
        "id": "PR0A10wvy6Hi"
      }
    },
    {
      "cell_type": "code",
      "source": [
        "import torch\n",
        "import torch.nn as nn\n",
        "from sklearn import datasets\n",
        "from sklearn.preprocessing import StandardScaler\n",
        "from sklearn.model_selection import train_test_split\n",
        "import matplotlib.pyplot as plt\n",
        "import numpy"
      ],
      "metadata": {
        "id": "Vsf_Jw7izB4I"
      },
      "execution_count": null,
      "outputs": []
    },
    {
      "cell_type": "markdown",
      "source": [
        "### Preparing the data"
      ],
      "metadata": {
        "id": "8tiJOgSrzIv5"
      }
    },
    {
      "cell_type": "code",
      "source": [
        "dataset = datasets.load_breast_cancer()  # This is a binary classification problem where we can predict breast cancer from the data.\n",
        "X, y = dataset.data, dataset.target\n",
        "\n",
        "n_samples, n_features = X.shape\n",
        "print(n_samples, n_features)"
      ],
      "metadata": {
        "colab": {
          "base_uri": "https://localhost:8080/"
        },
        "id": "fxW0aGlazdJA",
        "outputId": "736bb0dc-37b9-434f-abd1-4f50a964c9d4"
      },
      "execution_count": null,
      "outputs": [
        {
          "output_type": "stream",
          "name": "stdout",
          "text": [
            "569 30\n"
          ]
        }
      ]
    },
    {
      "cell_type": "code",
      "source": [
        "X_train, X_test, y_train, y_test = train_test_split(X, y, test_size=0.2, random_state=42)\n",
        "\n",
        "# Scale our features\n",
        "sc = StandardScaler()\n",
        "X_train = sc.fit_transform(X_train)\n",
        "X_test = sc.transform(X_test)\n",
        "\n",
        "# Converting to torch tensors.\n",
        "X_train = torch.from_numpy(X_train.astype(numpy.float32))\n",
        "X_test = torch.from_numpy(X_test.astype(numpy.float32))\n",
        "y_train = torch.from_numpy(y_train.astype(numpy.float32))\n",
        "y_test = torch.from_numpy(y_test.astype(numpy.float32))\n",
        "\n",
        "y_train = y_train.view(y_train.shape[0], 1)\n",
        "y_test = y_test.view(y_test.shape[0], 1)\n",
        "print(y_train.shape)"
      ],
      "metadata": {
        "colab": {
          "base_uri": "https://localhost:8080/"
        },
        "id": "FMuibvvMzt_p",
        "outputId": "d15dd9eb-00cc-438e-ecbb-95795bb9ad34"
      },
      "execution_count": null,
      "outputs": [
        {
          "output_type": "stream",
          "name": "stdout",
          "text": [
            "torch.Size([455, 1])\n"
          ]
        }
      ]
    },
    {
      "cell_type": "markdown",
      "source": [
        "### Creating our model\n",
        "In logistic regression, we have y = wx + b and we apply sigmoid as activation function at the end."
      ],
      "metadata": {
        "id": "iwksMjg80lUs"
      }
    },
    {
      "cell_type": "code",
      "source": [
        "class LogisticRegression(nn.Module):\n",
        "\n",
        "  # This is the function where we stack up all our layers.\n",
        "  # Since logistic regression only has a linear layer, we use that here.\n",
        "  def __init__(self, input_dim):\n",
        "    super(LogisticRegression, self).__init__()\n",
        "    # This is the linear layer. This does y = x*W.T + b. The parameters it requires are the input features and the output features.\n",
        "    # For our dataset, the input features are 30 = input_dim and our output features are 1 i.e if person has cancer or not.\n",
        "    self.linear = nn.Linear(input_dim, 1)\n",
        "\n",
        "  def forward(self, x):\n",
        "    y_predicted = torch.sigmoid(self.linear(x)) # Applying the sigmoid function to our model.\n",
        "    return y_predicted\n",
        "\n",
        "model = LogisticRegression(n_features)"
      ],
      "metadata": {
        "id": "Kf5yYV340--p"
      },
      "execution_count": null,
      "outputs": []
    },
    {
      "cell_type": "markdown",
      "source": [
        "### Loss and optimizer"
      ],
      "metadata": {
        "id": "dICIjDPd1-ll"
      }
    },
    {
      "cell_type": "code",
      "source": [
        "learning_rate = 0.01\n",
        "\n",
        "criterion = nn.BCELoss()\n",
        "optimizer = torch.optim.SGD(model.parameters(), lr = learning_rate)"
      ],
      "metadata": {
        "id": "uK_-jswP2G8q"
      },
      "execution_count": null,
      "outputs": []
    },
    {
      "cell_type": "markdown",
      "source": [
        "### Training Loop"
      ],
      "metadata": {
        "id": "PZWSz5kf2J1C"
      }
    },
    {
      "cell_type": "code",
      "source": [
        "n_iters = 100\n",
        "\n",
        "for epoch in range(n_iters):\n",
        "  # Forward Pass and Loss\n",
        "  y_predicted = model(X_train)\n",
        "  loss = criterion(y_predicted, y_train)\n",
        "  # Backward Pass\n",
        "  loss.backward()\n",
        "  # Update\n",
        "  optimizer.step()\n",
        "  # Zero Gradients\n",
        "  optimizer.zero_grad()\n",
        "\n",
        "  if epoch+1%10 == 0:\n",
        "    print(f'epoch: {epoch+1}, loss: {loss.item():.4f}')"
      ],
      "metadata": {
        "id": "yi9sZYOJ2WRR"
      },
      "execution_count": null,
      "outputs": []
    },
    {
      "cell_type": "markdown",
      "source": [
        "### Evaluation using testing data"
      ],
      "metadata": {
        "id": "Ouug8HoC3DOP"
      }
    },
    {
      "cell_type": "code",
      "source": [
        "# We dont want this to be a part of the computational graph and calculate the gradients for this operation too.\n",
        "with torch.no_grad():\n",
        "  y_predicted = model(X_test)\n",
        "  y_predicted_cls = y_predicted.round()\n",
        "  acc = y_predicted_cls.eq(y_test).sum() / float(y_test.shape[0])\n",
        "  print(f'Accuracy = {acc:.4f}')"
      ],
      "metadata": {
        "colab": {
          "base_uri": "https://localhost:8080/"
        },
        "id": "8kNqs7wQ3FW5",
        "outputId": "f1aea8d4-bbb2-4e3d-9f6b-6a57f2990e49"
      },
      "execution_count": null,
      "outputs": [
        {
          "output_type": "stream",
          "name": "stdout",
          "text": [
            "Accuracy = 0.9825\n"
          ]
        }
      ]
    },
    {
      "cell_type": "markdown",
      "source": [
        "We can see that our model has 98.25% accuracy on the dataset."
      ],
      "metadata": {
        "id": "-iLazzY43nKc"
      }
    }
  ]
}