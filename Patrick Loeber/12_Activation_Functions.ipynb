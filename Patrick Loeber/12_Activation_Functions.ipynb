{
  "nbformat": 4,
  "nbformat_minor": 0,
  "metadata": {
    "colab": {
      "provenance": []
    },
    "kernelspec": {
      "name": "python3",
      "display_name": "Python 3"
    },
    "language_info": {
      "name": "python"
    }
  },
  "cells": [
    {
      "cell_type": "markdown",
      "source": [
        "# Activation Functions"
      ],
      "metadata": {
        "id": "uFYWDFf-5l2O"
      }
    },
    {
      "cell_type": "code",
      "source": [
        "import torch\n",
        "import torch.nn as nn\n",
        "import torch.nn.functional as F"
      ],
      "metadata": {
        "id": "YZKIHL1p5wj7"
      },
      "execution_count": 1,
      "outputs": []
    },
    {
      "cell_type": "code",
      "source": [
        "# option 1 (create nn modules)\n",
        "class NeuralNet(nn.Module):\n",
        "  def __init__(self, input_size, hidden_size):\n",
        "    super().__init__()\n",
        "    self.linear1 = nn.Linear(input_size, hidden_size)\n",
        "    self.relu = nn.ReLU()\n",
        "    self.linear2 = nn.Linear(hidden_size, 1)\n",
        "    self.sigmoid = nn.Sigmoid()\n",
        "\n",
        "  def forward(self, x):\n",
        "    out = self.linear1(x)\n",
        "    out = self.relu(out)\n",
        "    out = self.linear2(out)\n",
        "    out = self.sigmoid(out)\n",
        "    return out"
      ],
      "metadata": {
        "id": "Tpe2Aa6550NF"
      },
      "execution_count": 2,
      "outputs": []
    },
    {
      "cell_type": "code",
      "source": [
        "# option2 (use activation functions directly in the forward pass)\n",
        "class NeuralNet(nn.Module):\n",
        "  def __init__(self, input_size, hidden_size):\n",
        "    super().__init__()\n",
        "    self.linear1 = nn.Linear(input_size, hidden_size)\n",
        "    self.linear2 = nn.Linear(hidden_size, 1)\n",
        "\n",
        "  def forward(self, x):\n",
        "    out = torch.relu(self.linear1(x))\n",
        "    out = torch.sigmoid(self.linear2(out))\n",
        "    return out"
      ],
      "metadata": {
        "id": "7KknwnBj6W0o"
      },
      "execution_count": 3,
      "outputs": []
    },
    {
      "cell_type": "markdown",
      "source": [
        "We have multiple activation functions in the torch.nn library. We also have them in the torch API. \n",
        "\n",
        "So, we have -\n",
        "nn.Sigmoid, nn.Softmax, nn.TanH, nn.LeakyReLU etc\n",
        "torch.sigmoid, torch.softmax, torch.tanh, torch.relu etc. \n",
        "\n",
        "Sometimes functions are not available in torch api directly but they're available in torch.nn, so using torch.nn is better. Some functions are available in torch.nn.functional, for example - F.leaky_relu is available in only that."
      ],
      "metadata": {
        "id": "EekRsWgf62yf"
      }
    },
    {
      "cell_type": "code",
      "source": [],
      "metadata": {
        "id": "ihhHgRZc7iNH"
      },
      "execution_count": null,
      "outputs": []
    }
  ]
}