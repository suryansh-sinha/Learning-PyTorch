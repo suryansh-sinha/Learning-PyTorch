{
  "nbformat": 4,
  "nbformat_minor": 0,
  "metadata": {
    "colab": {
      "provenance": []
    },
    "kernelspec": {
      "name": "python3",
      "display_name": "Python 3"
    },
    "language_info": {
      "name": "python"
    }
  },
  "cells": [
    {
      "cell_type": "markdown",
      "source": [
        "# Tensor Basics"
      ],
      "metadata": {
        "id": "rigJCzUP0OvY"
      }
    },
    {
      "cell_type": "markdown",
      "source": [
        "#### Importing the Dependencies"
      ],
      "metadata": {
        "id": "MveIEfbF_gtO"
      }
    },
    {
      "cell_type": "code",
      "source": [
        "import torch\n",
        "import numpy"
      ],
      "metadata": {
        "id": "gD-O9X-90X-f"
      },
      "execution_count": null,
      "outputs": []
    },
    {
      "cell_type": "markdown",
      "source": [
        "#### Tensor Initialization in PyTorch"
      ],
      "metadata": {
        "id": "ApZdjqj68Ehw"
      }
    },
    {
      "cell_type": "code",
      "source": [
        "x = torch.empty(2)  # Create an empty 1D tensor\n",
        "print(x)"
      ],
      "metadata": {
        "colab": {
          "base_uri": "https://localhost:8080/"
        },
        "id": "B5aJHFMG0bsM",
        "outputId": "a29b7314-8642-4bb3-f91f-70e56a030495"
      },
      "execution_count": null,
      "outputs": [
        {
          "output_type": "stream",
          "name": "stdout",
          "text": [
            "tensor([7.0221e-34, 0.0000e+00])\n"
          ]
        }
      ]
    },
    {
      "cell_type": "code",
      "source": [
        "x = torch.empty(2,2) # Creates a 2D empty tenso\n",
        "print(x)"
      ],
      "metadata": {
        "colab": {
          "base_uri": "https://localhost:8080/"
        },
        "id": "zJe-gVP00sgw",
        "outputId": "831aceec-a8a1-457e-be12-f6e92c85bddb"
      },
      "execution_count": null,
      "outputs": [
        {
          "output_type": "stream",
          "name": "stdout",
          "text": [
            "tensor([[7.0220e-34, 0.0000e+00],\n",
            "        [1.5975e-43, 1.3873e-43]])\n"
          ]
        }
      ]
    },
    {
      "cell_type": "code",
      "source": [
        "x = torch.rand(2,2) # Creates a tensor of random values. The random values are taken from a uniform distribution in range [0, 1)\n",
        "print(x)"
      ],
      "metadata": {
        "colab": {
          "base_uri": "https://localhost:8080/"
        },
        "id": "6vkjLQu300b_",
        "outputId": "baeb7a90-b007-4411-c3da-8a0b7b3e866e"
      },
      "execution_count": null,
      "outputs": [
        {
          "output_type": "stream",
          "name": "stdout",
          "text": [
            "tensor([[0.1440, 0.7970],\n",
            "        [0.5880, 0.4726]])\n"
          ]
        }
      ]
    },
    {
      "cell_type": "code",
      "source": [
        "x = torch.zeros(2,2)  # Creates a tensor of all zeros\n",
        "y = torch.ones(2,2) # Creates a tensor of all ones\n",
        "print(x.dtype, y.dtype) # .dtype attribute tells us about the data type of the tensor.\n",
        "y = torch.ones(2,2, dtype=torch.float64)  # We can change the dtype while creating the tensor.\n",
        "print(x.dtype, y.dtype, y.size()) # The size function gives us the dimensions of the tensor."
      ],
      "metadata": {
        "colab": {
          "base_uri": "https://localhost:8080/"
        },
        "id": "oINs-psG1AYn",
        "outputId": "82776a91-a8a1-4ce5-aa76-0dfa9e04eb37"
      },
      "execution_count": null,
      "outputs": [
        {
          "output_type": "stream",
          "name": "stdout",
          "text": [
            "torch.float32 torch.float32\n",
            "torch.float32 torch.float64 torch.Size([2, 2])\n"
          ]
        }
      ]
    },
    {
      "cell_type": "code",
      "source": [
        "x = torch.tensor([2.5, 0.1]) # We can create a tensor from lists itself.\n",
        "print(x)"
      ],
      "metadata": {
        "colab": {
          "base_uri": "https://localhost:8080/"
        },
        "id": "jZVeWNjO1e1x",
        "outputId": "1c147b0e-4a9e-453b-a63d-bd0e5b8b030d"
      },
      "execution_count": null,
      "outputs": [
        {
          "output_type": "stream",
          "name": "stdout",
          "text": [
            "tensor([2.5000, 0.1000])\n"
          ]
        }
      ]
    },
    {
      "cell_type": "code",
      "source": [
        "x = torch.rand(2,2)\n",
        "y = torch.rand(2,2)\n",
        "print(x)\n",
        "print(y)"
      ],
      "metadata": {
        "colab": {
          "base_uri": "https://localhost:8080/"
        },
        "id": "n1KrImL212x3",
        "outputId": "48ca523b-876f-4f14-a5ca-b1d21fb58aa9"
      },
      "execution_count": null,
      "outputs": [
        {
          "output_type": "stream",
          "name": "stdout",
          "text": [
            "tensor([[0.1738, 0.3626],\n",
            "        [0.0730, 0.1765]])\n",
            "tensor([[0.2582, 0.9569],\n",
            "        [0.1477, 0.9854]])\n"
          ]
        }
      ]
    },
    {
      "cell_type": "markdown",
      "source": [
        "#### Basic Mathematical Operations "
      ],
      "metadata": {
        "id": "aISDaSkS18e_"
      }
    },
    {
      "cell_type": "code",
      "source": [
        "z = x + y # One way of adding two tensors is arithmetically.\n",
        "print(z)\n",
        "z = torch.add(x, y) # We can also use add function to do the same.\n",
        "print(z)"
      ],
      "metadata": {
        "colab": {
          "base_uri": "https://localhost:8080/"
        },
        "id": "_jfl6uwj2BvI",
        "outputId": "f8a16793-ab55-4529-ea1c-b61cff338e5b"
      },
      "execution_count": null,
      "outputs": [
        {
          "output_type": "stream",
          "name": "stdout",
          "text": [
            "tensor([[0.4319, 1.3195],\n",
            "        [0.2207, 1.1619]])\n",
            "tensor([[0.4319, 1.3195],\n",
            "        [0.2207, 1.1619]])\n"
          ]
        }
      ]
    },
    {
      "cell_type": "code",
      "source": [
        "# Another thing that we can do is inplace operations. Any function ending with _ in PyTorch does an inplace=True. So it basically modifies the original tensor itself.\n",
        "y.add_(x) # This adds x to y in the y tensor itself.\n",
        "print(y)"
      ],
      "metadata": {
        "colab": {
          "base_uri": "https://localhost:8080/"
        },
        "id": "_9VPbQLN2GNX",
        "outputId": "52aeb787-46e9-49e3-8444-15fd7616b95a"
      },
      "execution_count": null,
      "outputs": [
        {
          "output_type": "stream",
          "name": "stdout",
          "text": [
            "tensor([[0.4319, 1.3195],\n",
            "        [0.2207, 1.1619]])\n"
          ]
        }
      ]
    },
    {
      "cell_type": "code",
      "source": [
        "z = y - x\n",
        "print(z)\n",
        "z = torch.sub(y, x) # Subtraction\n",
        "print(z)"
      ],
      "metadata": {
        "colab": {
          "base_uri": "https://localhost:8080/"
        },
        "id": "ajgtd7c92onJ",
        "outputId": "787b5f7f-aa5a-4e8a-9b32-b132cdf642b1"
      },
      "execution_count": null,
      "outputs": [
        {
          "output_type": "stream",
          "name": "stdout",
          "text": [
            "tensor([[0.2582, 0.9569],\n",
            "        [0.1477, 0.9854]])\n",
            "tensor([[0.2582, 0.9569],\n",
            "        [0.1477, 0.9854]])\n"
          ]
        }
      ]
    },
    {
      "cell_type": "code",
      "source": [
        "z = x * y\n",
        "print(z)\n",
        "z = torch.mul(x, y) # Multiplication\n",
        "print(z)"
      ],
      "metadata": {
        "colab": {
          "base_uri": "https://localhost:8080/"
        },
        "id": "z06IegYp3DE_",
        "outputId": "0ac7a895-e2b0-489d-c81e-84c045511a8b"
      },
      "execution_count": null,
      "outputs": [
        {
          "output_type": "stream",
          "name": "stdout",
          "text": [
            "tensor([[0.0751, 0.4784],\n",
            "        [0.0161, 0.2051]])\n",
            "tensor([[0.0751, 0.4784],\n",
            "        [0.0161, 0.2051]])\n"
          ]
        }
      ]
    },
    {
      "cell_type": "code",
      "source": [
        "z = x / y\n",
        "print(z)\n",
        "z = torch.div(x, y) # Division\n",
        "print(z)"
      ],
      "metadata": {
        "colab": {
          "base_uri": "https://localhost:8080/"
        },
        "id": "ptRRZr073Nev",
        "outputId": "449147a3-232f-4920-fc33-bf153948dbe4"
      },
      "execution_count": null,
      "outputs": [
        {
          "output_type": "stream",
          "name": "stdout",
          "text": [
            "tensor([[0.4023, 0.2748],\n",
            "        [0.3307, 0.1519]])\n",
            "tensor([[0.4023, 0.2748],\n",
            "        [0.3307, 0.1519]])\n"
          ]
        }
      ]
    },
    {
      "cell_type": "markdown",
      "source": [
        "#### Slicing Operations "
      ],
      "metadata": {
        "id": "oGp8hJTq3SS3"
      }
    },
    {
      "cell_type": "code",
      "source": [
        "x = torch.rand(5, 3)\n",
        "print(x)"
      ],
      "metadata": {
        "colab": {
          "base_uri": "https://localhost:8080/"
        },
        "id": "hvbcUq-q3bxo",
        "outputId": "9bc5d23e-240b-4716-bc0c-c56d136ea03c"
      },
      "execution_count": null,
      "outputs": [
        {
          "output_type": "stream",
          "name": "stdout",
          "text": [
            "tensor([[4.2208e-01, 7.5104e-01, 6.7450e-02],\n",
            "        [8.8575e-01, 9.4554e-01, 3.6370e-03],\n",
            "        [9.8238e-01, 8.7268e-01, 7.5724e-01],\n",
            "        [5.8174e-04, 8.5105e-01, 4.7066e-01],\n",
            "        [3.6281e-02, 2.4006e-01, 6.5388e-01]])\n"
          ]
        }
      ]
    },
    {
      "cell_type": "code",
      "source": [
        " print(x[:, 0]) # This prints the first column of the tensor."
      ],
      "metadata": {
        "colab": {
          "base_uri": "https://localhost:8080/"
        },
        "id": "4Y1ejW3m3eJx",
        "outputId": "f82886a3-09b1-4781-c42b-be59cbbe6454"
      },
      "execution_count": null,
      "outputs": [
        {
          "output_type": "stream",
          "name": "stdout",
          "text": [
            "tensor([4.2208e-01, 8.8575e-01, 9.8238e-01, 5.8174e-04, 3.6281e-02])\n"
          ]
        }
      ]
    },
    {
      "cell_type": "code",
      "source": [
        "print(x[0, :])  # This prints only the first row."
      ],
      "metadata": {
        "colab": {
          "base_uri": "https://localhost:8080/"
        },
        "id": "ph2S5kpE3lYY",
        "outputId": "33e07a70-a42c-4451-98b3-67982f902739"
      },
      "execution_count": null,
      "outputs": [
        {
          "output_type": "stream",
          "name": "stdout",
          "text": [
            "tensor([0.4221, 0.7510, 0.0674])\n"
          ]
        }
      ]
    },
    {
      "cell_type": "code",
      "source": [
        "x = torch.rand(4, 4)\n",
        "print(x)\n",
        "y = x.view(16)  # This converts the 4, 4 tensor to a single dimension with 16 values.\n",
        "print(y, y.size())\n",
        "# Use -1 if you don't know the dimension and pytorch will automatically determine it. \n",
        "z = x.view(-1, 8) # For example here, I want 8 columns but idk how many rows I need for 16 elements so I put -1.\n",
        "print(z, z.size())"
      ],
      "metadata": {
        "colab": {
          "base_uri": "https://localhost:8080/"
        },
        "id": "wh0AXEgf3yGY",
        "outputId": "4a9d713a-0619-4f77-dd44-4078dfa31687"
      },
      "execution_count": null,
      "outputs": [
        {
          "output_type": "stream",
          "name": "stdout",
          "text": [
            "tensor([[0.9463, 0.0982, 0.0578, 0.2945],\n",
            "        [0.2367, 0.8751, 0.0326, 0.7678],\n",
            "        [0.7922, 0.5821, 0.1056, 0.3343],\n",
            "        [0.4391, 0.5571, 0.0460, 0.3433]])\n",
            "tensor([0.9463, 0.0982, 0.0578, 0.2945, 0.2367, 0.8751, 0.0326, 0.7678, 0.7922,\n",
            "        0.5821, 0.1056, 0.3343, 0.4391, 0.5571, 0.0460, 0.3433]) torch.Size([16])\n",
            "tensor([[0.9463, 0.0982, 0.0578, 0.2945, 0.2367, 0.8751, 0.0326, 0.7678],\n",
            "        [0.7922, 0.5821, 0.1056, 0.3343, 0.4391, 0.5571, 0.0460, 0.3433]]) torch.Size([2, 8])\n"
          ]
        }
      ]
    },
    {
      "cell_type": "markdown",
      "source": [
        "#### PyTorch to NumPy and vice-versa"
      ],
      "metadata": {
        "id": "W61ibBLi8NnT"
      }
    },
    {
      "cell_type": "code",
      "source": [
        "a = torch.ones(5)\n",
        "print(a)  # This is a pytorch tensor.\n",
        "b = a.numpy() # To convert tensor to numpy array.\n",
        "print(b, type(b))  # Type function tells us the type of the object. It's a function from python."
      ],
      "metadata": {
        "colab": {
          "base_uri": "https://localhost:8080/"
        },
        "id": "lSROAuhn8RxJ",
        "outputId": "c0e1fe93-85d6-4e86-a495-82e736c701a7"
      },
      "execution_count": null,
      "outputs": [
        {
          "output_type": "stream",
          "name": "stdout",
          "text": [
            "tensor([1., 1., 1., 1., 1.])\n",
            "[1. 1. 1. 1. 1.] <class 'numpy.ndarray'>\n"
          ]
        }
      ]
    },
    {
      "cell_type": "markdown",
      "source": [
        "Since our tensor is on the CPU, it shares the same memory location with the numpy array. So, modifying the value of the tensor will also change the value of the numpy array."
      ],
      "metadata": {
        "id": "Q5TfUHzx9WNd"
      }
    },
    {
      "cell_type": "code",
      "source": [
        "a.add_(1) # Adding 1 to each element in the tensor a\n",
        "print(a)\n",
        "print(b)"
      ],
      "metadata": {
        "colab": {
          "base_uri": "https://localhost:8080/"
        },
        "id": "kaZ28o8_8b27",
        "outputId": "a3a5db89-c2a9-40b0-fbac-4beaaa3aabfc"
      },
      "execution_count": null,
      "outputs": [
        {
          "output_type": "stream",
          "name": "stdout",
          "text": [
            "tensor([2., 2., 2., 2., 2.])\n",
            "[2. 2. 2. 2. 2.]\n"
          ]
        }
      ]
    },
    {
      "cell_type": "code",
      "source": [
        "a = numpy.ones(5)\n",
        "print(a, type(a))\n",
        "b = torch.from_numpy(a) # This converts the numpy array to tensor. For numpy arrays, the datatype of the tensor is float64 by default.\n",
        "print(b, type(b))"
      ],
      "metadata": {
        "colab": {
          "base_uri": "https://localhost:8080/"
        },
        "id": "EnQR24AK9UCS",
        "outputId": "bb48b05b-3aef-4022-b3ea-ccc6eb1fac32"
      },
      "execution_count": null,
      "outputs": [
        {
          "output_type": "stream",
          "name": "stdout",
          "text": [
            "[1. 1. 1. 1. 1.] <class 'numpy.ndarray'>\n",
            "tensor([1., 1., 1., 1., 1.], dtype=torch.float64) <class 'torch.Tensor'>\n"
          ]
        }
      ]
    },
    {
      "cell_type": "markdown",
      "source": [
        "Here also, modifying one or the other affects the other one. This happens only if the tensor exists on the CPU. If our tensor is on the GPU, then the memory location is not shared and so no changes occur."
      ],
      "metadata": {
        "id": "325gfKpz-BHb"
      }
    },
    {
      "cell_type": "code",
      "source": [
        "if torch.cuda.is_available():\n",
        "  device = torch.device(\"cuda\")\n",
        "  x = torch.ones(5, device=device)  # We created the tensor straight away on the GPU.\n",
        "  y = torch.ones(5) # We created the tensor on the CPU.\n",
        "  y = y.to(device)  # Moving the created tensor to the GPU.\n",
        "  z = x + y # This is a new tensor created on the GPU.\n",
        "  # z.numpy() This function now doesn't work because numpy can't work with tensors on the GPU. So, we move it back to the cpu and then convert.\n",
        "  # To move it to cpu,\n",
        "  z = z.to(\"cpu\")\n",
        "  z = z.numpy()"
      ],
      "metadata": {
        "id": "hAnbgAQS9yLa"
      },
      "execution_count": null,
      "outputs": []
    },
    {
      "cell_type": "markdown",
      "source": [
        "#### Gradient Tracking or Not ?"
      ],
      "metadata": {
        "id": "nd5JHvBh_ELr"
      }
    },
    {
      "cell_type": "code",
      "source": [
        "x = torch.ones(5, requires_grad = True) # By default this is false."
      ],
      "metadata": {
        "id": "4eQZw-xz_KYS"
      },
      "execution_count": null,
      "outputs": []
    },
    {
      "cell_type": "markdown",
      "source": [
        "This tells PyTorch that it will need to calculate the gradients for this tensor later in the optimization stage of the model."
      ],
      "metadata": {
        "id": "zTdkOhJy_Rk5"
      }
    }
  ]
}