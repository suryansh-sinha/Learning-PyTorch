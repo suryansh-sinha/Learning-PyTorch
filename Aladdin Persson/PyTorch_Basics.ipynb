{
  "nbformat": 4,
  "nbformat_minor": 0,
  "metadata": {
    "colab": {
      "provenance": []
    },
    "kernelspec": {
      "name": "python3",
      "display_name": "Python 3"
    },
    "language_info": {
      "name": "python"
    }
  },
  "cells": [
    {
      "cell_type": "markdown",
      "source": [
        "Learning basics of PyTorch by Aladdin Persson on youtube. This file is created by me."
      ],
      "metadata": {
        "id": "wKXxBzUG0BQu"
      }
    },
    {
      "cell_type": "code",
      "execution_count": null,
      "metadata": {
        "colab": {
          "base_uri": "https://localhost:8080/",
          "height": 35
        },
        "id": "eIdid666gdYX",
        "outputId": "ba23a2e6-be27-4d01-98e1-d068527b304c"
      },
      "outputs": [
        {
          "output_type": "execute_result",
          "data": {
            "text/plain": [
              "'cpu'"
            ],
            "application/vnd.google.colaboratory.intrinsic+json": {
              "type": "string"
            }
          },
          "metadata": {},
          "execution_count": 1
        }
      ],
      "source": [
        "import torch\n",
        "\n",
        "device = 'cuda' if torch.cuda.is_available() else 'cpu'\n",
        "device"
      ]
    },
    {
      "cell_type": "code",
      "source": [
        "my_tensor = torch.tensor([[1,2,3], [4,5,6]], dtype=torch.float32,\n",
        "                      device=device, requires_grad=True)\n",
        "\n",
        "print(my_tensor)\n",
        "print(my_tensor.device)\n",
        "print(my_tensor.shape)\n",
        "print(my_tensor.dtype)\n",
        "print(my_tensor.requires_grad)"
      ],
      "metadata": {
        "colab": {
          "base_uri": "https://localhost:8080/"
        },
        "id": "qDOc2UmGgvEJ",
        "outputId": "66508cda-e388-4dd4-9e3f-58feb7d75b34"
      },
      "execution_count": null,
      "outputs": [
        {
          "output_type": "stream",
          "name": "stdout",
          "text": [
            "tensor([[1., 2., 3.],\n",
            "        [4., 5., 6.]], requires_grad=True)\n",
            "cpu\n",
            "torch.Size([2, 3])\n",
            "torch.float32\n",
            "True\n"
          ]
        }
      ]
    },
    {
      "cell_type": "code",
      "source": [
        "# Some other common initialization methods.\n",
        "X = torch.empty(size=(3,3)) # Creates a tensor with garbage values in memory.\n",
        "print(X)\n",
        "A = torch.zeros((3,3))\n",
        "print(A)\n",
        "B = torch.ones((3,3))\n",
        "print(B)\n",
        "C = torch.rand((3,3)) # Random numbers between uniform distribution 0 and 1.\n",
        "print(C)\n",
        "D = torch.randn((3,3))  # Random numbers between normal distribution.\n",
        "print(D)\n",
        "I = torch.eye(3)  # Creates an identity matrix of 3x3.\n",
        "print(I)\n",
        "J = torch.arange(start=0, end=5, step=1)  # Works just like the numpy arange function.\n",
        "print(J)\n",
        "K = torch.linspace(start=0.1, end=1, steps=10)  # Creates a tensor with 10 digits between the start(inclusive) and the end\n",
        "print(K)\n",
        "L = torch.empty((1,5)).normal_(mean=0, std=1) # Distribute values normally with mean 0 and standard deviation 1.\n",
        "print(L)\n",
        "M = torch.empty((1,5)).uniform_(0,1)  # Uniform distribution between 0 and 1.\n",
        "print(M)\n",
        "N = torch.diag(torch.ones(3)) # Creates a diagonal matrix with the 1D tensor given inside brackets.\n",
        "print(N)"
      ],
      "metadata": {
        "colab": {
          "base_uri": "https://localhost:8080/"
        },
        "id": "yCoFXh8JhPXh",
        "outputId": "cf690659-88cc-4abc-cd52-0ec1bba05eb3"
      },
      "execution_count": null,
      "outputs": [
        {
          "output_type": "stream",
          "name": "stdout",
          "text": [
            "tensor([[1.0974e-35, 0.0000e+00, 4.4842e-44],\n",
            "        [0.0000e+00,        nan, 1.5554e-43],\n",
            "        [1.0948e+21, 9.2868e-04, 1.3556e-19]])\n",
            "tensor([[0., 0., 0.],\n",
            "        [0., 0., 0.],\n",
            "        [0., 0., 0.]])\n",
            "tensor([[1., 1., 1.],\n",
            "        [1., 1., 1.],\n",
            "        [1., 1., 1.]])\n",
            "tensor([[0.9227, 0.8553, 0.9620],\n",
            "        [0.7838, 0.2566, 0.7265],\n",
            "        [0.1440, 0.7198, 0.4988]])\n",
            "tensor([[ 0.0348, -0.9829, -1.3596],\n",
            "        [ 0.4698,  0.1119, -2.2748],\n",
            "        [-0.6074,  0.5785, -0.3979]])\n",
            "tensor([[1., 0., 0.],\n",
            "        [0., 1., 0.],\n",
            "        [0., 0., 1.]])\n",
            "tensor([0, 1, 2, 3, 4])\n",
            "tensor([0.1000, 0.2000, 0.3000, 0.4000, 0.5000, 0.6000, 0.7000, 0.8000, 0.9000,\n",
            "        1.0000])\n",
            "tensor([[-0.2607,  1.1993, -0.0735, -0.4172,  0.4657]])\n",
            "tensor([[0.6828, 0.2833, 0.2449, 0.6477, 0.1417]])\n",
            "tensor([[1., 0., 0.],\n",
            "        [0., 1., 0.],\n",
            "        [0., 0., 1.]])\n"
          ]
        }
      ]
    },
    {
      "cell_type": "code",
      "source": [
        "# Initialize and convert tensors to other datatypes.\n",
        "tensor = torch.arange(4)\n",
        "tensor.dtype  # Default initialized as int64.\n",
        "\n",
        "print(tensor)\n",
        "\n",
        "# Converting tensor to boolean values.\n",
        "print(tensor.bool())\n",
        "print(tensor.short())\n",
        "print(tensor.long())\n",
        "print(tensor.half())\n",
        "print(tensor.float())\n",
        "print(tensor.double())"
      ],
      "metadata": {
        "colab": {
          "base_uri": "https://localhost:8080/"
        },
        "id": "er86Ri0lhgKp",
        "outputId": "b008b6ff-7b4f-455d-b72a-80277960bf19"
      },
      "execution_count": null,
      "outputs": [
        {
          "output_type": "stream",
          "name": "stdout",
          "text": [
            "tensor([0, 1, 2, 3])\n",
            "tensor([False,  True,  True,  True])\n",
            "tensor([0, 1, 2, 3], dtype=torch.int16)\n",
            "tensor([0, 1, 2, 3])\n",
            "tensor([0., 1., 2., 3.], dtype=torch.float16)\n",
            "tensor([0., 1., 2., 3.])\n",
            "tensor([0., 1., 2., 3.], dtype=torch.float64)\n"
          ]
        }
      ]
    },
    {
      "cell_type": "code",
      "source": [
        "import numpy as np\n",
        "\n",
        "# Array to Tensor Conversion and Vice Versa.\n",
        "np_array = np.zeros((5,5))\n",
        "tensor = torch.from_numpy(np_array)\n",
        "numpy_array_back = tensor.numpy()\n",
        "\n",
        "print(tensor)\n",
        "print(numpy_array_back)\n",
        "numpy_array_back"
      ],
      "metadata": {
        "colab": {
          "base_uri": "https://localhost:8080/"
        },
        "id": "YK24W5fskR0E",
        "outputId": "d1469f47-2fa7-415c-f20b-488ed4ceee8a"
      },
      "execution_count": null,
      "outputs": [
        {
          "output_type": "stream",
          "name": "stdout",
          "text": [
            "tensor([[0., 0., 0., 0., 0.],\n",
            "        [0., 0., 0., 0., 0.],\n",
            "        [0., 0., 0., 0., 0.],\n",
            "        [0., 0., 0., 0., 0.],\n",
            "        [0., 0., 0., 0., 0.]], dtype=torch.float64)\n",
            "[[0. 0. 0. 0. 0.]\n",
            " [0. 0. 0. 0. 0.]\n",
            " [0. 0. 0. 0. 0.]\n",
            " [0. 0. 0. 0. 0.]\n",
            " [0. 0. 0. 0. 0.]]\n"
          ]
        },
        {
          "output_type": "execute_result",
          "data": {
            "text/plain": [
              "array([[0., 0., 0., 0., 0.],\n",
              "       [0., 0., 0., 0., 0.],\n",
              "       [0., 0., 0., 0., 0.],\n",
              "       [0., 0., 0., 0., 0.],\n",
              "       [0., 0., 0., 0., 0.]])"
            ]
          },
          "metadata": {},
          "execution_count": 23
        }
      ]
    },
    {
      "cell_type": "code",
      "source": [
        "# Mathematical Operations on Tensors\n",
        "\n",
        "x = torch.tensor([1,2,3])\n",
        "y = torch.tensor([1,4,9])\n",
        "\n",
        "# Addition\n",
        "z1 = torch.empty(3)\n",
        "torch.add(x,y,out=z1)\n",
        "\n",
        "z2 = torch.add(x,y)\n",
        "\n",
        "z = x + y\n",
        "\n",
        "# Subtraction\n",
        "z = x - y\n",
        "\n",
        "# Division (element by element)\n",
        "torch.true_divide(y, x)\n",
        "\n",
        "# Inplace operations --> A copy of the tensor is not created. The original tensor is modified.\n",
        "t = torch.zeros(3)\n",
        "t.add_(x) # Function names ending with _ means it's an inplace function (modifying original tensor)\n",
        "t += x  # This is also an inplace operation\n",
        "# t = t + x is not an inplace operation.\n",
        "\n",
        "# Exponent\n",
        "z = x.pow(2)\n",
        "z = x ** 2 # Does the same thing.\n",
        "\n",
        "# Matrix Multiplication\n",
        "x1 = torch.rand((2,5))\n",
        "x2 = torch.rand((5,3))\n",
        "x3 = torch.matmul(x1, x2) # matmul has an alias mm. So instead of matmul we can write mm too.\n",
        "x4 = x1.mm(x2)  # Basically the same as above.\n",
        "\n",
        "print(x1, '\\n', x2, '\\n', x3, '\\n', x4)\n",
        "\n",
        "print(x4.T) # Transpose of the matrix.\n",
        "\n",
        "# Matrix Exponentiation. (Matrix multiplied by itself)\n",
        "matrix_exp = torch.rand(5,5)\n",
        "print(matrix_exp.matrix_power(3))\n",
        "\n",
        "# Element wise multiplication\n",
        "z = x * y\n",
        "print(x, '\\n', y, '\\n', z)\n",
        "\n",
        "# Dot Product\n",
        "z = torch.dot(x, y)\n",
        "print(z)\n",
        "\n",
        "# Batch Matrix Multiplication\n",
        "batch = 32\n",
        "n = 10\n",
        "m = 20\n",
        "p = 30\n",
        "\n",
        "tensor1 = torch.rand((batch, n, m))\n",
        "tensor2 = torch.rand((batch, m, p))\n",
        "out_bmm = torch.bmm(tensor1, tensor2) # tensor1 and tensor2 have (n x m) and (m x p) so m is common. Output is (batch, n, p)\n",
        "out_bmm.shape"
      ],
      "metadata": {
        "colab": {
          "base_uri": "https://localhost:8080/"
        },
        "id": "jDLWMoeqlSPK",
        "outputId": "225d0984-5a7b-434c-e457-39e70ce37f77"
      },
      "execution_count": null,
      "outputs": [
        {
          "output_type": "stream",
          "name": "stdout",
          "text": [
            "tensor([[0.3984, 0.8466, 0.6585, 0.0307, 0.5979],\n",
            "        [0.6459, 0.6159, 0.8868, 0.0447, 0.9781]]) \n",
            " tensor([[0.8692, 0.5521, 0.2668],\n",
            "        [0.3772, 0.5255, 0.5738],\n",
            "        [0.1803, 0.6629, 0.3628],\n",
            "        [0.1252, 0.0497, 0.8808],\n",
            "        [0.7752, 0.3891, 0.5463]]) \n",
            " tensor([[1.2518, 1.3355, 1.1847],\n",
            "        [1.7175, 1.6509, 1.4212]]) \n",
            " tensor([[1.2518, 1.3355, 1.1847],\n",
            "        [1.7175, 1.6509, 1.4212]])\n",
            "tensor([[1.2518, 1.7175],\n",
            "        [1.3355, 1.6509],\n",
            "        [1.1847, 1.4212]])\n",
            "tensor([[0.9920, 1.3687, 0.6635, 1.4593, 1.6396],\n",
            "        [1.4326, 1.8476, 0.8803, 1.9202, 2.0829],\n",
            "        [1.7427, 1.8776, 0.9999, 2.3117, 2.0955],\n",
            "        [0.5143, 0.5410, 0.3461, 0.8853, 0.7472],\n",
            "        [1.6845, 1.9022, 1.0203, 2.3684, 2.2226]])\n",
            "tensor([1, 2, 3]) \n",
            " tensor([1, 4, 9]) \n",
            " tensor([ 1,  8, 27])\n",
            "tensor(36)\n"
          ]
        },
        {
          "output_type": "execute_result",
          "data": {
            "text/plain": [
              "torch.Size([32, 10, 30])"
            ]
          },
          "metadata": {},
          "execution_count": 34
        }
      ]
    },
    {
      "cell_type": "code",
      "source": [
        "# Example of Broadcasting\n",
        "x1 = torch.rand((5,5))\n",
        "x2 = torch.rand((1,5))\n",
        "\n",
        "z = x1 - x2 # This is absurd as the dimensions dont match. But this is a legal operation.\n",
        "# What happens here is, in x2, it is expanded to 5,5 with the same elements in each row and then subtracted.\n",
        "# This is called broadcasting.\n",
        "\n",
        "print(x1, '\\n', x2, '\\n', z)\n",
        "\n",
        "z = x1 ** x2\n",
        "print(x1, '\\n', x2, '\\n', z)"
      ],
      "metadata": {
        "colab": {
          "base_uri": "https://localhost:8080/"
        },
        "id": "cMokGPlopDL8",
        "outputId": "d997334f-cc94-4b60-c41b-da8080bb5a90"
      },
      "execution_count": null,
      "outputs": [
        {
          "output_type": "stream",
          "name": "stdout",
          "text": [
            "tensor([[0.1247, 0.1560, 0.0544, 0.8480, 0.8953],\n",
            "        [0.7455, 0.5158, 0.6269, 0.4760, 0.0146],\n",
            "        [0.0252, 0.2297, 0.9252, 0.7960, 0.2702],\n",
            "        [0.0472, 0.1001, 0.1464, 0.8781, 0.9974],\n",
            "        [0.3176, 0.8570, 0.2827, 0.9043, 0.6792]]) \n",
            " tensor([[0.7381, 0.9003, 0.3970, 0.1288, 0.4519]]) \n",
            " tensor([[-0.6134, -0.7442, -0.3426,  0.7191,  0.4434],\n",
            "        [ 0.0074, -0.3845,  0.2298,  0.3472, -0.4373],\n",
            "        [-0.7129, -0.6706,  0.5282,  0.6672, -0.1817],\n",
            "        [-0.6909, -0.8002, -0.2506,  0.7492,  0.5455],\n",
            "        [-0.4206, -0.0433, -0.1143,  0.7755,  0.2272]])\n",
            "tensor([[0.1247, 0.1560, 0.0544, 0.8480, 0.8953],\n",
            "        [0.7455, 0.5158, 0.6269, 0.4760, 0.0146],\n",
            "        [0.0252, 0.2297, 0.9252, 0.7960, 0.2702],\n",
            "        [0.0472, 0.1001, 0.1464, 0.8781, 0.9974],\n",
            "        [0.3176, 0.8570, 0.2827, 0.9043, 0.6792]]) \n",
            " tensor([[0.7381, 0.9003, 0.3970, 0.1288, 0.4519]]) \n",
            " tensor([[0.2151, 0.1878, 0.3148, 0.9790, 0.9512],\n",
            "        [0.8051, 0.5510, 0.8307, 0.9088, 0.1481],\n",
            "        [0.0662, 0.2660, 0.9696, 0.9710, 0.5536],\n",
            "        [0.1050, 0.1259, 0.4663, 0.9834, 0.9988],\n",
            "        [0.4288, 0.8703, 0.6056, 0.9871, 0.8396]])\n"
          ]
        }
      ]
    },
    {
      "cell_type": "code",
      "source": [],
      "metadata": {
        "id": "bW8GVOiRtvMv"
      },
      "execution_count": null,
      "outputs": []
    }
  ]
}