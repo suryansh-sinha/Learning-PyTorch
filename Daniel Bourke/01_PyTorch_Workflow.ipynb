{
  "nbformat": 4,
  "nbformat_minor": 0,
  "metadata": {
    "colab": {
      "provenance": []
    },
    "kernelspec": {
      "name": "python3",
      "display_name": "Python 3"
    },
    "language_info": {
      "name": "python"
    }
  },
  "cells": [
    {
      "cell_type": "markdown",
      "source": [
        "# PyTorch Workflow\n",
        "\n",
        "Let's explore an example PyTorch end-to-end workflow.\n",
        "\n",
        "![workflow_img.png](https://raw.github.com/suryansh-sinha/Learning-PyTorch/main/Daniel%20Bourke/images/01_PyTorch_Workflow/workflow_img.png)"
      ],
      "metadata": {
        "id": "EHo7nUQWfUJ7"
      }
    },
    {
      "cell_type": "code",
      "source": [
        "what_were_covering = {1: \"data (prepare and load)\",\n",
        "                      2: \"build model\",\n",
        "                      3: \"fitting the model to the data\",\n",
        "                      4: \"making predictions and evaluating the model (inference)\",\n",
        "                      5: \"saving and loading a model\",\n",
        "                      6: \"putting it all together\"}"
      ],
      "metadata": {
        "id": "u4luR01afjkH"
      },
      "execution_count": null,
      "outputs": []
    },
    {
      "cell_type": "code",
      "execution_count": null,
      "metadata": {
        "colab": {
          "base_uri": "https://localhost:8080/",
          "height": 35
        },
        "id": "g-ARSLlim1UN",
        "outputId": "f0353254-45f8-40a4-95a6-19606879c620"
      },
      "outputs": [
        {
          "output_type": "execute_result",
          "data": {
            "text/plain": [
              "'2.1.0+cu121'"
            ],
            "application/vnd.google.colaboratory.intrinsic+json": {
              "type": "string"
            }
          },
          "metadata": {},
          "execution_count": 3
        }
      ],
      "source": [
        "import torch\n",
        "from torch import nn  # nn contains basic building blocks of all neural network graphs (Tree graph)\n",
        "# nn contains things like different types of layers, loss functions, activation functions etc. which are predefined for us in PyTorch.\n",
        "import matplotlib.pyplot as plt\n",
        "\n",
        "# Checking PyTorch version.\n",
        "torch.__version__"
      ]
    },
    {
      "cell_type": "markdown",
      "source": [
        "## We now start implementation of our first machine learning algorithm in the PyTorch framework.\n",
        "\n",
        "We are creating a simple linear regression algorithm (not neural network). And we optimize the parameters using normal gradient descent algorithm.\n"
      ],
      "metadata": {
        "id": "6E_APs9OB50F"
      }
    },
    {
      "cell_type": "markdown",
      "source": [
        "## 1. Data (Preparing and Loading)\n",
        "\n",
        "Data can be almost anything... in machine learning.\n",
        "* Excel Sheets\n",
        "* Images of Any Kind\n",
        "* Videos\n",
        "* Audio like songs or podcasts\n",
        "* DNA Sequences\n",
        "* Text\n",
        "\n",
        "Machine learning has 2 major parts -\n",
        "1. Get data into numerical representation.\n",
        "2. Build a model that can recognize and learn patters in that numerical representation.\n",
        "\n",
        "![picture2](https://raw.github.com/suryansh-sinha/Learning-PyTorch/main/Daniel%20Bourke/images/01_PyTorch_Workflow/machine-learning-a-game-of-two-parts.png)\n",
        "\n",
        "To showcase this, let's create some **known** data using the linear regression formula.\n",
        "\n",
        "We'll use the linear regression formula to make a straight line with *known* **parameters**."
      ],
      "metadata": {
        "id": "W-ur9YPvbpoQ"
      }
    },
    {
      "cell_type": "code",
      "source": [
        "# Known parameters. We want our model to calculate and get to this value for weights and biases.\n",
        "weight = 0.7\n",
        "bias = 0.3\n",
        "\n",
        "# Create data\n",
        "start = 0\n",
        "end = 1\n",
        "step = 0.02\n",
        "X = torch.arange(start, end, step).unsqueeze(dim=1) # X in machine learning is usually a tensor. It represents our features.\n",
        "# unsqueeze(dim=1) adds an extra dimension so we have 1 more bracket in our tensor.\n",
        "y = weight * X + bias # y contains our labels or data to be predicted.\n",
        "\n",
        "X[:10], y[:10]"
      ],
      "metadata": {
        "colab": {
          "base_uri": "https://localhost:8080/"
        },
        "id": "5Ye4ehzK0StX",
        "outputId": "8356e791-8f53-445d-f12c-d2453349dfe9"
      },
      "execution_count": null,
      "outputs": [
        {
          "output_type": "execute_result",
          "data": {
            "text/plain": [
              "(tensor([[0.0000],\n",
              "         [0.0200],\n",
              "         [0.0400],\n",
              "         [0.0600],\n",
              "         [0.0800],\n",
              "         [0.1000],\n",
              "         [0.1200],\n",
              "         [0.1400],\n",
              "         [0.1600],\n",
              "         [0.1800]]),\n",
              " tensor([[0.3000],\n",
              "         [0.3140],\n",
              "         [0.3280],\n",
              "         [0.3420],\n",
              "         [0.3560],\n",
              "         [0.3700],\n",
              "         [0.3840],\n",
              "         [0.3980],\n",
              "         [0.4120],\n",
              "         [0.4260]]))"
            ]
          },
          "metadata": {},
          "execution_count": 4
        }
      ]
    },
    {
      "cell_type": "markdown",
      "source": [
        "Now, we want our model to predict a value of y when we give it some value of X. To do that correctly, our model needs to figure out what the relation between X and y is. We already know that y = 0.7*X + 0.3. We now want our model to find out these values that are 0.7 and 0.3 after which it can make correct predictions."
      ],
      "metadata": {
        "id": "lyqergqr0nlp"
      }
    },
    {
      "cell_type": "markdown",
      "source": [
        "\n",
        "### Splitting the data into training and test sets\n",
        "\n",
        "* We can think of the training set as the resource where the model can learn from.\n",
        "This is the data the model is trained on. 60-80% of the dataset.\n",
        "\n",
        "* The validation set is where the model makes it's predictions and we can figure out how it's doing. You can think of this as the practice exam. This is where we tune our model. 10-20% of the dataset.\n",
        "\n",
        "* The test set can be thought of as the final exam. This is where we evaluate the model's performance and see if it's ready for real world data. 10-20% of the dataset.\n",
        "\n",
        "First we need to split up our dataset into a training and test set (and a validation set if needed). Splitting the data into training and testing sets so that our model can learn from the training data and we can test the model's performance on the testing dataset."
      ],
      "metadata": {
        "id": "X2mWJD1TkELn"
      }
    },
    {
      "cell_type": "code",
      "source": [
        "train_split = int(0.8 * len(X)) # 80% data used for training set, 20% dataset used for testing.\n",
        "X_train, y_train = X[:train_split], y[:train_split]\n",
        "X_test, y_test = X[train_split:], y[train_split:]\n",
        "\n",
        "len(X_train), len(y_train), len(X_test), len(y_test)"
      ],
      "metadata": {
        "colab": {
          "base_uri": "https://localhost:8080/"
        },
        "id": "sFJzbTCs1Bc9",
        "outputId": "6e12118d-8cb4-479e-d1ef-58140b5611ce"
      },
      "execution_count": null,
      "outputs": [
        {
          "output_type": "execute_result",
          "data": {
            "text/plain": [
              "(40, 40, 10, 10)"
            ]
          },
          "metadata": {},
          "execution_count": 5
        }
      ]
    },
    {
      "cell_type": "markdown",
      "source": [
        "Now, let's create a function to visualize our data instead of it just being numbers on a page. To do that, we use matplotlib."
      ],
      "metadata": {
        "id": "Yf-DlOMt112i"
      }
    },
    {
      "cell_type": "code",
      "source": [
        "def plot_predictions(train_data = X_train,\n",
        "                     train_labels = y_train,\n",
        "                     test_data = X_test,\n",
        "                     test_labels = y_test,\n",
        "                     predictions = None):\n",
        "\n",
        "  # Plots training and test data and compares predictions.\n",
        "\n",
        "  plt.figure(figsize=(10,7))  # Creates a new figure. figsize parameter takes width and height of figure in inches.\n",
        "\n",
        "  # plt.scatter creates a scatter plot of y vs x. With varying marker size and/or color.\n",
        "  # s represents the marker size. c represents the color of the marker.\n",
        "\n",
        "  # Creating blue points for training data.\n",
        "  plt.scatter(train_data, train_labels, s=8, c='b', marker='x', label=\"Training Data\")\n",
        "\n",
        "  # Creating green points for testing data. We can change the marker's shape also.\n",
        "  plt.scatter(test_data, test_labels, s=8, c='g', marker='x', label=\"Testing Data\")\n",
        "\n",
        "  # Creating red points for our predicted data.\n",
        "  if predictions is not None:\n",
        "    # Plot the predictions if they exist.\n",
        "    plt.scatter(test_data, predictions, c='r', s=8, label=\"Predictions\")\n",
        "\n",
        "  plt.legend(prop={'size': 14});"
      ],
      "metadata": {
        "id": "8UV8o6gv2cCY"
      },
      "execution_count": null,
      "outputs": []
    },
    {
      "cell_type": "code",
      "source": [
        "plot_predictions();"
      ],
      "metadata": {
        "colab": {
          "base_uri": "https://localhost:8080/",
          "height": 599
        },
        "id": "NmF0KzfA4AFO",
        "outputId": "eb301d2b-ca41-43b1-cbb2-9878fe1a2755"
      },
      "execution_count": null,
      "outputs": [
        {
          "output_type": "display_data",
          "data": {
            "text/plain": [
              "<Figure size 1000x700 with 1 Axes>"
            ],
            "image/png": "[encoded data removed]"
          },
          "metadata": {}
        }
      ]
    },
    {
      "cell_type": "markdown",
      "source": [
        "## 2. Building Our Model\n",
        "\n",
        "Creating our first PyTorch Model.\n",
        "\n",
        "What our model does -\n",
        "*   Start with random values (weight and bias)\n",
        "*   Look at training data and adjust the random values to better represent (or get closer to) the ideal values (the weight and bias values we used to create our data).\n",
        "\n",
        "How does the model do so ?\n",
        "\n",
        "Through two main algorithms:\n",
        "1. [Gradient Descent](https://www.youtube.com/watch?v=IHZwWFHWa-w)\n",
        "2. [Backpropagation](https://www.youtube.com/watch?v=Ilg3gGewQ5U)\n",
        "\n",
        "\n",
        "\n"
      ],
      "metadata": {
        "id": "srKrnAQO4Gf8"
      }
    },
    {
      "cell_type": "code",
      "source": [
        "# Create a linear regression model class.\n",
        "\n",
        "# Almost everything in PyTorch inherits from nn.Module.\n",
        "# nn.Module is the base class for all neural network models. All models should subclass this class.\n",
        "# Modules can also contain other modules so, you can nest them in a tree structure.\n",
        "# Our class LinearRegressionModel inherits nn.Module class.\n",
        "# We can name our class anything though. (It's not like this should be the exact name.)\n",
        "class LinearRegressionModel(nn.Module):\n",
        "  def __init__(self):\n",
        "    super().__init__()\n",
        "\n",
        "    # Initialize model parameters. This step is also not necessary.\n",
        "    self.weights = nn.Parameter(torch.randn(1,                      # Start with random weight. This will get adjusted as model learns.\n",
        "                                            requires_grad = True,   # Can we update this value with gradient descent?\n",
        "                                            dtype=torch.float))     # PyTorch loves float32 by default.\n",
        "\n",
        "    self.bias = nn.Parameter(torch.rand(1,\n",
        "                                        requires_grad = True,\n",
        "                                        dtype=torch.float))\n",
        "\n",
        "  # Writing the function for forward propagation. When a value is passed through the model, what happens.\n",
        "  # The model multiplies the input x given to it by weight and adds bias to it.\n",
        "  # forward defines the computation made at every call.\n",
        "  # Any subclass of nn.Module requires forward method to be overwritten.\n",
        "  def forward(self, x: torch.Tensor) -> torch.Tensor:   # 'x' is expected to be of type torch.Tensor and the function outputs torch.Tensor.\n",
        "    return self.weights * x + self.bias   # This is the linear regression formula (y = mx + b)\n"
      ],
      "metadata": {
        "id": "oomrQiLm7e5X"
      },
      "execution_count": null,
      "outputs": []
    },
    {
      "cell_type": "markdown",
      "source": [
        "We've set `requires_grad=True` here, so, PyTorch will track all of the gradients for weights and bias in the background using [`torch.autograd`](https://pytorch.org/docs/stable/autograd.html).\n",
        "\n",
        "Image explaining the above code -\n",
        "![linear model explained](https://raw.github.com/suryansh-sinha/Learning-PyTorch/main/Daniel%20Bourke/images/01_PyTorch_Workflow/pytorch-linear-model-annotated.png)"
      ],
      "metadata": {
        "id": "zhy5Ooz1rsm5"
      }
    },
    {
      "cell_type": "markdown",
      "source": [
        "### PyTorch Model Building Essentials\n",
        "\n",
        "* `torch.nn` - contains all the building blocks for computational graphs (neural networks can be considered computational graphs)\n",
        "* `torch.nn.Parameter` - what parameters should our model try and learn. Often, a pytorch layer from torch.nn will set this for us.\n",
        "* `torch.nn.Module` - base class for all neural network modules. If you subclass it, you should override `forward()` method.\n",
        "* `torch.optim` - this is where the optimizers in PyTorch live. They help with gradient descent calculations.\n",
        "* `def forward()` -  All nn.Module subclasses require you to override forward(). This method defines what happens in the forward computation."
      ],
      "metadata": {
        "id": "IqcPbHB5_4D8"
      }
    },
    {
      "cell_type": "markdown",
      "source": [
        "### Checking the contents of our PyTorch model.\n",
        "\n",
        "We can check our model parameters or what's inside our model using `.parameters()` function."
      ],
      "metadata": {
        "id": "YKXt5uIxBBk3"
      }
    },
    {
      "cell_type": "code",
      "source": [
        "torch.manual_seed(42) # Starts generating random numbers. Always generates .3367 first!\n",
        "torch.randn(1)"
      ],
      "metadata": {
        "colab": {
          "base_uri": "https://localhost:8080/"
        },
        "id": "Nv-9YaTXUXNI",
        "outputId": "1f38cb22-acaa-461a-ff1b-53dac45db54e"
      },
      "execution_count": null,
      "outputs": [
        {
          "output_type": "execute_result",
          "data": {
            "text/plain": [
              "tensor([0.3367])"
            ]
          },
          "metadata": {},
          "execution_count": 9
        }
      ]
    },
    {
      "cell_type": "code",
      "source": [
        "# Creating a random seed.\n",
        "torch.manual_seed(42)\n",
        "\n",
        "# Create an instance of our class.\n",
        "model_0 = LinearRegressionModel()\n",
        "\n",
        "# Checking out parameters.\n",
        "list(model_0.parameters())"
      ],
      "metadata": {
        "colab": {
          "base_uri": "https://localhost:8080/"
        },
        "id": "cS9Bpsm_CCMO",
        "outputId": "5b2fdb27-986e-4afd-945c-6f870d0c9232"
      },
      "execution_count": null,
      "outputs": [
        {
          "output_type": "execute_result",
          "data": {
            "text/plain": [
              "[Parameter containing:\n",
              " tensor([0.3367], requires_grad=True),\n",
              " Parameter containing:\n",
              " tensor([0.3904], requires_grad=True)]"
            ]
          },
          "metadata": {},
          "execution_count": 10
        }
      ]
    },
    {
      "cell_type": "code",
      "source": [
        "model_0.state_dict()  # Prints the a dictionary of all parameters of the model."
      ],
      "metadata": {
        "colab": {
          "base_uri": "https://localhost:8080/"
        },
        "id": "vRWDag4UvTzu",
        "outputId": "fe4ba27f-d5e2-4dc5-a5c4-b58f04b50963"
      },
      "execution_count": null,
      "outputs": [
        {
          "output_type": "execute_result",
          "data": {
            "text/plain": [
              "OrderedDict([('weights', tensor([0.3367])), ('bias', tensor([0.3904]))])"
            ]
          },
          "metadata": {},
          "execution_count": 11
        }
      ]
    },
    {
      "cell_type": "markdown",
      "source": [
        "### Making predictions using `torch.inference_mode()`\n",
        "\n",
        "To check our model's predictive power, let's see how our model predicts 'y_test', given 'X_test' as the input.\n",
        "\n",
        "When we pass data through our model, it runs it throught the `forward()` method we defined in the model class.\n",
        "\n",
        "`inference_mode()` is not required to make predictions. What inference mode does is that it stops tracking gradients for parameters which results in faster performance. So, when we're not training, we can use this method to improve performance.\n",
        "\n",
        "`torch.inference_mode()` is `torch.no_grad()` on steroids. Basically both functions do the same thing but the first one is better."
      ],
      "metadata": {
        "id": "KNeq1A7rTmec"
      }
    },
    {
      "cell_type": "code",
      "source": [
        "X_test, y_test"
      ],
      "metadata": {
        "colab": {
          "base_uri": "https://localhost:8080/"
        },
        "id": "_9qpp4EIwgur",
        "outputId": "47954a36-519b-4976-a379-fdc344cc90df"
      },
      "execution_count": null,
      "outputs": [
        {
          "output_type": "execute_result",
          "data": {
            "text/plain": [
              "(tensor([[0.8000],\n",
              "         [0.8200],\n",
              "         [0.8400],\n",
              "         [0.8600],\n",
              "         [0.8800],\n",
              "         [0.9000],\n",
              "         [0.9200],\n",
              "         [0.9400],\n",
              "         [0.9600],\n",
              "         [0.9800]]),\n",
              " tensor([[0.8600],\n",
              "         [0.8740],\n",
              "         [0.8880],\n",
              "         [0.9020],\n",
              "         [0.9160],\n",
              "         [0.9300],\n",
              "         [0.9440],\n",
              "         [0.9580],\n",
              "         [0.9720],\n",
              "         [0.9860]]))"
            ]
          },
          "metadata": {},
          "execution_count": 12
        }
      ]
    },
    {
      "cell_type": "code",
      "source": [
        "# With keyword ensures that program terminates properly if an exception is raised\n",
        "with torch.inference_mode():\n",
        "  y_preds = model_0(X_test) # Inference mode is a context manager that ensures that you are not keeping track of gradients during your operations.\n",
        "  # This is true for testing.\n",
        "\n",
        "# This was the older method for doing the above process but now torch.inference_mode() is more favoured.\n",
        "# with torch.no_grad():\n",
        "#   y_preds = model_0(X_test)\n",
        "\n",
        "y_preds"
      ],
      "metadata": {
        "colab": {
          "base_uri": "https://localhost:8080/"
        },
        "id": "4Z9sAksmVcsI",
        "outputId": "c142e1e7-eb17-4573-c75b-61c12d1ab870"
      },
      "execution_count": null,
      "outputs": [
        {
          "output_type": "execute_result",
          "data": {
            "text/plain": [
              "tensor([[0.6598],\n",
              "        [0.6665],\n",
              "        [0.6733],\n",
              "        [0.6800],\n",
              "        [0.6867],\n",
              "        [0.6935],\n",
              "        [0.7002],\n",
              "        [0.7069],\n",
              "        [0.7137],\n",
              "        [0.7204]])"
            ]
          },
          "metadata": {},
          "execution_count": 13
        }
      ]
    },
    {
      "cell_type": "code",
      "source": [
        "y_pred = model_0(X_test)\n",
        "# This does the same thing as the above function but, it keeps track of the gradient even during testing which is not required.\n",
        "# Gradient is only needed to be tracked during the training phase.\n",
        "y_pred  # We can see this also has a grad_fn but we don't need that since we're not updating our weights and biases here."
      ],
      "metadata": {
        "id": "ZlDFT3CRW6Ai",
        "colab": {
          "base_uri": "https://localhost:8080/"
        },
        "outputId": "18c1e0e6-4750-4d3a-f689-8b752dafb0d1"
      },
      "execution_count": null,
      "outputs": [
        {
          "output_type": "execute_result",
          "data": {
            "text/plain": [
              "tensor([[0.6598],\n",
              "        [0.6665],\n",
              "        [0.6733],\n",
              "        [0.6800],\n",
              "        [0.6867],\n",
              "        [0.6935],\n",
              "        [0.7002],\n",
              "        [0.7069],\n",
              "        [0.7137],\n",
              "        [0.7204]], grad_fn=<AddBackward0>)"
            ]
          },
          "metadata": {},
          "execution_count": 14
        }
      ]
    },
    {
      "cell_type": "code",
      "source": [
        "# Plotting predictions made by our random parameters that we created. We will train our model to adjust these parameters.\n",
        "plot_predictions(predictions=y_preds)"
      ],
      "metadata": {
        "colab": {
          "base_uri": "https://localhost:8080/",
          "height": 599
        },
        "id": "cvg8-BxmV-ei",
        "outputId": "613dbdee-b118-4730-c9f0-d16228a3f490"
      },
      "execution_count": null,
      "outputs": [
        {
          "output_type": "display_data",
          "data": {
            "text/plain": [
              "<Figure size 1000x700 with 1 Axes>"
            ],
            "image/png": "[encoded data removed]"
          },
          "metadata": {}
        }
      ]
    },
    {
      "cell_type": "markdown",
      "source": [
        "## 3. Training Model\n",
        "\n",
        "The whole idea of training a model is to move from *unknown* random parameters to *known* parameters. Which basically represent the data in a better manner.\n",
        "\n",
        "Our function should be able to predict the values such that the cost function gives us minimum value. To do that, we use gradient descent.\n",
        "\n",
        "* **Loss Function** -  Measures how poor our model's predictions are compared to the ideal values. Also known as cost function or criterion.\n",
        "\n",
        "* **Optimizer** - Takes into account the value of our loss and then changes the values of our parameters such that we're minimizing the loss.\n",
        "Inside the optimizer, you'll often have to set two values -\n",
        "  1. `params` - the model parameters you'd like to optimize.\n",
        "  2. `lr` - The learning rate. How fast or slow you want your parameter values to be updated.\n",
        "\n",
        "Specifically for PyTorch, we need -\n",
        "* A training loop\n",
        "* A testing loop"
      ],
      "metadata": {
        "id": "mD1moA-2Wgf0"
      }
    },
    {
      "cell_type": "code",
      "source": [
        "list(model_0.parameters())"
      ],
      "metadata": {
        "colab": {
          "base_uri": "https://localhost:8080/"
        },
        "id": "uWrF3gUeKOk0",
        "outputId": "11828968-89cd-40e6-e442-4c5c1fa3d345"
      },
      "execution_count": null,
      "outputs": [
        {
          "output_type": "execute_result",
          "data": {
            "text/plain": [
              "[Parameter containing:\n",
              " tensor([0.3367], requires_grad=True),\n",
              " Parameter containing:\n",
              " tensor([0.3904], requires_grad=True)]"
            ]
          },
          "metadata": {},
          "execution_count": 16
        }
      ]
    },
    {
      "cell_type": "code",
      "source": [
        "# Check out our model's parameters in the form of an ordered dictionary.\n",
        "model_0.state_dict()"
      ],
      "metadata": {
        "colab": {
          "base_uri": "https://localhost:8080/"
        },
        "id": "c7mJMR7nLj0Z",
        "outputId": "cce1a0e7-1827-4430-bd1e-bd7cf73ad6ea"
      },
      "execution_count": null,
      "outputs": [
        {
          "output_type": "execute_result",
          "data": {
            "text/plain": [
              "OrderedDict([('weights', tensor([0.3367])), ('bias', tensor([0.3904]))])"
            ]
          },
          "metadata": {},
          "execution_count": 17
        }
      ]
    },
    {
      "cell_type": "markdown",
      "source": [
        "Mean Absolute Error Explained -\n",
        "![MAE](https://raw.github.com/suryansh-sinha/Learning-PyTorch/main/Daniel%20Bourke/images/01_PyTorch_Workflow/mae-loss-annotated.png)"
      ],
      "metadata": {
        "id": "sDvyOnrGz8Ja"
      }
    },
    {
      "cell_type": "code",
      "source": [
        "# Setup a loss function\n",
        "lossFunc = nn.L1Loss()  # L1 Loss is mean absolute error. Take the sum of absolute values of the differences between predicted and real values, then take it's mean.\n",
        "\n",
        "# Setup an optimizer (we're using stochastic gradient descent)\n",
        "optimizer = torch.optim.SGD(model_0.parameters(), lr=0.01) # lr is learning rate."
      ],
      "metadata": {
        "id": "IpyMsEdVLujz"
      },
      "execution_count": null,
      "outputs": []
    },
    {
      "cell_type": "markdown",
      "source": [
        "## Building a training loop in PyTorch\n",
        "\n",
        "A couple of things we need in a training loop:\n",
        "0. Loop through the data and do the following steps -\n",
        "1. Forward pass (this involves moving data through our model's `forward()` function) to make predictions on data. This is also called forward propagation.\n",
        "2. Calculate the loss (compare forward pass predictions to actual values)\n",
        "3. Optimizer zero grad\n",
        "4. Backward Propagation - move backwards through the network, adjusting our weights and biases by finding their gradients with respect to the loss function.\n",
        "5. Optimizer Step - Use the optimizer to adjust the weights and biases such that it improves loss. (**Gradient Descent**)"
      ],
      "metadata": {
        "id": "p_1cgXSHO4_g"
      }
    },
    {
      "cell_type": "code",
      "source": [
        "list(model_0.parameters())  # This block shows our original random values of parameters."
      ],
      "metadata": {
        "colab": {
          "base_uri": "https://localhost:8080/"
        },
        "id": "a4DidL8DYh_g",
        "outputId": "07d1cd10-c11f-4ff3-a403-80760fe630a0"
      },
      "execution_count": null,
      "outputs": [
        {
          "output_type": "execute_result",
          "data": {
            "text/plain": [
              "[Parameter containing:\n",
              " tensor([0.3367], requires_grad=True),\n",
              " Parameter containing:\n",
              " tensor([0.3904], requires_grad=True)]"
            ]
          },
          "metadata": {},
          "execution_count": 19
        }
      ]
    },
    {
      "cell_type": "markdown",
      "source": [
        "Training Loop Explained -\n",
        "\n",
        "![Training Loop](https://raw.github.com/suryansh-sinha/Learning-PyTorch/main/Daniel%20Bourke/images/01_PyTorch_Workflow/pytorch-training-loop-annotated.png)"
      ],
      "metadata": {
        "id": "YuavyeSRKEYC"
      }
    },
    {
      "cell_type": "code",
      "source": [
        "# Setting a manual seed to control the randomness of the program.\n",
        "torch.manual_seed(42)\n",
        "\n",
        "# An epoch is one loop through our data. This is a hyperparameter (because we've set it ourselves)\n",
        "epochs = 200\n",
        "\n",
        "# Track different values\n",
        "epoch_count = []\n",
        "loss_values = []\n",
        "test_loss_values = []\n",
        "\n",
        "### Training\n",
        "# 0. Loop through the data.\n",
        "for epoch in range(epochs):\n",
        "  # Set the model to training mode.\n",
        "  model_0.train() # Train mode sets all parameters that require gradient to require gradient.\n",
        "\n",
        "  # 1. Forward propagation\n",
        "  y_pred = model_0(X_train) # Making our model predict outputs using current weight and bias.\n",
        "\n",
        "  # 2. Calculate our loss\n",
        "  loss = lossFunc(y_pred, y_train)  # Calculating the value of our loss function.\n",
        "  # print(f'Loss: {loss}')\n",
        "  # We take partial derivative of loss function wrt each parameter during backpropagation.\n",
        "\n",
        "  # 3. Optimizer zero grad.\n",
        "  optimizer.zero_grad() # This functions sets the gradients of all our parameters to be zero because the gradients add up after each epoch, we set them to zero for fresh starts.\n",
        "\n",
        "  # 4. Backpropagation\n",
        "  loss.backward() # Backward function calculates the gradient descent for all the parameters of our model that have reqires_grad=True\n",
        "\n",
        "  # 5. Step the optimizer (perform gradient descent)\n",
        "  optimizer.step()  # Step function is basically updating our parameters based on the gradient descent we calculated.\n",
        "\n",
        "  ### Testing\n",
        "  model_0.eval()  # Turns off settings which we don't need during testing. (dropout, batch norm etc)\n",
        "  with torch.inference_mode():  # Turns off gradient tracking. Inference mode is torch.no_grad() on steroids!\n",
        "    # 1. Forward Pass\n",
        "    test_pred = model_0(X_test)\n",
        "    # 2. Loss Calculation\n",
        "    test_loss = lossFunc(test_pred, y_test)\n",
        "\n",
        "  # Print out what's happening\n",
        "  if epoch%5 == 0:\n",
        "    epoch_count.append(epoch)\n",
        "    loss_values.append(loss)\n",
        "    test_loss_values.append(test_loss)\n",
        "    print(f'Epoch: {epoch} | Loss: {loss} | Test Loss: {test_loss}')\n",
        "    print(model_0.state_dict())\n",
        "    print()\n"
      ],
      "metadata": {
        "colab": {
          "base_uri": "https://localhost:8080/"
        },
        "id": "qCpHpKdLO8em",
        "outputId": "46b5b864-d991-4b75-c1da-a0210cbabd0d"
      },
      "execution_count": null,
      "outputs": [
        {
          "output_type": "stream",
          "name": "stdout",
          "text": [
            "Epoch: 0 | Loss: 0.08169572055339813 | Test Loss: 0.22662055492401123\n",
            "OrderedDict([('weights', tensor([0.3398])), ('bias', tensor([0.3939]))])\n",
            "\n",
            "Epoch: 5 | Loss: 0.07310795783996582 | Test Loss: 0.2008223533630371\n",
            "OrderedDict([('weights', tensor([0.3542])), ('bias', tensor([0.4069]))])\n",
            "\n",
            "Epoch: 10 | Loss: 0.06808149069547653 | Test Loss: 0.1807345449924469\n",
            "OrderedDict([('weights', tensor([0.3672])), ('bias', tensor([0.4154]))])\n",
            "\n",
            "Epoch: 15 | Loss: 0.06489682197570801 | Test Loss: 0.1665084809064865\n",
            "OrderedDict([('weights', tensor([0.3787])), ('bias', tensor([0.4194]))])\n",
            "\n",
            "Epoch: 20 | Loss: 0.06258393079042435 | Test Loss: 0.15627031028270721\n",
            "OrderedDict([('weights', tensor([0.3891])), ('bias', tensor([0.4204]))])\n",
            "\n",
            "Epoch: 25 | Loss: 0.0605839304625988 | Test Loss: 0.14737029373645782\n",
            "OrderedDict([('weights', tensor([0.3991])), ('bias', tensor([0.4204]))])\n",
            "\n",
            "Epoch: 30 | Loss: 0.05879194289445877 | Test Loss: 0.1418602615594864\n",
            "OrderedDict([('weights', tensor([0.4081])), ('bias', tensor([0.4179]))])\n",
            "\n",
            "Epoch: 35 | Loss: 0.05704693868756294 | Test Loss: 0.13635022938251495\n",
            "OrderedDict([('weights', tensor([0.4171])), ('bias', tensor([0.4154]))])\n",
            "\n",
            "Epoch: 40 | Loss: 0.05530194193124771 | Test Loss: 0.13084018230438232\n",
            "OrderedDict([('weights', tensor([0.4261])), ('bias', tensor([0.4129]))])\n",
            "\n",
            "Epoch: 45 | Loss: 0.05355694144964218 | Test Loss: 0.12533016502857208\n",
            "OrderedDict([('weights', tensor([0.4351])), ('bias', tensor([0.4104]))])\n",
            "\n",
            "Epoch: 50 | Loss: 0.051822252571582794 | Test Loss: 0.12050700187683105\n",
            "OrderedDict([('weights', tensor([0.4439])), ('bias', tensor([0.4074]))])\n",
            "\n",
            "Epoch: 55 | Loss: 0.050105344504117966 | Test Loss: 0.11637072265148163\n",
            "OrderedDict([('weights', tensor([0.4525])), ('bias', tensor([0.4039]))])\n",
            "\n",
            "Epoch: 60 | Loss: 0.04838593676686287 | Test Loss: 0.11223447322845459\n",
            "OrderedDict([('weights', tensor([0.4610])), ('bias', tensor([0.4004]))])\n",
            "\n",
            "Epoch: 65 | Loss: 0.04666654020547867 | Test Loss: 0.10809819400310516\n",
            "OrderedDict([('weights', tensor([0.4696])), ('bias', tensor([0.3969]))])\n",
            "\n",
            "Epoch: 70 | Loss: 0.044948760420084 | Test Loss: 0.10464880615472794\n",
            "OrderedDict([('weights', tensor([0.4780])), ('bias', tensor([0.3929]))])\n",
            "\n",
            "Epoch: 75 | Loss: 0.04323454201221466 | Test Loss: 0.10051252692937851\n",
            "OrderedDict([('weights', tensor([0.4866])), ('bias', tensor([0.3894]))])\n",
            "\n",
            "Epoch: 80 | Loss: 0.04152031987905502 | Test Loss: 0.09637625515460968\n",
            "OrderedDict([('weights', tensor([0.4951])), ('bias', tensor([0.3859]))])\n",
            "\n",
            "Epoch: 85 | Loss: 0.03980172425508499 | Test Loss: 0.09224001318216324\n",
            "OrderedDict([('weights', tensor([0.5037])), ('bias', tensor([0.3824]))])\n",
            "\n",
            "Epoch: 90 | Loss: 0.03808232396841049 | Test Loss: 0.08810374140739441\n",
            "OrderedDict([('weights', tensor([0.5123])), ('bias', tensor([0.3789]))])\n",
            "\n",
            "Epoch: 95 | Loss: 0.03636292368173599 | Test Loss: 0.08396747708320618\n",
            "OrderedDict([('weights', tensor([0.5209])), ('bias', tensor([0.3754]))])\n",
            "\n",
            "Epoch: 100 | Loss: 0.034646838903427124 | Test Loss: 0.08051808178424835\n",
            "OrderedDict([('weights', tensor([0.5293])), ('bias', tensor([0.3714]))])\n",
            "\n",
            "Epoch: 105 | Loss: 0.03293261304497719 | Test Loss: 0.07638178765773773\n",
            "OrderedDict([('weights', tensor([0.5378])), ('bias', tensor([0.3679]))])\n",
            "\n",
            "Epoch: 110 | Loss: 0.031217509880661964 | Test Loss: 0.0722455382347107\n",
            "OrderedDict([('weights', tensor([0.5464])), ('bias', tensor([0.3644]))])\n",
            "\n",
            "Epoch: 115 | Loss: 0.029498090967535973 | Test Loss: 0.06810928881168365\n",
            "OrderedDict([('weights', tensor([0.5550])), ('bias', tensor([0.3609]))])\n",
            "\n",
            "Epoch: 120 | Loss: 0.027778705582022667 | Test Loss: 0.06397300213575363\n",
            "OrderedDict([('weights', tensor([0.5636])), ('bias', tensor([0.3574]))])\n",
            "\n",
            "Epoch: 125 | Loss: 0.02605929970741272 | Test Loss: 0.05983671545982361\n",
            "OrderedDict([('weights', tensor([0.5722])), ('bias', tensor([0.3539]))])\n",
            "\n",
            "Epoch: 130 | Loss: 0.024344902485609055 | Test Loss: 0.05638733506202698\n",
            "OrderedDict([('weights', tensor([0.5805])), ('bias', tensor([0.3499]))])\n",
            "\n",
            "Epoch: 135 | Loss: 0.022630682215094566 | Test Loss: 0.05225106328725815\n",
            "OrderedDict([('weights', tensor([0.5891])), ('bias', tensor([0.3464]))])\n",
            "\n",
            "Epoch: 140 | Loss: 0.020913895219564438 | Test Loss: 0.04811479523777962\n",
            "OrderedDict([('weights', tensor([0.5977])), ('bias', tensor([0.3429]))])\n",
            "\n",
            "Epoch: 145 | Loss: 0.01919448934495449 | Test Loss: 0.043978530913591385\n",
            "OrderedDict([('weights', tensor([0.6063])), ('bias', tensor([0.3394]))])\n",
            "\n",
            "Epoch: 150 | Loss: 0.017475087195634842 | Test Loss: 0.03984225541353226\n",
            "OrderedDict([('weights', tensor([0.6148])), ('bias', tensor([0.3359]))])\n",
            "\n",
            "Epoch: 155 | Loss: 0.015757188200950623 | Test Loss: 0.03639286011457443\n",
            "OrderedDict([('weights', tensor([0.6232])), ('bias', tensor([0.3319]))])\n",
            "\n",
            "Epoch: 160 | Loss: 0.014042967930436134 | Test Loss: 0.0322565920650959\n",
            "OrderedDict([('weights', tensor([0.6318])), ('bias', tensor([0.3284]))])\n",
            "\n",
            "Epoch: 165 | Loss: 0.012328749522566795 | Test Loss: 0.028120320290327072\n",
            "OrderedDict([('weights', tensor([0.6404])), ('bias', tensor([0.3249]))])\n",
            "\n",
            "Epoch: 170 | Loss: 0.010610274039208889 | Test Loss: 0.02398405596613884\n",
            "OrderedDict([('weights', tensor([0.6490])), ('bias', tensor([0.3214]))])\n",
            "\n",
            "Epoch: 175 | Loss: 0.008890870027244091 | Test Loss: 0.019847780466079712\n",
            "OrderedDict([('weights', tensor([0.6575])), ('bias', tensor([0.3179]))])\n",
            "\n",
            "Epoch: 180 | Loss: 0.007171472068876028 | Test Loss: 0.015711510553956032\n",
            "OrderedDict([('weights', tensor([0.6661])), ('bias', tensor([0.3144]))])\n",
            "\n",
            "Epoch: 185 | Loss: 0.00545525923371315 | Test Loss: 0.012262111529707909\n",
            "OrderedDict([('weights', tensor([0.6745])), ('bias', tensor([0.3104]))])\n",
            "\n",
            "Epoch: 190 | Loss: 0.003741039428859949 | Test Loss: 0.008125847205519676\n",
            "OrderedDict([('weights', tensor([0.6831])), ('bias', tensor([0.3069]))])\n",
            "\n",
            "Epoch: 195 | Loss: 0.0020317495800554752 | Test Loss: 0.0033116161357611418\n",
            "OrderedDict([('weights', tensor([0.6918])), ('bias', tensor([0.3039]))])\n",
            "\n"
          ]
        }
      ]
    },
    {
      "cell_type": "code",
      "source": [
        "model_0.state_dict()  # Parameters after 1 epoch"
      ],
      "metadata": {
        "colab": {
          "base_uri": "https://localhost:8080/"
        },
        "id": "aGMNHs0ZT-ht",
        "outputId": "4c6e750e-21af-4d2c-b488-894c5a746f1c"
      },
      "execution_count": null,
      "outputs": [
        {
          "output_type": "execute_result",
          "data": {
            "text/plain": [
              "OrderedDict([('weights', tensor([0.6962])), ('bias', tensor([0.3064]))])"
            ]
          },
          "metadata": {},
          "execution_count": 21
        }
      ]
    },
    {
      "cell_type": "code",
      "source": [
        "with torch.inference_mode():\n",
        "  finalPredictions = model_0(X_test)\n",
        "\n",
        "plot_predictions(predictions=finalPredictions)"
      ],
      "metadata": {
        "colab": {
          "base_uri": "https://localhost:8080/",
          "height": 599
        },
        "id": "oWgZPCjSYpyk",
        "outputId": "0c95c829-b47d-44a8-907a-215377dc1004"
      },
      "execution_count": null,
      "outputs": [
        {
          "output_type": "display_data",
          "data": {
            "text/plain": [
              "<Figure size 1000x700 with 1 Axes>"
            ],
            "image/png": "[encoded data removed]"
          },
          "metadata": {}
        }
      ]
    },
    {
      "cell_type": "code",
      "source": [
        "torch.tensor(loss_values).numpy()"
      ],
      "metadata": {
        "colab": {
          "base_uri": "https://localhost:8080/"
        },
        "id": "_POQMPSmtvMj",
        "outputId": "8941f917-bd6b-4c83-c53f-f5b49759c65f"
      },
      "execution_count": null,
      "outputs": [
        {
          "output_type": "execute_result",
          "data": {
            "text/plain": [
              "array([0.08169572, 0.07310796, 0.06808149, 0.06489682, 0.06258393,\n",
              "       0.06058393, 0.05879194, 0.05704694, 0.05530194, 0.05355694,\n",
              "       0.05182225, 0.05010534, 0.04838594, 0.04666654, 0.04494876,\n",
              "       0.04323454, 0.04152032, 0.03980172, 0.03808232, 0.03636292,\n",
              "       0.03464684, 0.03293261, 0.03121751, 0.02949809, 0.02777871,\n",
              "       0.0260593 , 0.0243449 , 0.02263068, 0.0209139 , 0.01919449,\n",
              "       0.01747509, 0.01575719, 0.01404297, 0.01232875, 0.01061027,\n",
              "       0.00889087, 0.00717147, 0.00545526, 0.00374104, 0.00203175],\n",
              "      dtype=float32)"
            ]
          },
          "metadata": {},
          "execution_count": 23
        }
      ]
    },
    {
      "cell_type": "code",
      "source": [
        "# Plotting the loss curves.\n",
        "plt.plot(epoch_count, torch.tensor(loss_values).numpy(), label=\"Train Loss\")\n",
        "plt.plot(epoch_count, torch.tensor(test_loss_values).numpy(), label=\"Test Loss\")\n",
        "plt.title(\"Training and Testing Loss Curves\")\n",
        "plt.xlabel('Epochs')\n",
        "plt.ylabel('Loss')\n",
        "plt.legend();"
      ],
      "metadata": {
        "colab": {
          "base_uri": "https://localhost:8080/",
          "height": 472
        },
        "id": "SkYgU6xmpFWv",
        "outputId": "f1d7e3bb-d01d-480a-ae76-5c78beba5888"
      },
      "execution_count": null,
      "outputs": [
        {
          "output_type": "display_data",
          "data": {
            "text/plain": [
              "<Figure size 640x480 with 1 Axes>"
            ],
            "image/png": "[encoded data removed]"
          },
          "metadata": {}
        }
      ]
    },
    {
      "cell_type": "markdown",
      "source": [
        "# Saving and Loading Model Data\n",
        "\n",
        "PyTorch uses the pickle module from python to save and load models. In pickle, we use the word serializing for saving and de-serializing for loading.\n",
        "\n",
        "There are 3 main functions you need to know for saving and loading models in PyTorch:\n",
        "\n",
        "1. `torch.save()` - allows you to save a PyTorch model in Python's pickle format. Saves a serialized object to disk. This function uses Python’s pickle utility for serialization. Models, tensors, and dictionaries of all kinds of objects can be saved using this function.\n",
        "2. `torch.load()` - allows you to load a saved PyTorch object. Uses pickle’s unpickling facilities to deserialize pickled object files to memory.\n",
        "3. `torch.nn.Module.load_state_dict()` - allows to load a model's saved state dictionary. Loads a model’s parameter dictionary using a deserialized state_dict."
      ],
      "metadata": {
        "id": "qdERwV6Wt86g"
      }
    },
    {
      "cell_type": "code",
      "source": [
        "model_0.state_dict()  # PyTorch saves our model's important parameters in a python dictionary."
      ],
      "metadata": {
        "colab": {
          "base_uri": "https://localhost:8080/"
        },
        "id": "GgXzvzKrZeoO",
        "outputId": "57f71a0c-ab18-4ad0-c312-cbab5ffa8f7c"
      },
      "execution_count": null,
      "outputs": [
        {
          "output_type": "execute_result",
          "data": {
            "text/plain": [
              "OrderedDict([('weights', tensor([0.6962])), ('bias', tensor([0.3064]))])"
            ]
          },
          "metadata": {},
          "execution_count": 25
        }
      ]
    },
    {
      "cell_type": "markdown",
      "source": [
        "There are 2 ways of saving/loading a model.\n",
        "1. You can either save the state dict of the model.\n",
        "2. You can save the entire model.\n",
        "\n",
        "The PyTorch documentation states that saving the state_dict of the models is recommended instead of saving the entire model. So, it's a better practice to use method 1."
      ],
      "metadata": {
        "id": "VX-DR1_NbI7C"
      }
    },
    {
      "cell_type": "code",
      "source": [
        "# Saving our PyTorch model.\n",
        "# Python's module for dealing with file paths.\n",
        "from pathlib import Path\n",
        "\n",
        "# 1. Create our model directory.\n",
        "MODEL_PATH = Path(\"models\") # The folder we want to save our models to.\n",
        "MODEL_PATH.mkdir(parents=True, exist_ok=True) # If it already exists, it won't throw us an error.\n",
        "\n",
        "# 2. Create model save path.\n",
        "MODEL_NAME = '01_pytorch_workflow_model_0.pth' # PyTorch models are usually saved with the extension .pt or .pth\n",
        "MODEL_SAVE_PATH = MODEL_PATH / MODEL_NAME\n",
        "\n",
        "# 3. Saving our model to the path generated.\n",
        "print(f'Saving model to: {MODEL_SAVE_PATH}')\n",
        "torch.save(obj = model_0.state_dict(),\n",
        "           f = MODEL_SAVE_PATH)\n",
        "\n",
        "MODEL_SAVE_PATH"
      ],
      "metadata": {
        "colab": {
          "base_uri": "https://localhost:8080/"
        },
        "id": "fHkdvOS5atxB",
        "outputId": "b0194051-244d-4092-c9e6-ec9f16b0e088"
      },
      "execution_count": null,
      "outputs": [
        {
          "output_type": "stream",
          "name": "stdout",
          "text": [
            "Saving model to: models/01_pytorch_workflow_model_0.pth\n"
          ]
        },
        {
          "output_type": "execute_result",
          "data": {
            "text/plain": [
              "PosixPath('models/01_pytorch_workflow_model_0.pth')"
            ]
          },
          "metadata": {},
          "execution_count": 26
        }
      ]
    },
    {
      "cell_type": "markdown",
      "source": [
        "## Loading a PyTorch Model\n",
        "\n",
        "Since we saved our model's `state_dict()` rather than the entire model, we'll create a new instance of our model class and load the saved `state_dict()` into that."
      ],
      "metadata": {
        "id": "RhBrA7ZcZtZl"
      }
    },
    {
      "cell_type": "code",
      "source": [
        "model_0.state_dict()"
      ],
      "metadata": {
        "colab": {
          "base_uri": "https://localhost:8080/"
        },
        "id": "rz-MKzL1aG2R",
        "outputId": "3edc0150-4454-4036-dfaa-0b1d5918631e"
      },
      "execution_count": null,
      "outputs": [
        {
          "output_type": "execute_result",
          "data": {
            "text/plain": [
              "OrderedDict([('weights', tensor([0.6962])), ('bias', tensor([0.3064]))])"
            ]
          },
          "metadata": {},
          "execution_count": 27
        }
      ]
    },
    {
      "cell_type": "code",
      "source": [
        "# To load in a saved state_dict, we have to instantiate a new instance of our model class.\n",
        "loaded_model_0 = LinearRegressionModel()\n",
        "\n",
        "# Load the saved state_dict of model_0 (this will update the new instance with updated parameters)\n",
        "loaded_model_0.load_state_dict(torch.load(MODEL_SAVE_PATH))\n",
        "loaded_model_0.eval()\n",
        "loaded_model_0.state_dict()"
      ],
      "metadata": {
        "colab": {
          "base_uri": "https://localhost:8080/"
        },
        "id": "9HX83-BRch44",
        "outputId": "6a60c3fd-2b6b-44b5-bca0-facfd975d9e0"
      },
      "execution_count": null,
      "outputs": [
        {
          "output_type": "execute_result",
          "data": {
            "text/plain": [
              "OrderedDict([('weights', tensor([0.6962])), ('bias', tensor([0.3064]))])"
            ]
          },
          "metadata": {},
          "execution_count": 28
        }
      ]
    },
    {
      "cell_type": "code",
      "source": [
        "# Testing our loaded model's predictions.\n",
        "with torch.inference_mode():\n",
        "  modelPredictions = loaded_model_0(X_test)\n",
        "\n",
        "modelPredictions == finalPredictions  # Comparing if both our models are predicting the same values.\n"
      ],
      "metadata": {
        "colab": {
          "base_uri": "https://localhost:8080/"
        },
        "id": "FKaRRJDSeCqa",
        "outputId": "4bd62ed5-a4dd-4d68-fdc8-57495e73d3b4"
      },
      "execution_count": null,
      "outputs": [
        {
          "output_type": "execute_result",
          "data": {
            "text/plain": [
              "tensor([[True],\n",
              "        [True],\n",
              "        [True],\n",
              "        [True],\n",
              "        [True],\n",
              "        [True],\n",
              "        [True],\n",
              "        [True],\n",
              "        [True],\n",
              "        [True]])"
            ]
          },
          "metadata": {},
          "execution_count": 29
        }
      ]
    },
    {
      "cell_type": "markdown",
      "source": [
        "## 6. Putting it all together\n",
        "\n",
        "Revising everything and going back through all the steps above in one place."
      ],
      "metadata": {
        "id": "QpbTdTH6fP4u"
      }
    },
    {
      "cell_type": "code",
      "source": [
        "import torch\n",
        "from torch import nn\n",
        "import numpy as np\n",
        "import matplotlib.pyplot as plt\n",
        "\n",
        "# Checking pytorch version\n",
        "torch.__version__"
      ],
      "metadata": {
        "colab": {
          "base_uri": "https://localhost:8080/",
          "height": 35
        },
        "id": "g3fHJyo7f-UV",
        "outputId": "39b8d83f-9809-4a3d-8574-97bfc9cf77f9"
      },
      "execution_count": null,
      "outputs": [
        {
          "output_type": "execute_result",
          "data": {
            "text/plain": [
              "'2.1.0+cu121'"
            ],
            "application/vnd.google.colaboratory.intrinsic+json": {
              "type": "string"
            }
          },
          "metadata": {},
          "execution_count": 30
        }
      ]
    },
    {
      "cell_type": "markdown",
      "source": [
        "Create device-agnostic code. Utilizing a gpu if it's available. This will improve performance drastically."
      ],
      "metadata": {
        "id": "CcqZ0Vi7gWD4"
      }
    },
    {
      "cell_type": "code",
      "source": [
        "device = 'cuda' if torch.cuda.is_available() else 'cpu'\n",
        "print(f'Using device: {device}')"
      ],
      "metadata": {
        "colab": {
          "base_uri": "https://localhost:8080/"
        },
        "id": "T_8_fsx8gmfc",
        "outputId": "999a4ef9-d79a-4637-9f51-e2db00edb352"
      },
      "execution_count": null,
      "outputs": [
        {
          "output_type": "stream",
          "name": "stdout",
          "text": [
            "Using device: cuda\n"
          ]
        }
      ]
    },
    {
      "cell_type": "markdown",
      "source": [
        "### 6.1 Data"
      ],
      "metadata": {
        "id": "YsT8nv8tfzLU"
      }
    },
    {
      "cell_type": "code",
      "source": [
        "weight = 0.7\n",
        "bias = 0.3\n",
        "\n",
        "# Create range values\n",
        "start = 0\n",
        "end = 1\n",
        "step = 0.02\n",
        "\n",
        "# Create X and y (features and labels)\n",
        "X = torch.arange(start, end, step).unsqueeze(dim=1)\n",
        "y = X * weight + bias"
      ],
      "metadata": {
        "id": "Rnb68-cNfxUT"
      },
      "execution_count": null,
      "outputs": []
    },
    {
      "cell_type": "code",
      "source": [
        "# Splitting the data\n",
        "split_ratio = int(0.8 * len(X))\n",
        "X_train, X_test = X[:split_ratio], X[split_ratio:]\n",
        "y_train, y_test = y[:split_ratio], y[split_ratio:]"
      ],
      "metadata": {
        "id": "gSOr9NiyiTaK"
      },
      "execution_count": null,
      "outputs": []
    },
    {
      "cell_type": "code",
      "source": [
        "def plot_predictions(train_data = X_train, train_labels = y_train,\n",
        "                     test_data = X_test, test_labels = y_test,\n",
        "                     predictions = None):\n",
        "\n",
        "  # Plots training and test data and compares predictions.\n",
        "\n",
        "  plt.figure(figsize=(10,7))  # Creates a new figure. figsize parameter takes width and height of figure in inches.\n",
        "\n",
        "  # plt.scatter creates a scatter plot of y vs x. With varying marker size and/or color.\n",
        "  # s represents the marker size. c represents the color of the marker.\n",
        "\n",
        "  # Creating blue points for training data.\n",
        "  plt.scatter(train_data, train_labels, s=4, c='b', marker='x', label=\"Training Data\")\n",
        "\n",
        "  # Creating green points for testing data. We can change the marker's shape also.\n",
        "  plt.scatter(test_data, test_labels, s=4, c='g', marker='x', label=\"Testing Data\")\n",
        "\n",
        "  # Creating red points for our predicted data.\n",
        "  if predictions is not None:\n",
        "\n",
        "    # Sending predictions to cpu if they're on GPU.\n",
        "    if predictions.device == 'cuda' or predictions.device == 'mps':\n",
        "      predictions = torch.Tensor.cpu(predictions)\n",
        "\n",
        "    # Plot the predictions if they exist.\n",
        "    plt.scatter(test_data, predictions, c='r', s=4, label=\"Predictions\")\n",
        "\n",
        "  plt.legend(prop={'size': 14});"
      ],
      "metadata": {
        "id": "ASGKBI96nN3W"
      },
      "execution_count": null,
      "outputs": []
    },
    {
      "cell_type": "code",
      "source": [
        "# Plot the data -\n",
        "plot_predictions()"
      ],
      "metadata": {
        "colab": {
          "base_uri": "https://localhost:8080/",
          "height": 599
        },
        "id": "YMR8mTtCiz-S",
        "outputId": "c7c26ef0-ba76-4ae4-f5ae-f9e68a13df7a"
      },
      "execution_count": null,
      "outputs": [
        {
          "output_type": "display_data",
          "data": {
            "text/plain": [
              "<Figure size 1000x700 with 1 Axes>"
            ],
            "image/png": "[encoded data removed]"
          },
          "metadata": {}
        }
      ]
    },
    {
      "cell_type": "markdown",
      "source": [
        "### 6.2 Creating Model"
      ],
      "metadata": {
        "id": "pxLDmbS1g-re"
      }
    },
    {
      "cell_type": "code",
      "source": [
        "class LinearRegression(nn.Module):\n",
        "\n",
        "  def __init__(self):\n",
        "    super().__init__()\n",
        "\n",
        "    # self.weights = nn.Parameter(torch.randn(1),\n",
        "    #                             requires_grad=True)\n",
        "\n",
        "    # self.bias = nn.Parameter(torch.randn(1),\n",
        "    #                          requires_grad=True)\n",
        "\n",
        "    # Use nn.Linear for creating model parameters.\n",
        "    self.linear_layer = nn.Linear(in_features=1,\n",
        "                                  out_features=1,\n",
        "                                  bias=True)\n",
        "\n",
        "  # x: torch.Tensor means x should be a tensor and -> torch.Tensor means the function should output a tensor.\n",
        "  def forward(self, x: torch.Tensor) -> torch.Tensor:\n",
        "    # return self.weights * x + self.bias\n",
        "    return self.linear_layer(x) # Calling the layer in our forward method."
      ],
      "metadata": {
        "id": "6bvg9qdYjAZt"
      },
      "execution_count": null,
      "outputs": []
    },
    {
      "cell_type": "code",
      "source": [
        "torch.manual_seed(42)\n",
        "finalModel = LinearRegression() # Creating an instance of our class.\n",
        "finalModel.state_dict()"
      ],
      "metadata": {
        "colab": {
          "base_uri": "https://localhost:8080/"
        },
        "id": "tbDPP3fYgpor",
        "outputId": "4f2016d5-992a-4e48-faf6-fa81098f2a1e"
      },
      "execution_count": null,
      "outputs": [
        {
          "output_type": "execute_result",
          "data": {
            "text/plain": [
              "OrderedDict([('linear_layer.weight', tensor([[0.7645]])),\n",
              "             ('linear_layer.bias', tensor([0.8300]))])"
            ]
          },
          "metadata": {},
          "execution_count": 37
        }
      ]
    },
    {
      "cell_type": "code",
      "source": [
        "# Check the model's current device\n",
        "next(finalModel.parameters()).device"
      ],
      "metadata": {
        "colab": {
          "base_uri": "https://localhost:8080/"
        },
        "id": "u-WhgDpzh_Bl",
        "outputId": "8fb8929f-a5b7-4d02-d192-060595ecf56b"
      },
      "execution_count": null,
      "outputs": [
        {
          "output_type": "execute_result",
          "data": {
            "text/plain": [
              "device(type='cpu')"
            ]
          },
          "metadata": {},
          "execution_count": 38
        }
      ]
    },
    {
      "cell_type": "code",
      "source": [
        "# Set the model to use the GPU.\n",
        "finalModel.to(device)\n",
        "next(finalModel.parameters()).device"
      ],
      "metadata": {
        "colab": {
          "base_uri": "https://localhost:8080/"
        },
        "id": "5HObTJ4_iJVU",
        "outputId": "76797896-6881-4a89-c347-45309fee842b"
      },
      "execution_count": null,
      "outputs": [
        {
          "output_type": "execute_result",
          "data": {
            "text/plain": [
              "device(type='cuda', index=0)"
            ]
          },
          "metadata": {},
          "execution_count": 39
        }
      ]
    },
    {
      "cell_type": "code",
      "source": [
        "# Put the data on the new device\n",
        "X_train = X_train.to(device)\n",
        "X_test = X_test.to(device)\n",
        "y_train = y_train.to(device)\n",
        "y_test = y_test.to(device)"
      ],
      "metadata": {
        "id": "n45TB4enlcr2"
      },
      "execution_count": null,
      "outputs": []
    },
    {
      "cell_type": "markdown",
      "source": [
        "### 6.3 Checking if our model predicts values and plotting those."
      ],
      "metadata": {
        "id": "WbnI3S8ciI7i"
      }
    },
    {
      "cell_type": "code",
      "source": [
        "finalModel.eval()\n",
        "\n",
        "with torch.inference_mode():\n",
        "  preds = finalModel(X_test)\n",
        "\n",
        "plot_predictions(predictions=torch.Tensor.cpu(preds))"
      ],
      "metadata": {
        "colab": {
          "base_uri": "https://localhost:8080/",
          "height": 599
        },
        "id": "ewdsVC8QhNIO",
        "outputId": "39fd439d-69f0-40ad-da12-1f04ee81b316"
      },
      "execution_count": null,
      "outputs": [
        {
          "output_type": "display_data",
          "data": {
            "text/plain": [
              "<Figure size 1000x700 with 1 Axes>"
            ],
            "image/png": "[encoded data removed]"
          },
          "metadata": {}
        }
      ]
    },
    {
      "cell_type": "markdown",
      "source": [
        "###6.4 Training Our Model"
      ],
      "metadata": {
        "id": "UmtTy_8ciom1"
      }
    },
    {
      "cell_type": "code",
      "source": [
        "loss_function = nn.L1Loss()\n",
        "\n",
        "optimizer = torch.optim.SGD(finalModel.parameters(), lr=0.01)"
      ],
      "metadata": {
        "id": "Te6avH2OiW_g"
      },
      "execution_count": null,
      "outputs": []
    },
    {
      "cell_type": "code",
      "source": [
        "torch.manual_seed(42)\n",
        "\n",
        "epochs = 500\n",
        "epoch_count = []\n",
        "train_losses = []\n",
        "test_losses = []\n",
        "\n",
        "for epoch in range(epochs):\n",
        "\n",
        "  finalModel.train()  # Go to training mode.\n",
        "\n",
        "  preds = finalModel(X_train) # Forward Propagation\n",
        "\n",
        "  lossValue = loss_function(preds, y_train)  # Calculating the loss.\n",
        "\n",
        "  optimizer.zero_grad() # Setting gradients to zero.\n",
        "\n",
        "  lossValue.backward() # Backpropagation. Calculate derivative wrt loss.\n",
        "\n",
        "  optimizer.step() # Optimizing values.\n",
        "\n",
        "  # Testing\n",
        "  finalModel.eval()\n",
        "  with torch.inference_mode():\n",
        "    predTest = finalModel(X_test)\n",
        "    testLoss = loss_function(predTest, y_test)\n",
        "\n",
        "  if(epoch%10 == 0):\n",
        "    epoch_count.append(epoch)\n",
        "    train_losses.append(lossValue)\n",
        "    test_losses.append(testLoss)\n",
        "    print(f'Epoch: {epoch} | Training Loss: {lossValue} | Testing Loss: {testLoss}')"
      ],
      "metadata": {
        "id": "k4M7XAn_kbR1",
        "colab": {
          "base_uri": "https://localhost:8080/"
        },
        "outputId": "eb215336-53d3-4308-ebe0-de804111070d"
      },
      "execution_count": null,
      "outputs": [
        {
          "output_type": "stream",
          "name": "stdout",
          "text": [
            "Epoch: 0 | Training Loss: 0.5551779866218567 | Testing Loss: 0.5739762187004089\n",
            "Epoch: 10 | Training Loss: 0.439968079328537 | Testing Loss: 0.4392664134502411\n",
            "Epoch: 20 | Training Loss: 0.3247582018375397 | Testing Loss: 0.30455657839775085\n",
            "Epoch: 30 | Training Loss: 0.20954833924770355 | Testing Loss: 0.16984669864177704\n",
            "Epoch: 40 | Training Loss: 0.09433845430612564 | Testing Loss: 0.03513690456748009\n",
            "Epoch: 50 | Training Loss: 0.023886388167738914 | Testing Loss: 0.04784907028079033\n",
            "Epoch: 60 | Training Loss: 0.019956795498728752 | Testing Loss: 0.045803118497133255\n",
            "Epoch: 70 | Training Loss: 0.016517987474799156 | Testing Loss: 0.037530567497015\n",
            "Epoch: 80 | Training Loss: 0.013089174404740334 | Testing Loss: 0.02994490973651409\n",
            "Epoch: 90 | Training Loss: 0.009653178043663502 | Testing Loss: 0.02167237363755703\n",
            "Epoch: 100 | Training Loss: 0.006215683650225401 | Testing Loss: 0.014086711220443249\n",
            "Epoch: 110 | Training Loss: 0.00278724217787385 | Testing Loss: 0.005814164876937866\n",
            "Epoch: 120 | Training Loss: 0.0012645035749301314 | Testing Loss: 0.013801801018416882\n",
            "Epoch: 130 | Training Loss: 0.0012645035749301314 | Testing Loss: 0.013801801018416882\n",
            "Epoch: 140 | Training Loss: 0.0012645035749301314 | Testing Loss: 0.013801801018416882\n",
            "Epoch: 150 | Training Loss: 0.0012645035749301314 | Testing Loss: 0.013801801018416882\n",
            "Epoch: 160 | Training Loss: 0.0012645035749301314 | Testing Loss: 0.013801801018416882\n",
            "Epoch: 170 | Training Loss: 0.0012645035749301314 | Testing Loss: 0.013801801018416882\n",
            "Epoch: 180 | Training Loss: 0.0012645035749301314 | Testing Loss: 0.013801801018416882\n",
            "Epoch: 190 | Training Loss: 0.0012645035749301314 | Testing Loss: 0.013801801018416882\n",
            "Epoch: 200 | Training Loss: 0.0012645035749301314 | Testing Loss: 0.013801801018416882\n",
            "Epoch: 210 | Training Loss: 0.0012645035749301314 | Testing Loss: 0.013801801018416882\n",
            "Epoch: 220 | Training Loss: 0.0012645035749301314 | Testing Loss: 0.013801801018416882\n",
            "Epoch: 230 | Training Loss: 0.0012645035749301314 | Testing Loss: 0.013801801018416882\n",
            "Epoch: 240 | Training Loss: 0.0012645035749301314 | Testing Loss: 0.013801801018416882\n",
            "Epoch: 250 | Training Loss: 0.0012645035749301314 | Testing Loss: 0.013801801018416882\n",
            "Epoch: 260 | Training Loss: 0.0012645035749301314 | Testing Loss: 0.013801801018416882\n",
            "Epoch: 270 | Training Loss: 0.0012645035749301314 | Testing Loss: 0.013801801018416882\n",
            "Epoch: 280 | Training Loss: 0.0012645035749301314 | Testing Loss: 0.013801801018416882\n",
            "Epoch: 290 | Training Loss: 0.0012645035749301314 | Testing Loss: 0.013801801018416882\n",
            "Epoch: 300 | Training Loss: 0.0012645035749301314 | Testing Loss: 0.013801801018416882\n",
            "Epoch: 310 | Training Loss: 0.0012645035749301314 | Testing Loss: 0.013801801018416882\n",
            "Epoch: 320 | Training Loss: 0.0012645035749301314 | Testing Loss: 0.013801801018416882\n",
            "Epoch: 330 | Training Loss: 0.0012645035749301314 | Testing Loss: 0.013801801018416882\n",
            "Epoch: 340 | Training Loss: 0.0012645035749301314 | Testing Loss: 0.013801801018416882\n",
            "Epoch: 350 | Training Loss: 0.0012645035749301314 | Testing Loss: 0.013801801018416882\n",
            "Epoch: 360 | Training Loss: 0.0012645035749301314 | Testing Loss: 0.013801801018416882\n",
            "Epoch: 370 | Training Loss: 0.0012645035749301314 | Testing Loss: 0.013801801018416882\n",
            "Epoch: 380 | Training Loss: 0.0012645035749301314 | Testing Loss: 0.013801801018416882\n",
            "Epoch: 390 | Training Loss: 0.0012645035749301314 | Testing Loss: 0.013801801018416882\n",
            "Epoch: 400 | Training Loss: 0.0012645035749301314 | Testing Loss: 0.013801801018416882\n",
            "Epoch: 410 | Training Loss: 0.0012645035749301314 | Testing Loss: 0.013801801018416882\n",
            "Epoch: 420 | Training Loss: 0.0012645035749301314 | Testing Loss: 0.013801801018416882\n",
            "Epoch: 430 | Training Loss: 0.0012645035749301314 | Testing Loss: 0.013801801018416882\n",
            "Epoch: 440 | Training Loss: 0.0012645035749301314 | Testing Loss: 0.013801801018416882\n",
            "Epoch: 450 | Training Loss: 0.0012645035749301314 | Testing Loss: 0.013801801018416882\n",
            "Epoch: 460 | Training Loss: 0.0012645035749301314 | Testing Loss: 0.013801801018416882\n",
            "Epoch: 470 | Training Loss: 0.0012645035749301314 | Testing Loss: 0.013801801018416882\n",
            "Epoch: 480 | Training Loss: 0.0012645035749301314 | Testing Loss: 0.013801801018416882\n",
            "Epoch: 490 | Training Loss: 0.0012645035749301314 | Testing Loss: 0.013801801018416882\n"
          ]
        }
      ]
    },
    {
      "cell_type": "code",
      "source": [
        "finalModel.state_dict()"
      ],
      "metadata": {
        "colab": {
          "base_uri": "https://localhost:8080/"
        },
        "id": "MZbMIkuol4iq",
        "outputId": "2d230101-3e75-4843-dfb3-2157c8872e61"
      },
      "execution_count": null,
      "outputs": [
        {
          "output_type": "execute_result",
          "data": {
            "text/plain": [
              "OrderedDict([('linear_layer.weight', tensor([[0.6968]], device='cuda:0')),\n",
              "             ('linear_layer.bias', tensor([0.3025], device='cuda:0'))])"
            ]
          },
          "metadata": {},
          "execution_count": 44
        }
      ]
    },
    {
      "cell_type": "code",
      "source": [
        "plot_predictions(predictions=torch.Tensor.cpu(predTest))"
      ],
      "metadata": {
        "colab": {
          "base_uri": "https://localhost:8080/",
          "height": 599
        },
        "id": "8Y46vIwAmAr1",
        "outputId": "2eb4ad8c-3135-40c4-b155-78f6f96ba4a8"
      },
      "execution_count": null,
      "outputs": [
        {
          "output_type": "display_data",
          "data": {
            "text/plain": [
              "<Figure size 1000x700 with 1 Axes>"
            ],
            "image/png": "[encoded data removed]"
          },
          "metadata": {}
        }
      ]
    },
    {
      "cell_type": "code",
      "source": [
        "plt.plot(epoch_count, torch.tensor(train_losses), label='Train Loss')\n",
        "plt.plot(epoch_count, torch.tensor(test_losses), label='Test Loss')\n",
        "plt.title('Training and Testing Loss Curves')\n",
        "plt.xlabel('Epochs')\n",
        "plt.ylabel('Loss')\n",
        "plt.legend();"
      ],
      "metadata": {
        "colab": {
          "base_uri": "https://localhost:8080/",
          "height": 472
        },
        "id": "us7PaGDji7jE",
        "outputId": "d8bbe101-e076-430b-89a5-58c054d36a4d"
      },
      "execution_count": null,
      "outputs": [
        {
          "output_type": "display_data",
          "data": {
            "text/plain": [
              "<Figure size 640x480 with 1 Axes>"
            ],
            "image/png": "[encoded data removed]"
          },
          "metadata": {}
        }
      ]
    },
    {
      "cell_type": "markdown",
      "source": [
        "### 6.5 Saving our Model"
      ],
      "metadata": {
        "id": "PRk4YlGCuPUe"
      }
    },
    {
      "cell_type": "code",
      "source": [
        "from pathlib import Path\n",
        "\n",
        "# 1. Create models directory if it already doesn't exist.\n",
        "MODEL_PATH = Path(\"models\")\n",
        "MODEL_PATH.mkdir(parents=True, exist_ok=True)\n",
        "\n",
        "# 2. Create model save path\n",
        "MODEL_NAME = \"01_pytorch_workflow_model_1.pth\"\n",
        "MODEL_SAVE_PATH = MODEL_PATH / MODEL_NAME\n",
        "\n",
        "# 3. Saving the model to the path created\n",
        "print(f'Saving model to {MODEL_SAVE_PATH}')\n",
        "torch.save(obj=finalModel.state_dict(),\n",
        "           f = MODEL_SAVE_PATH)"
      ],
      "metadata": {
        "colab": {
          "base_uri": "https://localhost:8080/"
        },
        "id": "IhWuiwhruKhf",
        "outputId": "24f92bdb-bdd0-405d-904c-d057b7def142"
      },
      "execution_count": null,
      "outputs": [
        {
          "output_type": "stream",
          "name": "stdout",
          "text": [
            "Saving model to models/01_pytorch_workflow_model_1.pth\n"
          ]
        }
      ]
    },
    {
      "cell_type": "code",
      "source": [
        "# Creating a new instance of model to load the model\n",
        "finalModelv1 = LinearRegression()\n",
        "finalModelv1.load_state_dict(torch.load(MODEL_SAVE_PATH))\n",
        "finalModelv1.to(device)\n",
        "\n",
        "print(f'Loaded model :\\n {finalModelv1}')\n",
        "print(f'Model Device :\\n {next(finalModelv1.parameters()).device}')"
      ],
      "metadata": {
        "colab": {
          "base_uri": "https://localhost:8080/"
        },
        "id": "2TWFxU4AvnTU",
        "outputId": "03d3534b-49a5-48b8-a5c2-65d2a46f77fc"
      },
      "execution_count": null,
      "outputs": [
        {
          "output_type": "stream",
          "name": "stdout",
          "text": [
            "Loaded model :\n",
            " LinearRegression(\n",
            "  (linear_layer): Linear(in_features=1, out_features=1, bias=True)\n",
            ")\n",
            "Model Device :\n",
            " cuda:0\n"
          ]
        }
      ]
    },
    {
      "cell_type": "code",
      "source": [
        "# Evaluate loaded model\n",
        "finalModelv1.eval()\n",
        "with torch.inference_mode():\n",
        "  predNew = finalModelv1(X_test)\n",
        "\n",
        "# Checking if it makes the same predictions.\n",
        "predTest == predNew"
      ],
      "metadata": {
        "id": "DNWTgUjx81xd",
        "colab": {
          "base_uri": "https://localhost:8080/"
        },
        "outputId": "75ac125d-37cf-4a7e-f913-bb7d727a39f4"
      },
      "execution_count": null,
      "outputs": [
        {
          "output_type": "execute_result",
          "data": {
            "text/plain": [
              "tensor([[True],\n",
              "        [True],\n",
              "        [True],\n",
              "        [True],\n",
              "        [True],\n",
              "        [True],\n",
              "        [True],\n",
              "        [True],\n",
              "        [True],\n",
              "        [True]], device='cuda:0')"
            ]
          },
          "metadata": {},
          "execution_count": 49
        }
      ]
    },
    {
      "cell_type": "markdown",
      "source": [
        "## Exercises -\n",
        "\n",
        "1. Create a straight line dataset using the linear regression formula (weight * X + bias).\n",
        "* Set weight=0.3 and bias=0.9 there should be at least 100 datapoints total.\n",
        "* Split the data into 80% training, 20% testing.\n",
        "* Plot the training and testing data so it becomes visual.\n",
        "2. Build a PyTorch model by subclassing nn.Module.\n",
        "* Inside should be a randomly initialized nn.Parameter() with requires_grad=True, one for weights and one for bias.\n",
        "* Implement the forward() method to compute the linear regression function you used to create the dataset in 1.\n",
        "* Once you've constructed the model, make an instance of it and check its state_dict().\n",
        "* Note: If you'd like to use nn.Linear() instead of nn.Parameter() you can.\n",
        "3. Create a loss function and optimizer using nn.L1Loss() and torch.optim.SGD(params, lr) respectively.\n",
        "* Set the learning rate of the optimizer to be 0.01 and the parameters to optimize should be the model parameters from the model you created in 2.\n",
        "* Write a training loop to perform the appropriate training steps for 300 epochs.\n",
        "* The training loop should test the model on the test dataset every 20 epochs.\n",
        "4. Make predictions with the trained model on the test data.\n",
        "* Visualize these predictions against the original training and testing data (note: you may need to make sure the predictions are not on the GPU if you want to use non-CUDA-enabled libraries such as matplotlib to plot).\n",
        "5. Save your trained model's state_dict() to file.\n",
        "* Create a new instance of your model class you made in 2. and load in the state_dict() you just saved to it.\n",
        "* Perform predictions on your test data with the loaded model and confirm they match the original model predictions from 4."
      ],
      "metadata": {
        "id": "tB7fAt3Kc9PT"
      }
    },
    {
      "cell_type": "code",
      "source": [
        "import torch\n",
        "from torch import nn\n",
        "import numpy as np\n",
        "import matplotlib.pyplot as plt\n",
        "from sklearn.model_selection import train_test_split\n",
        "\n",
        "print(torch.__version__)"
      ],
      "metadata": {
        "colab": {
          "base_uri": "https://localhost:8080/"
        },
        "id": "6ZjbTZFXdine",
        "outputId": "b8c6959d-9d63-46f7-8e3c-d4ad5dcef6c2"
      },
      "execution_count": 33,
      "outputs": [
        {
          "output_type": "stream",
          "name": "stdout",
          "text": [
            "2.1.0+cu121\n"
          ]
        }
      ]
    },
    {
      "cell_type": "code",
      "source": [
        "# Setup device agnostic code\n",
        "device = 'cuda' if torch.cuda.is_available() else 'cpu'\n",
        "torch.set_default_device(device)"
      ],
      "metadata": {
        "id": "yltHSdpJghth"
      },
      "execution_count": 34,
      "outputs": []
    },
    {
      "cell_type": "code",
      "source": [
        "# 1. Creating the data.\n",
        "weight = 0.3\n",
        "bias = 0.9\n",
        "\n",
        "X = np.arange(0,10,0.1)\n",
        "y = X*weight + bias\n",
        "\n",
        "X_train, X_test, y_train, y_test = train_test_split(X, y, train_size=0.8)\n",
        "\n",
        "X_train[:10], y_train[:10]"
      ],
      "metadata": {
        "colab": {
          "base_uri": "https://localhost:8080/"
        },
        "id": "-qj78K7odcHA",
        "outputId": "ddf043dc-d3fb-4546-9e7d-8253c3f0977c"
      },
      "execution_count": 35,
      "outputs": [
        {
          "output_type": "execute_result",
          "data": {
            "text/plain": [
              "(array([4.3, 3.9, 5.3, 1.7, 9.8, 6.6, 8.3, 7.8, 9.6, 4. ]),\n",
              " array([2.19, 2.07, 2.49, 1.41, 3.84, 2.88, 3.39, 3.24, 3.78, 2.1 ]))"
            ]
          },
          "metadata": {},
          "execution_count": 35
        }
      ]
    },
    {
      "cell_type": "code",
      "source": [
        "# Converting data to tensors\n",
        "X_train = torch.from_numpy(X_train).unsqueeze(dim=1)\n",
        "y_train = torch.from_numpy(y_train).unsqueeze(dim=1)\n",
        "X_test = torch.from_numpy(X_test).unsqueeze(dim=1)\n",
        "y_test = torch.from_numpy(y_test).unsqueeze(dim=1)\n",
        "\n",
        "X_test, y_test"
      ],
      "metadata": {
        "colab": {
          "base_uri": "https://localhost:8080/"
        },
        "id": "92VX-dxKeJcR",
        "outputId": "f987916c-e11d-467f-9422-fad95d4d2138"
      },
      "execution_count": 36,
      "outputs": [
        {
          "output_type": "execute_result",
          "data": {
            "text/plain": [
              "(tensor([[6.9000],\n",
              "         [5.2000],\n",
              "         [5.0000],\n",
              "         [4.5000],\n",
              "         [3.5000],\n",
              "         [2.1000],\n",
              "         [1.2000],\n",
              "         [8.5000],\n",
              "         [2.6000],\n",
              "         [1.5000],\n",
              "         [5.9000],\n",
              "         [9.9000],\n",
              "         [6.1000],\n",
              "         [3.2000],\n",
              "         [4.1000],\n",
              "         [7.9000],\n",
              "         [5.1000],\n",
              "         [6.5000],\n",
              "         [2.7000],\n",
              "         [1.0000]], dtype=torch.float64),\n",
              " tensor([[2.9700],\n",
              "         [2.4600],\n",
              "         [2.4000],\n",
              "         [2.2500],\n",
              "         [1.9500],\n",
              "         [1.5300],\n",
              "         [1.2600],\n",
              "         [3.4500],\n",
              "         [1.6800],\n",
              "         [1.3500],\n",
              "         [2.6700],\n",
              "         [3.8700],\n",
              "         [2.7300],\n",
              "         [1.8600],\n",
              "         [2.1300],\n",
              "         [3.2700],\n",
              "         [2.4300],\n",
              "         [2.8500],\n",
              "         [1.7100],\n",
              "         [1.2000]], dtype=torch.float64))"
            ]
          },
          "metadata": {},
          "execution_count": 36
        }
      ]
    },
    {
      "cell_type": "code",
      "source": [
        "def plotData(train_data = X_train, train_labels = y_train,\n",
        "             test_data = X_test, test_labels = y_test,\n",
        "             predictions = None):\n",
        "\n",
        "  plt.figure(figsize=(10,7))\n",
        "\n",
        "  plt.scatter(train_data, train_labels, s=2, c='b', marker='x')\n",
        "  plt.scatter(test_data, test_labels, s=2, c='g', marker='x')\n",
        "  plt.title('Generated Data')\n",
        "  plt.xlabel('X values')\n",
        "  plt.ylabel('y values')\n",
        "\n",
        "  if predictions!=None:\n",
        "    plt.scatter(X_test, predictions, s=2, c='r', marker='x')\n",
        "\n",
        "  plt.show()\n",
        "\n",
        "plotData()"
      ],
      "metadata": {
        "colab": {
          "base_uri": "https://localhost:8080/",
          "height": 641
        },
        "id": "8seXOC-vhoS3",
        "outputId": "3ac9644c-f0ad-46cd-d563-4478ddec1237"
      },
      "execution_count": 37,
      "outputs": [
        {
          "output_type": "display_data",
          "data": {
            "text/plain": [
              "<Figure size 1000x700 with 1 Axes>"
            ],
            "image/png": "[encoded data removed]"
          },
          "metadata": {}
        }
      ]
    },
    {
      "cell_type": "code",
      "source": [
        "class LinearModel(nn.Module):\n",
        "  def __init__(self):\n",
        "    super().__init__()\n",
        "\n",
        "    # Initializing params\n",
        "    self.weight = nn.Parameter(torch.randn(1),\n",
        "                               requires_grad=True)\n",
        "\n",
        "    self.bias = nn.Parameter(torch.randn(1),\n",
        "                             requires_grad=True)\n",
        "\n",
        "  def forward(self, x: torch.Tensor) -> torch.Tensor:\n",
        "    return x * self.weight + self.bias"
      ],
      "metadata": {
        "id": "MOfX70NnjDkt"
      },
      "execution_count": 38,
      "outputs": []
    },
    {
      "cell_type": "code",
      "source": [
        "newModel = LinearModel()\n",
        "print(newModel.state_dict())"
      ],
      "metadata": {
        "colab": {
          "base_uri": "https://localhost:8080/"
        },
        "id": "0OfgRn8vmSro",
        "outputId": "8a7e0929-580b-4db5-dfb9-2c2dfbadfc91"
      },
      "execution_count": 42,
      "outputs": [
        {
          "output_type": "stream",
          "name": "stdout",
          "text": [
            "OrderedDict([('weight', tensor([-0.7039])), ('bias', tensor([0.7980]))])\n"
          ]
        }
      ]
    },
    {
      "cell_type": "code",
      "source": [
        "loss_fn = nn.L1Loss()\n",
        "optimizer = torch.optim.SGD(params=newModel.parameters(),\n",
        "                            lr=0.01)"
      ],
      "metadata": {
        "id": "6NOPLWZFmcjc"
      },
      "execution_count": 43,
      "outputs": []
    },
    {
      "cell_type": "code",
      "source": [
        "# Training and Testing Loop\n",
        "epochs = 300\n",
        "epoch_count = []\n",
        "train_losses = []\n",
        "test_losses = []\n",
        "\n",
        "for epoch in range(epochs):\n",
        "\n",
        "  # Training mode for model\n",
        "  newModel.train()\n",
        "\n",
        "  preds = newModel(X_train)\n",
        "\n",
        "  loss = loss_fn(preds, y_train)\n",
        "\n",
        "  optimizer.zero_grad()\n",
        "\n",
        "  loss.backward()\n",
        "\n",
        "  optimizer.step()\n",
        "\n",
        "\n",
        "  newModel.eval()\n",
        "  # Testing every 20 epochs\n",
        "  if epoch%20 == 0:\n",
        "    epoch_count.append(epoch)\n",
        "    with torch.inference_mode():\n",
        "      test_preds = newModel(X_test)\n",
        "      test_loss = loss_fn(test_preds, y_test)\n",
        "      train_losses.append(loss)\n",
        "      test_losses.append(test_loss)\n",
        "\n",
        "\n",
        "    print(f'Epoch: {epoch} | Training Loss: {loss} | Testing Loss: {test_loss}')"
      ],
      "metadata": {
        "colab": {
          "base_uri": "https://localhost:8080/"
        },
        "id": "-HdS94WHnBg0",
        "outputId": "ea615517-641c-44d7-95b2-dd9739839763"
      },
      "execution_count": 44,
      "outputs": [
        {
          "output_type": "stream",
          "name": "stdout",
          "text": [
            "Epoch: 0 | Training Loss: 5.14136447763443 | Testing Loss: 4.545579080343247\n",
            "Epoch: 20 | Training Loss: 0.07164385282993327 | Testing Loss: 0.17555549845099447\n",
            "Epoch: 40 | Training Loss: 0.032850278258323796 | Testing Loss: 0.20961971095204351\n",
            "Epoch: 60 | Training Loss: 0.07950529301166545 | Testing Loss: 0.16785590595006944\n",
            "Epoch: 80 | Training Loss: 0.051196061611175625 | Testing Loss: 0.19511518216133114\n",
            "Epoch: 100 | Training Loss: 0.040808585524559036 | Testing Loss: 0.20526647335290904\n",
            "Epoch: 120 | Training Loss: 0.036056648135185346 | Testing Loss: 0.20996596461534503\n",
            "Epoch: 140 | Training Loss: 0.03355682933330546 | Testing Loss: 0.2124657834172249\n",
            "Epoch: 160 | Training Loss: 0.03255690181255351 | Testing Loss: 0.21346571093797687\n",
            "Epoch: 180 | Training Loss: 0.03255690181255351 | Testing Loss: 0.21346571093797687\n",
            "Epoch: 200 | Training Loss: 0.03255690181255351 | Testing Loss: 0.21346571093797687\n",
            "Epoch: 220 | Training Loss: 0.03255690181255351 | Testing Loss: 0.21346571093797687\n",
            "Epoch: 240 | Training Loss: 0.03255690181255351 | Testing Loss: 0.21346571093797687\n",
            "Epoch: 260 | Training Loss: 0.03255690181255351 | Testing Loss: 0.21346571093797687\n",
            "Epoch: 280 | Training Loss: 0.03255690181255351 | Testing Loss: 0.21346571093797687\n"
          ]
        }
      ]
    },
    {
      "cell_type": "code",
      "source": [
        "print(list(newModel.parameters()))"
      ],
      "metadata": {
        "colab": {
          "base_uri": "https://localhost:8080/"
        },
        "id": "D0CPHfDypNCC",
        "outputId": "ac6f9509-d4c9-4867-c89c-009991f4f2df"
      },
      "execution_count": 45,
      "outputs": [
        {
          "output_type": "stream",
          "name": "stdout",
          "text": [
            "[Parameter containing:\n",
            "tensor([0.3045], requires_grad=True), Parameter containing:\n",
            "tensor([0.9098], requires_grad=True)]\n"
          ]
        }
      ]
    },
    {
      "cell_type": "code",
      "source": [
        "newModel.eval()\n",
        "with torch.inference_mode():\n",
        "  test_predictions = newModel(X_test)\n",
        "\n",
        "plotData(predictions=test_predictions)"
      ],
      "metadata": {
        "colab": {
          "base_uri": "https://localhost:8080/",
          "height": 641
        },
        "id": "Gj-zX7jspSHh",
        "outputId": "e4e58ea9-eaf9-41eb-af00-e8c65c58ffe0"
      },
      "execution_count": 46,
      "outputs": [
        {
          "output_type": "display_data",
          "data": {
            "text/plain": [
              "<Figure size 1000x700 with 1 Axes>"
            ],
            "image/png": "[encoded data removed]"
          },
          "metadata": {}
        }
      ]
    },
    {
      "cell_type": "code",
      "source": [
        "# Saving the model\n",
        "from pathlib import Path\n",
        "\n",
        "MODEL_PATH = Path('models')\n",
        "MODEL_PATH.mkdir(parents=True, exist_ok=True)\n",
        "\n",
        "MODEL_NAME = 'exercise_model.pth'\n",
        "MODEL_SAVE_PATH = MODEL_PATH / MODEL_NAME\n",
        "\n",
        "torch.save(obj=newModel.state_dict(),\n",
        "           f=MODEL_SAVE_PATH)"
      ],
      "metadata": {
        "id": "qheLNMapppF7"
      },
      "execution_count": 47,
      "outputs": []
    },
    {
      "cell_type": "code",
      "source": [
        "exModel = LinearModel()\n",
        "exModel.load_state_dict(torch.load(f=MODEL_SAVE_PATH))\n",
        "print(exModel.state_dict())"
      ],
      "metadata": {
        "colab": {
          "base_uri": "https://localhost:8080/"
        },
        "id": "Ml-HCA2WrI-Z",
        "outputId": "9d06af5c-12e7-48fb-f2cb-728840a40c52"
      },
      "execution_count": 49,
      "outputs": [
        {
          "output_type": "stream",
          "name": "stdout",
          "text": [
            "OrderedDict([('weight', tensor([0.3045])), ('bias', tensor([0.9098]))])\n"
          ]
        }
      ]
    },
    {
      "cell_type": "code",
      "source": [
        "# Making predictions with new model and checking if they are equal to first model's predictions\n",
        "loadedPreds = exModel(X_test)\n",
        "loadedPreds == test_predictions"
      ],
      "metadata": {
        "colab": {
          "base_uri": "https://localhost:8080/"
        },
        "id": "ANpBuJNwrfh-",
        "outputId": "d14f677d-e831-49e3-dc7c-12e2ed129817"
      },
      "execution_count": 50,
      "outputs": [
        {
          "output_type": "execute_result",
          "data": {
            "text/plain": [
              "tensor([[True],\n",
              "        [True],\n",
              "        [True],\n",
              "        [True],\n",
              "        [True],\n",
              "        [True],\n",
              "        [True],\n",
              "        [True],\n",
              "        [True],\n",
              "        [True],\n",
              "        [True],\n",
              "        [True],\n",
              "        [True],\n",
              "        [True],\n",
              "        [True],\n",
              "        [True],\n",
              "        [True],\n",
              "        [True],\n",
              "        [True],\n",
              "        [True]])"
            ]
          },
          "metadata": {},
          "execution_count": 50
        }
      ]
    }
  ]
}