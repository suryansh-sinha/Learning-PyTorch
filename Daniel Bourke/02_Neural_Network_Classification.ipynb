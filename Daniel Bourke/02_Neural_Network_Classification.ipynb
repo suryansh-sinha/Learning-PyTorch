{
  "nbformat": 4,
  "nbformat_minor": 0,
  "metadata": {
    "colab": {
      "provenance": []
    },
    "kernelspec": {
      "name": "python3",
      "display_name": "Python 3"
    },
    "language_info": {
      "name": "python"
    },
    "accelerator": "GPU",
    "gpuClass": "standard"
  },
  "cells": [
    {
      "cell_type": "markdown",
      "source": [
        "# 1. Making classification data and getting it ready"
      ],
      "metadata": {
        "id": "QkEfsA69-X7m"
      }
    },
    {
      "cell_type": "code",
      "source": [
        "import sklearn\n",
        "from sklearn.datasets import make_circles"
      ],
      "metadata": {
        "id": "qHEblHFlBn10"
      },
      "execution_count": 1,
      "outputs": []
    },
    {
      "cell_type": "code",
      "source": [
        "# Make 1000 samples.\n",
        "n_samples = 1000\n",
        "\n",
        "# Create circles\n",
        "X, y = make_circles(n_samples,\n",
        "                    noise=0.03,\n",
        "                    random_state=42)"
      ],
      "metadata": {
        "id": "Kz-4pJCIBrQ7"
      },
      "execution_count": 2,
      "outputs": []
    },
    {
      "cell_type": "markdown",
      "source": [
        "The make circles dataset is a binary classification problem. X contains 2 features which indicate the location of a point. The make circles dataset creates 2 circles from many points. We have to classify our points if they belong to one circle or the other."
      ],
      "metadata": {
        "id": "7THcMJRjB2Ad"
      }
    },
    {
      "cell_type": "code",
      "source": [
        "len(X), len(y)"
      ],
      "metadata": {
        "colab": {
          "base_uri": "https://localhost:8080/"
        },
        "id": "eBEA98DUCITn",
        "outputId": "43ed2507-a542-47ad-b83c-210204774c19"
      },
      "execution_count": 3,
      "outputs": [
        {
          "output_type": "execute_result",
          "data": {
            "text/plain": [
              "(1000, 1000)"
            ]
          },
          "metadata": {},
          "execution_count": 3
        }
      ]
    },
    {
      "cell_type": "code",
      "source": [
        "print(type(X), type(y))"
      ],
      "metadata": {
        "colab": {
          "base_uri": "https://localhost:8080/"
        },
        "id": "WiuSSHhsFIPz",
        "outputId": "ccca0584-da66-4063-cd08-e43af04ab45f"
      },
      "execution_count": 4,
      "outputs": [
        {
          "output_type": "stream",
          "name": "stdout",
          "text": [
            "<class 'numpy.ndarray'> <class 'numpy.ndarray'>\n"
          ]
        }
      ]
    },
    {
      "cell_type": "code",
      "source": [
        "print(f'First 5 samples of X:\\n {X[:5]}')\n",
        "print(f'First 5 samples of y:\\n {y[:5]}')"
      ],
      "metadata": {
        "colab": {
          "base_uri": "https://localhost:8080/"
        },
        "id": "665KKiO5CK47",
        "outputId": "92dada90-c726-414b-cac4-16f168cc4709"
      },
      "execution_count": 5,
      "outputs": [
        {
          "output_type": "stream",
          "name": "stdout",
          "text": [
            "First 5 samples of X:\n",
            " [[ 0.75424625  0.23148074]\n",
            " [-0.75615888  0.15325888]\n",
            " [-0.81539193  0.17328203]\n",
            " [-0.39373073  0.69288277]\n",
            " [ 0.44220765 -0.89672343]]\n",
            "First 5 samples of y:\n",
            " [1 1 1 1 0]\n"
          ]
        }
      ]
    },
    {
      "cell_type": "code",
      "source": [
        "# Make dataframe of the circle data\n",
        "import pandas as pd\n",
        "circles = pd.DataFrame({'X1': X[:, 0],\n",
        "                        'X2': X[:, 1],\n",
        "                        'label': y})\n",
        "circles.head(10)"
      ],
      "metadata": {
        "colab": {
          "base_uri": "https://localhost:8080/",
          "height": 359
        },
        "id": "Zsxe4AcbCSQA",
        "outputId": "6d916017-28d5-4291-96ca-52b6df61cdcb"
      },
      "execution_count": 6,
      "outputs": [
        {
          "output_type": "execute_result",
          "data": {
            "text/plain": [
              "         X1        X2  label\n",
              "0  0.754246  0.231481      1\n",
              "1 -0.756159  0.153259      1\n",
              "2 -0.815392  0.173282      1\n",
              "3 -0.393731  0.692883      1\n",
              "4  0.442208 -0.896723      0\n",
              "5 -0.479646  0.676435      1\n",
              "6 -0.013648  0.803349      1\n",
              "7  0.771513  0.147760      1\n",
              "8 -0.169322 -0.793456      1\n",
              "9 -0.121486  1.021509      0"
            ],
            "text/html": [
              "\n",
              "  <div id=\"df-4fdfa82c-3b1d-4814-b4e3-8f8447863035\">\n",
              "    <div class=\"colab-df-container\">\n",
              "      <div>\n",
              "<style scoped>\n",
              "    .dataframe tbody tr th:only-of-type {\n",
              "        vertical-align: middle;\n",
              "    }\n",
              "\n",
              "    .dataframe tbody tr th {\n",
              "        vertical-align: top;\n",
              "    }\n",
              "\n",
              "    .dataframe thead th {\n",
              "        text-align: right;\n",
              "    }\n",
              "</style>\n",
              "<table border=\"1\" class=\"dataframe\">\n",
              "  <thead>\n",
              "    <tr style=\"text-align: right;\">\n",
              "      <th></th>\n",
              "      <th>X1</th>\n",
              "      <th>X2</th>\n",
              "      <th>label</th>\n",
              "    </tr>\n",
              "  </thead>\n",
              "  <tbody>\n",
              "    <tr>\n",
              "      <th>0</th>\n",
              "      <td>0.754246</td>\n",
              "      <td>0.231481</td>\n",
              "      <td>1</td>\n",
              "    </tr>\n",
              "    <tr>\n",
              "      <th>1</th>\n",
              "      <td>-0.756159</td>\n",
              "      <td>0.153259</td>\n",
              "      <td>1</td>\n",
              "    </tr>\n",
              "    <tr>\n",
              "      <th>2</th>\n",
              "      <td>-0.815392</td>\n",
              "      <td>0.173282</td>\n",
              "      <td>1</td>\n",
              "    </tr>\n",
              "    <tr>\n",
              "      <th>3</th>\n",
              "      <td>-0.393731</td>\n",
              "      <td>0.692883</td>\n",
              "      <td>1</td>\n",
              "    </tr>\n",
              "    <tr>\n",
              "      <th>4</th>\n",
              "      <td>0.442208</td>\n",
              "      <td>-0.896723</td>\n",
              "      <td>0</td>\n",
              "    </tr>\n",
              "    <tr>\n",
              "      <th>5</th>\n",
              "      <td>-0.479646</td>\n",
              "      <td>0.676435</td>\n",
              "      <td>1</td>\n",
              "    </tr>\n",
              "    <tr>\n",
              "      <th>6</th>\n",
              "      <td>-0.013648</td>\n",
              "      <td>0.803349</td>\n",
              "      <td>1</td>\n",
              "    </tr>\n",
              "    <tr>\n",
              "      <th>7</th>\n",
              "      <td>0.771513</td>\n",
              "      <td>0.147760</td>\n",
              "      <td>1</td>\n",
              "    </tr>\n",
              "    <tr>\n",
              "      <th>8</th>\n",
              "      <td>-0.169322</td>\n",
              "      <td>-0.793456</td>\n",
              "      <td>1</td>\n",
              "    </tr>\n",
              "    <tr>\n",
              "      <th>9</th>\n",
              "      <td>-0.121486</td>\n",
              "      <td>1.021509</td>\n",
              "      <td>0</td>\n",
              "    </tr>\n",
              "  </tbody>\n",
              "</table>\n",
              "</div>\n",
              "      <button class=\"colab-df-convert\" onclick=\"convertToInteractive('df-4fdfa82c-3b1d-4814-b4e3-8f8447863035')\"\n",
              "              title=\"Convert this dataframe to an interactive table.\"\n",
              "              style=\"display:none;\">\n",
              "        \n",
              "  <svg xmlns=\"http://www.w3.org/2000/svg\" height=\"24px\"viewBox=\"0 0 24 24\"\n",
              "       width=\"24px\">\n",
              "    <path d=\"M0 0h24v24H0V0z\" fill=\"none\"/>\n",
              "    <path d=\"M18.56 5.44l.94 2.06.94-2.06 2.06-.94-2.06-.94-.94-2.06-.94 2.06-2.06.94zm-11 1L8.5 8.5l.94-2.06 2.06-.94-2.06-.94L8.5 2.5l-.94 2.06-2.06.94zm10 10l.94 2.06.94-2.06 2.06-.94-2.06-.94-.94-2.06-.94 2.06-2.06.94z\"/><path d=\"M17.41 7.96l-1.37-1.37c-.4-.4-.92-.59-1.43-.59-.52 0-1.04.2-1.43.59L10.3 9.45l-7.72 7.72c-.78.78-.78 2.05 0 2.83L4 21.41c.39.39.9.59 1.41.59.51 0 1.02-.2 1.41-.59l7.78-7.78 2.81-2.81c.8-.78.8-2.07 0-2.86zM5.41 20L4 18.59l7.72-7.72 1.47 1.35L5.41 20z\"/>\n",
              "  </svg>\n",
              "      </button>\n",
              "      \n",
              "  <style>\n",
              "    .colab-df-container {\n",
              "      display:flex;\n",
              "      flex-wrap:wrap;\n",
              "      gap: 12px;\n",
              "    }\n",
              "\n",
              "    .colab-df-convert {\n",
              "      background-color: #E8F0FE;\n",
              "      border: none;\n",
              "      border-radius: 50%;\n",
              "      cursor: pointer;\n",
              "      display: none;\n",
              "      fill: #1967D2;\n",
              "      height: 32px;\n",
              "      padding: 0 0 0 0;\n",
              "      width: 32px;\n",
              "    }\n",
              "\n",
              "    .colab-df-convert:hover {\n",
              "      background-color: #E2EBFA;\n",
              "      box-shadow: 0px 1px 2px rgba(60, 64, 67, 0.3), 0px 1px 3px 1px rgba(60, 64, 67, 0.15);\n",
              "      fill: #174EA6;\n",
              "    }\n",
              "\n",
              "    [theme=dark] .colab-df-convert {\n",
              "      background-color: #3B4455;\n",
              "      fill: #D2E3FC;\n",
              "    }\n",
              "\n",
              "    [theme=dark] .colab-df-convert:hover {\n",
              "      background-color: #434B5C;\n",
              "      box-shadow: 0px 1px 3px 1px rgba(0, 0, 0, 0.15);\n",
              "      filter: drop-shadow(0px 1px 2px rgba(0, 0, 0, 0.3));\n",
              "      fill: #FFFFFF;\n",
              "    }\n",
              "  </style>\n",
              "\n",
              "      <script>\n",
              "        const buttonEl =\n",
              "          document.querySelector('#df-4fdfa82c-3b1d-4814-b4e3-8f8447863035 button.colab-df-convert');\n",
              "        buttonEl.style.display =\n",
              "          google.colab.kernel.accessAllowed ? 'block' : 'none';\n",
              "\n",
              "        async function convertToInteractive(key) {\n",
              "          const element = document.querySelector('#df-4fdfa82c-3b1d-4814-b4e3-8f8447863035');\n",
              "          const dataTable =\n",
              "            await google.colab.kernel.invokeFunction('convertToInteractive',\n",
              "                                                     [key], {});\n",
              "          if (!dataTable) return;\n",
              "\n",
              "          const docLinkHtml = 'Like what you see? Visit the ' +\n",
              "            '<a target=\"_blank\" href=https://colab.research.google.com/notebooks/data_table.ipynb>data table notebook</a>'\n",
              "            + ' to learn more about interactive tables.';\n",
              "          element.innerHTML = '';\n",
              "          dataTable['output_type'] = 'display_data';\n",
              "          await google.colab.output.renderOutput(dataTable, element);\n",
              "          const docLink = document.createElement('div');\n",
              "          docLink.innerHTML = docLinkHtml;\n",
              "          element.appendChild(docLink);\n",
              "        }\n",
              "      </script>\n",
              "    </div>\n",
              "  </div>\n",
              "  "
            ]
          },
          "metadata": {},
          "execution_count": 6
        }
      ]
    },
    {
      "cell_type": "code",
      "source": [
        "# Visualizing to better understand the data.\n",
        "import matplotlib.pyplot as plt\n",
        "plt.scatter(x=X[:, 0],\n",
        "            y=X[:, 1],\n",
        "            c=y,  # labels as y.\n",
        "            cmap=plt.cm.RdYlBu)"
      ],
      "metadata": {
        "colab": {
          "base_uri": "https://localhost:8080/",
          "height": 282
        },
        "id": "fxp8KfP4Crmi",
        "outputId": "36d0703b-2b7f-45dd-faea-eb7fa982b653"
      },
      "execution_count": 7,
      "outputs": [
        {
          "output_type": "execute_result",
          "data": {
            "text/plain": [
              "<matplotlib.collections.PathCollection at 0x7f79e9ac24f0>"
            ]
          },
          "metadata": {},
          "execution_count": 7
        },
        {
          "output_type": "display_data",
          "data": {
            "text/plain": [
              "<Figure size 432x288 with 1 Axes>"
            ],
            "image/png": "[encoded data removed]"
          },
          "metadata": {
            "needs_background": "light"
          }
        }
      ]
    },
    {
      "cell_type": "markdown",
      "source": [
        "The type of dataset we're working on is what people a toy dataset. A dataset which is small enough to experiment but still sizeable enough to practice the fundamentals."
      ],
      "metadata": {
        "id": "CV_4ekITDkkd"
      }
    },
    {
      "cell_type": "markdown",
      "source": [
        "### 1.1 Check input and output shapes"
      ],
      "metadata": {
        "id": "0tCwSGPODGlM"
      }
    },
    {
      "cell_type": "code",
      "source": [
        "X.shape, y.shape"
      ],
      "metadata": {
        "colab": {
          "base_uri": "https://localhost:8080/"
        },
        "id": "Qksqny6HE6lS",
        "outputId": "52238cfa-4430-4bdc-8461-9e552cf7d169"
      },
      "execution_count": 8,
      "outputs": [
        {
          "output_type": "execute_result",
          "data": {
            "text/plain": [
              "((1000, 2), (1000,))"
            ]
          },
          "metadata": {},
          "execution_count": 8
        }
      ]
    },
    {
      "cell_type": "code",
      "source": [
        "# View the first example of features and labels\n",
        "X_sample = X[0]\n",
        "y_sample = y[0]\n",
        "\n",
        "print(f'Values for one sample of X: {X_sample} and the same for y: {y_sample}')\n",
        "print(f'Shape for 1 sample of X: {X_sample.shape} and the same for y: {y_sample.shape}')"
      ],
      "metadata": {
        "colab": {
          "base_uri": "https://localhost:8080/"
        },
        "id": "ymN1gZYDFMAp",
        "outputId": "f6e966f3-8ce3-4b53-b5da-a3177f6e511f"
      },
      "execution_count": 9,
      "outputs": [
        {
          "output_type": "stream",
          "name": "stdout",
          "text": [
            "Values for one sample of X: [0.75424625 0.23148074] and the same for y: 1\n",
            "Shape for 1 sample of X: (2,) and the same for y: ()\n"
          ]
        }
      ]
    },
    {
      "cell_type": "markdown",
      "source": [
        "y is a scalar. It doesn't have a dimension."
      ],
      "metadata": {
        "id": "EJnBlgUYFuTu"
      }
    },
    {
      "cell_type": "markdown",
      "source": [
        "### 1.2 Turn data into tensor and create train and test splits"
      ],
      "metadata": {
        "id": "qcawi-cUFllB"
      }
    },
    {
      "cell_type": "code",
      "source": [
        "import torch\n",
        "torch.__version__"
      ],
      "metadata": {
        "colab": {
          "base_uri": "https://localhost:8080/",
          "height": 35
        },
        "id": "qCjdkY8RF1EO",
        "outputId": "63a49666-814a-46c4-95bc-d7f007a1f3ec"
      },
      "execution_count": 10,
      "outputs": [
        {
          "output_type": "execute_result",
          "data": {
            "text/plain": [
              "'1.13.1+cu116'"
            ],
            "application/vnd.google.colaboratory.intrinsic+json": {
              "type": "string"
            }
          },
          "metadata": {},
          "execution_count": 10
        }
      ]
    },
    {
      "cell_type": "code",
      "source": [
        "X.dtype"
      ],
      "metadata": {
        "colab": {
          "base_uri": "https://localhost:8080/"
        },
        "id": "aDpKFVjwGKxu",
        "outputId": "5a55fdfd-10e6-4e07-dc73-0cae4be89f34"
      },
      "execution_count": 11,
      "outputs": [
        {
          "output_type": "execute_result",
          "data": {
            "text/plain": [
              "dtype('float64')"
            ]
          },
          "metadata": {},
          "execution_count": 11
        }
      ]
    },
    {
      "cell_type": "code",
      "source": [
        "# Split data into training and test splits.\n",
        "from sklearn.model_selection import train_test_split\n",
        "\n",
        "X_train, X_test, y_train, y_test = train_test_split(X, y,\n",
        "                                                    test_size=0.2,\n",
        "                                                    random_state=42)"
      ],
      "metadata": {
        "id": "G_71N0A01ktM"
      },
      "execution_count": 12,
      "outputs": []
    },
    {
      "cell_type": "code",
      "source": [
        "# Make device agnostic code.\n",
        "device = 'cuda' if torch.cuda.is_available() else 'mps' if torch.backends.mps.is_available() else 'cpu'\n",
        "device"
      ],
      "metadata": {
        "colab": {
          "base_uri": "https://localhost:8080/",
          "height": 35
        },
        "id": "QjK_QJCJ2CKv",
        "outputId": "bc9c5b37-f983-4544-f05e-8e07b244131f"
      },
      "execution_count": 13,
      "outputs": [
        {
          "output_type": "execute_result",
          "data": {
            "text/plain": [
              "'cuda'"
            ],
            "application/vnd.google.colaboratory.intrinsic+json": {
              "type": "string"
            }
          },
          "metadata": {},
          "execution_count": 13
        }
      ]
    },
    {
      "cell_type": "code",
      "source": [
        "from numpy import dtype\n",
        "X_train = torch.from_numpy(X_train).type(torch.float).to(device)\n",
        "X_test = torch.from_numpy(X_test).type(torch.float).to(device)\n",
        "y_train = torch.from_numpy(y_train).type(torch.float).to(device)\n",
        "y_test = torch.from_numpy(y_test).type(torch.float).to(device)"
      ],
      "metadata": {
        "id": "TteweOTgF6g-"
      },
      "execution_count": 14,
      "outputs": []
    },
    {
      "cell_type": "code",
      "source": [
        "type(X_test), X_train.dtype, y_test.dtype"
      ],
      "metadata": {
        "colab": {
          "base_uri": "https://localhost:8080/"
        },
        "id": "tIrf3xsTGP6B",
        "outputId": "f77e200f-1f0f-424b-da3a-1c3242e63390"
      },
      "execution_count": 15,
      "outputs": [
        {
          "output_type": "execute_result",
          "data": {
            "text/plain": [
              "(torch.Tensor, torch.float32, torch.float32)"
            ]
          },
          "metadata": {},
          "execution_count": 15
        }
      ]
    },
    {
      "cell_type": "code",
      "source": [
        "len(X_train), len(y_train)"
      ],
      "metadata": {
        "colab": {
          "base_uri": "https://localhost:8080/"
        },
        "id": "nqZDlWbxG8ei",
        "outputId": "a3cb138a-c5b6-4e88-9a45-e2e43f7c5e68"
      },
      "execution_count": 16,
      "outputs": [
        {
          "output_type": "execute_result",
          "data": {
            "text/plain": [
              "(800, 800)"
            ]
          },
          "metadata": {},
          "execution_count": 16
        }
      ]
    },
    {
      "cell_type": "markdown",
      "source": [
        "# 2. Building a model\n",
        "\n",
        "- Set up a device agnostic code\n",
        "- Construct a custom model\n",
        "- Define loss and optimizer"
      ],
      "metadata": {
        "id": "bQEhmH4_HW5x"
      }
    },
    {
      "cell_type": "code",
      "source": [
        "# Import PyTorch and nn\n",
        "import torch\n",
        "import torch.nn as nn"
      ],
      "metadata": {
        "id": "XvRxyBoiG_KL"
      },
      "execution_count": 17,
      "outputs": []
    },
    {
      "cell_type": "code",
      "source": [
        "X_train"
      ],
      "metadata": {
        "colab": {
          "base_uri": "https://localhost:8080/"
        },
        "id": "VbzZ71pKHbt8",
        "outputId": "d4334557-7e6d-4095-ebed-60cf0ba6dd16"
      },
      "execution_count": 18,
      "outputs": [
        {
          "output_type": "execute_result",
          "data": {
            "text/plain": [
              "tensor([[ 0.6579, -0.4651],\n",
              "        [ 0.6319, -0.7347],\n",
              "        [-1.0086, -0.1240],\n",
              "        ...,\n",
              "        [ 0.0157, -1.0300],\n",
              "        [ 1.0110,  0.1680],\n",
              "        [ 0.5578, -0.5709]], device='cuda:0')"
            ]
          },
          "metadata": {},
          "execution_count": 18
        }
      ]
    },
    {
      "cell_type": "markdown",
      "source": [
        "After setting up the device agnostic code, lets create a model that:\n",
        "1. Subclasses `nn.module`\n",
        "2. Create 2 `nn.Linear()` layers that are capable of handling the shapes of our data\n",
        "3. Defines a `forward()` method for the forward pass.\n",
        "4. Instantiate an instance of our model class and send it to the target `device`"
      ],
      "metadata": {
        "id": "nepNhwBsIDno"
      }
    },
    {
      "cell_type": "code",
      "source": [
        "# 1. Construct a model that subclasses nn.Module\n",
        "class CircleModelV0(nn.Module):\n",
        "  def __init__(self):\n",
        "    super().__init__()\n",
        "\n",
        "    # 2. Create 2 nn.Linear() layers capable of handling the shapes of our data.\n",
        "    self.layer1 = nn.Linear(2, 5)\n",
        "    self.relu = nn.ReLU()\n",
        "    self.layer2 = nn.Linear(5, 1)\n",
        "    self.sigmoid = nn.Sigmoid()\n",
        "\n",
        "  # 3. Define the forward() method for our model\n",
        "  def forward(self, x):\n",
        "    output = self.sigmoid(self.layer2(self.relu(self.layer1(x))))\n",
        "    return output\n",
        "\n",
        "# 4. Instantiate the model of our class.\n",
        "model_0 = CircleModelV0().to(device)\n",
        "model_0"
      ],
      "metadata": {
        "colab": {
          "base_uri": "https://localhost:8080/"
        },
        "id": "l5Xkp5xNIqLS",
        "outputId": "60582626-f36a-4e26-da07-f14a603fb9d2"
      },
      "execution_count": 19,
      "outputs": [
        {
          "output_type": "execute_result",
          "data": {
            "text/plain": [
              "CircleModelV0(\n",
              "  (layer1): Linear(in_features=2, out_features=5, bias=True)\n",
              "  (relu): ReLU()\n",
              "  (layer2): Linear(in_features=5, out_features=1, bias=True)\n",
              "  (sigmoid): Sigmoid()\n",
              ")"
            ]
          },
          "metadata": {},
          "execution_count": 19
        }
      ]
    },
    {
      "cell_type": "code",
      "source": [
        "next(model_0.parameters()).device # Our model's parameters are on the cuda device."
      ],
      "metadata": {
        "colab": {
          "base_uri": "https://localhost:8080/"
        },
        "id": "P009ip_FKTi3",
        "outputId": "72cafbed-a716-446b-ceab-9f9f2a1da757"
      },
      "execution_count": 20,
      "outputs": [
        {
          "output_type": "execute_result",
          "data": {
            "text/plain": [
              "device(type='cuda', index=0)"
            ]
          },
          "metadata": {},
          "execution_count": 20
        }
      ]
    },
    {
      "cell_type": "code",
      "source": [
        "# Let's replicate the model above using nn.Sequential()\n",
        "model_1 = nn.Sequential(\n",
        "    nn.Linear(in_features=2, out_features=16),\n",
        "    nn.ReLU(),\n",
        "    nn.Linear(16, 32),\n",
        "    nn.Tanh(),\n",
        "    nn.Linear(32, 1),\n",
        "    nn.Sigmoid()\n",
        ").to(device)\n",
        "\n",
        "print(type(model_1))"
      ],
      "metadata": {
        "colab": {
          "base_uri": "https://localhost:8080/"
        },
        "id": "jwIHLv9zKiXx",
        "outputId": "84e06cc2-74fd-49af-8cf0-93fb880a3756"
      },
      "execution_count": 21,
      "outputs": [
        {
          "output_type": "stream",
          "name": "stdout",
          "text": [
            "<class 'torch.nn.modules.container.Sequential'>\n"
          ]
        }
      ]
    },
    {
      "cell_type": "markdown",
      "source": [
        "We can also use sequential inside the init function, to stack up layers in a single variable."
      ],
      "metadata": {
        "id": "-KI2RmYpMVsN"
      }
    },
    {
      "cell_type": "code",
      "source": [
        "model_1.state_dict()"
      ],
      "metadata": {
        "colab": {
          "base_uri": "https://localhost:8080/"
        },
        "id": "AZHWCIlOL1i1",
        "outputId": "d8b164f0-685e-488e-9d9b-7ab162a75014"
      },
      "execution_count": 22,
      "outputs": [
        {
          "output_type": "execute_result",
          "data": {
            "text/plain": [
              "OrderedDict([('0.weight', tensor([[-0.0138,  0.6193],\n",
              "                      [ 0.0862, -0.0383],\n",
              "                      [ 0.4349,  0.2857],\n",
              "                      [ 0.6678,  0.4172],\n",
              "                      [-0.6074,  0.3723],\n",
              "                      [ 0.2736,  0.3450],\n",
              "                      [ 0.3361, -0.0956],\n",
              "                      [-0.2795,  0.1992],\n",
              "                      [-0.6363,  0.6338],\n",
              "                      [-0.0197,  0.2804],\n",
              "                      [ 0.2619,  0.3268],\n",
              "                      [ 0.1160, -0.3559],\n",
              "                      [ 0.5195, -0.4206],\n",
              "                      [ 0.1852,  0.6370],\n",
              "                      [ 0.4226, -0.4845],\n",
              "                      [-0.1583,  0.2928]], device='cuda:0')),\n",
              "             ('0.bias',\n",
              "              tensor([-0.2384,  0.3606, -0.3661,  0.3983, -0.2898, -0.5207, -0.0274,  0.1555,\n",
              "                      -0.2511,  0.1566,  0.2358,  0.0055,  0.5937,  0.6713, -0.5962, -0.0056],\n",
              "                     device='cuda:0')),\n",
              "             ('2.weight',\n",
              "              tensor([[-0.0945,  0.0832,  0.2261, -0.2047,  0.1017,  0.1066, -0.0083, -0.2190,\n",
              "                        0.2281, -0.1871, -0.1442,  0.0809,  0.2150, -0.0818,  0.1154,  0.1527],\n",
              "                      [-0.1047,  0.0496,  0.1003, -0.0046, -0.2008,  0.1998, -0.1010, -0.1556,\n",
              "                       -0.1223,  0.2279, -0.1361,  0.2001,  0.0886,  0.2385, -0.1941,  0.0592],\n",
              "                      [ 0.1538,  0.1071, -0.2146, -0.1391,  0.0599, -0.0073,  0.2395, -0.0926,\n",
              "                       -0.1640, -0.0291, -0.2152,  0.1934, -0.0334, -0.1232, -0.1980,  0.2285],\n",
              "                      [ 0.0809, -0.1744, -0.1691, -0.2148,  0.1846,  0.1156,  0.0170,  0.1564,\n",
              "                        0.1722, -0.0387,  0.0224, -0.1703,  0.2179,  0.0078, -0.0342, -0.0139],\n",
              "                      [-0.0872, -0.2410, -0.0894, -0.2241,  0.1332,  0.1899, -0.1756, -0.1453,\n",
              "                       -0.0699, -0.1456, -0.2455, -0.2021,  0.1961, -0.0266,  0.0389, -0.0362],\n",
              "                      [-0.0402, -0.1509,  0.1215, -0.0036, -0.0519, -0.2464, -0.1711,  0.1871,\n",
              "                        0.1314, -0.1712,  0.0171,  0.0635, -0.1007, -0.1425, -0.0423, -0.1340],\n",
              "                      [ 0.2064,  0.1180,  0.1025,  0.2063,  0.0450, -0.0105,  0.1871, -0.2471,\n",
              "                        0.0213,  0.0961, -0.0414,  0.2228,  0.1896, -0.1890, -0.1422, -0.0844],\n",
              "                      [ 0.2301, -0.1080,  0.1808, -0.1536, -0.0381,  0.0940,  0.1157, -0.2307,\n",
              "                       -0.0904,  0.1646,  0.1089,  0.1150,  0.2186, -0.0985, -0.2253, -0.2386],\n",
              "                      [ 0.0724,  0.1977, -0.2121, -0.1559,  0.0092, -0.2294, -0.1002, -0.1318,\n",
              "                        0.2057, -0.0907, -0.2032,  0.0116,  0.1822, -0.0146,  0.1290,  0.0043],\n",
              "                      [-0.1888, -0.0295, -0.2064,  0.1510, -0.0022,  0.0809, -0.2238, -0.0301,\n",
              "                        0.1047, -0.1344, -0.2048, -0.2282,  0.1825,  0.1412, -0.1284,  0.1961],\n",
              "                      [-0.0221, -0.2431, -0.1419, -0.0611, -0.1798,  0.2056,  0.1753, -0.1877,\n",
              "                        0.2173, -0.1939,  0.1174, -0.0992,  0.1767, -0.1037, -0.2160,  0.2243],\n",
              "                      [ 0.1882, -0.0636,  0.2324, -0.1962, -0.0565, -0.1369,  0.0143, -0.1999,\n",
              "                        0.1205,  0.1966,  0.0929, -0.1946, -0.2452,  0.1336, -0.2120,  0.0200],\n",
              "                      [-0.1098, -0.0218, -0.0886,  0.0468, -0.0725, -0.0988, -0.2444,  0.1609,\n",
              "                        0.1321, -0.2184, -0.0866, -0.2264, -0.0922,  0.0537,  0.0372,  0.1565],\n",
              "                      [ 0.0941, -0.1059, -0.0307, -0.1678, -0.0003, -0.0280, -0.1171, -0.1753,\n",
              "                        0.0662,  0.1604, -0.1603, -0.1530, -0.1616, -0.1604, -0.1158,  0.1814],\n",
              "                      [-0.2052,  0.0232, -0.0062, -0.0856,  0.0768,  0.0429,  0.2178,  0.0857,\n",
              "                       -0.0868, -0.0946,  0.1726,  0.1084,  0.2261, -0.1339,  0.2088, -0.0401],\n",
              "                      [-0.1131,  0.0488, -0.2253,  0.1115, -0.1126, -0.1973, -0.1496,  0.0734,\n",
              "                       -0.0077,  0.1162, -0.0199,  0.1121,  0.0298, -0.1174,  0.0327, -0.0268],\n",
              "                      [-0.0151,  0.0943,  0.0993,  0.0040,  0.1820,  0.0276,  0.1383, -0.1882,\n",
              "                        0.1980, -0.1368, -0.1697,  0.1968, -0.0927, -0.2042, -0.0722,  0.1505],\n",
              "                      [-0.0253,  0.0349,  0.1864,  0.0525,  0.1231, -0.0490, -0.1409, -0.0506,\n",
              "                       -0.2487,  0.2298,  0.0076,  0.0746,  0.0839,  0.1999, -0.0855,  0.1766],\n",
              "                      [ 0.0784,  0.0207,  0.1193, -0.2388, -0.1282, -0.2205,  0.1265, -0.1410,\n",
              "                       -0.0667,  0.1784,  0.1465, -0.0353,  0.0837, -0.1208,  0.1544,  0.1057],\n",
              "                      [-0.0337,  0.0519, -0.0640, -0.0445, -0.2236, -0.2448, -0.0575, -0.0273,\n",
              "                       -0.0315, -0.0533,  0.0444,  0.0240, -0.2152,  0.0221,  0.2464, -0.2031],\n",
              "                      [-0.1541, -0.2412, -0.0952,  0.0328,  0.1319,  0.0679, -0.1043,  0.0434,\n",
              "                       -0.1621,  0.0670, -0.0283,  0.0686, -0.0259,  0.0776,  0.1807,  0.2347],\n",
              "                      [-0.1086, -0.1882, -0.0650,  0.2301,  0.0080,  0.1562,  0.2177, -0.2443,\n",
              "                        0.1357, -0.1637,  0.1029, -0.2315, -0.0058, -0.0677, -0.1088,  0.0758],\n",
              "                      [-0.0887, -0.1400,  0.0608,  0.1262, -0.2194, -0.0953,  0.0745, -0.2416,\n",
              "                       -0.0309,  0.1218, -0.0879,  0.1411, -0.2440, -0.0446, -0.2241, -0.0349],\n",
              "                      [-0.0647,  0.1201, -0.0431, -0.0258, -0.2394, -0.0644,  0.0228, -0.2327,\n",
              "                        0.2138,  0.0035, -0.0057, -0.0703, -0.0065, -0.0618, -0.0071, -0.1912],\n",
              "                      [-0.2147,  0.1343,  0.1679,  0.2273, -0.1935,  0.0820,  0.0414, -0.0950,\n",
              "                       -0.1950, -0.1898, -0.2126, -0.0706,  0.2329,  0.1587, -0.0432, -0.1816],\n",
              "                      [ 0.1216, -0.2377, -0.0726, -0.0130, -0.1418,  0.1631,  0.1140,  0.1232,\n",
              "                       -0.2429, -0.0210,  0.0511, -0.2470,  0.0028, -0.0360, -0.1093,  0.0718],\n",
              "                      [-0.0966,  0.0080,  0.0176, -0.0270, -0.1526, -0.2298, -0.1490,  0.0739,\n",
              "                       -0.0492,  0.1014,  0.0240, -0.2141, -0.2159,  0.0990, -0.1435,  0.2201],\n",
              "                      [ 0.2311,  0.1601,  0.2010,  0.1897, -0.1323,  0.0918,  0.1541, -0.1352,\n",
              "                        0.2014, -0.2093,  0.0748, -0.1743,  0.0066, -0.1280, -0.1435,  0.0361],\n",
              "                      [-0.0257, -0.0477,  0.0166, -0.2064, -0.0787,  0.0204, -0.0407,  0.1737,\n",
              "                       -0.2110,  0.0520,  0.1759, -0.0123,  0.1473,  0.1899, -0.1349,  0.0485],\n",
              "                      [-0.0117, -0.0087, -0.2372,  0.1759,  0.2151,  0.2349, -0.1487, -0.1337,\n",
              "                       -0.1249,  0.1006, -0.0264,  0.1366,  0.1678,  0.1830,  0.0156,  0.2150],\n",
              "                      [-0.2128,  0.1774,  0.1178, -0.1830, -0.0421, -0.0849, -0.2306, -0.2250,\n",
              "                        0.1005,  0.0171, -0.1540,  0.1288, -0.1038,  0.1624,  0.0036,  0.0942],\n",
              "                      [ 0.1153, -0.0033, -0.1927,  0.2034,  0.1162,  0.2348,  0.2063,  0.1150,\n",
              "                       -0.0813,  0.2220, -0.1634,  0.1980, -0.1534,  0.2040, -0.2208, -0.1448]],\n",
              "                     device='cuda:0')),\n",
              "             ('2.bias',\n",
              "              tensor([-0.1618, -0.0552, -0.2076, -0.1192,  0.1005,  0.1339,  0.0323,  0.1898,\n",
              "                      -0.0755,  0.1426, -0.1424,  0.0679,  0.0227,  0.1793, -0.1909, -0.2158,\n",
              "                       0.2452, -0.2036, -0.1152, -0.0239,  0.2066,  0.1475,  0.1783, -0.0940,\n",
              "                       0.1956, -0.0900,  0.2281, -0.1311,  0.0630, -0.1794,  0.2486, -0.2212],\n",
              "                     device='cuda:0')),\n",
              "             ('4.weight',\n",
              "              tensor([[-0.1157, -0.1091, -0.0365,  0.1298, -0.0261,  0.0763, -0.1425, -0.1668,\n",
              "                       -0.1201, -0.1015, -0.1397, -0.0602,  0.0277,  0.1310,  0.1576,  0.0717,\n",
              "                        0.0663, -0.1693,  0.1103,  0.0807, -0.0034, -0.0956,  0.1723, -0.0054,\n",
              "                       -0.0706,  0.0336, -0.0663, -0.0662,  0.1716,  0.1102, -0.1106,  0.0274]],\n",
              "                     device='cuda:0')),\n",
              "             ('4.bias', tensor([0.1008], device='cuda:0'))])"
            ]
          },
          "metadata": {},
          "execution_count": 22
        }
      ]
    },
    {
      "cell_type": "markdown",
      "source": [
        "`squeeze()` reduces the dimension of the tensor to the lowest possible. Basically removes useless dimensions."
      ],
      "metadata": {
        "id": "RpLbq1X_ygcs"
      }
    },
    {
      "cell_type": "code",
      "source": [
        "# Make predictions \n",
        "with torch.inference_mode():\n",
        "  untrained_preds = model_0(X_test.to(device))\n",
        "  print(f'Length of predictions: {len(untrained_preds)}, Shape: {untrained_preds.shape}')\n",
        "  print(f'Length of test samples: {len(X_test)}, Shape: {X_test.shape}')\n",
        "  print(f'\\nFirst 10 predictions:\\n{torch.round(untrained_preds[:10]).squeeze()}')\n",
        "  print(f'\\nFirst 10 labels:\\n{y_test[:10]}')"
      ],
      "metadata": {
        "colab": {
          "base_uri": "https://localhost:8080/"
        },
        "id": "mzXEh7HQMmkI",
        "outputId": "0ae56bbf-81e4-4b7d-b2be-985cb56e67c0"
      },
      "execution_count": 23,
      "outputs": [
        {
          "output_type": "stream",
          "name": "stdout",
          "text": [
            "Length of predictions: 200, Shape: torch.Size([200, 1])\n",
            "Length of test samples: 200, Shape: torch.Size([200, 2])\n",
            "\n",
            "First 10 predictions:\n",
            "tensor([1., 1., 1., 1., 1., 1., 1., 1., 1., 1.], device='cuda:0')\n",
            "\n",
            "First 10 labels:\n",
            "tensor([1., 0., 1., 0., 1., 1., 0., 0., 1., 0.], device='cuda:0')\n"
          ]
        }
      ]
    },
    {
      "cell_type": "markdown",
      "source": [
        "Our untrained model makes very bad predictions. We can see here that our predictions don't match the labels."
      ],
      "metadata": {
        "id": "NSZ8EEIBfyC9"
      }
    },
    {
      "cell_type": "markdown",
      "source": [
        "Logits: Logits are the output of the neural network without it being passed into the activation function."
      ],
      "metadata": {
        "id": "OqfwCU85gkDU"
      }
    },
    {
      "cell_type": "markdown",
      "source": [
        "## 2.1 Setup Loss and Optimizer\n",
        "Since our problem is a binary classification task, we use the binary cross entropy function as our cost function.\n",
        "\n",
        "We use normal stochastic gradient descent as our optimizer. We can also use Adam here and check out differences in performance between the two."
      ],
      "metadata": {
        "id": "iBgyHOXtg222"
      }
    },
    {
      "cell_type": "code",
      "source": [
        "# Picking a loss function and optimizer.\n",
        "criterion = nn.BCELoss()\n",
        "optimizer = torch.optim.SGD(model_1.parameters(), 0.1)"
      ],
      "metadata": {
        "id": "fdTBck-Ofxno"
      },
      "execution_count": 24,
      "outputs": []
    },
    {
      "cell_type": "code",
      "source": [
        "# Calculating the accuracy -\n",
        "def accuracy_fn(y_true, y_pred):\n",
        "  correct = torch.eq(y_true, y_pred).sum().item()\n",
        "  acc = (correct/len(y_pred)) * 100\n",
        "  return acc"
      ],
      "metadata": {
        "id": "5v8LNCIrOrow"
      },
      "execution_count": 25,
      "outputs": []
    },
    {
      "cell_type": "markdown",
      "source": [
        "# 3. Train Model\n",
        "\n",
        "To train our model, we are going to build a training loop. It has the following steps -\n",
        "1. Make prediction\n",
        "2. Calculate loss\n",
        "3. Set optimizer gradients to zero (`optimizer.zero_grad()`)\n",
        "4. Calculate gradients of the loss (`loss.backward()`)\n",
        "5. Update our parameters (`optimizer.step()`)"
      ],
      "metadata": {
        "id": "ou3FWgexh986"
      }
    },
    {
      "cell_type": "markdown",
      "source": [
        "### 3.1 Building a training and testing loop"
      ],
      "metadata": {
        "id": "fHdbPVAXliFs"
      }
    },
    {
      "cell_type": "code",
      "source": [
        "torch.manual_seed(42)\n",
        "torch.cuda.manual_seed(42)\n",
        "\n",
        "# Set the hyperparameters\n",
        "epochs = 1000"
      ],
      "metadata": {
        "id": "0zf72U4Slws-"
      },
      "execution_count": 26,
      "outputs": []
    },
    {
      "cell_type": "code",
      "source": [
        "def train_test_loop(model):\n",
        "  for epoch in range(epochs):\n",
        "    # Setting model to train mode; activates tracking gradients\n",
        "    model.train()\n",
        "\n",
        "    # Forward pass\n",
        "    y_pred = model(X_train).squeeze()\n",
        "\n",
        "    # Loss calculation\n",
        "    loss = criterion(y_pred, y_train)\n",
        "    acc = accuracy_fn(y_true=y_train, y_pred=y_pred.round())\n",
        "\n",
        "    # Setting gradients to zero\n",
        "    optimizer.zero_grad()\n",
        "    \n",
        "    # Calculating new gradients\n",
        "    loss.backward()\n",
        "\n",
        "    # Updating our parameters.\n",
        "    optimizer.step()\n",
        "\n",
        "    ### Testing\n",
        "    model.eval()\n",
        "    with torch.inference_mode():\n",
        "      # Forward pass.\n",
        "      test_pred = (model(X_test)).squeeze()\n",
        "\n",
        "      # Calculating test loss and accuracy\n",
        "      test_loss = criterion(test_pred, y_test)\n",
        "      test_acc = accuracy_fn(y_true=y_test, y_pred=test_pred.round())\n",
        "\n",
        "    # Print out information according to what's happening -\n",
        "    if epoch%10 == 0:\n",
        "      print(f'Epoch: {epoch+1} | Loss: {loss:.5f}, Acc: {acc:.2f}% | Test Loss: {test_loss:.5f}, Test Acc: {test_acc:.2f}%')"
      ],
      "metadata": {
        "id": "cgDqC0rWnHC7"
      },
      "execution_count": 27,
      "outputs": []
    },
    {
      "cell_type": "code",
      "source": [
        "train_test_loop(model_1)"
      ],
      "metadata": {
        "colab": {
          "base_uri": "https://localhost:8080/"
        },
        "id": "bbCAHgthLmVe",
        "outputId": "19e8dd33-4865-4275-8d0b-ab95370f937e"
      },
      "execution_count": 28,
      "outputs": [
        {
          "output_type": "stream",
          "name": "stdout",
          "text": [
            "Epoch: 1 | Loss: 0.69416, Acc: 49.12% | Test Loss: 0.69287, Test Acc: 48.00%\n",
            "Epoch: 11 | Loss: 0.69308, Acc: 50.62% | Test Loss: 0.69192, Test Acc: 49.50%\n",
            "Epoch: 21 | Loss: 0.69233, Acc: 51.25% | Test Loss: 0.69117, Test Acc: 53.50%\n",
            "Epoch: 31 | Loss: 0.69167, Acc: 51.00% | Test Loss: 0.69046, Test Acc: 56.00%\n",
            "Epoch: 41 | Loss: 0.69104, Acc: 51.38% | Test Loss: 0.68976, Test Acc: 56.00%\n",
            "Epoch: 51 | Loss: 0.69043, Acc: 51.38% | Test Loss: 0.68905, Test Acc: 56.00%\n",
            "Epoch: 61 | Loss: 0.68981, Acc: 51.25% | Test Loss: 0.68835, Test Acc: 56.00%\n",
            "Epoch: 71 | Loss: 0.68920, Acc: 51.25% | Test Loss: 0.68765, Test Acc: 56.00%\n",
            "Epoch: 81 | Loss: 0.68859, Acc: 52.38% | Test Loss: 0.68694, Test Acc: 56.50%\n",
            "Epoch: 91 | Loss: 0.68797, Acc: 54.50% | Test Loss: 0.68624, Test Acc: 58.00%\n",
            "Epoch: 101 | Loss: 0.68735, Acc: 57.38% | Test Loss: 0.68553, Test Acc: 62.00%\n",
            "Epoch: 111 | Loss: 0.68671, Acc: 59.62% | Test Loss: 0.68480, Test Acc: 62.00%\n",
            "Epoch: 121 | Loss: 0.68605, Acc: 61.12% | Test Loss: 0.68406, Test Acc: 64.00%\n",
            "Epoch: 131 | Loss: 0.68537, Acc: 62.38% | Test Loss: 0.68329, Test Acc: 64.50%\n",
            "Epoch: 141 | Loss: 0.68468, Acc: 63.25% | Test Loss: 0.68251, Test Acc: 67.00%\n",
            "Epoch: 151 | Loss: 0.68396, Acc: 63.88% | Test Loss: 0.68169, Test Acc: 68.00%\n",
            "Epoch: 161 | Loss: 0.68321, Acc: 64.88% | Test Loss: 0.68085, Test Acc: 68.00%\n",
            "Epoch: 171 | Loss: 0.68243, Acc: 64.88% | Test Loss: 0.67996, Test Acc: 69.50%\n",
            "Epoch: 181 | Loss: 0.68160, Acc: 65.00% | Test Loss: 0.67902, Test Acc: 69.00%\n",
            "Epoch: 191 | Loss: 0.68072, Acc: 65.12% | Test Loss: 0.67803, Test Acc: 69.00%\n",
            "Epoch: 201 | Loss: 0.67975, Acc: 65.25% | Test Loss: 0.67698, Test Acc: 71.50%\n",
            "Epoch: 211 | Loss: 0.67868, Acc: 64.12% | Test Loss: 0.67584, Test Acc: 72.00%\n",
            "Epoch: 221 | Loss: 0.67762, Acc: 63.75% | Test Loss: 0.67473, Test Acc: 72.00%\n",
            "Epoch: 231 | Loss: 0.67659, Acc: 63.50% | Test Loss: 0.67363, Test Acc: 71.50%\n",
            "Epoch: 241 | Loss: 0.67556, Acc: 63.88% | Test Loss: 0.67249, Test Acc: 71.50%\n",
            "Epoch: 251 | Loss: 0.67448, Acc: 63.75% | Test Loss: 0.67130, Test Acc: 71.00%\n",
            "Epoch: 261 | Loss: 0.67334, Acc: 63.25% | Test Loss: 0.67006, Test Acc: 71.00%\n",
            "Epoch: 271 | Loss: 0.67214, Acc: 63.62% | Test Loss: 0.66875, Test Acc: 70.50%\n",
            "Epoch: 281 | Loss: 0.67088, Acc: 63.12% | Test Loss: 0.66740, Test Acc: 70.50%\n",
            "Epoch: 291 | Loss: 0.66957, Acc: 63.50% | Test Loss: 0.66598, Test Acc: 70.50%\n",
            "Epoch: 301 | Loss: 0.66819, Acc: 63.50% | Test Loss: 0.66450, Test Acc: 69.50%\n",
            "Epoch: 311 | Loss: 0.66673, Acc: 64.00% | Test Loss: 0.66294, Test Acc: 68.50%\n",
            "Epoch: 321 | Loss: 0.66519, Acc: 63.88% | Test Loss: 0.66130, Test Acc: 68.50%\n",
            "Epoch: 331 | Loss: 0.66356, Acc: 64.25% | Test Loss: 0.65958, Test Acc: 68.50%\n",
            "Epoch: 341 | Loss: 0.66182, Acc: 65.12% | Test Loss: 0.65775, Test Acc: 69.00%\n",
            "Epoch: 351 | Loss: 0.65996, Acc: 65.62% | Test Loss: 0.65582, Test Acc: 71.00%\n",
            "Epoch: 361 | Loss: 0.65798, Acc: 66.00% | Test Loss: 0.65379, Test Acc: 71.50%\n",
            "Epoch: 371 | Loss: 0.65585, Acc: 66.50% | Test Loss: 0.65164, Test Acc: 73.50%\n",
            "Epoch: 381 | Loss: 0.65359, Acc: 67.12% | Test Loss: 0.64936, Test Acc: 75.00%\n",
            "Epoch: 391 | Loss: 0.65117, Acc: 68.25% | Test Loss: 0.64695, Test Acc: 76.00%\n",
            "Epoch: 401 | Loss: 0.64859, Acc: 70.00% | Test Loss: 0.64438, Test Acc: 77.00%\n",
            "Epoch: 411 | Loss: 0.64579, Acc: 70.62% | Test Loss: 0.64165, Test Acc: 77.50%\n",
            "Epoch: 421 | Loss: 0.64276, Acc: 72.75% | Test Loss: 0.63879, Test Acc: 79.00%\n",
            "Epoch: 431 | Loss: 0.63951, Acc: 74.38% | Test Loss: 0.63579, Test Acc: 80.50%\n",
            "Epoch: 441 | Loss: 0.63600, Acc: 75.75% | Test Loss: 0.63262, Test Acc: 81.50%\n",
            "Epoch: 451 | Loss: 0.63222, Acc: 78.75% | Test Loss: 0.62923, Test Acc: 82.50%\n",
            "Epoch: 461 | Loss: 0.62814, Acc: 80.50% | Test Loss: 0.62559, Test Acc: 84.00%\n",
            "Epoch: 471 | Loss: 0.62374, Acc: 82.62% | Test Loss: 0.62164, Test Acc: 85.50%\n",
            "Epoch: 481 | Loss: 0.61899, Acc: 84.88% | Test Loss: 0.61742, Test Acc: 87.00%\n",
            "Epoch: 491 | Loss: 0.61388, Acc: 87.12% | Test Loss: 0.61294, Test Acc: 88.50%\n",
            "Epoch: 501 | Loss: 0.60836, Acc: 90.88% | Test Loss: 0.60816, Test Acc: 91.00%\n",
            "Epoch: 511 | Loss: 0.60241, Acc: 92.38% | Test Loss: 0.60304, Test Acc: 91.50%\n",
            "Epoch: 521 | Loss: 0.59597, Acc: 93.62% | Test Loss: 0.59750, Test Acc: 93.00%\n",
            "Epoch: 531 | Loss: 0.58896, Acc: 94.88% | Test Loss: 0.59161, Test Acc: 93.50%\n",
            "Epoch: 541 | Loss: 0.58140, Acc: 96.25% | Test Loss: 0.58526, Test Acc: 95.00%\n",
            "Epoch: 551 | Loss: 0.57337, Acc: 97.00% | Test Loss: 0.57838, Test Acc: 95.50%\n",
            "Epoch: 561 | Loss: 0.56480, Acc: 97.75% | Test Loss: 0.57100, Test Acc: 96.50%\n",
            "Epoch: 571 | Loss: 0.55563, Acc: 98.75% | Test Loss: 0.56309, Test Acc: 97.00%\n",
            "Epoch: 581 | Loss: 0.54584, Acc: 99.00% | Test Loss: 0.55460, Test Acc: 97.50%\n",
            "Epoch: 591 | Loss: 0.53550, Acc: 99.25% | Test Loss: 0.54554, Test Acc: 98.00%\n",
            "Epoch: 601 | Loss: 0.52459, Acc: 99.12% | Test Loss: 0.53595, Test Acc: 98.50%\n",
            "Epoch: 611 | Loss: 0.51300, Acc: 99.25% | Test Loss: 0.52581, Test Acc: 98.50%\n",
            "Epoch: 621 | Loss: 0.50083, Acc: 99.38% | Test Loss: 0.51507, Test Acc: 99.00%\n",
            "Epoch: 631 | Loss: 0.48812, Acc: 99.62% | Test Loss: 0.50372, Test Acc: 99.50%\n",
            "Epoch: 641 | Loss: 0.47477, Acc: 99.62% | Test Loss: 0.49184, Test Acc: 99.50%\n",
            "Epoch: 651 | Loss: 0.46080, Acc: 99.62% | Test Loss: 0.47944, Test Acc: 99.50%\n",
            "Epoch: 661 | Loss: 0.44631, Acc: 99.62% | Test Loss: 0.46663, Test Acc: 99.00%\n",
            "Epoch: 671 | Loss: 0.43132, Acc: 99.62% | Test Loss: 0.45326, Test Acc: 99.50%\n",
            "Epoch: 681 | Loss: 0.41587, Acc: 99.75% | Test Loss: 0.43958, Test Acc: 99.50%\n",
            "Epoch: 691 | Loss: 0.40013, Acc: 99.75% | Test Loss: 0.42550, Test Acc: 99.50%\n",
            "Epoch: 701 | Loss: 0.38409, Acc: 100.00% | Test Loss: 0.41114, Test Acc: 99.50%\n",
            "Epoch: 711 | Loss: 0.36788, Acc: 100.00% | Test Loss: 0.39662, Test Acc: 99.50%\n",
            "Epoch: 721 | Loss: 0.35163, Acc: 100.00% | Test Loss: 0.38196, Test Acc: 99.50%\n",
            "Epoch: 731 | Loss: 0.33548, Acc: 100.00% | Test Loss: 0.36739, Test Acc: 99.50%\n",
            "Epoch: 741 | Loss: 0.31956, Acc: 100.00% | Test Loss: 0.35290, Test Acc: 99.50%\n",
            "Epoch: 751 | Loss: 0.30392, Acc: 100.00% | Test Loss: 0.33862, Test Acc: 99.50%\n",
            "Epoch: 761 | Loss: 0.28859, Acc: 100.00% | Test Loss: 0.32463, Test Acc: 99.50%\n",
            "Epoch: 771 | Loss: 0.27370, Acc: 100.00% | Test Loss: 0.31101, Test Acc: 99.50%\n",
            "Epoch: 781 | Loss: 0.25938, Acc: 100.00% | Test Loss: 0.29772, Test Acc: 99.50%\n",
            "Epoch: 791 | Loss: 0.24560, Acc: 100.00% | Test Loss: 0.28496, Test Acc: 99.50%\n",
            "Epoch: 801 | Loss: 0.23245, Acc: 100.00% | Test Loss: 0.27259, Test Acc: 99.50%\n",
            "Epoch: 811 | Loss: 0.21996, Acc: 100.00% | Test Loss: 0.26071, Test Acc: 99.50%\n",
            "Epoch: 821 | Loss: 0.20808, Acc: 100.00% | Test Loss: 0.24938, Test Acc: 99.50%\n",
            "Epoch: 831 | Loss: 0.19686, Acc: 100.00% | Test Loss: 0.23847, Test Acc: 99.50%\n",
            "Epoch: 841 | Loss: 0.18621, Acc: 100.00% | Test Loss: 0.22811, Test Acc: 99.50%\n",
            "Epoch: 851 | Loss: 0.17619, Acc: 100.00% | Test Loss: 0.21830, Test Acc: 99.50%\n",
            "Epoch: 861 | Loss: 0.16675, Acc: 100.00% | Test Loss: 0.20890, Test Acc: 99.50%\n",
            "Epoch: 871 | Loss: 0.15789, Acc: 100.00% | Test Loss: 0.19999, Test Acc: 99.50%\n",
            "Epoch: 881 | Loss: 0.14956, Acc: 100.00% | Test Loss: 0.19161, Test Acc: 99.00%\n",
            "Epoch: 891 | Loss: 0.14181, Acc: 100.00% | Test Loss: 0.18386, Test Acc: 99.00%\n",
            "Epoch: 901 | Loss: 0.13467, Acc: 100.00% | Test Loss: 0.17662, Test Acc: 99.00%\n",
            "Epoch: 911 | Loss: 0.12820, Acc: 100.00% | Test Loss: 0.17014, Test Acc: 99.00%\n",
            "Epoch: 921 | Loss: 0.12238, Acc: 99.88% | Test Loss: 0.16444, Test Acc: 99.00%\n",
            "Epoch: 931 | Loss: 0.11714, Acc: 99.88% | Test Loss: 0.15932, Test Acc: 99.00%\n",
            "Epoch: 941 | Loss: 0.11217, Acc: 99.88% | Test Loss: 0.15427, Test Acc: 99.00%\n",
            "Epoch: 951 | Loss: 0.10703, Acc: 99.88% | Test Loss: 0.14856, Test Acc: 99.00%\n",
            "Epoch: 961 | Loss: 0.10160, Acc: 99.88% | Test Loss: 0.14208, Test Acc: 99.00%\n",
            "Epoch: 971 | Loss: 0.09639, Acc: 100.00% | Test Loss: 0.13566, Test Acc: 99.00%\n",
            "Epoch: 981 | Loss: 0.09180, Acc: 100.00% | Test Loss: 0.12998, Test Acc: 99.00%\n",
            "Epoch: 991 | Loss: 0.08776, Acc: 100.00% | Test Loss: 0.12503, Test Acc: 99.00%\n"
          ]
        }
      ]
    },
    {
      "cell_type": "markdown",
      "source": [
        "# 4. Make predictions and evaluate the model\n",
        "\n",
        "From the metrics, it looks like our model isn't learning that much. So, let's try to visualize predictions.\n",
        "\n",
        "To do so, we're going to import a function called `plot_decision_boundary()` from the link - https://www.github.com/mrdbourke/pytorch-deep-learning/blob/main/helper_functions.py"
      ],
      "metadata": {
        "id": "5J9V2Hliw3_7"
      }
    },
    {
      "cell_type": "code",
      "source": [
        "import requests\n",
        "from pathlib import Path\n",
        "\n",
        "link = 'https://raw.githubusercontent.com/mrdbourke/pytorch-deep-learning/main/helper_functions.py'\n",
        "\n",
        "if Path('helper_functions.py').is_file():\n",
        "  print('The file download already exists, skipping download.')\n",
        "else:\n",
        "  print('Download helper_functions.py')\n",
        "  # Getting the data from the link.\n",
        "  request = requests.get(link)\n",
        "\n",
        "  # Creating the file and copying the content from the link into the file\n",
        "  with open('helper_functions.py', 'wb') as f:\n",
        "    f.write(request.content)"
      ],
      "metadata": {
        "colab": {
          "base_uri": "https://localhost:8080/"
        },
        "id": "tIrMvzMeDX6D",
        "outputId": "c532b706-4a1c-4b37-f265-aba46bcba2bf"
      },
      "execution_count": 29,
      "outputs": [
        {
          "output_type": "stream",
          "name": "stdout",
          "text": [
            "The file download already exists, skipping download.\n"
          ]
        }
      ]
    },
    {
      "cell_type": "code",
      "source": [
        "from helper_functions import plot_predictions, plot_decision_boundary\n",
        "\n",
        "# Plot decision boundary of the model\n",
        "plt.figure(figsize=(12, 6))\n",
        "plt.subplot(1, 2, 1)\n",
        "plt.title(\"Train\")\n",
        "plot_decision_boundary(model_1, X_train, y_train)\n",
        "plt.subplot(1, 2, 2)\n",
        "plt.title(\"Test\")\n",
        "plot_decision_boundary(model_1, X_test, y_test)"
      ],
      "metadata": {
        "colab": {
          "base_uri": "https://localhost:8080/",
          "height": 390
        },
        "id": "KT27A2hIFNFL",
        "outputId": "79fb69fe-b8b9-4ac6-d37c-0b16efb5028d"
      },
      "execution_count": 30,
      "outputs": [
        {
          "output_type": "display_data",
          "data": {
            "text/plain": [
              "<Figure size 864x432 with 2 Axes>"
            ],
            "image/png": "[encoded data removed]"
          },
          "metadata": {
            "needs_background": "light"
          }
        }
      ]
    },
    {
      "cell_type": "code",
      "source": [],
      "metadata": {
        "id": "tYxQGTJ0GLm4"
      },
      "execution_count": 30,
      "outputs": []
    }
  ]
}