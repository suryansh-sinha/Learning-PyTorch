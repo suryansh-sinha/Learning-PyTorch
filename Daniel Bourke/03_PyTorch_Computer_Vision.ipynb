{
  "nbformat": 4,
  "nbformat_minor": 0,
  "metadata": {
    "colab": {
      "provenance": [],
      "gpuType": "T4"
    },
    "kernelspec": {
      "name": "python3",
      "display_name": "Python 3"
    },
    "language_info": {
      "name": "python"
    },
    "accelerator": "GPU",
    "widgets": {
      "application/vnd.jupyter.widget-state+json": {
        "13820f9356104ec0b53c9a22a9c2888d": {
          "model_module": "@jupyter-widgets/controls",
          "model_name": "HBoxModel",
          "model_module_version": "1.5.0",
          "state": {
            "_dom_classes": [],
            "_model_module": "@jupyter-widgets/controls",
            "_model_module_version": "1.5.0",
            "_model_name": "HBoxModel",
            "_view_count": null,
            "_view_module": "@jupyter-widgets/controls",
            "_view_module_version": "1.5.0",
            "_view_name": "HBoxView",
            "box_style": "",
            "children": [
              "IPY_MODEL_515ed3ef8100408cbd48ff56c813f2ea",
              "IPY_MODEL_90808dd147a04901bd5d1629488dc496",
              "IPY_MODEL_8d217dd6b0ae48f790f6bd92f592db37"
            ],
            "layout": "IPY_MODEL_bf4ea9e6b16849848f7f621e1c0b8be2"
          }
        },
        "515ed3ef8100408cbd48ff56c813f2ea": {
          "model_module": "@jupyter-widgets/controls",
          "model_name": "HTMLModel",
          "model_module_version": "1.5.0",
          "state": {
            "_dom_classes": [],
            "_model_module": "@jupyter-widgets/controls",
            "_model_module_version": "1.5.0",
            "_model_name": "HTMLModel",
            "_view_count": null,
            "_view_module": "@jupyter-widgets/controls",
            "_view_module_version": "1.5.0",
            "_view_name": "HTMLView",
            "description": "",
            "description_tooltip": null,
            "layout": "IPY_MODEL_b6498d8d205d417eba1cc578b75d103f",
            "placeholder": "​",
            "style": "IPY_MODEL_54ed82a1d1594e10966fac27f15591c1",
            "value": "100%"
          }
        },
        "90808dd147a04901bd5d1629488dc496": {
          "model_module": "@jupyter-widgets/controls",
          "model_name": "FloatProgressModel",
          "model_module_version": "1.5.0",
          "state": {
            "_dom_classes": [],
            "_model_module": "@jupyter-widgets/controls",
            "_model_module_version": "1.5.0",
            "_model_name": "FloatProgressModel",
            "_view_count": null,
            "_view_module": "@jupyter-widgets/controls",
            "_view_module_version": "1.5.0",
            "_view_name": "ProgressView",
            "bar_style": "success",
            "description": "",
            "description_tooltip": null,
            "layout": "IPY_MODEL_3c3fb109d7c248be881be79251bfb2c9",
            "max": 3,
            "min": 0,
            "orientation": "horizontal",
            "style": "IPY_MODEL_2ad42568213245f9948f797cba4970e1",
            "value": 3
          }
        },
        "8d217dd6b0ae48f790f6bd92f592db37": {
          "model_module": "@jupyter-widgets/controls",
          "model_name": "HTMLModel",
          "model_module_version": "1.5.0",
          "state": {
            "_dom_classes": [],
            "_model_module": "@jupyter-widgets/controls",
            "_model_module_version": "1.5.0",
            "_model_name": "HTMLModel",
            "_view_count": null,
            "_view_module": "@jupyter-widgets/controls",
            "_view_module_version": "1.5.0",
            "_view_name": "HTMLView",
            "description": "",
            "description_tooltip": null,
            "layout": "IPY_MODEL_4ddb554f24cc4c878c46a4a53936d63e",
            "placeholder": "​",
            "style": "IPY_MODEL_681d6441e8494285b2e39950a3a97e1f",
            "value": " 3/3 [00:26&lt;00:00,  8.78s/it]"
          }
        },
        "bf4ea9e6b16849848f7f621e1c0b8be2": {
          "model_module": "@jupyter-widgets/base",
          "model_name": "LayoutModel",
          "model_module_version": "1.2.0",
          "state": {
            "_model_module": "@jupyter-widgets/base",
            "_model_module_version": "1.2.0",
            "_model_name": "LayoutModel",
            "_view_count": null,
            "_view_module": "@jupyter-widgets/base",
            "_view_module_version": "1.2.0",
            "_view_name": "LayoutView",
            "align_content": null,
            "align_items": null,
            "align_self": null,
            "border": null,
            "bottom": null,
            "display": null,
            "flex": null,
            "flex_flow": null,
            "grid_area": null,
            "grid_auto_columns": null,
            "grid_auto_flow": null,
            "grid_auto_rows": null,
            "grid_column": null,
            "grid_gap": null,
            "grid_row": null,
            "grid_template_areas": null,
            "grid_template_columns": null,
            "grid_template_rows": null,
            "height": null,
            "justify_content": null,
            "justify_items": null,
            "left": null,
            "margin": null,
            "max_height": null,
            "max_width": null,
            "min_height": null,
            "min_width": null,
            "object_fit": null,
            "object_position": null,
            "order": null,
            "overflow": null,
            "overflow_x": null,
            "overflow_y": null,
            "padding": null,
            "right": null,
            "top": null,
            "visibility": null,
            "width": null
          }
        },
        "b6498d8d205d417eba1cc578b75d103f": {
          "model_module": "@jupyter-widgets/base",
          "model_name": "LayoutModel",
          "model_module_version": "1.2.0",
          "state": {
            "_model_module": "@jupyter-widgets/base",
            "_model_module_version": "1.2.0",
            "_model_name": "LayoutModel",
            "_view_count": null,
            "_view_module": "@jupyter-widgets/base",
            "_view_module_version": "1.2.0",
            "_view_name": "LayoutView",
            "align_content": null,
            "align_items": null,
            "align_self": null,
            "border": null,
            "bottom": null,
            "display": null,
            "flex": null,
            "flex_flow": null,
            "grid_area": null,
            "grid_auto_columns": null,
            "grid_auto_flow": null,
            "grid_auto_rows": null,
            "grid_column": null,
            "grid_gap": null,
            "grid_row": null,
            "grid_template_areas": null,
            "grid_template_columns": null,
            "grid_template_rows": null,
            "height": null,
            "justify_content": null,
            "justify_items": null,
            "left": null,
            "margin": null,
            "max_height": null,
            "max_width": null,
            "min_height": null,
            "min_width": null,
            "object_fit": null,
            "object_position": null,
            "order": null,
            "overflow": null,
            "overflow_x": null,
            "overflow_y": null,
            "padding": null,
            "right": null,
            "top": null,
            "visibility": null,
            "width": null
          }
        },
        "54ed82a1d1594e10966fac27f15591c1": {
          "model_module": "@jupyter-widgets/controls",
          "model_name": "DescriptionStyleModel",
          "model_module_version": "1.5.0",
          "state": {
            "_model_module": "@jupyter-widgets/controls",
            "_model_module_version": "1.5.0",
            "_model_name": "DescriptionStyleModel",
            "_view_count": null,
            "_view_module": "@jupyter-widgets/base",
            "_view_module_version": "1.2.0",
            "_view_name": "StyleView",
            "description_width": ""
          }
        },
        "3c3fb109d7c248be881be79251bfb2c9": {
          "model_module": "@jupyter-widgets/base",
          "model_name": "LayoutModel",
          "model_module_version": "1.2.0",
          "state": {
            "_model_module": "@jupyter-widgets/base",
            "_model_module_version": "1.2.0",
            "_model_name": "LayoutModel",
            "_view_count": null,
            "_view_module": "@jupyter-widgets/base",
            "_view_module_version": "1.2.0",
            "_view_name": "LayoutView",
            "align_content": null,
            "align_items": null,
            "align_self": null,
            "border": null,
            "bottom": null,
            "display": null,
            "flex": null,
            "flex_flow": null,
            "grid_area": null,
            "grid_auto_columns": null,
            "grid_auto_flow": null,
            "grid_auto_rows": null,
            "grid_column": null,
            "grid_gap": null,
            "grid_row": null,
            "grid_template_areas": null,
            "grid_template_columns": null,
            "grid_template_rows": null,
            "height": null,
            "justify_content": null,
            "justify_items": null,
            "left": null,
            "margin": null,
            "max_height": null,
            "max_width": null,
            "min_height": null,
            "min_width": null,
            "object_fit": null,
            "object_position": null,
            "order": null,
            "overflow": null,
            "overflow_x": null,
            "overflow_y": null,
            "padding": null,
            "right": null,
            "top": null,
            "visibility": null,
            "width": null
          }
        },
        "2ad42568213245f9948f797cba4970e1": {
          "model_module": "@jupyter-widgets/controls",
          "model_name": "ProgressStyleModel",
          "model_module_version": "1.5.0",
          "state": {
            "_model_module": "@jupyter-widgets/controls",
            "_model_module_version": "1.5.0",
            "_model_name": "ProgressStyleModel",
            "_view_count": null,
            "_view_module": "@jupyter-widgets/base",
            "_view_module_version": "1.2.0",
            "_view_name": "StyleView",
            "bar_color": null,
            "description_width": ""
          }
        },
        "4ddb554f24cc4c878c46a4a53936d63e": {
          "model_module": "@jupyter-widgets/base",
          "model_name": "LayoutModel",
          "model_module_version": "1.2.0",
          "state": {
            "_model_module": "@jupyter-widgets/base",
            "_model_module_version": "1.2.0",
            "_model_name": "LayoutModel",
            "_view_count": null,
            "_view_module": "@jupyter-widgets/base",
            "_view_module_version": "1.2.0",
            "_view_name": "LayoutView",
            "align_content": null,
            "align_items": null,
            "align_self": null,
            "border": null,
            "bottom": null,
            "display": null,
            "flex": null,
            "flex_flow": null,
            "grid_area": null,
            "grid_auto_columns": null,
            "grid_auto_flow": null,
            "grid_auto_rows": null,
            "grid_column": null,
            "grid_gap": null,
            "grid_row": null,
            "grid_template_areas": null,
            "grid_template_columns": null,
            "grid_template_rows": null,
            "height": null,
            "justify_content": null,
            "justify_items": null,
            "left": null,
            "margin": null,
            "max_height": null,
            "max_width": null,
            "min_height": null,
            "min_width": null,
            "object_fit": null,
            "object_position": null,
            "order": null,
            "overflow": null,
            "overflow_x": null,
            "overflow_y": null,
            "padding": null,
            "right": null,
            "top": null,
            "visibility": null,
            "width": null
          }
        },
        "681d6441e8494285b2e39950a3a97e1f": {
          "model_module": "@jupyter-widgets/controls",
          "model_name": "DescriptionStyleModel",
          "model_module_version": "1.5.0",
          "state": {
            "_model_module": "@jupyter-widgets/controls",
            "_model_module_version": "1.5.0",
            "_model_name": "DescriptionStyleModel",
            "_view_count": null,
            "_view_module": "@jupyter-widgets/base",
            "_view_module_version": "1.2.0",
            "_view_name": "StyleView",
            "description_width": ""
          }
        },
        "86540bcbcf2e4fbea218245b30dd1e7a": {
          "model_module": "@jupyter-widgets/controls",
          "model_name": "HBoxModel",
          "model_module_version": "1.5.0",
          "state": {
            "_dom_classes": [],
            "_model_module": "@jupyter-widgets/controls",
            "_model_module_version": "1.5.0",
            "_model_name": "HBoxModel",
            "_view_count": null,
            "_view_module": "@jupyter-widgets/controls",
            "_view_module_version": "1.5.0",
            "_view_name": "HBoxView",
            "box_style": "",
            "children": [
              "IPY_MODEL_f95864686724429e9013cac3a782c934",
              "IPY_MODEL_bcb07399f6eb4615923ecc6d9b4cde1f",
              "IPY_MODEL_2165b62bd646496c94a80dd4bd3a3e37"
            ],
            "layout": "IPY_MODEL_db36c16ea7f444249e4155ffc9216c24"
          }
        },
        "f95864686724429e9013cac3a782c934": {
          "model_module": "@jupyter-widgets/controls",
          "model_name": "HTMLModel",
          "model_module_version": "1.5.0",
          "state": {
            "_dom_classes": [],
            "_model_module": "@jupyter-widgets/controls",
            "_model_module_version": "1.5.0",
            "_model_name": "HTMLModel",
            "_view_count": null,
            "_view_module": "@jupyter-widgets/controls",
            "_view_module_version": "1.5.0",
            "_view_name": "HTMLView",
            "description": "",
            "description_tooltip": null,
            "layout": "IPY_MODEL_9825f89629814705b87c6406e5a3e174",
            "placeholder": "​",
            "style": "IPY_MODEL_895549c40a414ff7ac5ed9a49f1c96b6",
            "value": "100%"
          }
        },
        "bcb07399f6eb4615923ecc6d9b4cde1f": {
          "model_module": "@jupyter-widgets/controls",
          "model_name": "FloatProgressModel",
          "model_module_version": "1.5.0",
          "state": {
            "_dom_classes": [],
            "_model_module": "@jupyter-widgets/controls",
            "_model_module_version": "1.5.0",
            "_model_name": "FloatProgressModel",
            "_view_count": null,
            "_view_module": "@jupyter-widgets/controls",
            "_view_module_version": "1.5.0",
            "_view_name": "ProgressView",
            "bar_style": "success",
            "description": "",
            "description_tooltip": null,
            "layout": "IPY_MODEL_8d9841f87e9a40a9aa6fba68f0ca5add",
            "max": 313,
            "min": 0,
            "orientation": "horizontal",
            "style": "IPY_MODEL_a0be1b30d8384e0b818101eb32b131d0",
            "value": 313
          }
        },
        "2165b62bd646496c94a80dd4bd3a3e37": {
          "model_module": "@jupyter-widgets/controls",
          "model_name": "HTMLModel",
          "model_module_version": "1.5.0",
          "state": {
            "_dom_classes": [],
            "_model_module": "@jupyter-widgets/controls",
            "_model_module_version": "1.5.0",
            "_model_name": "HTMLModel",
            "_view_count": null,
            "_view_module": "@jupyter-widgets/controls",
            "_view_module_version": "1.5.0",
            "_view_name": "HTMLView",
            "description": "",
            "description_tooltip": null,
            "layout": "IPY_MODEL_aa6c258dc58e434fbb09a075fe93cd78",
            "placeholder": "​",
            "style": "IPY_MODEL_5b6ce4b1333840d88f4c31c08faf5e66",
            "value": " 313/313 [00:01&lt;00:00, 221.69it/s]"
          }
        },
        "db36c16ea7f444249e4155ffc9216c24": {
          "model_module": "@jupyter-widgets/base",
          "model_name": "LayoutModel",
          "model_module_version": "1.2.0",
          "state": {
            "_model_module": "@jupyter-widgets/base",
            "_model_module_version": "1.2.0",
            "_model_name": "LayoutModel",
            "_view_count": null,
            "_view_module": "@jupyter-widgets/base",
            "_view_module_version": "1.2.0",
            "_view_name": "LayoutView",
            "align_content": null,
            "align_items": null,
            "align_self": null,
            "border": null,
            "bottom": null,
            "display": null,
            "flex": null,
            "flex_flow": null,
            "grid_area": null,
            "grid_auto_columns": null,
            "grid_auto_flow": null,
            "grid_auto_rows": null,
            "grid_column": null,
            "grid_gap": null,
            "grid_row": null,
            "grid_template_areas": null,
            "grid_template_columns": null,
            "grid_template_rows": null,
            "height": null,
            "justify_content": null,
            "justify_items": null,
            "left": null,
            "margin": null,
            "max_height": null,
            "max_width": null,
            "min_height": null,
            "min_width": null,
            "object_fit": null,
            "object_position": null,
            "order": null,
            "overflow": null,
            "overflow_x": null,
            "overflow_y": null,
            "padding": null,
            "right": null,
            "top": null,
            "visibility": null,
            "width": null
          }
        },
        "9825f89629814705b87c6406e5a3e174": {
          "model_module": "@jupyter-widgets/base",
          "model_name": "LayoutModel",
          "model_module_version": "1.2.0",
          "state": {
            "_model_module": "@jupyter-widgets/base",
            "_model_module_version": "1.2.0",
            "_model_name": "LayoutModel",
            "_view_count": null,
            "_view_module": "@jupyter-widgets/base",
            "_view_module_version": "1.2.0",
            "_view_name": "LayoutView",
            "align_content": null,
            "align_items": null,
            "align_self": null,
            "border": null,
            "bottom": null,
            "display": null,
            "flex": null,
            "flex_flow": null,
            "grid_area": null,
            "grid_auto_columns": null,
            "grid_auto_flow": null,
            "grid_auto_rows": null,
            "grid_column": null,
            "grid_gap": null,
            "grid_row": null,
            "grid_template_areas": null,
            "grid_template_columns": null,
            "grid_template_rows": null,
            "height": null,
            "justify_content": null,
            "justify_items": null,
            "left": null,
            "margin": null,
            "max_height": null,
            "max_width": null,
            "min_height": null,
            "min_width": null,
            "object_fit": null,
            "object_position": null,
            "order": null,
            "overflow": null,
            "overflow_x": null,
            "overflow_y": null,
            "padding": null,
            "right": null,
            "top": null,
            "visibility": null,
            "width": null
          }
        },
        "895549c40a414ff7ac5ed9a49f1c96b6": {
          "model_module": "@jupyter-widgets/controls",
          "model_name": "DescriptionStyleModel",
          "model_module_version": "1.5.0",
          "state": {
            "_model_module": "@jupyter-widgets/controls",
            "_model_module_version": "1.5.0",
            "_model_name": "DescriptionStyleModel",
            "_view_count": null,
            "_view_module": "@jupyter-widgets/base",
            "_view_module_version": "1.2.0",
            "_view_name": "StyleView",
            "description_width": ""
          }
        },
        "8d9841f87e9a40a9aa6fba68f0ca5add": {
          "model_module": "@jupyter-widgets/base",
          "model_name": "LayoutModel",
          "model_module_version": "1.2.0",
          "state": {
            "_model_module": "@jupyter-widgets/base",
            "_model_module_version": "1.2.0",
            "_model_name": "LayoutModel",
            "_view_count": null,
            "_view_module": "@jupyter-widgets/base",
            "_view_module_version": "1.2.0",
            "_view_name": "LayoutView",
            "align_content": null,
            "align_items": null,
            "align_self": null,
            "border": null,
            "bottom": null,
            "display": null,
            "flex": null,
            "flex_flow": null,
            "grid_area": null,
            "grid_auto_columns": null,
            "grid_auto_flow": null,
            "grid_auto_rows": null,
            "grid_column": null,
            "grid_gap": null,
            "grid_row": null,
            "grid_template_areas": null,
            "grid_template_columns": null,
            "grid_template_rows": null,
            "height": null,
            "justify_content": null,
            "justify_items": null,
            "left": null,
            "margin": null,
            "max_height": null,
            "max_width": null,
            "min_height": null,
            "min_width": null,
            "object_fit": null,
            "object_position": null,
            "order": null,
            "overflow": null,
            "overflow_x": null,
            "overflow_y": null,
            "padding": null,
            "right": null,
            "top": null,
            "visibility": null,
            "width": null
          }
        },
        "a0be1b30d8384e0b818101eb32b131d0": {
          "model_module": "@jupyter-widgets/controls",
          "model_name": "ProgressStyleModel",
          "model_module_version": "1.5.0",
          "state": {
            "_model_module": "@jupyter-widgets/controls",
            "_model_module_version": "1.5.0",
            "_model_name": "ProgressStyleModel",
            "_view_count": null,
            "_view_module": "@jupyter-widgets/base",
            "_view_module_version": "1.2.0",
            "_view_name": "StyleView",
            "bar_color": null,
            "description_width": ""
          }
        },
        "aa6c258dc58e434fbb09a075fe93cd78": {
          "model_module": "@jupyter-widgets/base",
          "model_name": "LayoutModel",
          "model_module_version": "1.2.0",
          "state": {
            "_model_module": "@jupyter-widgets/base",
            "_model_module_version": "1.2.0",
            "_model_name": "LayoutModel",
            "_view_count": null,
            "_view_module": "@jupyter-widgets/base",
            "_view_module_version": "1.2.0",
            "_view_name": "LayoutView",
            "align_content": null,
            "align_items": null,
            "align_self": null,
            "border": null,
            "bottom": null,
            "display": null,
            "flex": null,
            "flex_flow": null,
            "grid_area": null,
            "grid_auto_columns": null,
            "grid_auto_flow": null,
            "grid_auto_rows": null,
            "grid_column": null,
            "grid_gap": null,
            "grid_row": null,
            "grid_template_areas": null,
            "grid_template_columns": null,
            "grid_template_rows": null,
            "height": null,
            "justify_content": null,
            "justify_items": null,
            "left": null,
            "margin": null,
            "max_height": null,
            "max_width": null,
            "min_height": null,
            "min_width": null,
            "object_fit": null,
            "object_position": null,
            "order": null,
            "overflow": null,
            "overflow_x": null,
            "overflow_y": null,
            "padding": null,
            "right": null,
            "top": null,
            "visibility": null,
            "width": null
          }
        },
        "5b6ce4b1333840d88f4c31c08faf5e66": {
          "model_module": "@jupyter-widgets/controls",
          "model_name": "DescriptionStyleModel",
          "model_module_version": "1.5.0",
          "state": {
            "_model_module": "@jupyter-widgets/controls",
            "_model_module_version": "1.5.0",
            "_model_name": "DescriptionStyleModel",
            "_view_count": null,
            "_view_module": "@jupyter-widgets/base",
            "_view_module_version": "1.2.0",
            "_view_name": "StyleView",
            "description_width": ""
          }
        },
        "79d438477f1c44579bad2fbb689ff331": {
          "model_module": "@jupyter-widgets/controls",
          "model_name": "HBoxModel",
          "model_module_version": "1.5.0",
          "state": {
            "_dom_classes": [],
            "_model_module": "@jupyter-widgets/controls",
            "_model_module_version": "1.5.0",
            "_model_name": "HBoxModel",
            "_view_count": null,
            "_view_module": "@jupyter-widgets/controls",
            "_view_module_version": "1.5.0",
            "_view_name": "HBoxView",
            "box_style": "",
            "children": [
              "IPY_MODEL_69a899b219ed4c77a55ec176612491e3",
              "IPY_MODEL_52aa0556ac0747c68e66e900f6530bac",
              "IPY_MODEL_2c4f74a0ba2c47e887cd609b764cd283"
            ],
            "layout": "IPY_MODEL_69d1e7ec63034f3ca2797114574b9c85"
          }
        },
        "69a899b219ed4c77a55ec176612491e3": {
          "model_module": "@jupyter-widgets/controls",
          "model_name": "HTMLModel",
          "model_module_version": "1.5.0",
          "state": {
            "_dom_classes": [],
            "_model_module": "@jupyter-widgets/controls",
            "_model_module_version": "1.5.0",
            "_model_name": "HTMLModel",
            "_view_count": null,
            "_view_module": "@jupyter-widgets/controls",
            "_view_module_version": "1.5.0",
            "_view_name": "HTMLView",
            "description": "",
            "description_tooltip": null,
            "layout": "IPY_MODEL_0c36309e8faa49fab4944331c33d4ea5",
            "placeholder": "​",
            "style": "IPY_MODEL_70f320f2a23e4874b6f9f1b2b386ff09",
            "value": "100%"
          }
        },
        "52aa0556ac0747c68e66e900f6530bac": {
          "model_module": "@jupyter-widgets/controls",
          "model_name": "FloatProgressModel",
          "model_module_version": "1.5.0",
          "state": {
            "_dom_classes": [],
            "_model_module": "@jupyter-widgets/controls",
            "_model_module_version": "1.5.0",
            "_model_name": "FloatProgressModel",
            "_view_count": null,
            "_view_module": "@jupyter-widgets/controls",
            "_view_module_version": "1.5.0",
            "_view_name": "ProgressView",
            "bar_style": "success",
            "description": "",
            "description_tooltip": null,
            "layout": "IPY_MODEL_5c3d6c2d43954d80a4dd27f685537bfa",
            "max": 3,
            "min": 0,
            "orientation": "horizontal",
            "style": "IPY_MODEL_a2fa8c7746c5446a85436dcf13d5f46f",
            "value": 3
          }
        },
        "2c4f74a0ba2c47e887cd609b764cd283": {
          "model_module": "@jupyter-widgets/controls",
          "model_name": "HTMLModel",
          "model_module_version": "1.5.0",
          "state": {
            "_dom_classes": [],
            "_model_module": "@jupyter-widgets/controls",
            "_model_module_version": "1.5.0",
            "_model_name": "HTMLModel",
            "_view_count": null,
            "_view_module": "@jupyter-widgets/controls",
            "_view_module_version": "1.5.0",
            "_view_name": "HTMLView",
            "description": "",
            "description_tooltip": null,
            "layout": "IPY_MODEL_6ca462a3d36340579156e7ea5264ddd1",
            "placeholder": "​",
            "style": "IPY_MODEL_fcc985584ed44bb797632bddee623722",
            "value": " 3/3 [00:29&lt;00:00,  9.75s/it]"
          }
        },
        "69d1e7ec63034f3ca2797114574b9c85": {
          "model_module": "@jupyter-widgets/base",
          "model_name": "LayoutModel",
          "model_module_version": "1.2.0",
          "state": {
            "_model_module": "@jupyter-widgets/base",
            "_model_module_version": "1.2.0",
            "_model_name": "LayoutModel",
            "_view_count": null,
            "_view_module": "@jupyter-widgets/base",
            "_view_module_version": "1.2.0",
            "_view_name": "LayoutView",
            "align_content": null,
            "align_items": null,
            "align_self": null,
            "border": null,
            "bottom": null,
            "display": null,
            "flex": null,
            "flex_flow": null,
            "grid_area": null,
            "grid_auto_columns": null,
            "grid_auto_flow": null,
            "grid_auto_rows": null,
            "grid_column": null,
            "grid_gap": null,
            "grid_row": null,
            "grid_template_areas": null,
            "grid_template_columns": null,
            "grid_template_rows": null,
            "height": null,
            "justify_content": null,
            "justify_items": null,
            "left": null,
            "margin": null,
            "max_height": null,
            "max_width": null,
            "min_height": null,
            "min_width": null,
            "object_fit": null,
            "object_position": null,
            "order": null,
            "overflow": null,
            "overflow_x": null,
            "overflow_y": null,
            "padding": null,
            "right": null,
            "top": null,
            "visibility": null,
            "width": null
          }
        },
        "0c36309e8faa49fab4944331c33d4ea5": {
          "model_module": "@jupyter-widgets/base",
          "model_name": "LayoutModel",
          "model_module_version": "1.2.0",
          "state": {
            "_model_module": "@jupyter-widgets/base",
            "_model_module_version": "1.2.0",
            "_model_name": "LayoutModel",
            "_view_count": null,
            "_view_module": "@jupyter-widgets/base",
            "_view_module_version": "1.2.0",
            "_view_name": "LayoutView",
            "align_content": null,
            "align_items": null,
            "align_self": null,
            "border": null,
            "bottom": null,
            "display": null,
            "flex": null,
            "flex_flow": null,
            "grid_area": null,
            "grid_auto_columns": null,
            "grid_auto_flow": null,
            "grid_auto_rows": null,
            "grid_column": null,
            "grid_gap": null,
            "grid_row": null,
            "grid_template_areas": null,
            "grid_template_columns": null,
            "grid_template_rows": null,
            "height": null,
            "justify_content": null,
            "justify_items": null,
            "left": null,
            "margin": null,
            "max_height": null,
            "max_width": null,
            "min_height": null,
            "min_width": null,
            "object_fit": null,
            "object_position": null,
            "order": null,
            "overflow": null,
            "overflow_x": null,
            "overflow_y": null,
            "padding": null,
            "right": null,
            "top": null,
            "visibility": null,
            "width": null
          }
        },
        "70f320f2a23e4874b6f9f1b2b386ff09": {
          "model_module": "@jupyter-widgets/controls",
          "model_name": "DescriptionStyleModel",
          "model_module_version": "1.5.0",
          "state": {
            "_model_module": "@jupyter-widgets/controls",
            "_model_module_version": "1.5.0",
            "_model_name": "DescriptionStyleModel",
            "_view_count": null,
            "_view_module": "@jupyter-widgets/base",
            "_view_module_version": "1.2.0",
            "_view_name": "StyleView",
            "description_width": ""
          }
        },
        "5c3d6c2d43954d80a4dd27f685537bfa": {
          "model_module": "@jupyter-widgets/base",
          "model_name": "LayoutModel",
          "model_module_version": "1.2.0",
          "state": {
            "_model_module": "@jupyter-widgets/base",
            "_model_module_version": "1.2.0",
            "_model_name": "LayoutModel",
            "_view_count": null,
            "_view_module": "@jupyter-widgets/base",
            "_view_module_version": "1.2.0",
            "_view_name": "LayoutView",
            "align_content": null,
            "align_items": null,
            "align_self": null,
            "border": null,
            "bottom": null,
            "display": null,
            "flex": null,
            "flex_flow": null,
            "grid_area": null,
            "grid_auto_columns": null,
            "grid_auto_flow": null,
            "grid_auto_rows": null,
            "grid_column": null,
            "grid_gap": null,
            "grid_row": null,
            "grid_template_areas": null,
            "grid_template_columns": null,
            "grid_template_rows": null,
            "height": null,
            "justify_content": null,
            "justify_items": null,
            "left": null,
            "margin": null,
            "max_height": null,
            "max_width": null,
            "min_height": null,
            "min_width": null,
            "object_fit": null,
            "object_position": null,
            "order": null,
            "overflow": null,
            "overflow_x": null,
            "overflow_y": null,
            "padding": null,
            "right": null,
            "top": null,
            "visibility": null,
            "width": null
          }
        },
        "a2fa8c7746c5446a85436dcf13d5f46f": {
          "model_module": "@jupyter-widgets/controls",
          "model_name": "ProgressStyleModel",
          "model_module_version": "1.5.0",
          "state": {
            "_model_module": "@jupyter-widgets/controls",
            "_model_module_version": "1.5.0",
            "_model_name": "ProgressStyleModel",
            "_view_count": null,
            "_view_module": "@jupyter-widgets/base",
            "_view_module_version": "1.2.0",
            "_view_name": "StyleView",
            "bar_color": null,
            "description_width": ""
          }
        },
        "6ca462a3d36340579156e7ea5264ddd1": {
          "model_module": "@jupyter-widgets/base",
          "model_name": "LayoutModel",
          "model_module_version": "1.2.0",
          "state": {
            "_model_module": "@jupyter-widgets/base",
            "_model_module_version": "1.2.0",
            "_model_name": "LayoutModel",
            "_view_count": null,
            "_view_module": "@jupyter-widgets/base",
            "_view_module_version": "1.2.0",
            "_view_name": "LayoutView",
            "align_content": null,
            "align_items": null,
            "align_self": null,
            "border": null,
            "bottom": null,
            "display": null,
            "flex": null,
            "flex_flow": null,
            "grid_area": null,
            "grid_auto_columns": null,
            "grid_auto_flow": null,
            "grid_auto_rows": null,
            "grid_column": null,
            "grid_gap": null,
            "grid_row": null,
            "grid_template_areas": null,
            "grid_template_columns": null,
            "grid_template_rows": null,
            "height": null,
            "justify_content": null,
            "justify_items": null,
            "left": null,
            "margin": null,
            "max_height": null,
            "max_width": null,
            "min_height": null,
            "min_width": null,
            "object_fit": null,
            "object_position": null,
            "order": null,
            "overflow": null,
            "overflow_x": null,
            "overflow_y": null,
            "padding": null,
            "right": null,
            "top": null,
            "visibility": null,
            "width": null
          }
        },
        "fcc985584ed44bb797632bddee623722": {
          "model_module": "@jupyter-widgets/controls",
          "model_name": "DescriptionStyleModel",
          "model_module_version": "1.5.0",
          "state": {
            "_model_module": "@jupyter-widgets/controls",
            "_model_module_version": "1.5.0",
            "_model_name": "DescriptionStyleModel",
            "_view_count": null,
            "_view_module": "@jupyter-widgets/base",
            "_view_module_version": "1.2.0",
            "_view_name": "StyleView",
            "description_width": ""
          }
        },
        "1062c06ba43345ee87e2096e6f385acd": {
          "model_module": "@jupyter-widgets/controls",
          "model_name": "HBoxModel",
          "model_module_version": "1.5.0",
          "state": {
            "_dom_classes": [],
            "_model_module": "@jupyter-widgets/controls",
            "_model_module_version": "1.5.0",
            "_model_name": "HBoxModel",
            "_view_count": null,
            "_view_module": "@jupyter-widgets/controls",
            "_view_module_version": "1.5.0",
            "_view_name": "HBoxView",
            "box_style": "",
            "children": [
              "IPY_MODEL_94bbfd3781b545168cdd9ae93a6af74e",
              "IPY_MODEL_c292e7f7b1c147bb97f7f6d8c4a243ea",
              "IPY_MODEL_60fc35808ba64730a6919c1bccb40d69"
            ],
            "layout": "IPY_MODEL_c94060aa954945deba1b37ce20261e58"
          }
        },
        "94bbfd3781b545168cdd9ae93a6af74e": {
          "model_module": "@jupyter-widgets/controls",
          "model_name": "HTMLModel",
          "model_module_version": "1.5.0",
          "state": {
            "_dom_classes": [],
            "_model_module": "@jupyter-widgets/controls",
            "_model_module_version": "1.5.0",
            "_model_name": "HTMLModel",
            "_view_count": null,
            "_view_module": "@jupyter-widgets/controls",
            "_view_module_version": "1.5.0",
            "_view_name": "HTMLView",
            "description": "",
            "description_tooltip": null,
            "layout": "IPY_MODEL_4983efa34a114cd9b82c0922799a0f26",
            "placeholder": "​",
            "style": "IPY_MODEL_1c44af8d0ee04462964bd273aea53d8a",
            "value": "100%"
          }
        },
        "c292e7f7b1c147bb97f7f6d8c4a243ea": {
          "model_module": "@jupyter-widgets/controls",
          "model_name": "FloatProgressModel",
          "model_module_version": "1.5.0",
          "state": {
            "_dom_classes": [],
            "_model_module": "@jupyter-widgets/controls",
            "_model_module_version": "1.5.0",
            "_model_name": "FloatProgressModel",
            "_view_count": null,
            "_view_module": "@jupyter-widgets/controls",
            "_view_module_version": "1.5.0",
            "_view_name": "ProgressView",
            "bar_style": "success",
            "description": "",
            "description_tooltip": null,
            "layout": "IPY_MODEL_ee406ce247fe4eef8d484205c44bdf74",
            "max": 313,
            "min": 0,
            "orientation": "horizontal",
            "style": "IPY_MODEL_8421fef07459431c8dd979599a213b89",
            "value": 313
          }
        },
        "60fc35808ba64730a6919c1bccb40d69": {
          "model_module": "@jupyter-widgets/controls",
          "model_name": "HTMLModel",
          "model_module_version": "1.5.0",
          "state": {
            "_dom_classes": [],
            "_model_module": "@jupyter-widgets/controls",
            "_model_module_version": "1.5.0",
            "_model_name": "HTMLModel",
            "_view_count": null,
            "_view_module": "@jupyter-widgets/controls",
            "_view_module_version": "1.5.0",
            "_view_name": "HTMLView",
            "description": "",
            "description_tooltip": null,
            "layout": "IPY_MODEL_41b3195cd9264658adb6e64c6f053c97",
            "placeholder": "​",
            "style": "IPY_MODEL_3c779cb468754ab7a597223ab52707bf",
            "value": " 313/313 [00:01&lt;00:00, 281.99it/s]"
          }
        },
        "c94060aa954945deba1b37ce20261e58": {
          "model_module": "@jupyter-widgets/base",
          "model_name": "LayoutModel",
          "model_module_version": "1.2.0",
          "state": {
            "_model_module": "@jupyter-widgets/base",
            "_model_module_version": "1.2.0",
            "_model_name": "LayoutModel",
            "_view_count": null,
            "_view_module": "@jupyter-widgets/base",
            "_view_module_version": "1.2.0",
            "_view_name": "LayoutView",
            "align_content": null,
            "align_items": null,
            "align_self": null,
            "border": null,
            "bottom": null,
            "display": null,
            "flex": null,
            "flex_flow": null,
            "grid_area": null,
            "grid_auto_columns": null,
            "grid_auto_flow": null,
            "grid_auto_rows": null,
            "grid_column": null,
            "grid_gap": null,
            "grid_row": null,
            "grid_template_areas": null,
            "grid_template_columns": null,
            "grid_template_rows": null,
            "height": null,
            "justify_content": null,
            "justify_items": null,
            "left": null,
            "margin": null,
            "max_height": null,
            "max_width": null,
            "min_height": null,
            "min_width": null,
            "object_fit": null,
            "object_position": null,
            "order": null,
            "overflow": null,
            "overflow_x": null,
            "overflow_y": null,
            "padding": null,
            "right": null,
            "top": null,
            "visibility": null,
            "width": null
          }
        },
        "4983efa34a114cd9b82c0922799a0f26": {
          "model_module": "@jupyter-widgets/base",
          "model_name": "LayoutModel",
          "model_module_version": "1.2.0",
          "state": {
            "_model_module": "@jupyter-widgets/base",
            "_model_module_version": "1.2.0",
            "_model_name": "LayoutModel",
            "_view_count": null,
            "_view_module": "@jupyter-widgets/base",
            "_view_module_version": "1.2.0",
            "_view_name": "LayoutView",
            "align_content": null,
            "align_items": null,
            "align_self": null,
            "border": null,
            "bottom": null,
            "display": null,
            "flex": null,
            "flex_flow": null,
            "grid_area": null,
            "grid_auto_columns": null,
            "grid_auto_flow": null,
            "grid_auto_rows": null,
            "grid_column": null,
            "grid_gap": null,
            "grid_row": null,
            "grid_template_areas": null,
            "grid_template_columns": null,
            "grid_template_rows": null,
            "height": null,
            "justify_content": null,
            "justify_items": null,
            "left": null,
            "margin": null,
            "max_height": null,
            "max_width": null,
            "min_height": null,
            "min_width": null,
            "object_fit": null,
            "object_position": null,
            "order": null,
            "overflow": null,
            "overflow_x": null,
            "overflow_y": null,
            "padding": null,
            "right": null,
            "top": null,
            "visibility": null,
            "width": null
          }
        },
        "1c44af8d0ee04462964bd273aea53d8a": {
          "model_module": "@jupyter-widgets/controls",
          "model_name": "DescriptionStyleModel",
          "model_module_version": "1.5.0",
          "state": {
            "_model_module": "@jupyter-widgets/controls",
            "_model_module_version": "1.5.0",
            "_model_name": "DescriptionStyleModel",
            "_view_count": null,
            "_view_module": "@jupyter-widgets/base",
            "_view_module_version": "1.2.0",
            "_view_name": "StyleView",
            "description_width": ""
          }
        },
        "ee406ce247fe4eef8d484205c44bdf74": {
          "model_module": "@jupyter-widgets/base",
          "model_name": "LayoutModel",
          "model_module_version": "1.2.0",
          "state": {
            "_model_module": "@jupyter-widgets/base",
            "_model_module_version": "1.2.0",
            "_model_name": "LayoutModel",
            "_view_count": null,
            "_view_module": "@jupyter-widgets/base",
            "_view_module_version": "1.2.0",
            "_view_name": "LayoutView",
            "align_content": null,
            "align_items": null,
            "align_self": null,
            "border": null,
            "bottom": null,
            "display": null,
            "flex": null,
            "flex_flow": null,
            "grid_area": null,
            "grid_auto_columns": null,
            "grid_auto_flow": null,
            "grid_auto_rows": null,
            "grid_column": null,
            "grid_gap": null,
            "grid_row": null,
            "grid_template_areas": null,
            "grid_template_columns": null,
            "grid_template_rows": null,
            "height": null,
            "justify_content": null,
            "justify_items": null,
            "left": null,
            "margin": null,
            "max_height": null,
            "max_width": null,
            "min_height": null,
            "min_width": null,
            "object_fit": null,
            "object_position": null,
            "order": null,
            "overflow": null,
            "overflow_x": null,
            "overflow_y": null,
            "padding": null,
            "right": null,
            "top": null,
            "visibility": null,
            "width": null
          }
        },
        "8421fef07459431c8dd979599a213b89": {
          "model_module": "@jupyter-widgets/controls",
          "model_name": "ProgressStyleModel",
          "model_module_version": "1.5.0",
          "state": {
            "_model_module": "@jupyter-widgets/controls",
            "_model_module_version": "1.5.0",
            "_model_name": "ProgressStyleModel",
            "_view_count": null,
            "_view_module": "@jupyter-widgets/base",
            "_view_module_version": "1.2.0",
            "_view_name": "StyleView",
            "bar_color": null,
            "description_width": ""
          }
        },
        "41b3195cd9264658adb6e64c6f053c97": {
          "model_module": "@jupyter-widgets/base",
          "model_name": "LayoutModel",
          "model_module_version": "1.2.0",
          "state": {
            "_model_module": "@jupyter-widgets/base",
            "_model_module_version": "1.2.0",
            "_model_name": "LayoutModel",
            "_view_count": null,
            "_view_module": "@jupyter-widgets/base",
            "_view_module_version": "1.2.0",
            "_view_name": "LayoutView",
            "align_content": null,
            "align_items": null,
            "align_self": null,
            "border": null,
            "bottom": null,
            "display": null,
            "flex": null,
            "flex_flow": null,
            "grid_area": null,
            "grid_auto_columns": null,
            "grid_auto_flow": null,
            "grid_auto_rows": null,
            "grid_column": null,
            "grid_gap": null,
            "grid_row": null,
            "grid_template_areas": null,
            "grid_template_columns": null,
            "grid_template_rows": null,
            "height": null,
            "justify_content": null,
            "justify_items": null,
            "left": null,
            "margin": null,
            "max_height": null,
            "max_width": null,
            "min_height": null,
            "min_width": null,
            "object_fit": null,
            "object_position": null,
            "order": null,
            "overflow": null,
            "overflow_x": null,
            "overflow_y": null,
            "padding": null,
            "right": null,
            "top": null,
            "visibility": null,
            "width": null
          }
        },
        "3c779cb468754ab7a597223ab52707bf": {
          "model_module": "@jupyter-widgets/controls",
          "model_name": "DescriptionStyleModel",
          "model_module_version": "1.5.0",
          "state": {
            "_model_module": "@jupyter-widgets/controls",
            "_model_module_version": "1.5.0",
            "_model_name": "DescriptionStyleModel",
            "_view_count": null,
            "_view_module": "@jupyter-widgets/base",
            "_view_module_version": "1.2.0",
            "_view_name": "StyleView",
            "description_width": ""
          }
        },
        "7a6ee27417e447ae9c9fea66f8c44e6d": {
          "model_module": "@jupyter-widgets/controls",
          "model_name": "HBoxModel",
          "model_module_version": "1.5.0",
          "state": {
            "_dom_classes": [],
            "_model_module": "@jupyter-widgets/controls",
            "_model_module_version": "1.5.0",
            "_model_name": "HBoxModel",
            "_view_count": null,
            "_view_module": "@jupyter-widgets/controls",
            "_view_module_version": "1.5.0",
            "_view_name": "HBoxView",
            "box_style": "",
            "children": [
              "IPY_MODEL_43455a2919e14f84a94fcce0056e6aa3",
              "IPY_MODEL_a41ff03baff443d582a88c883a1646bd",
              "IPY_MODEL_8b25fe80ec434a98a58b83a291a28c9b"
            ],
            "layout": "IPY_MODEL_ccdf1f24f80a4f7b9bc3d73b6256d46b"
          }
        },
        "43455a2919e14f84a94fcce0056e6aa3": {
          "model_module": "@jupyter-widgets/controls",
          "model_name": "HTMLModel",
          "model_module_version": "1.5.0",
          "state": {
            "_dom_classes": [],
            "_model_module": "@jupyter-widgets/controls",
            "_model_module_version": "1.5.0",
            "_model_name": "HTMLModel",
            "_view_count": null,
            "_view_module": "@jupyter-widgets/controls",
            "_view_module_version": "1.5.0",
            "_view_name": "HTMLView",
            "description": "",
            "description_tooltip": null,
            "layout": "IPY_MODEL_a43278abe1cb45b8be37d241d04d1bfa",
            "placeholder": "​",
            "style": "IPY_MODEL_69f1758a599d4b15a42e5b154eccdd8a",
            "value": "100%"
          }
        },
        "a41ff03baff443d582a88c883a1646bd": {
          "model_module": "@jupyter-widgets/controls",
          "model_name": "FloatProgressModel",
          "model_module_version": "1.5.0",
          "state": {
            "_dom_classes": [],
            "_model_module": "@jupyter-widgets/controls",
            "_model_module_version": "1.5.0",
            "_model_name": "FloatProgressModel",
            "_view_count": null,
            "_view_module": "@jupyter-widgets/controls",
            "_view_module_version": "1.5.0",
            "_view_name": "ProgressView",
            "bar_style": "success",
            "description": "",
            "description_tooltip": null,
            "layout": "IPY_MODEL_4be915928d514aed83caa4f82a96c4dc",
            "max": 3,
            "min": 0,
            "orientation": "horizontal",
            "style": "IPY_MODEL_b4c40cc9565440fa9b04d0df3e8859e4",
            "value": 3
          }
        },
        "8b25fe80ec434a98a58b83a291a28c9b": {
          "model_module": "@jupyter-widgets/controls",
          "model_name": "HTMLModel",
          "model_module_version": "1.5.0",
          "state": {
            "_dom_classes": [],
            "_model_module": "@jupyter-widgets/controls",
            "_model_module_version": "1.5.0",
            "_model_name": "HTMLModel",
            "_view_count": null,
            "_view_module": "@jupyter-widgets/controls",
            "_view_module_version": "1.5.0",
            "_view_name": "HTMLView",
            "description": "",
            "description_tooltip": null,
            "layout": "IPY_MODEL_a6c22588f86241a98b6aedde2a68adac",
            "placeholder": "​",
            "style": "IPY_MODEL_1617412a8c61452cae1dbaa7ec7e9bb1",
            "value": " 3/3 [00:36&lt;00:00, 12.36s/it]"
          }
        },
        "ccdf1f24f80a4f7b9bc3d73b6256d46b": {
          "model_module": "@jupyter-widgets/base",
          "model_name": "LayoutModel",
          "model_module_version": "1.2.0",
          "state": {
            "_model_module": "@jupyter-widgets/base",
            "_model_module_version": "1.2.0",
            "_model_name": "LayoutModel",
            "_view_count": null,
            "_view_module": "@jupyter-widgets/base",
            "_view_module_version": "1.2.0",
            "_view_name": "LayoutView",
            "align_content": null,
            "align_items": null,
            "align_self": null,
            "border": null,
            "bottom": null,
            "display": null,
            "flex": null,
            "flex_flow": null,
            "grid_area": null,
            "grid_auto_columns": null,
            "grid_auto_flow": null,
            "grid_auto_rows": null,
            "grid_column": null,
            "grid_gap": null,
            "grid_row": null,
            "grid_template_areas": null,
            "grid_template_columns": null,
            "grid_template_rows": null,
            "height": null,
            "justify_content": null,
            "justify_items": null,
            "left": null,
            "margin": null,
            "max_height": null,
            "max_width": null,
            "min_height": null,
            "min_width": null,
            "object_fit": null,
            "object_position": null,
            "order": null,
            "overflow": null,
            "overflow_x": null,
            "overflow_y": null,
            "padding": null,
            "right": null,
            "top": null,
            "visibility": null,
            "width": null
          }
        },
        "a43278abe1cb45b8be37d241d04d1bfa": {
          "model_module": "@jupyter-widgets/base",
          "model_name": "LayoutModel",
          "model_module_version": "1.2.0",
          "state": {
            "_model_module": "@jupyter-widgets/base",
            "_model_module_version": "1.2.0",
            "_model_name": "LayoutModel",
            "_view_count": null,
            "_view_module": "@jupyter-widgets/base",
            "_view_module_version": "1.2.0",
            "_view_name": "LayoutView",
            "align_content": null,
            "align_items": null,
            "align_self": null,
            "border": null,
            "bottom": null,
            "display": null,
            "flex": null,
            "flex_flow": null,
            "grid_area": null,
            "grid_auto_columns": null,
            "grid_auto_flow": null,
            "grid_auto_rows": null,
            "grid_column": null,
            "grid_gap": null,
            "grid_row": null,
            "grid_template_areas": null,
            "grid_template_columns": null,
            "grid_template_rows": null,
            "height": null,
            "justify_content": null,
            "justify_items": null,
            "left": null,
            "margin": null,
            "max_height": null,
            "max_width": null,
            "min_height": null,
            "min_width": null,
            "object_fit": null,
            "object_position": null,
            "order": null,
            "overflow": null,
            "overflow_x": null,
            "overflow_y": null,
            "padding": null,
            "right": null,
            "top": null,
            "visibility": null,
            "width": null
          }
        },
        "69f1758a599d4b15a42e5b154eccdd8a": {
          "model_module": "@jupyter-widgets/controls",
          "model_name": "DescriptionStyleModel",
          "model_module_version": "1.5.0",
          "state": {
            "_model_module": "@jupyter-widgets/controls",
            "_model_module_version": "1.5.0",
            "_model_name": "DescriptionStyleModel",
            "_view_count": null,
            "_view_module": "@jupyter-widgets/base",
            "_view_module_version": "1.2.0",
            "_view_name": "StyleView",
            "description_width": ""
          }
        },
        "4be915928d514aed83caa4f82a96c4dc": {
          "model_module": "@jupyter-widgets/base",
          "model_name": "LayoutModel",
          "model_module_version": "1.2.0",
          "state": {
            "_model_module": "@jupyter-widgets/base",
            "_model_module_version": "1.2.0",
            "_model_name": "LayoutModel",
            "_view_count": null,
            "_view_module": "@jupyter-widgets/base",
            "_view_module_version": "1.2.0",
            "_view_name": "LayoutView",
            "align_content": null,
            "align_items": null,
            "align_self": null,
            "border": null,
            "bottom": null,
            "display": null,
            "flex": null,
            "flex_flow": null,
            "grid_area": null,
            "grid_auto_columns": null,
            "grid_auto_flow": null,
            "grid_auto_rows": null,
            "grid_column": null,
            "grid_gap": null,
            "grid_row": null,
            "grid_template_areas": null,
            "grid_template_columns": null,
            "grid_template_rows": null,
            "height": null,
            "justify_content": null,
            "justify_items": null,
            "left": null,
            "margin": null,
            "max_height": null,
            "max_width": null,
            "min_height": null,
            "min_width": null,
            "object_fit": null,
            "object_position": null,
            "order": null,
            "overflow": null,
            "overflow_x": null,
            "overflow_y": null,
            "padding": null,
            "right": null,
            "top": null,
            "visibility": null,
            "width": null
          }
        },
        "b4c40cc9565440fa9b04d0df3e8859e4": {
          "model_module": "@jupyter-widgets/controls",
          "model_name": "ProgressStyleModel",
          "model_module_version": "1.5.0",
          "state": {
            "_model_module": "@jupyter-widgets/controls",
            "_model_module_version": "1.5.0",
            "_model_name": "ProgressStyleModel",
            "_view_count": null,
            "_view_module": "@jupyter-widgets/base",
            "_view_module_version": "1.2.0",
            "_view_name": "StyleView",
            "bar_color": null,
            "description_width": ""
          }
        },
        "a6c22588f86241a98b6aedde2a68adac": {
          "model_module": "@jupyter-widgets/base",
          "model_name": "LayoutModel",
          "model_module_version": "1.2.0",
          "state": {
            "_model_module": "@jupyter-widgets/base",
            "_model_module_version": "1.2.0",
            "_model_name": "LayoutModel",
            "_view_count": null,
            "_view_module": "@jupyter-widgets/base",
            "_view_module_version": "1.2.0",
            "_view_name": "LayoutView",
            "align_content": null,
            "align_items": null,
            "align_self": null,
            "border": null,
            "bottom": null,
            "display": null,
            "flex": null,
            "flex_flow": null,
            "grid_area": null,
            "grid_auto_columns": null,
            "grid_auto_flow": null,
            "grid_auto_rows": null,
            "grid_column": null,
            "grid_gap": null,
            "grid_row": null,
            "grid_template_areas": null,
            "grid_template_columns": null,
            "grid_template_rows": null,
            "height": null,
            "justify_content": null,
            "justify_items": null,
            "left": null,
            "margin": null,
            "max_height": null,
            "max_width": null,
            "min_height": null,
            "min_width": null,
            "object_fit": null,
            "object_position": null,
            "order": null,
            "overflow": null,
            "overflow_x": null,
            "overflow_y": null,
            "padding": null,
            "right": null,
            "top": null,
            "visibility": null,
            "width": null
          }
        },
        "1617412a8c61452cae1dbaa7ec7e9bb1": {
          "model_module": "@jupyter-widgets/controls",
          "model_name": "DescriptionStyleModel",
          "model_module_version": "1.5.0",
          "state": {
            "_model_module": "@jupyter-widgets/controls",
            "_model_module_version": "1.5.0",
            "_model_name": "DescriptionStyleModel",
            "_view_count": null,
            "_view_module": "@jupyter-widgets/base",
            "_view_module_version": "1.2.0",
            "_view_name": "StyleView",
            "description_width": ""
          }
        },
        "54c29f25bfd74d6381f3c8f4297940ba": {
          "model_module": "@jupyter-widgets/controls",
          "model_name": "HBoxModel",
          "model_module_version": "1.5.0",
          "state": {
            "_dom_classes": [],
            "_model_module": "@jupyter-widgets/controls",
            "_model_module_version": "1.5.0",
            "_model_name": "HBoxModel",
            "_view_count": null,
            "_view_module": "@jupyter-widgets/controls",
            "_view_module_version": "1.5.0",
            "_view_name": "HBoxView",
            "box_style": "",
            "children": [
              "IPY_MODEL_48e00169802547a99cf4ff9273e0c039",
              "IPY_MODEL_278b0e81293d47b2ad60be9fd9dba11a",
              "IPY_MODEL_a33acc26926e4da78ed2c040637d32fe"
            ],
            "layout": "IPY_MODEL_5eb8fd54e0224411b6ec6addb1379d40"
          }
        },
        "48e00169802547a99cf4ff9273e0c039": {
          "model_module": "@jupyter-widgets/controls",
          "model_name": "HTMLModel",
          "model_module_version": "1.5.0",
          "state": {
            "_dom_classes": [],
            "_model_module": "@jupyter-widgets/controls",
            "_model_module_version": "1.5.0",
            "_model_name": "HTMLModel",
            "_view_count": null,
            "_view_module": "@jupyter-widgets/controls",
            "_view_module_version": "1.5.0",
            "_view_name": "HTMLView",
            "description": "",
            "description_tooltip": null,
            "layout": "IPY_MODEL_f5d95c82061b4588a1c5742c51ce332a",
            "placeholder": "​",
            "style": "IPY_MODEL_332d20ed7ac440ac90775e1fc2f7e872",
            "value": "100%"
          }
        },
        "278b0e81293d47b2ad60be9fd9dba11a": {
          "model_module": "@jupyter-widgets/controls",
          "model_name": "FloatProgressModel",
          "model_module_version": "1.5.0",
          "state": {
            "_dom_classes": [],
            "_model_module": "@jupyter-widgets/controls",
            "_model_module_version": "1.5.0",
            "_model_name": "FloatProgressModel",
            "_view_count": null,
            "_view_module": "@jupyter-widgets/controls",
            "_view_module_version": "1.5.0",
            "_view_name": "ProgressView",
            "bar_style": "success",
            "description": "",
            "description_tooltip": null,
            "layout": "IPY_MODEL_8234ded416964e2a9f22dcdccd1eb041",
            "max": 313,
            "min": 0,
            "orientation": "horizontal",
            "style": "IPY_MODEL_684bf7f83a34475091af71fc6c4ec00c",
            "value": 313
          }
        },
        "a33acc26926e4da78ed2c040637d32fe": {
          "model_module": "@jupyter-widgets/controls",
          "model_name": "HTMLModel",
          "model_module_version": "1.5.0",
          "state": {
            "_dom_classes": [],
            "_model_module": "@jupyter-widgets/controls",
            "_model_module_version": "1.5.0",
            "_model_name": "HTMLModel",
            "_view_count": null,
            "_view_module": "@jupyter-widgets/controls",
            "_view_module_version": "1.5.0",
            "_view_name": "HTMLView",
            "description": "",
            "description_tooltip": null,
            "layout": "IPY_MODEL_348f00ad58f1448caee16f0a50a18c53",
            "placeholder": "​",
            "style": "IPY_MODEL_d07c8c5f12fc41bb87edced4b4bbb55a",
            "value": " 313/313 [00:01&lt;00:00, 266.42it/s]"
          }
        },
        "5eb8fd54e0224411b6ec6addb1379d40": {
          "model_module": "@jupyter-widgets/base",
          "model_name": "LayoutModel",
          "model_module_version": "1.2.0",
          "state": {
            "_model_module": "@jupyter-widgets/base",
            "_model_module_version": "1.2.0",
            "_model_name": "LayoutModel",
            "_view_count": null,
            "_view_module": "@jupyter-widgets/base",
            "_view_module_version": "1.2.0",
            "_view_name": "LayoutView",
            "align_content": null,
            "align_items": null,
            "align_self": null,
            "border": null,
            "bottom": null,
            "display": null,
            "flex": null,
            "flex_flow": null,
            "grid_area": null,
            "grid_auto_columns": null,
            "grid_auto_flow": null,
            "grid_auto_rows": null,
            "grid_column": null,
            "grid_gap": null,
            "grid_row": null,
            "grid_template_areas": null,
            "grid_template_columns": null,
            "grid_template_rows": null,
            "height": null,
            "justify_content": null,
            "justify_items": null,
            "left": null,
            "margin": null,
            "max_height": null,
            "max_width": null,
            "min_height": null,
            "min_width": null,
            "object_fit": null,
            "object_position": null,
            "order": null,
            "overflow": null,
            "overflow_x": null,
            "overflow_y": null,
            "padding": null,
            "right": null,
            "top": null,
            "visibility": null,
            "width": null
          }
        },
        "f5d95c82061b4588a1c5742c51ce332a": {
          "model_module": "@jupyter-widgets/base",
          "model_name": "LayoutModel",
          "model_module_version": "1.2.0",
          "state": {
            "_model_module": "@jupyter-widgets/base",
            "_model_module_version": "1.2.0",
            "_model_name": "LayoutModel",
            "_view_count": null,
            "_view_module": "@jupyter-widgets/base",
            "_view_module_version": "1.2.0",
            "_view_name": "LayoutView",
            "align_content": null,
            "align_items": null,
            "align_self": null,
            "border": null,
            "bottom": null,
            "display": null,
            "flex": null,
            "flex_flow": null,
            "grid_area": null,
            "grid_auto_columns": null,
            "grid_auto_flow": null,
            "grid_auto_rows": null,
            "grid_column": null,
            "grid_gap": null,
            "grid_row": null,
            "grid_template_areas": null,
            "grid_template_columns": null,
            "grid_template_rows": null,
            "height": null,
            "justify_content": null,
            "justify_items": null,
            "left": null,
            "margin": null,
            "max_height": null,
            "max_width": null,
            "min_height": null,
            "min_width": null,
            "object_fit": null,
            "object_position": null,
            "order": null,
            "overflow": null,
            "overflow_x": null,
            "overflow_y": null,
            "padding": null,
            "right": null,
            "top": null,
            "visibility": null,
            "width": null
          }
        },
        "332d20ed7ac440ac90775e1fc2f7e872": {
          "model_module": "@jupyter-widgets/controls",
          "model_name": "DescriptionStyleModel",
          "model_module_version": "1.5.0",
          "state": {
            "_model_module": "@jupyter-widgets/controls",
            "_model_module_version": "1.5.0",
            "_model_name": "DescriptionStyleModel",
            "_view_count": null,
            "_view_module": "@jupyter-widgets/base",
            "_view_module_version": "1.2.0",
            "_view_name": "StyleView",
            "description_width": ""
          }
        },
        "8234ded416964e2a9f22dcdccd1eb041": {
          "model_module": "@jupyter-widgets/base",
          "model_name": "LayoutModel",
          "model_module_version": "1.2.0",
          "state": {
            "_model_module": "@jupyter-widgets/base",
            "_model_module_version": "1.2.0",
            "_model_name": "LayoutModel",
            "_view_count": null,
            "_view_module": "@jupyter-widgets/base",
            "_view_module_version": "1.2.0",
            "_view_name": "LayoutView",
            "align_content": null,
            "align_items": null,
            "align_self": null,
            "border": null,
            "bottom": null,
            "display": null,
            "flex": null,
            "flex_flow": null,
            "grid_area": null,
            "grid_auto_columns": null,
            "grid_auto_flow": null,
            "grid_auto_rows": null,
            "grid_column": null,
            "grid_gap": null,
            "grid_row": null,
            "grid_template_areas": null,
            "grid_template_columns": null,
            "grid_template_rows": null,
            "height": null,
            "justify_content": null,
            "justify_items": null,
            "left": null,
            "margin": null,
            "max_height": null,
            "max_width": null,
            "min_height": null,
            "min_width": null,
            "object_fit": null,
            "object_position": null,
            "order": null,
            "overflow": null,
            "overflow_x": null,
            "overflow_y": null,
            "padding": null,
            "right": null,
            "top": null,
            "visibility": null,
            "width": null
          }
        },
        "684bf7f83a34475091af71fc6c4ec00c": {
          "model_module": "@jupyter-widgets/controls",
          "model_name": "ProgressStyleModel",
          "model_module_version": "1.5.0",
          "state": {
            "_model_module": "@jupyter-widgets/controls",
            "_model_module_version": "1.5.0",
            "_model_name": "ProgressStyleModel",
            "_view_count": null,
            "_view_module": "@jupyter-widgets/base",
            "_view_module_version": "1.2.0",
            "_view_name": "StyleView",
            "bar_color": null,
            "description_width": ""
          }
        },
        "348f00ad58f1448caee16f0a50a18c53": {
          "model_module": "@jupyter-widgets/base",
          "model_name": "LayoutModel",
          "model_module_version": "1.2.0",
          "state": {
            "_model_module": "@jupyter-widgets/base",
            "_model_module_version": "1.2.0",
            "_model_name": "LayoutModel",
            "_view_count": null,
            "_view_module": "@jupyter-widgets/base",
            "_view_module_version": "1.2.0",
            "_view_name": "LayoutView",
            "align_content": null,
            "align_items": null,
            "align_self": null,
            "border": null,
            "bottom": null,
            "display": null,
            "flex": null,
            "flex_flow": null,
            "grid_area": null,
            "grid_auto_columns": null,
            "grid_auto_flow": null,
            "grid_auto_rows": null,
            "grid_column": null,
            "grid_gap": null,
            "grid_row": null,
            "grid_template_areas": null,
            "grid_template_columns": null,
            "grid_template_rows": null,
            "height": null,
            "justify_content": null,
            "justify_items": null,
            "left": null,
            "margin": null,
            "max_height": null,
            "max_width": null,
            "min_height": null,
            "min_width": null,
            "object_fit": null,
            "object_position": null,
            "order": null,
            "overflow": null,
            "overflow_x": null,
            "overflow_y": null,
            "padding": null,
            "right": null,
            "top": null,
            "visibility": null,
            "width": null
          }
        },
        "d07c8c5f12fc41bb87edced4b4bbb55a": {
          "model_module": "@jupyter-widgets/controls",
          "model_name": "DescriptionStyleModel",
          "model_module_version": "1.5.0",
          "state": {
            "_model_module": "@jupyter-widgets/controls",
            "_model_module_version": "1.5.0",
            "_model_name": "DescriptionStyleModel",
            "_view_count": null,
            "_view_module": "@jupyter-widgets/base",
            "_view_module_version": "1.2.0",
            "_view_name": "StyleView",
            "description_width": ""
          }
        },
        "9642888a1b7e41078afd376e5431371a": {
          "model_module": "@jupyter-widgets/controls",
          "model_name": "HBoxModel",
          "model_module_version": "1.5.0",
          "state": {
            "_dom_classes": [],
            "_model_module": "@jupyter-widgets/controls",
            "_model_module_version": "1.5.0",
            "_model_name": "HBoxModel",
            "_view_count": null,
            "_view_module": "@jupyter-widgets/controls",
            "_view_module_version": "1.5.0",
            "_view_name": "HBoxView",
            "box_style": "",
            "children": [
              "IPY_MODEL_d943ad50fa764524b9a07bde66abe2c2",
              "IPY_MODEL_d9416277b0304001b6df52f3f7f34f90",
              "IPY_MODEL_82b120d327c0401fb6903a783e128d14"
            ],
            "layout": "IPY_MODEL_ba3329e516e9486482970a5be15a307d"
          }
        },
        "d943ad50fa764524b9a07bde66abe2c2": {
          "model_module": "@jupyter-widgets/controls",
          "model_name": "HTMLModel",
          "model_module_version": "1.5.0",
          "state": {
            "_dom_classes": [],
            "_model_module": "@jupyter-widgets/controls",
            "_model_module_version": "1.5.0",
            "_model_name": "HTMLModel",
            "_view_count": null,
            "_view_module": "@jupyter-widgets/controls",
            "_view_module_version": "1.5.0",
            "_view_name": "HTMLView",
            "description": "",
            "description_tooltip": null,
            "layout": "IPY_MODEL_030ce50972b34e0db7a6194777351e75",
            "placeholder": "​",
            "style": "IPY_MODEL_ae14b1f26c2d42159fd42cf3598eef8d",
            "value": "Making predictions...: 100%"
          }
        },
        "d9416277b0304001b6df52f3f7f34f90": {
          "model_module": "@jupyter-widgets/controls",
          "model_name": "FloatProgressModel",
          "model_module_version": "1.5.0",
          "state": {
            "_dom_classes": [],
            "_model_module": "@jupyter-widgets/controls",
            "_model_module_version": "1.5.0",
            "_model_name": "FloatProgressModel",
            "_view_count": null,
            "_view_module": "@jupyter-widgets/controls",
            "_view_module_version": "1.5.0",
            "_view_name": "ProgressView",
            "bar_style": "success",
            "description": "",
            "description_tooltip": null,
            "layout": "IPY_MODEL_54d50de76b8b4bf78d3ce8d61ffbbee7",
            "max": 313,
            "min": 0,
            "orientation": "horizontal",
            "style": "IPY_MODEL_1316d03ea11e4ca5b869a78cdf925bfa",
            "value": 313
          }
        },
        "82b120d327c0401fb6903a783e128d14": {
          "model_module": "@jupyter-widgets/controls",
          "model_name": "HTMLModel",
          "model_module_version": "1.5.0",
          "state": {
            "_dom_classes": [],
            "_model_module": "@jupyter-widgets/controls",
            "_model_module_version": "1.5.0",
            "_model_name": "HTMLModel",
            "_view_count": null,
            "_view_module": "@jupyter-widgets/controls",
            "_view_module_version": "1.5.0",
            "_view_name": "HTMLView",
            "description": "",
            "description_tooltip": null,
            "layout": "IPY_MODEL_0f64b7885f6a494492ad8758b7bbc1aa",
            "placeholder": "​",
            "style": "IPY_MODEL_145372337c7947058878e2fe598c9a8a",
            "value": " 313/313 [00:02&lt;00:00, 234.08it/s]"
          }
        },
        "ba3329e516e9486482970a5be15a307d": {
          "model_module": "@jupyter-widgets/base",
          "model_name": "LayoutModel",
          "model_module_version": "1.2.0",
          "state": {
            "_model_module": "@jupyter-widgets/base",
            "_model_module_version": "1.2.0",
            "_model_name": "LayoutModel",
            "_view_count": null,
            "_view_module": "@jupyter-widgets/base",
            "_view_module_version": "1.2.0",
            "_view_name": "LayoutView",
            "align_content": null,
            "align_items": null,
            "align_self": null,
            "border": null,
            "bottom": null,
            "display": null,
            "flex": null,
            "flex_flow": null,
            "grid_area": null,
            "grid_auto_columns": null,
            "grid_auto_flow": null,
            "grid_auto_rows": null,
            "grid_column": null,
            "grid_gap": null,
            "grid_row": null,
            "grid_template_areas": null,
            "grid_template_columns": null,
            "grid_template_rows": null,
            "height": null,
            "justify_content": null,
            "justify_items": null,
            "left": null,
            "margin": null,
            "max_height": null,
            "max_width": null,
            "min_height": null,
            "min_width": null,
            "object_fit": null,
            "object_position": null,
            "order": null,
            "overflow": null,
            "overflow_x": null,
            "overflow_y": null,
            "padding": null,
            "right": null,
            "top": null,
            "visibility": null,
            "width": null
          }
        },
        "030ce50972b34e0db7a6194777351e75": {
          "model_module": "@jupyter-widgets/base",
          "model_name": "LayoutModel",
          "model_module_version": "1.2.0",
          "state": {
            "_model_module": "@jupyter-widgets/base",
            "_model_module_version": "1.2.0",
            "_model_name": "LayoutModel",
            "_view_count": null,
            "_view_module": "@jupyter-widgets/base",
            "_view_module_version": "1.2.0",
            "_view_name": "LayoutView",
            "align_content": null,
            "align_items": null,
            "align_self": null,
            "border": null,
            "bottom": null,
            "display": null,
            "flex": null,
            "flex_flow": null,
            "grid_area": null,
            "grid_auto_columns": null,
            "grid_auto_flow": null,
            "grid_auto_rows": null,
            "grid_column": null,
            "grid_gap": null,
            "grid_row": null,
            "grid_template_areas": null,
            "grid_template_columns": null,
            "grid_template_rows": null,
            "height": null,
            "justify_content": null,
            "justify_items": null,
            "left": null,
            "margin": null,
            "max_height": null,
            "max_width": null,
            "min_height": null,
            "min_width": null,
            "object_fit": null,
            "object_position": null,
            "order": null,
            "overflow": null,
            "overflow_x": null,
            "overflow_y": null,
            "padding": null,
            "right": null,
            "top": null,
            "visibility": null,
            "width": null
          }
        },
        "ae14b1f26c2d42159fd42cf3598eef8d": {
          "model_module": "@jupyter-widgets/controls",
          "model_name": "DescriptionStyleModel",
          "model_module_version": "1.5.0",
          "state": {
            "_model_module": "@jupyter-widgets/controls",
            "_model_module_version": "1.5.0",
            "_model_name": "DescriptionStyleModel",
            "_view_count": null,
            "_view_module": "@jupyter-widgets/base",
            "_view_module_version": "1.2.0",
            "_view_name": "StyleView",
            "description_width": ""
          }
        },
        "54d50de76b8b4bf78d3ce8d61ffbbee7": {
          "model_module": "@jupyter-widgets/base",
          "model_name": "LayoutModel",
          "model_module_version": "1.2.0",
          "state": {
            "_model_module": "@jupyter-widgets/base",
            "_model_module_version": "1.2.0",
            "_model_name": "LayoutModel",
            "_view_count": null,
            "_view_module": "@jupyter-widgets/base",
            "_view_module_version": "1.2.0",
            "_view_name": "LayoutView",
            "align_content": null,
            "align_items": null,
            "align_self": null,
            "border": null,
            "bottom": null,
            "display": null,
            "flex": null,
            "flex_flow": null,
            "grid_area": null,
            "grid_auto_columns": null,
            "grid_auto_flow": null,
            "grid_auto_rows": null,
            "grid_column": null,
            "grid_gap": null,
            "grid_row": null,
            "grid_template_areas": null,
            "grid_template_columns": null,
            "grid_template_rows": null,
            "height": null,
            "justify_content": null,
            "justify_items": null,
            "left": null,
            "margin": null,
            "max_height": null,
            "max_width": null,
            "min_height": null,
            "min_width": null,
            "object_fit": null,
            "object_position": null,
            "order": null,
            "overflow": null,
            "overflow_x": null,
            "overflow_y": null,
            "padding": null,
            "right": null,
            "top": null,
            "visibility": null,
            "width": null
          }
        },
        "1316d03ea11e4ca5b869a78cdf925bfa": {
          "model_module": "@jupyter-widgets/controls",
          "model_name": "ProgressStyleModel",
          "model_module_version": "1.5.0",
          "state": {
            "_model_module": "@jupyter-widgets/controls",
            "_model_module_version": "1.5.0",
            "_model_name": "ProgressStyleModel",
            "_view_count": null,
            "_view_module": "@jupyter-widgets/base",
            "_view_module_version": "1.2.0",
            "_view_name": "StyleView",
            "bar_color": null,
            "description_width": ""
          }
        },
        "0f64b7885f6a494492ad8758b7bbc1aa": {
          "model_module": "@jupyter-widgets/base",
          "model_name": "LayoutModel",
          "model_module_version": "1.2.0",
          "state": {
            "_model_module": "@jupyter-widgets/base",
            "_model_module_version": "1.2.0",
            "_model_name": "LayoutModel",
            "_view_count": null,
            "_view_module": "@jupyter-widgets/base",
            "_view_module_version": "1.2.0",
            "_view_name": "LayoutView",
            "align_content": null,
            "align_items": null,
            "align_self": null,
            "border": null,
            "bottom": null,
            "display": null,
            "flex": null,
            "flex_flow": null,
            "grid_area": null,
            "grid_auto_columns": null,
            "grid_auto_flow": null,
            "grid_auto_rows": null,
            "grid_column": null,
            "grid_gap": null,
            "grid_row": null,
            "grid_template_areas": null,
            "grid_template_columns": null,
            "grid_template_rows": null,
            "height": null,
            "justify_content": null,
            "justify_items": null,
            "left": null,
            "margin": null,
            "max_height": null,
            "max_width": null,
            "min_height": null,
            "min_width": null,
            "object_fit": null,
            "object_position": null,
            "order": null,
            "overflow": null,
            "overflow_x": null,
            "overflow_y": null,
            "padding": null,
            "right": null,
            "top": null,
            "visibility": null,
            "width": null
          }
        },
        "145372337c7947058878e2fe598c9a8a": {
          "model_module": "@jupyter-widgets/controls",
          "model_name": "DescriptionStyleModel",
          "model_module_version": "1.5.0",
          "state": {
            "_model_module": "@jupyter-widgets/controls",
            "_model_module_version": "1.5.0",
            "_model_name": "DescriptionStyleModel",
            "_view_count": null,
            "_view_module": "@jupyter-widgets/base",
            "_view_module_version": "1.2.0",
            "_view_name": "StyleView",
            "description_width": ""
          }
        },
        "4c1b9044609e41d08f8a0f644eae4dba": {
          "model_module": "@jupyter-widgets/controls",
          "model_name": "HBoxModel",
          "model_module_version": "1.5.0",
          "state": {
            "_dom_classes": [],
            "_model_module": "@jupyter-widgets/controls",
            "_model_module_version": "1.5.0",
            "_model_name": "HBoxModel",
            "_view_count": null,
            "_view_module": "@jupyter-widgets/controls",
            "_view_module_version": "1.5.0",
            "_view_name": "HBoxView",
            "box_style": "",
            "children": [
              "IPY_MODEL_adbffc5ba0104126809cefd132fa471f",
              "IPY_MODEL_a6635fab72954177b651d6803e5fd481",
              "IPY_MODEL_ab6e17d164d548ca9979d8ccf0d0acdd"
            ],
            "layout": "IPY_MODEL_976de094cd414f86b525931730932bc2"
          }
        },
        "adbffc5ba0104126809cefd132fa471f": {
          "model_module": "@jupyter-widgets/controls",
          "model_name": "HTMLModel",
          "model_module_version": "1.5.0",
          "state": {
            "_dom_classes": [],
            "_model_module": "@jupyter-widgets/controls",
            "_model_module_version": "1.5.0",
            "_model_name": "HTMLModel",
            "_view_count": null,
            "_view_module": "@jupyter-widgets/controls",
            "_view_module_version": "1.5.0",
            "_view_name": "HTMLView",
            "description": "",
            "description_tooltip": null,
            "layout": "IPY_MODEL_dc107d47ddf242d1b6de9e5afda23748",
            "placeholder": "​",
            "style": "IPY_MODEL_3825fbe635494a84b49a82d9943fc27d",
            "value": "100%"
          }
        },
        "a6635fab72954177b651d6803e5fd481": {
          "model_module": "@jupyter-widgets/controls",
          "model_name": "FloatProgressModel",
          "model_module_version": "1.5.0",
          "state": {
            "_dom_classes": [],
            "_model_module": "@jupyter-widgets/controls",
            "_model_module_version": "1.5.0",
            "_model_name": "FloatProgressModel",
            "_view_count": null,
            "_view_module": "@jupyter-widgets/controls",
            "_view_module_version": "1.5.0",
            "_view_name": "ProgressView",
            "bar_style": "success",
            "description": "",
            "description_tooltip": null,
            "layout": "IPY_MODEL_cff146af79824b3c86eeda367c84b5a9",
            "max": 313,
            "min": 0,
            "orientation": "horizontal",
            "style": "IPY_MODEL_a0421c8bc2d6454380e5d9fcacd91e21",
            "value": 313
          }
        },
        "ab6e17d164d548ca9979d8ccf0d0acdd": {
          "model_module": "@jupyter-widgets/controls",
          "model_name": "HTMLModel",
          "model_module_version": "1.5.0",
          "state": {
            "_dom_classes": [],
            "_model_module": "@jupyter-widgets/controls",
            "_model_module_version": "1.5.0",
            "_model_name": "HTMLModel",
            "_view_count": null,
            "_view_module": "@jupyter-widgets/controls",
            "_view_module_version": "1.5.0",
            "_view_name": "HTMLView",
            "description": "",
            "description_tooltip": null,
            "layout": "IPY_MODEL_97d15f31554645189dfdd04894cffce7",
            "placeholder": "​",
            "style": "IPY_MODEL_3d2bf62f61f6402688d6958bc4412170",
            "value": " 313/313 [00:02&lt;00:00, 204.04it/s]"
          }
        },
        "976de094cd414f86b525931730932bc2": {
          "model_module": "@jupyter-widgets/base",
          "model_name": "LayoutModel",
          "model_module_version": "1.2.0",
          "state": {
            "_model_module": "@jupyter-widgets/base",
            "_model_module_version": "1.2.0",
            "_model_name": "LayoutModel",
            "_view_count": null,
            "_view_module": "@jupyter-widgets/base",
            "_view_module_version": "1.2.0",
            "_view_name": "LayoutView",
            "align_content": null,
            "align_items": null,
            "align_self": null,
            "border": null,
            "bottom": null,
            "display": null,
            "flex": null,
            "flex_flow": null,
            "grid_area": null,
            "grid_auto_columns": null,
            "grid_auto_flow": null,
            "grid_auto_rows": null,
            "grid_column": null,
            "grid_gap": null,
            "grid_row": null,
            "grid_template_areas": null,
            "grid_template_columns": null,
            "grid_template_rows": null,
            "height": null,
            "justify_content": null,
            "justify_items": null,
            "left": null,
            "margin": null,
            "max_height": null,
            "max_width": null,
            "min_height": null,
            "min_width": null,
            "object_fit": null,
            "object_position": null,
            "order": null,
            "overflow": null,
            "overflow_x": null,
            "overflow_y": null,
            "padding": null,
            "right": null,
            "top": null,
            "visibility": null,
            "width": null
          }
        },
        "dc107d47ddf242d1b6de9e5afda23748": {
          "model_module": "@jupyter-widgets/base",
          "model_name": "LayoutModel",
          "model_module_version": "1.2.0",
          "state": {
            "_model_module": "@jupyter-widgets/base",
            "_model_module_version": "1.2.0",
            "_model_name": "LayoutModel",
            "_view_count": null,
            "_view_module": "@jupyter-widgets/base",
            "_view_module_version": "1.2.0",
            "_view_name": "LayoutView",
            "align_content": null,
            "align_items": null,
            "align_self": null,
            "border": null,
            "bottom": null,
            "display": null,
            "flex": null,
            "flex_flow": null,
            "grid_area": null,
            "grid_auto_columns": null,
            "grid_auto_flow": null,
            "grid_auto_rows": null,
            "grid_column": null,
            "grid_gap": null,
            "grid_row": null,
            "grid_template_areas": null,
            "grid_template_columns": null,
            "grid_template_rows": null,
            "height": null,
            "justify_content": null,
            "justify_items": null,
            "left": null,
            "margin": null,
            "max_height": null,
            "max_width": null,
            "min_height": null,
            "min_width": null,
            "object_fit": null,
            "object_position": null,
            "order": null,
            "overflow": null,
            "overflow_x": null,
            "overflow_y": null,
            "padding": null,
            "right": null,
            "top": null,
            "visibility": null,
            "width": null
          }
        },
        "3825fbe635494a84b49a82d9943fc27d": {
          "model_module": "@jupyter-widgets/controls",
          "model_name": "DescriptionStyleModel",
          "model_module_version": "1.5.0",
          "state": {
            "_model_module": "@jupyter-widgets/controls",
            "_model_module_version": "1.5.0",
            "_model_name": "DescriptionStyleModel",
            "_view_count": null,
            "_view_module": "@jupyter-widgets/base",
            "_view_module_version": "1.2.0",
            "_view_name": "StyleView",
            "description_width": ""
          }
        },
        "cff146af79824b3c86eeda367c84b5a9": {
          "model_module": "@jupyter-widgets/base",
          "model_name": "LayoutModel",
          "model_module_version": "1.2.0",
          "state": {
            "_model_module": "@jupyter-widgets/base",
            "_model_module_version": "1.2.0",
            "_model_name": "LayoutModel",
            "_view_count": null,
            "_view_module": "@jupyter-widgets/base",
            "_view_module_version": "1.2.0",
            "_view_name": "LayoutView",
            "align_content": null,
            "align_items": null,
            "align_self": null,
            "border": null,
            "bottom": null,
            "display": null,
            "flex": null,
            "flex_flow": null,
            "grid_area": null,
            "grid_auto_columns": null,
            "grid_auto_flow": null,
            "grid_auto_rows": null,
            "grid_column": null,
            "grid_gap": null,
            "grid_row": null,
            "grid_template_areas": null,
            "grid_template_columns": null,
            "grid_template_rows": null,
            "height": null,
            "justify_content": null,
            "justify_items": null,
            "left": null,
            "margin": null,
            "max_height": null,
            "max_width": null,
            "min_height": null,
            "min_width": null,
            "object_fit": null,
            "object_position": null,
            "order": null,
            "overflow": null,
            "overflow_x": null,
            "overflow_y": null,
            "padding": null,
            "right": null,
            "top": null,
            "visibility": null,
            "width": null
          }
        },
        "a0421c8bc2d6454380e5d9fcacd91e21": {
          "model_module": "@jupyter-widgets/controls",
          "model_name": "ProgressStyleModel",
          "model_module_version": "1.5.0",
          "state": {
            "_model_module": "@jupyter-widgets/controls",
            "_model_module_version": "1.5.0",
            "_model_name": "ProgressStyleModel",
            "_view_count": null,
            "_view_module": "@jupyter-widgets/base",
            "_view_module_version": "1.2.0",
            "_view_name": "StyleView",
            "bar_color": null,
            "description_width": ""
          }
        },
        "97d15f31554645189dfdd04894cffce7": {
          "model_module": "@jupyter-widgets/base",
          "model_name": "LayoutModel",
          "model_module_version": "1.2.0",
          "state": {
            "_model_module": "@jupyter-widgets/base",
            "_model_module_version": "1.2.0",
            "_model_name": "LayoutModel",
            "_view_count": null,
            "_view_module": "@jupyter-widgets/base",
            "_view_module_version": "1.2.0",
            "_view_name": "LayoutView",
            "align_content": null,
            "align_items": null,
            "align_self": null,
            "border": null,
            "bottom": null,
            "display": null,
            "flex": null,
            "flex_flow": null,
            "grid_area": null,
            "grid_auto_columns": null,
            "grid_auto_flow": null,
            "grid_auto_rows": null,
            "grid_column": null,
            "grid_gap": null,
            "grid_row": null,
            "grid_template_areas": null,
            "grid_template_columns": null,
            "grid_template_rows": null,
            "height": null,
            "justify_content": null,
            "justify_items": null,
            "left": null,
            "margin": null,
            "max_height": null,
            "max_width": null,
            "min_height": null,
            "min_width": null,
            "object_fit": null,
            "object_position": null,
            "order": null,
            "overflow": null,
            "overflow_x": null,
            "overflow_y": null,
            "padding": null,
            "right": null,
            "top": null,
            "visibility": null,
            "width": null
          }
        },
        "3d2bf62f61f6402688d6958bc4412170": {
          "model_module": "@jupyter-widgets/controls",
          "model_name": "DescriptionStyleModel",
          "model_module_version": "1.5.0",
          "state": {
            "_model_module": "@jupyter-widgets/controls",
            "_model_module_version": "1.5.0",
            "_model_name": "DescriptionStyleModel",
            "_view_count": null,
            "_view_module": "@jupyter-widgets/base",
            "_view_module_version": "1.2.0",
            "_view_name": "StyleView",
            "description_width": ""
          }
        }
      }
    }
  },
  "cells": [
    {
      "cell_type": "markdown",
      "source": [
        "# PyTorch Computer Vision\n",
        "\n",
        "Reference book --> https://www.learnpytorch.io/03_pytorch_computer_vision/"
      ],
      "metadata": {
        "id": "-joUGXIfIg9Y"
      }
    },
    {
      "cell_type": "markdown",
      "source": [
        "## 0. Computer Vision Libraries in PyTorch\n",
        "\n",
        "* [`torchvision`](https://pytorch.org/vision/stable/index.html) - base domain library for pytorch computer vision\n",
        "* `torchvision.datasets` - get datasets and data loading functions for computer vision here\n",
        "* `torchvision.models` - get pretrained computer vision models that you can leverage for your own problems\n",
        "* `torchvision.transforms` - functions for manipulating your vision data (images) to be suitable for our model\n",
        "* `torch.utils.Dataset` - base class for all datasets in PyTorch\n",
        "* `torch.utils.DataLoader` - Creates a python iterable over a dataset."
      ],
      "metadata": {
        "id": "RYxN0t4_JpIc"
      }
    },
    {
      "cell_type": "code",
      "execution_count": 1,
      "metadata": {
        "colab": {
          "base_uri": "https://localhost:8080/"
        },
        "id": "fFdy-wHkaY0Q",
        "outputId": "56361fe4-1442-4e97-c77c-9c2db71ceef3"
      },
      "outputs": [
        {
          "output_type": "stream",
          "name": "stdout",
          "text": [
            "2.1.0+cu121\n",
            "0.16.0+cu121\n"
          ]
        }
      ],
      "source": [
        "# Import PyTorch\n",
        "import torch\n",
        "from torch import nn\n",
        "\n",
        "# Import torchvision\n",
        "import torchvision\n",
        "from torchvision import datasets\n",
        "from torchvision import transforms\n",
        "from torchvision.transforms import ToTensor # This function has been deprecated.\n",
        "\n",
        "# Import matplotlib for visualization\n",
        "import matplotlib.pyplot as plt\n",
        "\n",
        "print(torch.__version__)\n",
        "print(torchvision.__version__)"
      ]
    },
    {
      "cell_type": "markdown",
      "source": [
        "## 1. Getting a dataset\n",
        "We're using the [Fashion MNIST](https://pytorch.org/vision/stable/generated/torchvision.datasets.FashionMNIST.html#torchvision.datasets.FashionMNIST) dataset from torchvision.datasets. It contains grayscale images of 10 different kinds of clothing. We have to classify the images into those 10 categories."
      ],
      "metadata": {
        "id": "7hmyyNUsLFxi"
      }
    },
    {
      "cell_type": "code",
      "source": [
        "# Setup training data\n",
        "from torchvision import datasets\n",
        "train_data = datasets.FashionMNIST(\n",
        "    root=\"data\", # where to download the data\n",
        "    train=True,  # do we want the training data\n",
        "    download=True,  # do you want to download the data\n",
        "    transform=ToTensor(), # What transformation do you want to apply to the data\n",
        "    target_transform=None # Do you want to transform the target/labels\n",
        ")\n",
        "\n",
        "# Setup testing data\n",
        "test_data = datasets.FashionMNIST(\n",
        "    root=\"data\",\n",
        "    train=False,\n",
        "    download=True,\n",
        "    transform=ToTensor(),\n",
        "    target_transform=None\n",
        ")"
      ],
      "metadata": {
        "id": "QxMNuIWjK01o",
        "colab": {
          "base_uri": "https://localhost:8080/"
        },
        "outputId": "3d7097b0-2cd4-4e7a-ef4f-0a48a8aefe75"
      },
      "execution_count": 2,
      "outputs": [
        {
          "output_type": "stream",
          "name": "stdout",
          "text": [
            "Downloading http://fashion-mnist.s3-website.eu-central-1.amazonaws.com/train-images-idx3-ubyte.gz\n",
            "Downloading http://fashion-mnist.s3-website.eu-central-1.amazonaws.com/train-images-idx3-ubyte.gz to data/FashionMNIST/raw/train-images-idx3-ubyte.gz\n"
          ]
        },
        {
          "output_type": "stream",
          "name": "stderr",
          "text": [
            "100%|██████████| 26421880/26421880 [00:02<00:00, 11874355.11it/s]\n"
          ]
        },
        {
          "output_type": "stream",
          "name": "stdout",
          "text": [
            "Extracting data/FashionMNIST/raw/train-images-idx3-ubyte.gz to data/FashionMNIST/raw\n",
            "\n",
            "Downloading http://fashion-mnist.s3-website.eu-central-1.amazonaws.com/train-labels-idx1-ubyte.gz\n",
            "Downloading http://fashion-mnist.s3-website.eu-central-1.amazonaws.com/train-labels-idx1-ubyte.gz to data/FashionMNIST/raw/train-labels-idx1-ubyte.gz\n"
          ]
        },
        {
          "output_type": "stream",
          "name": "stderr",
          "text": [
            "100%|██████████| 29515/29515 [00:00<00:00, 201152.83it/s]\n"
          ]
        },
        {
          "output_type": "stream",
          "name": "stdout",
          "text": [
            "Extracting data/FashionMNIST/raw/train-labels-idx1-ubyte.gz to data/FashionMNIST/raw\n",
            "\n",
            "Downloading http://fashion-mnist.s3-website.eu-central-1.amazonaws.com/t10k-images-idx3-ubyte.gz\n",
            "Downloading http://fashion-mnist.s3-website.eu-central-1.amazonaws.com/t10k-images-idx3-ubyte.gz to data/FashionMNIST/raw/t10k-images-idx3-ubyte.gz\n"
          ]
        },
        {
          "output_type": "stream",
          "name": "stderr",
          "text": [
            "100%|██████████| 4422102/4422102 [00:01<00:00, 3751993.84it/s]\n"
          ]
        },
        {
          "output_type": "stream",
          "name": "stdout",
          "text": [
            "Extracting data/FashionMNIST/raw/t10k-images-idx3-ubyte.gz to data/FashionMNIST/raw\n",
            "\n",
            "Downloading http://fashion-mnist.s3-website.eu-central-1.amazonaws.com/t10k-labels-idx1-ubyte.gz\n",
            "Downloading http://fashion-mnist.s3-website.eu-central-1.amazonaws.com/t10k-labels-idx1-ubyte.gz to data/FashionMNIST/raw/t10k-labels-idx1-ubyte.gz\n"
          ]
        },
        {
          "output_type": "stream",
          "name": "stderr",
          "text": [
            "100%|██████████| 5148/5148 [00:00<00:00, 20761804.80it/s]"
          ]
        },
        {
          "output_type": "stream",
          "name": "stdout",
          "text": [
            "Extracting data/FashionMNIST/raw/t10k-labels-idx1-ubyte.gz to data/FashionMNIST/raw\n",
            "\n"
          ]
        },
        {
          "output_type": "stream",
          "name": "stderr",
          "text": [
            "\n"
          ]
        }
      ]
    },
    {
      "cell_type": "code",
      "source": [
        "len(train_data), len(test_data)"
      ],
      "metadata": {
        "colab": {
          "base_uri": "https://localhost:8080/"
        },
        "id": "SmAUb9LhMyF2",
        "outputId": "0229575e-5947-423e-ff27-f2a0b841bb1d"
      },
      "execution_count": 3,
      "outputs": [
        {
          "output_type": "execute_result",
          "data": {
            "text/plain": [
              "(60000, 10000)"
            ]
          },
          "metadata": {},
          "execution_count": 3
        }
      ]
    },
    {
      "cell_type": "code",
      "source": [
        "# Let's see what our training sample looks like\n",
        "image, label = train_data[0]\n",
        "image, label"
      ],
      "metadata": {
        "colab": {
          "base_uri": "https://localhost:8080/"
        },
        "id": "RU6nFK9vOAeP",
        "outputId": "3c0baa5f-1c3e-4ea5-804f-d440720e4d9d"
      },
      "execution_count": 4,
      "outputs": [
        {
          "output_type": "execute_result",
          "data": {
            "text/plain": [
              "(tensor([[[0.0000, 0.0000, 0.0000, 0.0000, 0.0000, 0.0000, 0.0000, 0.0000,\n",
              "           0.0000, 0.0000, 0.0000, 0.0000, 0.0000, 0.0000, 0.0000, 0.0000,\n",
              "           0.0000, 0.0000, 0.0000, 0.0000, 0.0000, 0.0000, 0.0000, 0.0000,\n",
              "           0.0000, 0.0000, 0.0000, 0.0000],\n",
              "          [0.0000, 0.0000, 0.0000, 0.0000, 0.0000, 0.0000, 0.0000, 0.0000,\n",
              "           0.0000, 0.0000, 0.0000, 0.0000, 0.0000, 0.0000, 0.0000, 0.0000,\n",
              "           0.0000, 0.0000, 0.0000, 0.0000, 0.0000, 0.0000, 0.0000, 0.0000,\n",
              "           0.0000, 0.0000, 0.0000, 0.0000],\n",
              "          [0.0000, 0.0000, 0.0000, 0.0000, 0.0000, 0.0000, 0.0000, 0.0000,\n",
              "           0.0000, 0.0000, 0.0000, 0.0000, 0.0000, 0.0000, 0.0000, 0.0000,\n",
              "           0.0000, 0.0000, 0.0000, 0.0000, 0.0000, 0.0000, 0.0000, 0.0000,\n",
              "           0.0000, 0.0000, 0.0000, 0.0000],\n",
              "          [0.0000, 0.0000, 0.0000, 0.0000, 0.0000, 0.0000, 0.0000, 0.0000,\n",
              "           0.0000, 0.0000, 0.0000, 0.0000, 0.0039, 0.0000, 0.0000, 0.0510,\n",
              "           0.2863, 0.0000, 0.0000, 0.0039, 0.0157, 0.0000, 0.0000, 0.0000,\n",
              "           0.0000, 0.0039, 0.0039, 0.0000],\n",
              "          [0.0000, 0.0000, 0.0000, 0.0000, 0.0000, 0.0000, 0.0000, 0.0000,\n",
              "           0.0000, 0.0000, 0.0000, 0.0000, 0.0118, 0.0000, 0.1412, 0.5333,\n",
              "           0.4980, 0.2431, 0.2118, 0.0000, 0.0000, 0.0000, 0.0039, 0.0118,\n",
              "           0.0157, 0.0000, 0.0000, 0.0118],\n",
              "          [0.0000, 0.0000, 0.0000, 0.0000, 0.0000, 0.0000, 0.0000, 0.0000,\n",
              "           0.0000, 0.0000, 0.0000, 0.0000, 0.0235, 0.0000, 0.4000, 0.8000,\n",
              "           0.6902, 0.5255, 0.5647, 0.4824, 0.0902, 0.0000, 0.0000, 0.0000,\n",
              "           0.0000, 0.0471, 0.0392, 0.0000],\n",
              "          [0.0000, 0.0000, 0.0000, 0.0000, 0.0000, 0.0000, 0.0000, 0.0000,\n",
              "           0.0000, 0.0000, 0.0000, 0.0000, 0.0000, 0.0000, 0.6078, 0.9255,\n",
              "           0.8118, 0.6980, 0.4196, 0.6118, 0.6314, 0.4275, 0.2510, 0.0902,\n",
              "           0.3020, 0.5098, 0.2824, 0.0588],\n",
              "          [0.0000, 0.0000, 0.0000, 0.0000, 0.0000, 0.0000, 0.0000, 0.0000,\n",
              "           0.0000, 0.0000, 0.0000, 0.0039, 0.0000, 0.2706, 0.8118, 0.8745,\n",
              "           0.8549, 0.8471, 0.8471, 0.6392, 0.4980, 0.4745, 0.4784, 0.5725,\n",
              "           0.5529, 0.3451, 0.6745, 0.2588],\n",
              "          [0.0000, 0.0000, 0.0000, 0.0000, 0.0000, 0.0000, 0.0000, 0.0000,\n",
              "           0.0000, 0.0039, 0.0039, 0.0039, 0.0000, 0.7843, 0.9098, 0.9098,\n",
              "           0.9137, 0.8980, 0.8745, 0.8745, 0.8431, 0.8353, 0.6431, 0.4980,\n",
              "           0.4824, 0.7686, 0.8980, 0.0000],\n",
              "          [0.0000, 0.0000, 0.0000, 0.0000, 0.0000, 0.0000, 0.0000, 0.0000,\n",
              "           0.0000, 0.0000, 0.0000, 0.0000, 0.0000, 0.7176, 0.8824, 0.8471,\n",
              "           0.8745, 0.8941, 0.9216, 0.8902, 0.8784, 0.8706, 0.8784, 0.8667,\n",
              "           0.8745, 0.9608, 0.6784, 0.0000],\n",
              "          [0.0000, 0.0000, 0.0000, 0.0000, 0.0000, 0.0000, 0.0000, 0.0000,\n",
              "           0.0000, 0.0000, 0.0000, 0.0000, 0.0000, 0.7569, 0.8941, 0.8549,\n",
              "           0.8353, 0.7765, 0.7059, 0.8314, 0.8235, 0.8275, 0.8353, 0.8745,\n",
              "           0.8627, 0.9529, 0.7922, 0.0000],\n",
              "          [0.0000, 0.0000, 0.0000, 0.0000, 0.0000, 0.0000, 0.0000, 0.0000,\n",
              "           0.0000, 0.0039, 0.0118, 0.0000, 0.0471, 0.8588, 0.8627, 0.8314,\n",
              "           0.8549, 0.7529, 0.6627, 0.8902, 0.8157, 0.8549, 0.8784, 0.8314,\n",
              "           0.8863, 0.7725, 0.8196, 0.2039],\n",
              "          [0.0000, 0.0000, 0.0000, 0.0000, 0.0000, 0.0000, 0.0000, 0.0000,\n",
              "           0.0000, 0.0000, 0.0235, 0.0000, 0.3882, 0.9569, 0.8706, 0.8627,\n",
              "           0.8549, 0.7961, 0.7765, 0.8667, 0.8431, 0.8353, 0.8706, 0.8627,\n",
              "           0.9608, 0.4667, 0.6549, 0.2196],\n",
              "          [0.0000, 0.0000, 0.0000, 0.0000, 0.0000, 0.0000, 0.0000, 0.0000,\n",
              "           0.0000, 0.0157, 0.0000, 0.0000, 0.2157, 0.9255, 0.8941, 0.9020,\n",
              "           0.8941, 0.9412, 0.9098, 0.8353, 0.8549, 0.8745, 0.9176, 0.8510,\n",
              "           0.8510, 0.8196, 0.3608, 0.0000],\n",
              "          [0.0000, 0.0000, 0.0039, 0.0157, 0.0235, 0.0275, 0.0078, 0.0000,\n",
              "           0.0000, 0.0000, 0.0000, 0.0000, 0.9294, 0.8863, 0.8510, 0.8745,\n",
              "           0.8706, 0.8588, 0.8706, 0.8667, 0.8471, 0.8745, 0.8980, 0.8431,\n",
              "           0.8549, 1.0000, 0.3020, 0.0000],\n",
              "          [0.0000, 0.0118, 0.0000, 0.0000, 0.0000, 0.0000, 0.0000, 0.0000,\n",
              "           0.0000, 0.2431, 0.5686, 0.8000, 0.8941, 0.8118, 0.8353, 0.8667,\n",
              "           0.8549, 0.8157, 0.8275, 0.8549, 0.8784, 0.8745, 0.8588, 0.8431,\n",
              "           0.8784, 0.9569, 0.6235, 0.0000],\n",
              "          [0.0000, 0.0000, 0.0000, 0.0000, 0.0706, 0.1725, 0.3216, 0.4196,\n",
              "           0.7412, 0.8941, 0.8627, 0.8706, 0.8510, 0.8863, 0.7843, 0.8039,\n",
              "           0.8275, 0.9020, 0.8784, 0.9176, 0.6902, 0.7373, 0.9804, 0.9725,\n",
              "           0.9137, 0.9333, 0.8431, 0.0000],\n",
              "          [0.0000, 0.2235, 0.7333, 0.8157, 0.8784, 0.8667, 0.8784, 0.8157,\n",
              "           0.8000, 0.8392, 0.8157, 0.8196, 0.7843, 0.6235, 0.9608, 0.7569,\n",
              "           0.8078, 0.8745, 1.0000, 1.0000, 0.8667, 0.9176, 0.8667, 0.8275,\n",
              "           0.8627, 0.9098, 0.9647, 0.0000],\n",
              "          [0.0118, 0.7922, 0.8941, 0.8784, 0.8667, 0.8275, 0.8275, 0.8392,\n",
              "           0.8039, 0.8039, 0.8039, 0.8627, 0.9412, 0.3137, 0.5882, 1.0000,\n",
              "           0.8980, 0.8667, 0.7373, 0.6039, 0.7490, 0.8235, 0.8000, 0.8196,\n",
              "           0.8706, 0.8941, 0.8824, 0.0000],\n",
              "          [0.3843, 0.9137, 0.7765, 0.8235, 0.8706, 0.8980, 0.8980, 0.9176,\n",
              "           0.9765, 0.8627, 0.7608, 0.8431, 0.8510, 0.9451, 0.2549, 0.2863,\n",
              "           0.4157, 0.4588, 0.6588, 0.8588, 0.8667, 0.8431, 0.8510, 0.8745,\n",
              "           0.8745, 0.8784, 0.8980, 0.1137],\n",
              "          [0.2941, 0.8000, 0.8314, 0.8000, 0.7569, 0.8039, 0.8275, 0.8824,\n",
              "           0.8471, 0.7255, 0.7725, 0.8078, 0.7765, 0.8353, 0.9412, 0.7647,\n",
              "           0.8902, 0.9608, 0.9373, 0.8745, 0.8549, 0.8314, 0.8196, 0.8706,\n",
              "           0.8627, 0.8667, 0.9020, 0.2627],\n",
              "          [0.1882, 0.7961, 0.7176, 0.7608, 0.8353, 0.7725, 0.7255, 0.7451,\n",
              "           0.7608, 0.7529, 0.7922, 0.8392, 0.8588, 0.8667, 0.8627, 0.9255,\n",
              "           0.8824, 0.8471, 0.7804, 0.8078, 0.7294, 0.7098, 0.6941, 0.6745,\n",
              "           0.7098, 0.8039, 0.8078, 0.4510],\n",
              "          [0.0000, 0.4784, 0.8588, 0.7569, 0.7020, 0.6706, 0.7176, 0.7686,\n",
              "           0.8000, 0.8235, 0.8353, 0.8118, 0.8275, 0.8235, 0.7843, 0.7686,\n",
              "           0.7608, 0.7490, 0.7647, 0.7490, 0.7765, 0.7529, 0.6902, 0.6118,\n",
              "           0.6549, 0.6941, 0.8235, 0.3608],\n",
              "          [0.0000, 0.0000, 0.2902, 0.7412, 0.8314, 0.7490, 0.6863, 0.6745,\n",
              "           0.6863, 0.7098, 0.7255, 0.7373, 0.7412, 0.7373, 0.7569, 0.7765,\n",
              "           0.8000, 0.8196, 0.8235, 0.8235, 0.8275, 0.7373, 0.7373, 0.7608,\n",
              "           0.7529, 0.8471, 0.6667, 0.0000],\n",
              "          [0.0078, 0.0000, 0.0000, 0.0000, 0.2588, 0.7843, 0.8706, 0.9294,\n",
              "           0.9373, 0.9490, 0.9647, 0.9529, 0.9569, 0.8667, 0.8627, 0.7569,\n",
              "           0.7490, 0.7020, 0.7137, 0.7137, 0.7098, 0.6902, 0.6510, 0.6588,\n",
              "           0.3882, 0.2275, 0.0000, 0.0000],\n",
              "          [0.0000, 0.0000, 0.0000, 0.0000, 0.0000, 0.0000, 0.0000, 0.1569,\n",
              "           0.2392, 0.1725, 0.2824, 0.1608, 0.1373, 0.0000, 0.0000, 0.0000,\n",
              "           0.0000, 0.0000, 0.0000, 0.0000, 0.0000, 0.0000, 0.0000, 0.0000,\n",
              "           0.0000, 0.0000, 0.0000, 0.0000],\n",
              "          [0.0000, 0.0000, 0.0000, 0.0000, 0.0000, 0.0000, 0.0000, 0.0000,\n",
              "           0.0000, 0.0000, 0.0000, 0.0000, 0.0000, 0.0000, 0.0000, 0.0000,\n",
              "           0.0000, 0.0000, 0.0000, 0.0000, 0.0000, 0.0000, 0.0000, 0.0000,\n",
              "           0.0000, 0.0000, 0.0000, 0.0000],\n",
              "          [0.0000, 0.0000, 0.0000, 0.0000, 0.0000, 0.0000, 0.0000, 0.0000,\n",
              "           0.0000, 0.0000, 0.0000, 0.0000, 0.0000, 0.0000, 0.0000, 0.0000,\n",
              "           0.0000, 0.0000, 0.0000, 0.0000, 0.0000, 0.0000, 0.0000, 0.0000,\n",
              "           0.0000, 0.0000, 0.0000, 0.0000]]]),\n",
              " 9)"
            ]
          },
          "metadata": {},
          "execution_count": 4
        }
      ]
    },
    {
      "cell_type": "markdown",
      "source": [
        "### 1.1 Input and Output shapes of computer vision model.\n",
        "\n",
        "Let's see the image shape and labels."
      ],
      "metadata": {
        "id": "-GS2QKKgJLHL"
      }
    },
    {
      "cell_type": "code",
      "source": [
        "class_names = train_data.classes\n",
        "class_names"
      ],
      "metadata": {
        "colab": {
          "base_uri": "https://localhost:8080/"
        },
        "id": "tvQ9V6BCOMx3",
        "outputId": "e15c35a9-ae7c-46e1-a6b1-c05dd3c1e6d3"
      },
      "execution_count": 5,
      "outputs": [
        {
          "output_type": "execute_result",
          "data": {
            "text/plain": [
              "['T-shirt/top',\n",
              " 'Trouser',\n",
              " 'Pullover',\n",
              " 'Dress',\n",
              " 'Coat',\n",
              " 'Sandal',\n",
              " 'Shirt',\n",
              " 'Sneaker',\n",
              " 'Bag',\n",
              " 'Ankle boot']"
            ]
          },
          "metadata": {},
          "execution_count": 5
        }
      ]
    },
    {
      "cell_type": "code",
      "source": [
        "print(f'Image Shape: {image.shape} --> [color_channels, height, width]\\nImage Label: {class_names[label]}')"
      ],
      "metadata": {
        "colab": {
          "base_uri": "https://localhost:8080/"
        },
        "id": "tuzzsE07q-4L",
        "outputId": "6c437ebf-3ef4-40e6-8cd8-39e58fcd935d"
      },
      "execution_count": 6,
      "outputs": [
        {
          "output_type": "stream",
          "name": "stdout",
          "text": [
            "Image Shape: torch.Size([1, 28, 28]) --> [color_channels, height, width]\n",
            "Image Label: Ankle boot\n"
          ]
        }
      ]
    },
    {
      "cell_type": "markdown",
      "source": [
        "The shape of the image tensor is [1, 28, 28] or more specifically:\n",
        "\n",
        "`[color_channels=1, height=28, width=28]`\n",
        "\n",
        "Having `color_channels=1` means the image is grayscale."
      ],
      "metadata": {
        "id": "g9bbwPfPwTTD"
      }
    },
    {
      "cell_type": "markdown",
      "source": [
        "The order of our current tensor is often referred to as CHW (Color Channels, Height, Width).\n",
        "\n",
        "There's debate on whether images should be represented as CHW (color channels first) or HWC (color channels last).\n",
        "\n",
        "PyTorch generally accepts NCHW (channels first) as the default for many operators.\n",
        "\n",
        "However, PyTorch also explains that NHWC (channels last) performs better and is considered best practice.\n",
        "\n",
        "For now, since our dataset and models are relatively small, this won't make too much of a difference.\n",
        "\n",
        "Getting a dictionary with classes and their indices."
      ],
      "metadata": {
        "id": "0mNDWfNzJpVv"
      }
    },
    {
      "cell_type": "code",
      "source": [
        "class_to_idx = train_data.class_to_idx\n",
        "class_to_idx"
      ],
      "metadata": {
        "colab": {
          "base_uri": "https://localhost:8080/"
        },
        "id": "ko2QgO5fptJw",
        "outputId": "676f2915-82d4-4f11-c882-f362dbc8532b"
      },
      "execution_count": 7,
      "outputs": [
        {
          "output_type": "execute_result",
          "data": {
            "text/plain": [
              "{'T-shirt/top': 0,\n",
              " 'Trouser': 1,\n",
              " 'Pullover': 2,\n",
              " 'Dress': 3,\n",
              " 'Coat': 4,\n",
              " 'Sandal': 5,\n",
              " 'Shirt': 6,\n",
              " 'Sneaker': 7,\n",
              " 'Bag': 8,\n",
              " 'Ankle boot': 9}"
            ]
          },
          "metadata": {},
          "execution_count": 7
        }
      ]
    },
    {
      "cell_type": "markdown",
      "source": [
        "### 1.2 Visualizing our data"
      ],
      "metadata": {
        "id": "4wIMru0XsCDU"
      }
    },
    {
      "cell_type": "code",
      "source": [
        "import matplotlib.pyplot as plt\n",
        "image, label = train_data[0]\n",
        "print(f'Image Shape: {image.shape}')\n",
        "plt.imshow(image.squeeze()) # Img shape is [1, 28, 28]\n",
        "plt.title(label);"
      ],
      "metadata": {
        "colab": {
          "base_uri": "https://localhost:8080/",
          "height": 470
        },
        "id": "u4pDDMmrrRHc",
        "outputId": "dbfd7dfd-7449-4b28-e88a-e7b0ad0b7c84"
      },
      "execution_count": 8,
      "outputs": [
        {
          "output_type": "stream",
          "name": "stdout",
          "text": [
            "Image Shape: torch.Size([1, 28, 28])\n"
          ]
        },
        {
          "output_type": "display_data",
          "data": {
            "text/plain": [
              "<Figure size 640x480 with 1 Axes>"
            ],
            "image/png": "[encoded data removed]"
          },
          "metadata": {}
        }
      ]
    },
    {
      "cell_type": "code",
      "source": [
        "plt.imshow(image.squeeze(), cmap='gray')  # Using grayscale colormap\n",
        "plt.title(class_names[label])\n",
        "plt.axis(False);  # We don't want our axis to be numbered."
      ],
      "metadata": {
        "colab": {
          "base_uri": "https://localhost:8080/",
          "height": 428
        },
        "id": "RDVALKumsYV2",
        "outputId": "d27a9456-6b1b-49d5-9763-5d8b6c657521"
      },
      "execution_count": 9,
      "outputs": [
        {
          "output_type": "display_data",
          "data": {
            "text/plain": [
              "<Figure size 640x480 with 1 Axes>"
            ],
            "image/png": "[encoded data removed]"
          },
          "metadata": {}
        }
      ]
    },
    {
      "cell_type": "code",
      "source": [
        "# Plot more images\n",
        "torch.manual_seed(42)\n",
        "torch.cuda.manual_seed(42)\n",
        "fig = plt.figure(figsize=(9,9))\n",
        "rows, cols = 4, 4\n",
        "for i in range(1, rows*cols+1):\n",
        "  random_idx = torch.randint(0, len(train_data), size=[1]).item() # Generating random index between 1 and 60000.\n",
        "  image, label = train_data[random_idx] # Setting image, label to data at random index\n",
        "  fig.add_subplot(rows, cols, i)  # Creating subplots in the figure.\n",
        "  plt.imshow(image.squeeze(), cmap='gray')  # Plot the image\n",
        "  plt.title(class_names[label])\n",
        "  plt.axis(False);"
      ],
      "metadata": {
        "colab": {
          "base_uri": "https://localhost:8080/",
          "height": 731
        },
        "id": "X0KlNfkms4Ef",
        "outputId": "5b8b86b9-4d6d-4d68-d474-9c4aa13e479f"
      },
      "execution_count": 10,
      "outputs": [
        {
          "output_type": "display_data",
          "data": {
            "text/plain": [
              "<Figure size 900x900 with 16 Axes>"
            ],
            "image/png": "[encoded data removed]"
          },
          "metadata": {}
        }
      ]
    },
    {
      "cell_type": "code",
      "source": [
        "train_data, test_data"
      ],
      "metadata": {
        "colab": {
          "base_uri": "https://localhost:8080/"
        },
        "id": "osz9X4LZuyUr",
        "outputId": "2f4b6c5f-8699-4a32-90bf-0dd8f5000cdd"
      },
      "execution_count": 11,
      "outputs": [
        {
          "output_type": "execute_result",
          "data": {
            "text/plain": [
              "(Dataset FashionMNIST\n",
              "     Number of datapoints: 60000\n",
              "     Root location: data\n",
              "     Split: Train\n",
              "     StandardTransform\n",
              " Transform: ToTensor(),\n",
              " Dataset FashionMNIST\n",
              "     Number of datapoints: 10000\n",
              "     Root location: data\n",
              "     Split: Test\n",
              "     StandardTransform\n",
              " Transform: ToTensor())"
            ]
          },
          "metadata": {},
          "execution_count": 11
        }
      ]
    },
    {
      "cell_type": "markdown",
      "source": [
        "## 2. Prepare DataLoader\n",
        "\n",
        "Right now, our data in in the form of PyTorch Datasets.\n",
        "\n",
        "DataLoader turns our dataset into a python iterable.\n",
        "\n",
        "More specifically, we want to turn our data into batches (or mini-batches). We do this because -\n",
        "* It is more computationally efficient as in your computing hardware may not be able to look at (store in memory) 60000 images at one hit. So we break it down to 32 images at a time (32 is a common batch size).\n",
        "* It gives our Neural Network more chances to update it's gradients per epoch.\n",
        "\n",
        "Mini batch size is a value you can set (a hyperparameter), so, you can try all different kinds of values, though generally powers of 2 are used most often (e.g. 32, 64, 128, 256, 512).\n",
        "\n",
        "For more info: [Andrew Ng](https://www.youtube.com/watch?v=4qJaSmvhxi8)\n",
        "\n",
        "![DataLoader](https://github.com/suryansh-sinha/Learning-PyTorch/blob/main/Daniel%20Bourke/images/03_PyTorch_Computer_Vision/DataLoader_Annotated.png?raw=true)"
      ],
      "metadata": {
        "id": "Wdk1tJ_KHfSN"
      }
    },
    {
      "cell_type": "markdown",
      "source": [
        "What the dataloader will do is, split the entire dataset into 60000/32 = 1875 batches. Each batch will have 32 images.\n",
        "\n",
        "DataLoader documentation --> https://pytorch.org/docs/stable/data.html"
      ],
      "metadata": {
        "id": "IPdRNZ6HMrSx"
      }
    },
    {
      "cell_type": "code",
      "source": [
        "from torch.utils.data import DataLoader\n",
        "\n",
        "# setup the batch size hyperparameter\n",
        "BATCH_SIZE = 32\n",
        "\n",
        "# Turn datasets into iterables\n",
        "train_dataloader = DataLoader(train_data,\n",
        "                              batch_size=BATCH_SIZE,\n",
        "                              shuffle=True)\n",
        "\n",
        "test_dataloader = DataLoader(test_data,\n",
        "                              batch_size=BATCH_SIZE,\n",
        "                              shuffle=False)\n",
        "\n",
        "train_dataloader, test_dataloader"
      ],
      "metadata": {
        "colab": {
          "base_uri": "https://localhost:8080/"
        },
        "id": "v5eNxm-PHqbN",
        "outputId": "1d158574-6ced-4046-983b-d26f57519ecd"
      },
      "execution_count": 82,
      "outputs": [
        {
          "output_type": "execute_result",
          "data": {
            "text/plain": [
              "(<torch.utils.data.dataloader.DataLoader at 0x791b03518190>,\n",
              " <torch.utils.data.dataloader.DataLoader at 0x791b0351bbb0>)"
            ]
          },
          "metadata": {},
          "execution_count": 82
        }
      ]
    },
    {
      "cell_type": "code",
      "source": [
        "# Let's checkout what we've created.\n",
        "print(f'DataLoaders: {train_dataloader, test_dataloader}')\n",
        "print(f'Length of train_dataloader: {len(train_dataloader)} batches of {BATCH_SIZE}...')\n",
        "print(f'Length of test_dataloader: {len(test_dataloader)} batches of {BATCH_SIZE}...')"
      ],
      "metadata": {
        "colab": {
          "base_uri": "https://localhost:8080/"
        },
        "id": "5K9G7FHhOLii",
        "outputId": "13a099c0-9f25-4dd9-c2b7-fd8c9e2ad1ea"
      },
      "execution_count": 83,
      "outputs": [
        {
          "output_type": "stream",
          "name": "stdout",
          "text": [
            "DataLoaders: (<torch.utils.data.dataloader.DataLoader object at 0x791b03518190>, <torch.utils.data.dataloader.DataLoader object at 0x791b0351bbb0>)\n",
            "Length of train_dataloader: 1875 batches of 32...\n",
            "Length of test_dataloader: 313 batches of 32...\n"
          ]
        }
      ]
    },
    {
      "cell_type": "code",
      "source": [
        "# Checking out what's inside the training dataloader.\n",
        "train_features_batch, train_labels_batch = next(iter(train_dataloader))\n",
        "train_features_batch.shape, train_labels_batch.shape"
      ],
      "metadata": {
        "colab": {
          "base_uri": "https://localhost:8080/"
        },
        "id": "3nevvpHuOzeF",
        "outputId": "e21b86d9-001a-4820-f369-1184bb94f5ff"
      },
      "execution_count": 84,
      "outputs": [
        {
          "output_type": "execute_result",
          "data": {
            "text/plain": [
              "(torch.Size([32, 1, 28, 28]), torch.Size([32]))"
            ]
          },
          "metadata": {},
          "execution_count": 84
        }
      ]
    },
    {
      "cell_type": "code",
      "source": [
        "# Show a sample\n",
        "torch.manual_seed(42)\n",
        "random_idx = torch.randint(0, len(train_features_batch), size=[1]).item()\n",
        "img, label = train_features_batch[random_idx], train_labels_batch[random_idx]\n",
        "plt.imshow(img.squeeze(), cmap=\"gray\")\n",
        "plt.title(class_names[label])\n",
        "plt.axis(\"Off\");\n",
        "print(f\"Image size: {img.shape}\")\n",
        "print(f\"Label: {label}, label size: {label.shape}\")"
      ],
      "metadata": {
        "colab": {
          "base_uri": "https://localhost:8080/",
          "height": 464
        },
        "id": "TQ_N3PPNPb_Z",
        "outputId": "1927376b-bac2-4a1d-ef2a-ac7deec5f49d"
      },
      "execution_count": 85,
      "outputs": [
        {
          "output_type": "stream",
          "name": "stdout",
          "text": [
            "Image size: torch.Size([1, 28, 28])\n",
            "Label: 2, label size: torch.Size([])\n"
          ]
        },
        {
          "output_type": "display_data",
          "data": {
            "text/plain": [
              "<Figure size 640x480 with 1 Axes>"
            ],
            "image/png": "[encoded data removed]"
          },
          "metadata": {}
        }
      ]
    },
    {
      "cell_type": "markdown",
      "source": [
        "## 3. Creating Model 0 (A Baseline Model)\n",
        "\n",
        "A baseline model is one of the simplest models you can imagine. When starting to build models for a ML experiment, it's best practice to start with a baseline model.\n",
        "\n",
        "You use the baseline as a starting point and try to improve upon it with subsequent, more complicated models.\n",
        "\n",
        "Our baseline will consist of two `nn.Linear()` layers. 1 hidden layer with 10 nodes.\n",
        "\n",
        "Because we're working with image data, we're going to use a different layer to start things off.\n",
        "\n",
        "`nn.Flatten()` compresses the dimensions of a tensor into a single vector."
      ],
      "metadata": {
        "id": "m1vq86b1ifTx"
      }
    },
    {
      "cell_type": "code",
      "source": [
        "# Create a flatten layer.\n",
        "flatten_model = nn.Flatten()\n",
        "\n",
        "# Get a single sample\n",
        "X = train_features_batch[0] # Getting a single image from batch of 32.\n",
        "\n",
        "# Flatten the sample\n",
        "output = flatten_model(X) # Flattens the model, has 28*28 = 784 values in it.\n",
        "\n",
        "print(f'Shape before flattening: {X.shape}')\n",
        "print(f'Shape after flattening: {output.shape}')"
      ],
      "metadata": {
        "colab": {
          "base_uri": "https://localhost:8080/"
        },
        "id": "fp0fAlQ4PoQ7",
        "outputId": "8f8a1ef2-8eb8-4596-dbd8-28193af4aefa"
      },
      "execution_count": 86,
      "outputs": [
        {
          "output_type": "stream",
          "name": "stdout",
          "text": [
            "Shape before flattening: torch.Size([1, 28, 28])\n",
            "Shape after flattening: torch.Size([1, 784])\n"
          ]
        }
      ]
    },
    {
      "cell_type": "code",
      "source": [
        "output.squeeze()"
      ],
      "metadata": {
        "colab": {
          "base_uri": "https://localhost:8080/"
        },
        "id": "zFVaAViaj6Dy",
        "outputId": "c1ae577d-6b76-4bca-f676-3986a3be9daa"
      },
      "execution_count": 87,
      "outputs": [
        {
          "output_type": "execute_result",
          "data": {
            "text/plain": [
              "tensor([0.0000, 0.0000, 0.0000, 0.0000, 0.0000, 0.0000, 0.0000, 0.0000, 0.0000,\n",
              "        0.0000, 0.0000, 0.0314, 0.3961, 0.1882, 0.1529, 0.3098, 0.8078, 0.0000,\n",
              "        0.0000, 0.0157, 0.0000, 0.0000, 0.0000, 0.0000, 0.0000, 0.0000, 0.0000,\n",
              "        0.0000, 0.0000, 0.0000, 0.0000, 0.0000, 0.0000, 0.0000, 0.0000, 0.0000,\n",
              "        0.0000, 0.0000, 0.0000, 0.4627, 0.5490, 0.4275, 0.5137, 0.7412, 0.7412,\n",
              "        0.0000, 0.0000, 0.0000, 0.0000, 0.0000, 0.0000, 0.0000, 0.0000, 0.0000,\n",
              "        0.0000, 0.0000, 0.0000, 0.0000, 0.0000, 0.0000, 0.0000, 0.0000, 0.0000,\n",
              "        0.0000, 0.0000, 0.1176, 0.2549, 0.4471, 0.3412, 0.7569, 0.9961, 0.6196,\n",
              "        0.0000, 0.1882, 0.1882, 0.0157, 0.0000, 0.0000, 0.0000, 0.0000, 0.0000,\n",
              "        0.0000, 0.0000, 0.0000, 0.0000, 0.0000, 0.0000, 0.0000, 0.0000, 0.0000,\n",
              "        0.0000, 0.0157, 0.2902, 0.2745, 0.3098, 0.3765, 0.2549, 0.5686, 0.1529,\n",
              "        0.3098, 0.5490, 0.0314, 0.2392, 0.2745, 0.2235, 0.0000, 0.0000, 0.0000,\n",
              "        0.0000, 0.0000, 0.0000, 0.0000, 0.0000, 0.0000, 0.0000, 0.0000, 0.0000,\n",
              "        0.0000, 0.0157, 0.1686, 0.2549, 0.1882, 0.2235, 0.1882, 0.0314, 0.1176,\n",
              "        0.1686, 0.0314, 0.2549, 0.1020, 0.0510, 0.2039, 0.2392, 0.2235, 0.0000,\n",
              "        0.0000, 0.0000, 0.0000, 0.0000, 0.0000, 0.0000, 0.0000, 0.0000, 0.0000,\n",
              "        0.0000, 0.0000, 0.1176, 0.1529, 0.2039, 0.2392, 0.2549, 0.1373, 0.1529,\n",
              "        0.1373, 0.1882, 0.1686, 0.1176, 0.1529, 0.1686, 0.1882, 0.1020, 0.1686,\n",
              "        0.1373, 0.0000, 0.0000, 0.0000, 0.0000, 0.0000, 0.0000, 0.0000, 0.0000,\n",
              "        0.0000, 0.0000, 0.0000, 0.1529, 0.1373, 0.1373, 0.2392, 0.3098, 0.1373,\n",
              "        0.1176, 0.1529, 0.1529, 0.1686, 0.1529, 0.1373, 0.1529, 0.1686, 0.1882,\n",
              "        0.1529, 0.2039, 0.0000, 0.0000, 0.0000, 0.0000, 0.0000, 0.0000, 0.0000,\n",
              "        0.0000, 0.0000, 0.0000, 0.0000, 0.1529, 0.1686, 0.1373, 0.2902, 0.3098,\n",
              "        0.1373, 0.1373, 0.1373, 0.1373, 0.1529, 0.1529, 0.1373, 0.1373, 0.1529,\n",
              "        0.1882, 0.1686, 0.2039, 0.0000, 0.0000, 0.0000, 0.0000, 0.0000, 0.0000,\n",
              "        0.0000, 0.0000, 0.0000, 0.0000, 0.0000, 0.1529, 0.2039, 0.1373, 0.3098,\n",
              "        0.3098, 0.1373, 0.1373, 0.1529, 0.1373, 0.1686, 0.1529, 0.1020, 0.1176,\n",
              "        0.1373, 0.1882, 0.1882, 0.2235, 0.0000, 0.0000, 0.0000, 0.0000, 0.0000,\n",
              "        0.0000, 0.0000, 0.0000, 0.0000, 0.0000, 0.0000, 0.2039, 0.2039, 0.1686,\n",
              "        0.2549, 0.2392, 0.1373, 0.1176, 0.1686, 0.1176, 0.2235, 0.1373, 0.1020,\n",
              "        0.1373, 0.1020, 0.1686, 0.2039, 0.1882, 0.0510, 0.0000, 0.0000, 0.0000,\n",
              "        0.0000, 0.0000, 0.0000, 0.0000, 0.0000, 0.0000, 0.0314, 0.2235, 0.2039,\n",
              "        0.2549, 0.2745, 0.1882, 0.1529, 0.1529, 0.1686, 0.1176, 0.2235, 0.1373,\n",
              "        0.1176, 0.1529, 0.1176, 0.2235, 0.2235, 0.2039, 0.0824, 0.0000, 0.0000,\n",
              "        0.0000, 0.0000, 0.0000, 0.0000, 0.0000, 0.0000, 0.0000, 0.1020, 0.2392,\n",
              "        0.2039, 0.3608, 0.2745, 0.1176, 0.1882, 0.2039, 0.1529, 0.1020, 0.2235,\n",
              "        0.1373, 0.1373, 0.1529, 0.1176, 0.2745, 0.2235, 0.2235, 0.1020, 0.0000,\n",
              "        0.0000, 0.0000, 0.0000, 0.0000, 0.0000, 0.0000, 0.0000, 0.0000, 0.1529,\n",
              "        0.3255, 0.1686, 0.3608, 0.2039, 0.1529, 0.2039, 0.2549, 0.2039, 0.1176,\n",
              "        0.2039, 0.1020, 0.1686, 0.1176, 0.1020, 0.2902, 0.2039, 0.2392, 0.1373,\n",
              "        0.0000, 0.0000, 0.0000, 0.0000, 0.0000, 0.0000, 0.0000, 0.0000, 0.0000,\n",
              "        0.1882, 0.3255, 0.1686, 0.3098, 0.2392, 0.1686, 0.2235, 0.2549, 0.2235,\n",
              "        0.1373, 0.2235, 0.1020, 0.1882, 0.1529, 0.1176, 0.2235, 0.1686, 0.2902,\n",
              "        0.1686, 0.0000, 0.0000, 0.0000, 0.0000, 0.0000, 0.0000, 0.0000, 0.0000,\n",
              "        0.0000, 0.2235, 0.3098, 0.2039, 0.2745, 0.2902, 0.1529, 0.2039, 0.2549,\n",
              "        0.2039, 0.1529, 0.2392, 0.1176, 0.2039, 0.1882, 0.1176, 0.1882, 0.1686,\n",
              "        0.2902, 0.1373, 0.0000, 0.0000, 0.0000, 0.0000, 0.0000, 0.0000, 0.0000,\n",
              "        0.0000, 0.0000, 0.1882, 0.3098, 0.2392, 0.2039, 0.2745, 0.1686, 0.2392,\n",
              "        0.2235, 0.2392, 0.1686, 0.2235, 0.1020, 0.1686, 0.1882, 0.1529, 0.1882,\n",
              "        0.2235, 0.2745, 0.1373, 0.0000, 0.0000, 0.0000, 0.0000, 0.0000, 0.0000,\n",
              "        0.0000, 0.0000, 0.0000, 0.2235, 0.3098, 0.2902, 0.1882, 0.2549, 0.1882,\n",
              "        0.2549, 0.1882, 0.2549, 0.2039, 0.2392, 0.1529, 0.1529, 0.2039, 0.1882,\n",
              "        0.1686, 0.2549, 0.2549, 0.1686, 0.0000, 0.0000, 0.0000, 0.0000, 0.0000,\n",
              "        0.0000, 0.0000, 0.0000, 0.0000, 0.2745, 0.2549, 0.2902, 0.2039, 0.3098,\n",
              "        0.1529, 0.2392, 0.1882, 0.2549, 0.2235, 0.2549, 0.1529, 0.1686, 0.1882,\n",
              "        0.1686, 0.1373, 0.2745, 0.2392, 0.2039, 0.0000, 0.0000, 0.0000, 0.0000,\n",
              "        0.0000, 0.0000, 0.0000, 0.0000, 0.0000, 0.2745, 0.2039, 0.3098, 0.2392,\n",
              "        0.3098, 0.1373, 0.2549, 0.1686, 0.2745, 0.2392, 0.2745, 0.2235, 0.1686,\n",
              "        0.2039, 0.1882, 0.1686, 0.3098, 0.2039, 0.2392, 0.0000, 0.0000, 0.0000,\n",
              "        0.0000, 0.0000, 0.0000, 0.0000, 0.0000, 0.0000, 0.2549, 0.2549, 0.3412,\n",
              "        0.2745, 0.2745, 0.1529, 0.3098, 0.2039, 0.2902, 0.2235, 0.2745, 0.2549,\n",
              "        0.1529, 0.1882, 0.1882, 0.2039, 0.3412, 0.2235, 0.2392, 0.0000, 0.0000,\n",
              "        0.0000, 0.0000, 0.0000, 0.0000, 0.0000, 0.0000, 0.0000, 0.2549, 0.2392,\n",
              "        0.3412, 0.2549, 0.2745, 0.1529, 0.2902, 0.2745, 0.2745, 0.2745, 0.3255,\n",
              "        0.2745, 0.1529, 0.1882, 0.1882, 0.2039, 0.3255, 0.2039, 0.2392, 0.0000,\n",
              "        0.0000, 0.0000, 0.0000, 0.0000, 0.0000, 0.0000, 0.0000, 0.0000, 0.2549,\n",
              "        0.2392, 0.3412, 0.2745, 0.2549, 0.1686, 0.2745, 0.3255, 0.2549, 0.1686,\n",
              "        0.2902, 0.3255, 0.1529, 0.1882, 0.1882, 0.2039, 0.3255, 0.2039, 0.2549,\n",
              "        0.0000, 0.0000, 0.0000, 0.0000, 0.0000, 0.0000, 0.0000, 0.0000, 0.0000,\n",
              "        0.2392, 0.2235, 0.3412, 0.2902, 0.2235, 0.2039, 0.3098, 0.2235, 0.2745,\n",
              "        0.2039, 0.2549, 0.3412, 0.2235, 0.1529, 0.1882, 0.2549, 0.3098, 0.2039,\n",
              "        0.2902, 0.0000, 0.0000, 0.0000, 0.0000, 0.0000, 0.0000, 0.0000, 0.0000,\n",
              "        0.0000, 0.2745, 0.2392, 0.3412, 0.2392, 0.2392, 0.2039, 0.3098, 0.2549,\n",
              "        0.2745, 0.2392, 0.2902, 0.3608, 0.2392, 0.1686, 0.1882, 0.2549, 0.3608,\n",
              "        0.2039, 0.2549, 0.0000, 0.0000, 0.0000, 0.0000, 0.0000, 0.0000, 0.0000,\n",
              "        0.0000, 0.0000, 0.3098, 0.2392, 0.3412, 0.2039, 0.2235, 0.2039, 0.3255,\n",
              "        0.3255, 0.2745, 0.1882, 0.2745, 0.3412, 0.2902, 0.2039, 0.1882, 0.1882,\n",
              "        0.3412, 0.2902, 0.2902, 0.0000, 0.0000, 0.0000, 0.0000, 0.0000, 0.0000,\n",
              "        0.0000, 0.0000, 0.0000, 0.2745, 0.3608, 0.4275, 0.1686, 0.3412, 0.2039,\n",
              "        0.3098, 0.3608, 0.3255, 0.2549, 0.2902, 0.2902, 0.2549, 0.2392, 0.3098,\n",
              "        0.1529, 0.4275, 0.3098, 0.2549, 0.0000, 0.0000, 0.0000, 0.0000, 0.0000,\n",
              "        0.0000, 0.0000, 0.0000, 0.0000, 0.2745, 0.3608, 0.4980, 0.0000, 0.2902,\n",
              "        0.2745, 0.3961, 0.4824, 0.3765, 0.2549, 0.3961, 0.3765, 0.3098, 0.3098,\n",
              "        0.2039, 0.0000, 0.5333, 0.3765, 0.2549, 0.0000, 0.0000, 0.0000, 0.0000,\n",
              "        0.0000, 0.0000, 0.0000, 0.0000, 0.0000, 0.2039, 0.3412, 0.4118, 0.0000,\n",
              "        0.0000, 0.0000, 0.1020, 0.1686, 0.1882, 0.1176, 0.1529, 0.1686, 0.0667,\n",
              "        0.0000, 0.0000, 0.0000, 0.3412, 0.3098, 0.1373, 0.0000, 0.0000, 0.0000,\n",
              "        0.0000])"
            ]
          },
          "metadata": {},
          "execution_count": 87
        }
      ]
    },
    {
      "cell_type": "code",
      "source": [
        "from torch import nn\n",
        "class FashionMNISTModelV0(nn.Module):\n",
        "  def __init__(self,\n",
        "               input_shape: int,\n",
        "               hidden_units: int,\n",
        "               output_shape: int):\n",
        "    super().__init__()\n",
        "    self.layer_stack = nn.Sequential(\n",
        "        nn.Flatten(),\n",
        "        nn.Linear(input_shape, hidden_units),\n",
        "        nn.Linear(hidden_units, output_shape)\n",
        "    )\n",
        "\n",
        "  def forward(self, x):\n",
        "    return self.layer_stack(x)"
      ],
      "metadata": {
        "id": "HNFs4VEBkB8q"
      },
      "execution_count": 88,
      "outputs": []
    },
    {
      "cell_type": "code",
      "source": [
        "torch.manual_seed(42)\n",
        "torch.cuda.manual_seed(42)\n",
        "\n",
        "# Setup model with input parameters\n",
        "model0 = FashionMNISTModelV0(\n",
        "    input_shape = 28*28, # This is equal to 28*28\n",
        "    hidden_units = 10,  # Number of nodes in hidden layer\n",
        "    output_shape = len(class_names)   # Number of nodes in output layer (10 because we have 10 classes)\n",
        ").to('cpu')\n",
        "\n",
        "model0"
      ],
      "metadata": {
        "colab": {
          "base_uri": "https://localhost:8080/"
        },
        "id": "OciSdRDzldSz",
        "outputId": "29238625-c9b5-44f5-d191-45f8fffdf0f3"
      },
      "execution_count": 89,
      "outputs": [
        {
          "output_type": "execute_result",
          "data": {
            "text/plain": [
              "FashionMNISTModelV0(\n",
              "  (layer_stack): Sequential(\n",
              "    (0): Flatten(start_dim=1, end_dim=-1)\n",
              "    (1): Linear(in_features=784, out_features=10, bias=True)\n",
              "    (2): Linear(in_features=10, out_features=10, bias=True)\n",
              "  )\n",
              ")"
            ]
          },
          "metadata": {},
          "execution_count": 89
        }
      ]
    },
    {
      "cell_type": "code",
      "source": [
        "dummy_x = torch.rand([1, 1, 28, 28])  # Creating a dummy image\n",
        "model0(dummy_x) # Gives us logits for each class."
      ],
      "metadata": {
        "colab": {
          "base_uri": "https://localhost:8080/"
        },
        "id": "h_vVj8RomMZL",
        "outputId": "098647ee-3661-4c8b-efb0-04949f7dcb8a"
      },
      "execution_count": 90,
      "outputs": [
        {
          "output_type": "execute_result",
          "data": {
            "text/plain": [
              "tensor([[-0.0315,  0.3171,  0.0531, -0.2525,  0.5959,  0.2112,  0.3233,  0.2694,\n",
              "         -0.1004,  0.0157]], grad_fn=<AddmmBackward0>)"
            ]
          },
          "metadata": {},
          "execution_count": 90
        }
      ]
    },
    {
      "cell_type": "code",
      "source": [
        "model0.state_dict()"
      ],
      "metadata": {
        "colab": {
          "base_uri": "https://localhost:8080/"
        },
        "id": "GVeiDZnSmjIp",
        "outputId": "5ced3186-c4ce-45fa-ba71-a6a87b0df499"
      },
      "execution_count": 91,
      "outputs": [
        {
          "output_type": "execute_result",
          "data": {
            "text/plain": [
              "OrderedDict([('layer_stack.1.weight',\n",
              "              tensor([[ 0.0273,  0.0296, -0.0084,  ..., -0.0142,  0.0093,  0.0135],\n",
              "                      [-0.0188, -0.0354,  0.0187,  ..., -0.0106, -0.0001,  0.0115],\n",
              "                      [-0.0008,  0.0017,  0.0045,  ..., -0.0127, -0.0188,  0.0059],\n",
              "                      ...,\n",
              "                      [-0.0116,  0.0273, -0.0344,  ...,  0.0176,  0.0283, -0.0011],\n",
              "                      [-0.0230,  0.0257,  0.0291,  ..., -0.0187, -0.0087,  0.0001],\n",
              "                      [ 0.0176, -0.0147,  0.0053,  ..., -0.0336, -0.0221,  0.0205]])),\n",
              "             ('layer_stack.1.bias',\n",
              "              tensor([-0.0093,  0.0283, -0.0033,  0.0255,  0.0017,  0.0037, -0.0302, -0.0123,\n",
              "                       0.0018,  0.0163])),\n",
              "             ('layer_stack.2.weight',\n",
              "              tensor([[ 0.0614, -0.0687,  0.0021,  0.2718,  0.2109,  0.1079, -0.2279, -0.1063,\n",
              "                        0.2019,  0.2847],\n",
              "                      [-0.1495,  0.1344, -0.0740,  0.2006, -0.0475, -0.2514, -0.3130, -0.0118,\n",
              "                        0.0932, -0.1864],\n",
              "                      [ 0.2488,  0.1500,  0.1907,  0.1457, -0.3050, -0.0580,  0.1643,  0.1565,\n",
              "                       -0.2877, -0.1792],\n",
              "                      [ 0.2305, -0.2618,  0.2397, -0.0610,  0.0232,  0.1542,  0.0851, -0.2027,\n",
              "                        0.1030, -0.2715],\n",
              "                      [-0.1596, -0.0555, -0.0633,  0.2302, -0.1726,  0.2654,  0.1473,  0.1029,\n",
              "                        0.2252, -0.2160],\n",
              "                      [-0.2725,  0.0118,  0.1559,  0.1596,  0.0132,  0.3024,  0.1124,  0.1366,\n",
              "                       -0.1533,  0.0965],\n",
              "                      [-0.1184, -0.2555, -0.2057, -0.1909, -0.0477, -0.1324,  0.2905,  0.1307,\n",
              "                       -0.2629,  0.0133],\n",
              "                      [ 0.2727, -0.0127,  0.0513,  0.0863, -0.1043, -0.2047, -0.1185, -0.0825,\n",
              "                        0.2488, -0.2571],\n",
              "                      [ 0.0425, -0.1209, -0.0336, -0.0281, -0.1227,  0.0730,  0.0747, -0.1816,\n",
              "                        0.1943,  0.2853],\n",
              "                      [-0.1310,  0.0645, -0.1171,  0.2168, -0.0245, -0.2820,  0.0736,  0.2621,\n",
              "                        0.0012, -0.0810]])),\n",
              "             ('layer_stack.2.bias',\n",
              "              tensor([-0.0087,  0.1791,  0.2712, -0.0791,  0.1685,  0.1762,  0.2825,  0.2266,\n",
              "                      -0.2612, -0.2613]))])"
            ]
          },
          "metadata": {},
          "execution_count": 91
        }
      ]
    },
    {
      "cell_type": "code",
      "source": [
        "str(next(model0.parameters()).device)"
      ],
      "metadata": {
        "colab": {
          "base_uri": "https://localhost:8080/",
          "height": 35
        },
        "id": "TVfTQmNYMqNh",
        "outputId": "db4eb978-1939-417e-8504-2fd362b9dfc4"
      },
      "execution_count": 92,
      "outputs": [
        {
          "output_type": "execute_result",
          "data": {
            "text/plain": [
              "'cpu'"
            ],
            "application/vnd.google.colaboratory.intrinsic+json": {
              "type": "string"
            }
          },
          "metadata": {},
          "execution_count": 92
        }
      ]
    },
    {
      "cell_type": "markdown",
      "source": [
        "### 3.1 Setup loss, optimizer and evaluation metrics\n",
        "\n",
        "* Loss function - Since we're working with multiclass data, the loss function we will use is `nn.CrossEntropyLoss()`.\n",
        "* Optimizer - We're going to use the standard SGD optimizer here.\n",
        "* Evaluation - We're going to evaluate this using confusion matrix and accuracy."
      ],
      "metadata": {
        "id": "dDrhBJPHnPgV"
      }
    },
    {
      "cell_type": "code",
      "source": [
        "# Helper function for accuracy\n",
        "# def accuracy_fn(y_true, y_pred):\n",
        "#   correct = torch.eq(y_true, y_pred).sum().item() # Calculate the total correct predictions.\n",
        "#   acc = (correct/len(y_pred)) * 100\n",
        "#   return acc"
      ],
      "metadata": {
        "id": "0FshRcBUnMXO"
      },
      "execution_count": 93,
      "outputs": []
    },
    {
      "cell_type": "code",
      "source": [
        "# Using the function from learn pytorch repo -\n",
        "from pathlib import Path\n",
        "import requests\n",
        "\n",
        "if Path('helper_functions.py').is_file():\n",
        "  print(\"helper_functions.py already exists, skipping download\")\n",
        "else:\n",
        "  print(\"Downloading helper_functions.py\")\n",
        "  # Note: you need the \"raw\" GitHub URL for this to work\n",
        "  request = requests.get(\"https://raw.githubusercontent.com/mrdbourke/pytorch-deep-learning/main/helper_functions.py\")\n",
        "  with open(\"helper_functions.py\", \"wb\") as f:\n",
        "    f.write(request.content)"
      ],
      "metadata": {
        "colab": {
          "base_uri": "https://localhost:8080/"
        },
        "id": "3fCZuyt4oVyU",
        "outputId": "21a0fc18-4783-4dfc-93f0-770ab7adb817"
      },
      "execution_count": 94,
      "outputs": [
        {
          "output_type": "stream",
          "name": "stdout",
          "text": [
            "helper_functions.py already exists, skipping download\n"
          ]
        }
      ]
    },
    {
      "cell_type": "code",
      "source": [
        "# Import accuracy metric\n",
        "from helper_functions import accuracy_fn\n",
        "\n",
        "# Create loss function and optimizer\n",
        "loss_fn = nn.CrossEntropyLoss()\n",
        "optimizer = torch.optim.SGD(model0.parameters(),\n",
        "                            lr=0.1)"
      ],
      "metadata": {
        "id": "DQBZsEN5pxks"
      },
      "execution_count": 95,
      "outputs": []
    },
    {
      "cell_type": "markdown",
      "source": [
        "### 3.2 Create a function to time our experiments.\n",
        "\n",
        "Two of the main things you'll want to check for our experiments is:\n",
        "1. Model's performance (loss and evaluation metrics).\n",
        "2. How fast does it run."
      ],
      "metadata": {
        "id": "imZ4sEBqqoEK"
      }
    },
    {
      "cell_type": "code",
      "source": [
        "from timeit import default_timer as timer\n",
        "def print_train_time(start: float,\n",
        "                     end: float,\n",
        "                     device: torch.device = None):\n",
        "\n",
        "  \"\"\"Prints difference between start and end time\"\"\"\n",
        "  total_time = end - start\n",
        "  print(f'Train time on {device}: {total_time:3f} seconds')\n",
        "  return total_time"
      ],
      "metadata": {
        "id": "9ZosVcNUqB8u"
      },
      "execution_count": 96,
      "outputs": []
    },
    {
      "cell_type": "code",
      "source": [
        "start_time = timer()\n",
        "# Code\n",
        "end_time = timer()\n",
        "print_train_time(start = start_time,\n",
        "                 end = end_time,\n",
        "                 device='cpu')"
      ],
      "metadata": {
        "colab": {
          "base_uri": "https://localhost:8080/"
        },
        "id": "mLjw1fKgriqo",
        "outputId": "06d26f3c-6c69-40ff-e127-7c529367aac5"
      },
      "execution_count": 97,
      "outputs": [
        {
          "output_type": "stream",
          "name": "stdout",
          "text": [
            "Train time on cpu: 0.000059 seconds\n"
          ]
        },
        {
          "output_type": "execute_result",
          "data": {
            "text/plain": [
              "5.874600037714117e-05"
            ]
          },
          "metadata": {},
          "execution_count": 97
        }
      ]
    },
    {
      "cell_type": "markdown",
      "source": [
        "### 3.3 Creating a training and testing loop to train model on batches of data.\n",
        "1. Loop through epochs\n",
        "2. Loop through training batches, perform training steps, calculate the train loss *per batch*.\n",
        "3. Loop through testing batches, perform testing steps, calculate the test loss *per batch*\n",
        "4. Print all statistics\n",
        "5. Time it all (How long it takes to run)"
      ],
      "metadata": {
        "id": "pabgM8KSsgg6"
      }
    },
    {
      "cell_type": "code",
      "source": [
        "# Import tqdm for progress bar\n",
        "from tqdm.auto import tqdm  # Checks what environment we're running in and gives us the progress bar accordingly.\n",
        "\n",
        "# Set the seed and start the timer.\n",
        "torch.manual_seed(42)\n",
        "train_time_start_on_cpu = timer()\n",
        "\n",
        "# Set number of epochs (we'll keep this small for faster training time)\n",
        "epochs = 3\n",
        "\n",
        "# Create training and test loop\n",
        "for epoch in tqdm(range(epochs)): # We wrap our iterator in tqdm to get progress bar.\n",
        "  print(f'Epoch: {epoch}\\n------')\n",
        "  ### Training\n",
        "  # We start with 0 and accumulate loss for the entire batch.\n",
        "  train_loss = 0  # Divide this by batch size at end of training batch to get avg loss for batch.\n",
        "  # Loop through training batches:\n",
        "  for batch, (X, y) in enumerate(train_dataloader): # X is image, y is label. Enumerate adds indexing to each object of iterable.\n",
        "    model0.train()\n",
        "\n",
        "    # 1. Forward Pass\n",
        "    y_logits = model0(X)\n",
        "\n",
        "    # 2. Calculate loss (per batch)\n",
        "    loss = loss_fn(y_logits, y)\n",
        "    train_loss += loss  # Accumulate train loss for each image in batch.\n",
        "\n",
        "    # 3. Gradients to zero\n",
        "    optimizer.zero_grad()\n",
        "\n",
        "    # 4. Backpropagate on loss\n",
        "    loss.backward()\n",
        "\n",
        "    # 5. Update parameters\n",
        "    optimizer.step()\n",
        "\n",
        "    if batch%400 == 0:\n",
        "      print(f'Looked at {batch * len(X)}/{len(train_dataloader.dataset)} samples.')\n",
        "\n",
        "  # Divide total train loss by length of train_dataloader to get average train loss.\n",
        "  train_loss /= len(train_dataloader)\n",
        "\n",
        "  ### Testing\n",
        "  test_loss, test_acc = 0, 0\n",
        "  model0.eval()\n",
        "  with torch.inference_mode():\n",
        "    for X_test, y_test in test_dataloader:\n",
        "      # 1. Forward pass\n",
        "      test_logits = model0(X_test)\n",
        "\n",
        "      # 2. Calculate test loss\n",
        "      test_loss += loss_fn(test_logits, y_test)\n",
        "\n",
        "      # 3. Calculate accuracy\n",
        "      # Not using softmax here because it just scales the logits such that the sum of them all is 1.\n",
        "      # The maximum logit still remains the same, hence we can directly find the index of the max logit.\n",
        "      test_acc += accuracy_fn(y_test, test_logits.argmax(dim=1))\n",
        "\n",
        "    # Calculate the test loss average per batch\n",
        "    test_loss /= len(test_dataloader)\n",
        "\n",
        "    # Calculate the test accuracy average per batch\n",
        "    test_acc /= len(test_dataloader)\n",
        "\n",
        "  # Print out what's happening\n",
        "  print(f'\\nTrain Loss: {train_loss:.4f} | Test Loss: {test_loss:.4f}, Test Acc: {test_acc:.2f}')\n",
        "\n",
        "# Calculate the training time\n",
        "train_time_end_on_cpu = timer()\n",
        "\n",
        "total_train_time_model0 = print_train_time(start = train_time_start_on_cpu,\n",
        "                                           end = train_time_end_on_cpu,\n",
        "                                           device = str(next(model0.parameters()).device))"
      ],
      "metadata": {
        "colab": {
          "base_uri": "https://localhost:8080/",
          "height": 549,
          "referenced_widgets": [
            "13820f9356104ec0b53c9a22a9c2888d",
            "515ed3ef8100408cbd48ff56c813f2ea",
            "90808dd147a04901bd5d1629488dc496",
            "8d217dd6b0ae48f790f6bd92f592db37",
            "bf4ea9e6b16849848f7f621e1c0b8be2",
            "b6498d8d205d417eba1cc578b75d103f",
            "54ed82a1d1594e10966fac27f15591c1",
            "3c3fb109d7c248be881be79251bfb2c9",
            "2ad42568213245f9948f797cba4970e1",
            "4ddb554f24cc4c878c46a4a53936d63e",
            "681d6441e8494285b2e39950a3a97e1f"
          ]
        },
        "id": "0ryBNJCIr3Hh",
        "outputId": "fff836cb-abea-4269-bd24-5b2f28a2d82a"
      },
      "execution_count": 98,
      "outputs": [
        {
          "output_type": "display_data",
          "data": {
            "text/plain": [
              "  0%|          | 0/3 [00:00<?, ?it/s]"
            ],
            "application/vnd.jupyter.widget-view+json": {
              "version_major": 2,
              "version_minor": 0,
              "model_id": "13820f9356104ec0b53c9a22a9c2888d"
            }
          },
          "metadata": {}
        },
        {
          "output_type": "stream",
          "name": "stdout",
          "text": [
            "Epoch: 0\n",
            "------\n",
            "Looked at 0/60000 samples.\n",
            "Looked at 12800/60000 samples.\n",
            "Looked at 25600/60000 samples.\n",
            "Looked at 38400/60000 samples.\n",
            "Looked at 51200/60000 samples.\n",
            "\n",
            "Train Loss: 0.5904 | Test Loss: 0.5095, Test Acc: 82.04\n",
            "Epoch: 1\n",
            "------\n",
            "Looked at 0/60000 samples.\n",
            "Looked at 12800/60000 samples.\n",
            "Looked at 25600/60000 samples.\n",
            "Looked at 38400/60000 samples.\n",
            "Looked at 51200/60000 samples.\n",
            "\n",
            "Train Loss: 0.4763 | Test Loss: 0.4799, Test Acc: 83.20\n",
            "Epoch: 2\n",
            "------\n",
            "Looked at 0/60000 samples.\n",
            "Looked at 12800/60000 samples.\n",
            "Looked at 25600/60000 samples.\n",
            "Looked at 38400/60000 samples.\n",
            "Looked at 51200/60000 samples.\n",
            "\n",
            "Train Loss: 0.4550 | Test Loss: 0.4766, Test Acc: 83.43\n",
            "Train time on cpu: 26.601601 seconds\n"
          ]
        }
      ]
    },
    {
      "cell_type": "markdown",
      "source": [
        "## 4. Make predictions and get model0 results\n",
        "\n",
        "Since we're going to be building a few models, it's a good idea to write some code to evaluate them all in similar ways.\n",
        "\n",
        "Namely, let's create a function that takes in a trained model, a `DataLoader`, a loss function and an accuracy function.\n",
        "\n",
        "The function will use the model to make predictions on the data in the `DataLoader` and then we can evaluate those predictions using the loss function and accuracy function."
      ],
      "metadata": {
        "id": "J6X0eSVXN2SF"
      }
    },
    {
      "cell_type": "code",
      "source": [
        "torch.manual_seed(42)\n",
        "def eval_model(model: torch.nn.Module,\n",
        "               data_loader: torch.utils.data.DataLoader,\n",
        "               loss_fn: torch.nn.Module,\n",
        "               acc_fn,\n",
        "               device: torch.device = None):\n",
        "  \"\"\"Returns a dictionary containing the results of model predicting on data_loader.\n",
        "\n",
        "    Args:\n",
        "        model (torch.nn.Module): A PyTorch model capable of making predictions on data_loader.\n",
        "        data_loader (torch.utils.data.DataLoader): The target dataset to predict on.\n",
        "        loss_fn (torch.nn.Module): The loss function of model.\n",
        "        accuracy_fn: An accuracy function to compare the models predictions to the truth labels.\n",
        "\n",
        "    Returns:\n",
        "        (dict): Results of model making predictions on data_loader.\n",
        "  \"\"\"\n",
        "\n",
        "  loss, acc = 0, 0\n",
        "  model.to(device)\n",
        "  model.eval()\n",
        "  with torch.inference_mode():\n",
        "    for X, y in tqdm(data_loader):\n",
        "\n",
        "      X, y = X.to(device), y.to(device)\n",
        "\n",
        "      # Make predictions\n",
        "      y_logits = model(X)\n",
        "\n",
        "      # Get loss\n",
        "      loss += loss_fn(y_logits, y)\n",
        "\n",
        "      # Get accuracy\n",
        "      acc += acc_fn(y, y_logits.argmax(dim=1))\n",
        "\n",
        "    # Scale loss, accuracy to find average for batch\n",
        "    loss /= len(data_loader)\n",
        "    acc /= len(data_loader)\n",
        "\n",
        "  return {\"model_name\": model.__class__.__name__, # Only works when model was created using class.\n",
        "          \"model_loss\": loss.item(),\n",
        "          \"model_acc\": acc}\n",
        "\n",
        "# Model 0 results\n",
        "model0_results = eval_model(model0,\n",
        "                            test_dataloader,\n",
        "                            loss_fn,\n",
        "                            accuracy_fn)\n",
        "\n",
        "model0_results"
      ],
      "metadata": {
        "colab": {
          "base_uri": "https://localhost:8080/",
          "height": 103,
          "referenced_widgets": [
            "86540bcbcf2e4fbea218245b30dd1e7a",
            "f95864686724429e9013cac3a782c934",
            "bcb07399f6eb4615923ecc6d9b4cde1f",
            "2165b62bd646496c94a80dd4bd3a3e37",
            "db36c16ea7f444249e4155ffc9216c24",
            "9825f89629814705b87c6406e5a3e174",
            "895549c40a414ff7ac5ed9a49f1c96b6",
            "8d9841f87e9a40a9aa6fba68f0ca5add",
            "a0be1b30d8384e0b818101eb32b131d0",
            "aa6c258dc58e434fbb09a075fe93cd78",
            "5b6ce4b1333840d88f4c31c08faf5e66"
          ]
        },
        "id": "zqds7L78I7K4",
        "outputId": "27842446-cc2c-4006-c2b2-b990e9d4fcea"
      },
      "execution_count": 99,
      "outputs": [
        {
          "output_type": "display_data",
          "data": {
            "text/plain": [
              "  0%|          | 0/313 [00:00<?, ?it/s]"
            ],
            "application/vnd.jupyter.widget-view+json": {
              "version_major": 2,
              "version_minor": 0,
              "model_id": "86540bcbcf2e4fbea218245b30dd1e7a"
            }
          },
          "metadata": {}
        },
        {
          "output_type": "execute_result",
          "data": {
            "text/plain": [
              "{'model_name': 'FashionMNISTModelV0',\n",
              " 'model_loss': 0.47663888335227966,\n",
              " 'model_acc': 83.42651757188499}"
            ]
          },
          "metadata": {},
          "execution_count": 99
        }
      ]
    },
    {
      "cell_type": "markdown",
      "source": [
        "## 5. Setup device agnostic code\n",
        "Now let's setup some device-agnostic code for our models and data to run on GPU if it's available.\n"
      ],
      "metadata": {
        "id": "8VAl8M9nRVsj"
      }
    },
    {
      "cell_type": "code",
      "source": [
        "# Setup device agnostic code\n",
        "import torch\n",
        "device = \"cuda\" if torch.cuda.is_available() else 'mps' if torch.backends.mps.is_available() else \"cpu\"\n",
        "device"
      ],
      "metadata": {
        "colab": {
          "base_uri": "https://localhost:8080/",
          "height": 35
        },
        "id": "9evEuXfYQdpN",
        "outputId": "99e371f1-8052-40c3-d08e-261c7a2ee8f2"
      },
      "execution_count": 100,
      "outputs": [
        {
          "output_type": "execute_result",
          "data": {
            "text/plain": [
              "'cuda'"
            ],
            "application/vnd.google.colaboratory.intrinsic+json": {
              "type": "string"
            }
          },
          "metadata": {},
          "execution_count": 100
        }
      ]
    },
    {
      "cell_type": "markdown",
      "source": [
        "## 6. Model 1: Building a better model with non-linearity"
      ],
      "metadata": {
        "id": "HlqybfWqYli5"
      }
    },
    {
      "cell_type": "code",
      "source": [
        "# Create a model with non-linear and linear layers\n",
        "class FashionMNISTModelV1(nn.Module):\n",
        "  def __init__(self, input_shape: int, hidden_units: int, output_shape: int):\n",
        "    super().__init__()\n",
        "    self.layer_stack = nn.Sequential(\n",
        "      nn.Flatten(), # flatten inputs into single vector\n",
        "      nn.Linear(in_features=input_shape, out_features=hidden_units),\n",
        "      nn.ReLU(),\n",
        "      nn.Linear(in_features=hidden_units, out_features=output_shape),\n",
        "      nn.ReLU()\n",
        "    )\n",
        "\n",
        "  def forward(self, x: torch.Tensor):\n",
        "    return self.layer_stack(x)"
      ],
      "metadata": {
        "id": "Hrm8Wh77Ycc5"
      },
      "execution_count": 101,
      "outputs": []
    },
    {
      "cell_type": "code",
      "source": [
        "model1 = FashionMNISTModelV1(784, 10, len(class_names)).to(device)\n",
        "next(model1.parameters()).device"
      ],
      "metadata": {
        "colab": {
          "base_uri": "https://localhost:8080/"
        },
        "id": "ZMumRQRIZWPN",
        "outputId": "a38f6630-0b6b-46b6-d176-aee448e9bdb9"
      },
      "execution_count": 102,
      "outputs": [
        {
          "output_type": "execute_result",
          "data": {
            "text/plain": [
              "device(type='cuda', index=0)"
            ]
          },
          "metadata": {},
          "execution_count": 102
        }
      ]
    },
    {
      "cell_type": "markdown",
      "source": [
        "### 6.1 Setup loss, optimizer and evaluation metrics.\n"
      ],
      "metadata": {
        "id": "v0IUMUq6ah9M"
      }
    },
    {
      "cell_type": "code",
      "source": [
        "from helper_functions import accuracy_fn\n",
        "\n",
        "loss_fn = nn.CrossEntropyLoss()\n",
        "\n",
        "optimizer = torch.optim.SGD(model1.parameters(),\n",
        "                            lr=0.1)"
      ],
      "metadata": {
        "id": "h448NAnlZ-Cy"
      },
      "execution_count": 103,
      "outputs": []
    },
    {
      "cell_type": "markdown",
      "source": [
        "### 6.2 Functionizing training and testing/eval loops"
      ],
      "metadata": {
        "id": "T1MSgs2tbNmA"
      }
    },
    {
      "cell_type": "code",
      "source": [
        "def train_step(model: torch.nn.Module,\n",
        "               data_loader: torch.utils.data.DataLoader,\n",
        "               loss_fn: torch.nn.Module,\n",
        "               optimizer: torch.optim.Optimizer,\n",
        "               accuracy_fn,\n",
        "               device: torch.device = device):\n",
        "\n",
        "  \"\"\" Performs a training with model trying to learn on data_loader. \"\"\"\n",
        "  train_loss, train_acc = 0, 0\n",
        "\n",
        "  model.to(device)\n",
        "\n",
        "  ### Training\n",
        "  model.train()\n",
        "\n",
        "  # Loop through training batches:\n",
        "  for batch, (X, y) in enumerate(data_loader): # X is image, y is label. Enumerate adds indexing to each object of iterable.\n",
        "\n",
        "    # Move data to target device.\n",
        "    X, y = X.to(device), y.to(device)\n",
        "\n",
        "    # 1. Forward Pass\n",
        "    y_logits = model(X)\n",
        "\n",
        "    # 2. Calculate loss (per batch)\n",
        "    loss = loss_fn(y_logits, y)\n",
        "    train_loss += loss  # Accumulate train loss for each image in batch.\n",
        "    train_acc += accuracy_fn(y, y_logits.argmax(dim=1))\n",
        "\n",
        "    # 3. Gradients to zero\n",
        "    optimizer.zero_grad()\n",
        "\n",
        "    # 4. Backpropagate on loss\n",
        "    loss.backward()\n",
        "\n",
        "    # 5. Update parameters\n",
        "    optimizer.step()\n",
        "\n",
        "    if batch%400 == 0:\n",
        "      print(f'Looked at {batch * len(X)}/{len(train_dataloader.dataset)} samples.')\n",
        "\n",
        "  # Divide total train loss by length of train_dataloader to get average train loss.\n",
        "  train_loss /= len(data_loader)\n",
        "  train_acc /= len(data_loader)\n",
        "  print(f'Train Loss: {train_loss:.5f} | Train Acc: {train_acc:.2f}%')"
      ],
      "metadata": {
        "id": "ILCQ2YwObM1-"
      },
      "execution_count": 104,
      "outputs": []
    },
    {
      "cell_type": "code",
      "source": [
        "def test_step(model: torch.nn.Module,\n",
        "              data_loader: torch.utils.data.DataLoader,\n",
        "              loss_fn: torch.nn.Module,\n",
        "              accuracy_fn,\n",
        "              device: torch.device = device):\n",
        "  ### Testing\n",
        "  test_loss, test_acc = 0, 0\n",
        "\n",
        "  model.to(device)\n",
        "  # Model in eval mode\n",
        "  model.eval()\n",
        "\n",
        "  # Turn on inference mode context manager.\n",
        "  with torch.inference_mode():\n",
        "    for X, y in data_loader:\n",
        "\n",
        "      # Moving tensors to correct device\n",
        "      X, y = X.to(device), y.to(device)\n",
        "\n",
        "      # 1. Forward pass\n",
        "      test_logits = model(X)\n",
        "\n",
        "      # 2. Calculate test loss\n",
        "      test_loss += loss_fn(test_logits, y)\n",
        "\n",
        "      # 3. Calculate accuracy\n",
        "      test_acc += accuracy_fn(y, test_logits.argmax(dim=1))\n",
        "\n",
        "    # Calculate the test loss average per batch\n",
        "    test_loss /= len(data_loader)\n",
        "    # Calculate the test accuracy average per batch\n",
        "    test_acc /= len(data_loader)\n",
        "    print(f'Test Loss: {test_loss:.5f} | Test Acc: {test_acc:.2f}%')"
      ],
      "metadata": {
        "id": "-rcxohg1g8GR"
      },
      "execution_count": 105,
      "outputs": []
    },
    {
      "cell_type": "code",
      "source": [
        "torch.manual_seed(42)\n",
        "torch.cuda.manual_seed(42)\n",
        "\n",
        "# Setting timer\n",
        "train_time_start_on_gpu = timer()\n",
        "\n",
        "# Setting epochs\n",
        "epochs = 3\n",
        "\n",
        "for epoch in tqdm(range(epochs)):\n",
        "  print(f'\\nEpoch: {epoch}\\n------')\n",
        "  train_step(model1,\n",
        "             train_dataloader,\n",
        "             loss_fn,\n",
        "             optimizer,\n",
        "             accuracy_fn,\n",
        "             device)\n",
        "\n",
        "  test_step(model1,\n",
        "             test_dataloader,\n",
        "             loss_fn,\n",
        "             accuracy_fn,\n",
        "             device)\n",
        "\n",
        "train_time_end_on_gpu = timer()\n",
        "\n",
        "total_train_time_model1 = print_train_time(start = train_time_start_on_gpu,\n",
        "                                           end = train_time_end_on_gpu,\n",
        "                                           device = str(next(model1.parameters()).device))"
      ],
      "metadata": {
        "colab": {
          "base_uri": "https://localhost:8080/",
          "height": 603,
          "referenced_widgets": [
            "79d438477f1c44579bad2fbb689ff331",
            "69a899b219ed4c77a55ec176612491e3",
            "52aa0556ac0747c68e66e900f6530bac",
            "2c4f74a0ba2c47e887cd609b764cd283",
            "69d1e7ec63034f3ca2797114574b9c85",
            "0c36309e8faa49fab4944331c33d4ea5",
            "70f320f2a23e4874b6f9f1b2b386ff09",
            "5c3d6c2d43954d80a4dd27f685537bfa",
            "a2fa8c7746c5446a85436dcf13d5f46f",
            "6ca462a3d36340579156e7ea5264ddd1",
            "fcc985584ed44bb797632bddee623722"
          ]
        },
        "id": "TO5BzrFtj1T7",
        "outputId": "b3d98e37-58ec-44cc-ecfb-5f2bb3246e80"
      },
      "execution_count": 106,
      "outputs": [
        {
          "output_type": "display_data",
          "data": {
            "text/plain": [
              "  0%|          | 0/3 [00:00<?, ?it/s]"
            ],
            "application/vnd.jupyter.widget-view+json": {
              "version_major": 2,
              "version_minor": 0,
              "model_id": "79d438477f1c44579bad2fbb689ff331"
            }
          },
          "metadata": {}
        },
        {
          "output_type": "stream",
          "name": "stdout",
          "text": [
            "\n",
            "Epoch: 0\n",
            "------\n",
            "Looked at 0/60000 samples.\n",
            "Looked at 12800/60000 samples.\n",
            "Looked at 25600/60000 samples.\n",
            "Looked at 38400/60000 samples.\n",
            "Looked at 51200/60000 samples.\n",
            "Train Loss: 1.11456 | Train Acc: 58.46%\n",
            "Test Loss: 0.96320 | Test Acc: 63.41%\n",
            "\n",
            "Epoch: 1\n",
            "------\n",
            "Looked at 0/60000 samples.\n",
            "Looked at 12800/60000 samples.\n",
            "Looked at 25600/60000 samples.\n",
            "Looked at 38400/60000 samples.\n",
            "Looked at 51200/60000 samples.\n",
            "Train Loss: 0.90905 | Train Acc: 64.87%\n",
            "Test Loss: 0.74544 | Test Acc: 72.61%\n",
            "\n",
            "Epoch: 2\n",
            "------\n",
            "Looked at 0/60000 samples.\n",
            "Looked at 12800/60000 samples.\n",
            "Looked at 25600/60000 samples.\n",
            "Looked at 38400/60000 samples.\n",
            "Looked at 51200/60000 samples.\n",
            "Train Loss: 0.59508 | Train Acc: 78.25%\n",
            "Test Loss: 0.49708 | Test Acc: 82.77%\n",
            "Train time on cuda:0: 29.260083 seconds\n"
          ]
        }
      ]
    },
    {
      "cell_type": "markdown",
      "source": [
        "**Note:** Sometimes, depending on your data/hardware you might find that your model trains faster on CPU rather than GPU\n",
        "\n",
        "This is because -\n",
        "- The overhead for copying data/model to GPU from CPU outweighs the compute benefits offered by the GPU\n",
        "- The CPU is better at compute than the GPU.\n",
        "\n",
        "For more info on this --> https://horace.io/brrr_intro.html"
      ],
      "metadata": {
        "id": "qmeb51CLV_uh"
      }
    },
    {
      "cell_type": "code",
      "source": [
        "model1_results = eval_model(model1,\n",
        "                            test_dataloader,\n",
        "                            loss_fn,\n",
        "                            accuracy_fn,\n",
        "                            device)\n",
        "model1_results"
      ],
      "metadata": {
        "colab": {
          "base_uri": "https://localhost:8080/",
          "height": 103,
          "referenced_widgets": [
            "1062c06ba43345ee87e2096e6f385acd",
            "94bbfd3781b545168cdd9ae93a6af74e",
            "c292e7f7b1c147bb97f7f6d8c4a243ea",
            "60fc35808ba64730a6919c1bccb40d69",
            "c94060aa954945deba1b37ce20261e58",
            "4983efa34a114cd9b82c0922799a0f26",
            "1c44af8d0ee04462964bd273aea53d8a",
            "ee406ce247fe4eef8d484205c44bdf74",
            "8421fef07459431c8dd979599a213b89",
            "41b3195cd9264658adb6e64c6f053c97",
            "3c779cb468754ab7a597223ab52707bf"
          ]
        },
        "id": "O7Mhpo8WovG8",
        "outputId": "ca6e36cd-ad72-46ea-ae97-dae8d8d8eec6"
      },
      "execution_count": 107,
      "outputs": [
        {
          "output_type": "display_data",
          "data": {
            "text/plain": [
              "  0%|          | 0/313 [00:00<?, ?it/s]"
            ],
            "application/vnd.jupyter.widget-view+json": {
              "version_major": 2,
              "version_minor": 0,
              "model_id": "1062c06ba43345ee87e2096e6f385acd"
            }
          },
          "metadata": {}
        },
        {
          "output_type": "execute_result",
          "data": {
            "text/plain": [
              "{'model_name': 'FashionMNISTModelV1',\n",
              " 'model_loss': 0.49707889556884766,\n",
              " 'model_acc': 82.76757188498402}"
            ]
          },
          "metadata": {},
          "execution_count": 107
        }
      ]
    },
    {
      "cell_type": "markdown",
      "source": [
        "## 7. Model 2 - Building a Convolutional Neural Network (CNN)\n",
        "\n",
        "CNNs are also known as ConvNets. They are great if you want to work with image data."
      ],
      "metadata": {
        "id": "VfYKKpR0ZklS"
      }
    },
    {
      "cell_type": "code",
      "source": [
        "# Create convnet replicating the TinyVGG network.\n",
        "class FashionMNISTModelv2(nn.Module):\n",
        "\n",
        "  \"\"\"\n",
        "    Model architecture copying TinyVGG from:\n",
        "    https://poloclub.github.io/cnn-explainer/\n",
        "  \"\"\"\n",
        "\n",
        "  def __init__(self, input_shape: int, hidden_units: int, output_shape: int):\n",
        "    super().__init__()\n",
        "\n",
        "    self.conv_block_1 = nn.Sequential(\n",
        "        nn.Conv2d(in_channels = input_shape,\n",
        "                  out_channels = hidden_units,\n",
        "                  kernel_size = 3,\n",
        "                  stride = 1,\n",
        "                  padding = 1),\n",
        "        nn.ReLU(),\n",
        "        nn.Conv2d(in_channels = hidden_units,\n",
        "                  out_channels = hidden_units,\n",
        "                  kernel_size = 3,\n",
        "                  stride = 1,\n",
        "                  padding = 1),\n",
        "        nn.ReLU(),\n",
        "        nn.MaxPool2d(kernel_size = 2, stride=2)\n",
        "    )\n",
        "\n",
        "    self.conv_block_2 = nn.Sequential(\n",
        "        nn.Conv2d(in_channels = hidden_units,\n",
        "                  out_channels = hidden_units,\n",
        "                  kernel_size = 3,\n",
        "                  stride = 1,\n",
        "                  padding = 1),\n",
        "        nn.ReLU(),\n",
        "        nn.Conv2d(in_channels = hidden_units,\n",
        "                  out_channels = hidden_units,\n",
        "                  kernel_size = 3,\n",
        "                  stride = 1,\n",
        "                  padding = 1),\n",
        "        nn.ReLU(),\n",
        "        nn.MaxPool2d(kernel_size = 2)\n",
        "    )\n",
        "    self.classifier = nn.Sequential(\n",
        "        nn.Flatten(),\n",
        "        nn.Linear(in_features = hidden_units * 7 * 7,\n",
        "                  out_features = len(class_names))\n",
        "    )\n",
        "\n",
        "  def forward(self, x):\n",
        "    return self.classifier(self.conv_block_2(self.conv_block_1(x)))"
      ],
      "metadata": {
        "id": "Q28gku_hvbtY"
      },
      "execution_count": 108,
      "outputs": []
    },
    {
      "cell_type": "code",
      "source": [
        "model2 = FashionMNISTModelv2(input_shape=1,\n",
        "                             hidden_units=10,\n",
        "                             output_shape=len(class_names)).to(device)\n",
        "model2"
      ],
      "metadata": {
        "colab": {
          "base_uri": "https://localhost:8080/"
        },
        "id": "PlHVWdZUgs8j",
        "outputId": "23f34ec6-d640-4bac-ca1d-0ab653919b3b"
      },
      "execution_count": 109,
      "outputs": [
        {
          "output_type": "execute_result",
          "data": {
            "text/plain": [
              "FashionMNISTModelv2(\n",
              "  (conv_block_1): Sequential(\n",
              "    (0): Conv2d(1, 10, kernel_size=(3, 3), stride=(1, 1), padding=(1, 1))\n",
              "    (1): ReLU()\n",
              "    (2): Conv2d(10, 10, kernel_size=(3, 3), stride=(1, 1), padding=(1, 1))\n",
              "    (3): ReLU()\n",
              "    (4): MaxPool2d(kernel_size=2, stride=2, padding=0, dilation=1, ceil_mode=False)\n",
              "  )\n",
              "  (conv_block_2): Sequential(\n",
              "    (0): Conv2d(10, 10, kernel_size=(3, 3), stride=(1, 1), padding=(1, 1))\n",
              "    (1): ReLU()\n",
              "    (2): Conv2d(10, 10, kernel_size=(3, 3), stride=(1, 1), padding=(1, 1))\n",
              "    (3): ReLU()\n",
              "    (4): MaxPool2d(kernel_size=2, stride=2, padding=0, dilation=1, ceil_mode=False)\n",
              "  )\n",
              "  (classifier): Sequential(\n",
              "    (0): Flatten(start_dim=1, end_dim=-1)\n",
              "    (1): Linear(in_features=490, out_features=10, bias=True)\n",
              "  )\n",
              ")"
            ]
          },
          "metadata": {},
          "execution_count": 109
        }
      ]
    },
    {
      "cell_type": "code",
      "source": [
        "plt.imshow(image.squeeze(0), cmap='gray')"
      ],
      "metadata": {
        "colab": {
          "base_uri": "https://localhost:8080/",
          "height": 448
        },
        "id": "3metRm6fhv1w",
        "outputId": "44c008f0-38f1-4608-eda7-f7e57a3b5ace"
      },
      "execution_count": 110,
      "outputs": [
        {
          "output_type": "execute_result",
          "data": {
            "text/plain": [
              "<matplotlib.image.AxesImage at 0x791b03507820>"
            ]
          },
          "metadata": {},
          "execution_count": 110
        },
        {
          "output_type": "display_data",
          "data": {
            "text/plain": [
              "<Figure size 640x480 with 1 Axes>"
            ],
            "image/png": "[encoded data removed]"
          },
          "metadata": {}
        }
      ]
    },
    {
      "cell_type": "code",
      "source": [
        "image.shape"
      ],
      "metadata": {
        "colab": {
          "base_uri": "https://localhost:8080/"
        },
        "id": "EQ8z_9g9jieW",
        "outputId": "a137f24c-8e71-43d2-a9c0-a60fa07ecfb4"
      },
      "execution_count": 111,
      "outputs": [
        {
          "output_type": "execute_result",
          "data": {
            "text/plain": [
              "torch.Size([1, 28, 28])"
            ]
          },
          "metadata": {},
          "execution_count": 111
        }
      ]
    },
    {
      "cell_type": "code",
      "source": [
        "# Pass image through model to check if its working or not\n",
        "model2(image.unsqueeze(dim=0).to(device))"
      ],
      "metadata": {
        "colab": {
          "base_uri": "https://localhost:8080/"
        },
        "id": "l8KinYRjhkXk",
        "outputId": "ee61fcd3-4a5a-4fb7-a34a-2e943f8e31a7"
      },
      "execution_count": 112,
      "outputs": [
        {
          "output_type": "execute_result",
          "data": {
            "text/plain": [
              "tensor([[-0.0016,  0.0038, -0.0091,  0.0496,  0.1138,  0.0465, -0.0653,  0.0384,\n",
              "         -0.0015,  0.0580]], device='cuda:0', grad_fn=<AddmmBackward0>)"
            ]
          },
          "metadata": {},
          "execution_count": 112
        }
      ]
    },
    {
      "cell_type": "markdown",
      "source": [
        "### 7.1 Stepping through `nn.Conv2d()`"
      ],
      "metadata": {
        "id": "7vgO_G3MUOnk"
      }
    },
    {
      "cell_type": "code",
      "source": [
        "torch.manual_seed(42)\n",
        "\n",
        "# Create a batch of images\n",
        "images = torch.randn(size=(32, 3, 64, 64))\n",
        "test_image = images[0]\n",
        "\n",
        "print(f'Image batch shape: {images.shape}')\n",
        "print(f'Single image shape: {test_image.shape}')\n",
        "print(f'Test Image: \\n{test_image}')"
      ],
      "metadata": {
        "id": "3gD7ueW3nTBr",
        "colab": {
          "base_uri": "https://localhost:8080/"
        },
        "outputId": "dc7ac90e-7c7e-428f-905d-a353657e558f"
      },
      "execution_count": 113,
      "outputs": [
        {
          "output_type": "stream",
          "name": "stdout",
          "text": [
            "Image batch shape: torch.Size([32, 3, 64, 64])\n",
            "Single image shape: torch.Size([3, 64, 64])\n",
            "Test Image: \n",
            "tensor([[[ 1.9269,  1.4873,  0.9007,  ...,  1.8446, -1.1845,  1.3835],\n",
            "         [ 1.4451,  0.8564,  2.2181,  ...,  0.3399,  0.7200,  0.4114],\n",
            "         [ 1.9312,  1.0119, -1.4364,  ..., -0.5558,  0.7043,  0.7099],\n",
            "         ...,\n",
            "         [-0.5610, -0.4830,  0.4770,  ..., -0.2713, -0.9537, -0.6737],\n",
            "         [ 0.3076, -0.1277,  0.0366,  ..., -2.0060,  0.2824, -0.8111],\n",
            "         [-1.5486,  0.0485, -0.7712,  ..., -0.1403,  0.9416, -0.0118]],\n",
            "\n",
            "        [[-0.5197,  1.8524,  1.8365,  ...,  0.8935, -1.5114, -0.8515],\n",
            "         [ 2.0818,  1.0677, -1.4277,  ...,  1.6612, -2.6223, -0.4319],\n",
            "         [-0.1010, -0.4388, -1.9775,  ...,  0.2106,  0.2536, -0.7318],\n",
            "         ...,\n",
            "         [ 0.2779,  0.7342, -0.3736,  ..., -0.4601,  0.1815,  0.1850],\n",
            "         [ 0.7205, -0.2833,  0.0937,  ..., -0.1002, -2.3609,  2.2465],\n",
            "         [-1.3242, -0.1973,  0.2920,  ...,  0.5409,  0.6940,  1.8563]],\n",
            "\n",
            "        [[-0.7978,  1.0261,  1.1465,  ...,  1.2134,  0.9354, -0.0780],\n",
            "         [-1.4647, -1.9571,  0.1017,  ..., -1.9986, -0.7409,  0.7011],\n",
            "         [-1.3938,  0.8466, -1.7191,  ..., -1.1867,  0.1320,  0.3407],\n",
            "         ...,\n",
            "         [ 0.8206, -0.3745,  1.2499,  ..., -0.0676,  0.0385,  0.6335],\n",
            "         [-0.5589, -0.3393,  0.2347,  ...,  2.1181,  2.4569,  1.3083],\n",
            "         [-0.4092,  1.5199,  0.2401,  ..., -0.2558,  0.7870,  0.9924]]])\n"
          ]
        }
      ]
    },
    {
      "cell_type": "code",
      "source": [
        "torch.manual_seed(42)\n",
        "\n",
        "# Create a convolutional layer with same dimensions as TinyVGG\n",
        "conv_layer = nn.Conv2d(in_channels=3,\n",
        "                       out_channels=10,\n",
        "                       kernel_size=3,\n",
        "                       stride=1,\n",
        "                       padding=0)\n",
        "\n",
        "# Pass the data through the convolutional layer\n",
        "conv_layer(test_image)"
      ],
      "metadata": {
        "colab": {
          "base_uri": "https://localhost:8080/"
        },
        "id": "Kv_1G3D3VyS_",
        "outputId": "39eb757e-7d22-437a-a24f-7fe6328e56c9"
      },
      "execution_count": 114,
      "outputs": [
        {
          "output_type": "execute_result",
          "data": {
            "text/plain": [
              "tensor([[[ 1.5396,  0.0516,  0.6454,  ..., -0.3673,  0.8711,  0.4256],\n",
              "         [ 0.3662,  1.0114, -0.5997,  ...,  0.8983,  0.2809, -0.2741],\n",
              "         [ 1.2664, -1.4054,  0.3727,  ..., -0.3409,  1.2191, -0.0463],\n",
              "         ...,\n",
              "         [-0.1541,  0.5132, -0.3624,  ..., -0.2360, -0.4609, -0.0035],\n",
              "         [ 0.2981, -0.2432,  1.5012,  ..., -0.6289, -0.7283, -0.5767],\n",
              "         [-0.0386, -0.0781, -0.0388,  ...,  0.2842,  0.4228, -0.1802]],\n",
              "\n",
              "        [[-0.2840, -0.0319, -0.4455,  ..., -0.7956,  1.5599, -1.2449],\n",
              "         [ 0.2753, -0.1262, -0.6541,  ..., -0.2211,  0.1999, -0.8856],\n",
              "         [-0.5404, -1.5489,  0.0249,  ..., -0.5932, -1.0913, -0.3849],\n",
              "         ...,\n",
              "         [ 0.3870, -0.4064, -0.8236,  ...,  0.1734, -0.4330, -0.4951],\n",
              "         [-0.1984, -0.6386,  1.0263,  ..., -0.9401, -0.0585, -0.7833],\n",
              "         [-0.6306, -0.2052, -0.3694,  ..., -1.3248,  0.2456, -0.7134]],\n",
              "\n",
              "        [[ 0.4414,  0.5100,  0.4846,  ..., -0.8484,  0.2638,  1.1258],\n",
              "         [ 0.8117,  0.3191, -0.0157,  ...,  1.2686,  0.2319,  0.5003],\n",
              "         [ 0.3212,  0.0485, -0.2581,  ...,  0.2258,  0.2587, -0.8804],\n",
              "         ...,\n",
              "         [-0.1144, -0.1869,  0.0160,  ..., -0.8346,  0.0974,  0.8421],\n",
              "         [ 0.2941,  0.4417,  0.5866,  ..., -0.1224,  0.4814, -0.4799],\n",
              "         [ 0.6059, -0.0415, -0.2028,  ...,  0.1170,  0.2521, -0.4372]],\n",
              "\n",
              "        ...,\n",
              "\n",
              "        [[-0.2560, -0.0477,  0.6380,  ...,  0.6436,  0.7553, -0.7055],\n",
              "         [ 1.5595, -0.2209, -0.9486,  ..., -0.4876,  0.7754,  0.0750],\n",
              "         [-0.0797,  0.2471,  1.1300,  ...,  0.1505,  0.2354,  0.9576],\n",
              "         ...,\n",
              "         [ 1.1065,  0.6839,  1.2183,  ...,  0.3015, -0.1910, -0.1902],\n",
              "         [-0.3486, -0.7173, -0.3582,  ...,  0.4917,  0.7219,  0.1513],\n",
              "         [ 0.0119,  0.1017,  0.7839,  ..., -0.3752, -0.8127, -0.1257]],\n",
              "\n",
              "        [[ 0.3841,  1.1322,  0.1620,  ...,  0.7010,  0.0109,  0.6058],\n",
              "         [ 0.1664,  0.1873,  1.5924,  ...,  0.3733,  0.9096, -0.5399],\n",
              "         [ 0.4094, -0.0861, -0.7935,  ..., -0.1285, -0.9932, -0.3013],\n",
              "         ...,\n",
              "         [ 0.2688, -0.5630, -1.1902,  ...,  0.4493,  0.5404, -0.0103],\n",
              "         [ 0.0535,  0.4411,  0.5313,  ...,  0.0148, -1.0056,  0.3759],\n",
              "         [ 0.3031, -0.1590, -0.1316,  ..., -0.5384, -0.4271, -0.4876]],\n",
              "\n",
              "        [[-1.1865, -0.7280, -1.2331,  ..., -0.9013, -0.0542, -1.5949],\n",
              "         [-0.6345, -0.5920,  0.5326,  ..., -1.0395, -0.7963, -0.0647],\n",
              "         [-0.1132,  0.5166,  0.2569,  ...,  0.5595, -1.6881,  0.9485],\n",
              "         ...,\n",
              "         [-0.0254, -0.2669,  0.1927,  ..., -0.2917,  0.1088, -0.4807],\n",
              "         [-0.2609, -0.2328,  0.1404,  ..., -0.1325, -0.8436, -0.7524],\n",
              "         [-1.1399, -0.1751, -0.8705,  ...,  0.1589,  0.3377,  0.3493]]],\n",
              "       grad_fn=<SqueezeBackward1>)"
            ]
          },
          "metadata": {},
          "execution_count": 114
        }
      ]
    },
    {
      "cell_type": "code",
      "source": [
        "# Checking the dimensions of our output\n",
        "conv_layer(test_image).shape"
      ],
      "metadata": {
        "colab": {
          "base_uri": "https://localhost:8080/"
        },
        "id": "_clGHCs2YqTy",
        "outputId": "9da80162-6e52-4e34-eeba-f33fac8e167a"
      },
      "execution_count": 115,
      "outputs": [
        {
          "output_type": "execute_result",
          "data": {
            "text/plain": [
              "torch.Size([10, 62, 62])"
            ]
          },
          "metadata": {},
          "execution_count": 115
        }
      ]
    },
    {
      "cell_type": "markdown",
      "source": [
        "Let's try changing the hyperparameters of the conv layer and see how it affects the shape of the output.\n"
      ],
      "metadata": {
        "id": "BUQTWhBfa6-e"
      }
    },
    {
      "cell_type": "code",
      "source": [
        "torch.manual_seed(42)\n",
        "# Create a new conv_layer with different values (try setting these to whatever you like)\n",
        "conv_layer_2 = nn.Conv2d(in_channels=3, # same number of color channels as our input image\n",
        "                         out_channels=10,\n",
        "                         kernel_size=(5, 5), # kernel is usually a square so a tuple also works\n",
        "                         stride=2,\n",
        "                         padding=0)\n",
        "\n",
        "# Pass single image through new conv_layer_2 (this calls nn.Conv2d()'s forward() method on the input)\n",
        "conv_layer_2(test_image).shape"
      ],
      "metadata": {
        "colab": {
          "base_uri": "https://localhost:8080/"
        },
        "id": "15E5HxmBbBBe",
        "outputId": "d28af073-02b7-4277-d3a7-12180e4dab01"
      },
      "execution_count": 116,
      "outputs": [
        {
          "output_type": "execute_result",
          "data": {
            "text/plain": [
              "torch.Size([10, 30, 30])"
            ]
          },
          "metadata": {},
          "execution_count": 116
        }
      ]
    },
    {
      "cell_type": "code",
      "source": [
        "# Check out the conv_layer_2 internal parameters\n",
        "print(conv_layer_2.state_dict())"
      ],
      "metadata": {
        "colab": {
          "base_uri": "https://localhost:8080/"
        },
        "id": "jOrzxncWbWty",
        "outputId": "7ae2de02-173f-4824-bcf7-8594bab4d458"
      },
      "execution_count": 117,
      "outputs": [
        {
          "output_type": "stream",
          "name": "stdout",
          "text": [
            "OrderedDict([('weight', tensor([[[[ 0.0883,  0.0958, -0.0271,  0.1061, -0.0253],\n",
            "          [ 0.0233, -0.0562,  0.0678,  0.1018, -0.0847],\n",
            "          [ 0.1004,  0.0216,  0.0853,  0.0156,  0.0557],\n",
            "          [-0.0163,  0.0890,  0.0171, -0.0539,  0.0294],\n",
            "          [-0.0532, -0.0135, -0.0469,  0.0766, -0.0911]],\n",
            "\n",
            "         [[-0.0532, -0.0326, -0.0694,  0.0109, -0.1140],\n",
            "          [ 0.1043, -0.0981,  0.0891,  0.0192, -0.0375],\n",
            "          [ 0.0714,  0.0180,  0.0933,  0.0126, -0.0364],\n",
            "          [ 0.0310, -0.0313,  0.0486,  0.1031,  0.0667],\n",
            "          [-0.0505,  0.0667,  0.0207,  0.0586, -0.0704]],\n",
            "\n",
            "         [[-0.1143, -0.0446, -0.0886,  0.0947,  0.0333],\n",
            "          [ 0.0478,  0.0365, -0.0020,  0.0904, -0.0820],\n",
            "          [ 0.0073, -0.0788,  0.0356, -0.0398,  0.0354],\n",
            "          [-0.0241,  0.0958, -0.0684, -0.0689, -0.0689],\n",
            "          [ 0.1039,  0.0385,  0.1111, -0.0953, -0.1145]]],\n",
            "\n",
            "\n",
            "        [[[-0.0903, -0.0777,  0.0468,  0.0413,  0.0959],\n",
            "          [-0.0596, -0.0787,  0.0613, -0.0467,  0.0701],\n",
            "          [-0.0274,  0.0661, -0.0897, -0.0583,  0.0352],\n",
            "          [ 0.0244, -0.0294,  0.0688,  0.0785, -0.0837],\n",
            "          [-0.0616,  0.1057, -0.0390, -0.0409, -0.1117]],\n",
            "\n",
            "         [[-0.0661,  0.0288, -0.0152, -0.0838,  0.0027],\n",
            "          [-0.0789, -0.0980, -0.0636, -0.1011, -0.0735],\n",
            "          [ 0.1154,  0.0218,  0.0356, -0.1077, -0.0758],\n",
            "          [-0.0384,  0.0181, -0.1016, -0.0498, -0.0691],\n",
            "          [ 0.0003, -0.0430, -0.0080, -0.0782, -0.0793]],\n",
            "\n",
            "         [[-0.0674, -0.0395, -0.0911,  0.0968, -0.0229],\n",
            "          [ 0.0994,  0.0360, -0.0978,  0.0799, -0.0318],\n",
            "          [-0.0443, -0.0958, -0.1148,  0.0330, -0.0252],\n",
            "          [ 0.0450, -0.0948,  0.0857, -0.0848, -0.0199],\n",
            "          [ 0.0241,  0.0596,  0.0932,  0.1052, -0.0916]]],\n",
            "\n",
            "\n",
            "        [[[ 0.0291, -0.0497, -0.0127, -0.0864,  0.1052],\n",
            "          [-0.0847,  0.0617,  0.0406,  0.0375, -0.0624],\n",
            "          [ 0.1050,  0.0254,  0.0149, -0.1018,  0.0485],\n",
            "          [-0.0173, -0.0529,  0.0992,  0.0257, -0.0639],\n",
            "          [-0.0584, -0.0055,  0.0645, -0.0295, -0.0659]],\n",
            "\n",
            "         [[-0.0395, -0.0863,  0.0412,  0.0894, -0.1087],\n",
            "          [ 0.0268,  0.0597,  0.0209, -0.0411,  0.0603],\n",
            "          [ 0.0607,  0.0432, -0.0203, -0.0306,  0.0124],\n",
            "          [-0.0204, -0.0344,  0.0738,  0.0992, -0.0114],\n",
            "          [-0.0259,  0.0017, -0.0069,  0.0278,  0.0324]],\n",
            "\n",
            "         [[-0.1049, -0.0426,  0.0972,  0.0450, -0.0057],\n",
            "          [-0.0696, -0.0706, -0.1034, -0.0376,  0.0390],\n",
            "          [ 0.0736,  0.0533, -0.1021, -0.0694, -0.0182],\n",
            "          [ 0.1117,  0.0167, -0.0299,  0.0478, -0.0440],\n",
            "          [-0.0747,  0.0843, -0.0525, -0.0231, -0.1149]]],\n",
            "\n",
            "\n",
            "        [[[ 0.0773,  0.0875,  0.0421, -0.0805, -0.1140],\n",
            "          [-0.0938,  0.0861,  0.0554,  0.0972,  0.0605],\n",
            "          [ 0.0292, -0.0011, -0.0878, -0.0989, -0.1080],\n",
            "          [ 0.0473, -0.0567, -0.0232, -0.0665, -0.0210],\n",
            "          [-0.0813, -0.0754,  0.0383, -0.0343,  0.0713]],\n",
            "\n",
            "         [[-0.0370, -0.0847, -0.0204, -0.0560, -0.0353],\n",
            "          [-0.1099,  0.0646, -0.0804,  0.0580,  0.0524],\n",
            "          [ 0.0825, -0.0886,  0.0830, -0.0546,  0.0428],\n",
            "          [ 0.1084, -0.0163, -0.0009, -0.0266, -0.0964],\n",
            "          [ 0.0554, -0.1146,  0.0717,  0.0864,  0.1092]],\n",
            "\n",
            "         [[-0.0272, -0.0949,  0.0260,  0.0638, -0.1149],\n",
            "          [-0.0262, -0.0692, -0.0101, -0.0568, -0.0472],\n",
            "          [-0.0367, -0.1097,  0.0947,  0.0968, -0.0181],\n",
            "          [-0.0131, -0.0471, -0.1043, -0.1124,  0.0429],\n",
            "          [-0.0634, -0.0742, -0.0090, -0.0385, -0.0374]]],\n",
            "\n",
            "\n",
            "        [[[ 0.0037, -0.0245, -0.0398, -0.0553, -0.0940],\n",
            "          [ 0.0968, -0.0462,  0.0306, -0.0401,  0.0094],\n",
            "          [ 0.1077,  0.0532, -0.1001,  0.0458,  0.1096],\n",
            "          [ 0.0304,  0.0774,  0.1138, -0.0177,  0.0240],\n",
            "          [-0.0803, -0.0238,  0.0855,  0.0592, -0.0731]],\n",
            "\n",
            "         [[-0.0926, -0.0789, -0.1140, -0.0891, -0.0286],\n",
            "          [ 0.0779,  0.0193, -0.0878, -0.0926,  0.0574],\n",
            "          [-0.0859, -0.0142,  0.0554, -0.0534, -0.0126],\n",
            "          [-0.0101, -0.0273, -0.0585, -0.1029, -0.0933],\n",
            "          [-0.0618,  0.1115, -0.0558, -0.0775,  0.0280]],\n",
            "\n",
            "         [[ 0.0318,  0.0633,  0.0878,  0.0643, -0.1145],\n",
            "          [ 0.0102,  0.0699, -0.0107, -0.0680,  0.1101],\n",
            "          [-0.0432, -0.0657, -0.1041,  0.0052,  0.0512],\n",
            "          [ 0.0256,  0.0228, -0.0876, -0.1078,  0.0020],\n",
            "          [ 0.1053,  0.0666, -0.0672, -0.0150, -0.0851]]],\n",
            "\n",
            "\n",
            "        [[[-0.0557,  0.0209,  0.0629,  0.0957, -0.1060],\n",
            "          [ 0.0772, -0.0814,  0.0432,  0.0977,  0.0016],\n",
            "          [ 0.1051, -0.0984, -0.0441,  0.0673, -0.0252],\n",
            "          [-0.0236, -0.0481,  0.0796,  0.0566,  0.0370],\n",
            "          [-0.0649, -0.0937,  0.0125,  0.0342, -0.0533]],\n",
            "\n",
            "         [[-0.0323,  0.0780,  0.0092,  0.0052, -0.0284],\n",
            "          [-0.1046, -0.1086, -0.0552, -0.0587,  0.0360],\n",
            "          [-0.0336, -0.0452,  0.1101,  0.0402,  0.0823],\n",
            "          [-0.0559, -0.0472,  0.0424, -0.0769, -0.0755],\n",
            "          [-0.0056, -0.0422, -0.0866,  0.0685,  0.0929]],\n",
            "\n",
            "         [[ 0.0187, -0.0201, -0.1070, -0.0421,  0.0294],\n",
            "          [ 0.0544, -0.0146, -0.0457,  0.0643, -0.0920],\n",
            "          [ 0.0730, -0.0448,  0.0018, -0.0228,  0.0140],\n",
            "          [-0.0349,  0.0840, -0.0030,  0.0901,  0.1110],\n",
            "          [-0.0563, -0.0842,  0.0926,  0.0905, -0.0882]]],\n",
            "\n",
            "\n",
            "        [[[-0.0089, -0.1139, -0.0945,  0.0223,  0.0307],\n",
            "          [ 0.0245, -0.0314,  0.1065,  0.0165, -0.0681],\n",
            "          [-0.0065,  0.0277,  0.0404, -0.0816,  0.0433],\n",
            "          [-0.0590, -0.0959, -0.0631,  0.1114,  0.0987],\n",
            "          [ 0.1034,  0.0678,  0.0872, -0.0155, -0.0635]],\n",
            "\n",
            "         [[ 0.0577, -0.0598, -0.0779, -0.0369,  0.0242],\n",
            "          [ 0.0594, -0.0448, -0.0680,  0.0156, -0.0681],\n",
            "          [-0.0752,  0.0602, -0.0194,  0.1055,  0.1123],\n",
            "          [ 0.0345,  0.0397,  0.0266,  0.0018, -0.0084],\n",
            "          [ 0.0016,  0.0431,  0.1074, -0.0299, -0.0488]],\n",
            "\n",
            "         [[-0.0280, -0.0558,  0.0196,  0.0862,  0.0903],\n",
            "          [ 0.0530, -0.0850, -0.0620, -0.0254, -0.0213],\n",
            "          [ 0.0095, -0.1060,  0.0359, -0.0881, -0.0731],\n",
            "          [-0.0960,  0.1006, -0.1093,  0.0871, -0.0039],\n",
            "          [-0.0134,  0.0722, -0.0107,  0.0724,  0.0835]]],\n",
            "\n",
            "\n",
            "        [[[-0.1003,  0.0444,  0.0218,  0.0248,  0.0169],\n",
            "          [ 0.0316, -0.0555, -0.0148,  0.1097,  0.0776],\n",
            "          [-0.0043, -0.1086,  0.0051, -0.0786,  0.0939],\n",
            "          [-0.0701, -0.0083, -0.0256,  0.0205,  0.1087],\n",
            "          [ 0.0110,  0.0669,  0.0896,  0.0932, -0.0399]],\n",
            "\n",
            "         [[-0.0258,  0.0556, -0.0315,  0.0541, -0.0252],\n",
            "          [-0.0783,  0.0470,  0.0177,  0.0515,  0.1147],\n",
            "          [ 0.0788,  0.1095,  0.0062, -0.0993, -0.0810],\n",
            "          [-0.0717, -0.1018, -0.0579, -0.1063, -0.1065],\n",
            "          [-0.0690, -0.1138, -0.0709,  0.0440,  0.0963]],\n",
            "\n",
            "         [[-0.0343, -0.0336,  0.0617, -0.0570, -0.0546],\n",
            "          [ 0.0711, -0.1006,  0.0141,  0.1020,  0.0198],\n",
            "          [ 0.0314, -0.0672, -0.0016,  0.0063,  0.0283],\n",
            "          [ 0.0449,  0.1003, -0.0881,  0.0035, -0.0577],\n",
            "          [-0.0913, -0.0092, -0.1016,  0.0806,  0.0134]]],\n",
            "\n",
            "\n",
            "        [[[-0.0622,  0.0603, -0.1093, -0.0447, -0.0225],\n",
            "          [-0.0981, -0.0734, -0.0188,  0.0876,  0.1115],\n",
            "          [ 0.0735, -0.0689, -0.0755,  0.1008,  0.0408],\n",
            "          [ 0.0031,  0.0156, -0.0928, -0.0386,  0.1112],\n",
            "          [-0.0285, -0.0058, -0.0959, -0.0646, -0.0024]],\n",
            "\n",
            "         [[-0.0717, -0.0143,  0.0470, -0.1130,  0.0343],\n",
            "          [-0.0763, -0.0564,  0.0443,  0.0918, -0.0316],\n",
            "          [-0.0474, -0.1044, -0.0595, -0.1011, -0.0264],\n",
            "          [ 0.0236, -0.1082,  0.1008,  0.0724, -0.1130],\n",
            "          [-0.0552,  0.0377, -0.0237, -0.0126, -0.0521]],\n",
            "\n",
            "         [[ 0.0927, -0.0645,  0.0958,  0.0075,  0.0232],\n",
            "          [ 0.0901, -0.0190, -0.0657, -0.0187,  0.0937],\n",
            "          [-0.0857,  0.0262, -0.1135,  0.0605,  0.0427],\n",
            "          [ 0.0049,  0.0496,  0.0001,  0.0639, -0.0914],\n",
            "          [-0.0170,  0.0512,  0.1150,  0.0588, -0.0840]]],\n",
            "\n",
            "\n",
            "        [[[ 0.0888, -0.0257, -0.0247, -0.1050, -0.0182],\n",
            "          [ 0.0817,  0.0161, -0.0673,  0.0355, -0.0370],\n",
            "          [ 0.1054, -0.1002, -0.0365, -0.1115, -0.0455],\n",
            "          [ 0.0364,  0.1112,  0.0194,  0.1132,  0.0226],\n",
            "          [ 0.0667,  0.0926,  0.0965, -0.0646,  0.1062]],\n",
            "\n",
            "         [[ 0.0699, -0.0540, -0.0551, -0.0969,  0.0290],\n",
            "          [-0.0936,  0.0488,  0.0365, -0.1003,  0.0315],\n",
            "          [-0.0094,  0.0527,  0.0663, -0.1148,  0.1059],\n",
            "          [ 0.0968,  0.0459, -0.1055, -0.0412, -0.0335],\n",
            "          [-0.0297,  0.0651,  0.0420,  0.0915, -0.0432]],\n",
            "\n",
            "         [[ 0.0389,  0.0411, -0.0961, -0.1120, -0.0599],\n",
            "          [ 0.0790, -0.1087, -0.1005,  0.0647,  0.0623],\n",
            "          [ 0.0950, -0.0872, -0.0845,  0.0592,  0.1004],\n",
            "          [ 0.0691,  0.0181,  0.0381,  0.1096, -0.0745],\n",
            "          [-0.0524,  0.0808, -0.0790, -0.0637,  0.0843]]]])), ('bias', tensor([ 0.0364,  0.0373, -0.0489, -0.0016,  0.1057, -0.0693,  0.0009,  0.0549,\n",
            "        -0.0797,  0.1121]))])\n"
          ]
        }
      ]
    },
    {
      "cell_type": "code",
      "source": [
        "# Get shapes of weight and bias tensors within conv_layer_2\n",
        "print(f\"conv_layer_2 weight shape: \\n{conv_layer_2.weight.shape} -> [out_channels=10, in_channels=3, kernel_size=5, kernel_size=5]\")\n",
        "print(f\"\\nconv_layer_2 bias shape: \\n{conv_layer_2.bias.shape} -> [out_channels=10]\")"
      ],
      "metadata": {
        "colab": {
          "base_uri": "https://localhost:8080/"
        },
        "id": "jayYRGW1bc3-",
        "outputId": "07aad44e-3f36-499c-d6ed-cd38bf26616d"
      },
      "execution_count": 118,
      "outputs": [
        {
          "output_type": "stream",
          "name": "stdout",
          "text": [
            "conv_layer_2 weight shape: \n",
            "torch.Size([10, 3, 5, 5]) -> [out_channels=10, in_channels=3, kernel_size=5, kernel_size=5]\n",
            "\n",
            "conv_layer_2 bias shape: \n",
            "torch.Size([10]) -> [out_channels=10]\n"
          ]
        }
      ]
    },
    {
      "cell_type": "markdown",
      "source": [
        "### 7.2 Stepping through `nn.MaxPool2d()`"
      ],
      "metadata": {
        "id": "ZAaL89TNX8dI"
      }
    },
    {
      "cell_type": "code",
      "source": [
        "# Print out original image shape without and with unsqueezed dimension\n",
        "print(f\"Test image original shape: {test_image.shape}\")\n",
        "print(f\"Test image with unsqueezed dimension: {test_image.unsqueeze(dim=0).shape}\")\n",
        "\n",
        "# Create a sample nn.MaxPoo2d() layer\n",
        "max_pool_layer = nn.MaxPool2d(kernel_size=2)\n",
        "\n",
        "# Pass data through just the conv_layer\n",
        "test_image_through_conv = conv_layer(test_image.unsqueeze(dim=0))\n",
        "print(f\"Shape after going through conv_layer(): {test_image_through_conv.shape}\")\n",
        "\n",
        "# Pass data through the max pool layer\n",
        "test_image_through_conv_and_max_pool = max_pool_layer(test_image_through_conv)\n",
        "print(f\"Shape after going through conv_layer() and max_pool_layer(): {test_image_through_conv_and_max_pool.shape}\")"
      ],
      "metadata": {
        "colab": {
          "base_uri": "https://localhost:8080/"
        },
        "id": "IRPOKbFKYE2P",
        "outputId": "89a18fcc-04a2-4acb-c17a-e49b0f681d0e"
      },
      "execution_count": 119,
      "outputs": [
        {
          "output_type": "stream",
          "name": "stdout",
          "text": [
            "Test image original shape: torch.Size([3, 64, 64])\n",
            "Test image with unsqueezed dimension: torch.Size([1, 3, 64, 64])\n",
            "Shape after going through conv_layer(): torch.Size([1, 10, 62, 62])\n",
            "Shape after going through conv_layer() and max_pool_layer(): torch.Size([1, 10, 31, 31])\n"
          ]
        }
      ]
    },
    {
      "cell_type": "markdown",
      "source": [
        "The kernel_size of the nn.MaxPool2d() layer will affect the size of the output shape.\n",
        "\n",
        "In our case, the shape halves from a 62x62 image to 31x31 image.\n",
        "\n",
        "Let's see this on a smaller tensor."
      ],
      "metadata": {
        "id": "qcxRQfiubwxg"
      }
    },
    {
      "cell_type": "code",
      "source": [
        "torch.manual_seed(42)\n",
        "# Create a random tensor with a similiar number of dimensions to our images\n",
        "random_tensor = torch.randn(size=(1, 1, 2, 2))  # Single image of 2x2 dimension.\n",
        "print(f\"Random tensor:\\n{random_tensor}\")\n",
        "print(f\"Random tensor shape: {random_tensor.shape}\")\n",
        "\n",
        "# Create a max pool layer\n",
        "max_pool_layer = nn.MaxPool2d(kernel_size=2) # Size of kernel is also 2x2.\n",
        "\n",
        "# Pass the random tensor through the max pool layer\n",
        "max_pool_tensor = max_pool_layer(random_tensor)\n",
        "print(f\"\\nMax pool tensor:\\n{max_pool_tensor} <- this is the maximum value from random_tensor\")\n",
        "print(f\"Max pool tensor shape: {max_pool_tensor.shape}\")"
      ],
      "metadata": {
        "colab": {
          "base_uri": "https://localhost:8080/"
        },
        "id": "yqGwzQVRYgjO",
        "outputId": "2d07267c-c7e6-4369-9e4e-9ccb2a4cbfff"
      },
      "execution_count": 120,
      "outputs": [
        {
          "output_type": "stream",
          "name": "stdout",
          "text": [
            "Random tensor:\n",
            "tensor([[[[0.3367, 0.1288],\n",
            "          [0.2345, 0.2303]]]])\n",
            "Random tensor shape: torch.Size([1, 1, 2, 2])\n",
            "\n",
            "Max pool tensor:\n",
            "tensor([[[[0.3367]]]]) <- this is the maximum value from random_tensor\n",
            "Max pool tensor shape: torch.Size([1, 1, 1, 1])\n"
          ]
        }
      ]
    },
    {
      "cell_type": "markdown",
      "source": [
        "Essentially, every layer in a neural network is trying to compress data from higher dimensional space to lower dimensional space.\n",
        "\n",
        "In other words, take a lot of numbers (raw data) and learn patterns in those numbers, patterns that are predictive whilst also being smaller in size than the original values.\n",
        "\n",
        "From an artificial intelligence perspective, you could consider the whole goal of a neural network to compress information."
      ],
      "metadata": {
        "id": "qqn_ta38cPd1"
      }
    },
    {
      "cell_type": "markdown",
      "source": [
        "### 7.3 Setup loss function and optimizer for `model2`"
      ],
      "metadata": {
        "id": "FEYow4vFkJQO"
      }
    },
    {
      "cell_type": "code",
      "source": [
        "from helper_functions import accuracy_fn\n",
        "\n",
        "loss_fn = nn.CrossEntropyLoss()\n",
        "optimizer = torch.optim.SGD(model2.parameters(),\n",
        "                            lr=0.1)"
      ],
      "metadata": {
        "id": "KuYR0ymCcEhc"
      },
      "execution_count": 121,
      "outputs": []
    },
    {
      "cell_type": "code",
      "source": [
        "model2.state_dict()"
      ],
      "metadata": {
        "colab": {
          "base_uri": "https://localhost:8080/"
        },
        "id": "kwSnn6eQkaz6",
        "outputId": "d6210c36-8c19-44cd-fa7b-850d43a36aeb"
      },
      "execution_count": 122,
      "outputs": [
        {
          "output_type": "execute_result",
          "data": {
            "text/plain": [
              "OrderedDict([('conv_block_1.0.weight',\n",
              "              tensor([[[[-0.1354,  0.2211, -0.2631],\n",
              "                        [-0.1537, -0.0941, -0.2004],\n",
              "                        [ 0.0315, -0.3292,  0.3010]]],\n",
              "              \n",
              "              \n",
              "                      [[[-0.2832,  0.2573,  0.0555],\n",
              "                        [-0.1082,  0.2060,  0.0520],\n",
              "                        [ 0.2693,  0.0364, -0.1051]]],\n",
              "              \n",
              "              \n",
              "                      [[[ 0.0896, -0.0904,  0.1403],\n",
              "                        [ 0.2976,  0.1927, -0.1457],\n",
              "                        [ 0.1924,  0.0596,  0.1693]]],\n",
              "              \n",
              "              \n",
              "                      [[[-0.2032, -0.3300, -0.1288],\n",
              "                        [-0.2557,  0.2735,  0.0960],\n",
              "                        [ 0.1381,  0.1054, -0.0058]]],\n",
              "              \n",
              "              \n",
              "                      [[[ 0.2609, -0.2368,  0.0210],\n",
              "                        [-0.2275,  0.1028, -0.1148],\n",
              "                        [ 0.1021, -0.0694,  0.2765]]],\n",
              "              \n",
              "              \n",
              "                      [[[-0.1976, -0.1988, -0.1988],\n",
              "                        [ 0.2998,  0.1111,  0.3208],\n",
              "                        [-0.2751, -0.3306, -0.2608]]],\n",
              "              \n",
              "              \n",
              "                      [[[-0.2242,  0.1350,  0.1194],\n",
              "                        [ 0.2770, -0.1721, -0.2272],\n",
              "                        [ 0.1769, -0.1347,  0.2023]]],\n",
              "              \n",
              "              \n",
              "                      [[[-0.0791,  0.1907, -0.2590],\n",
              "                        [-0.1682,  0.1016,  0.0705],\n",
              "                        [-0.0850,  0.1987,  0.2266]]],\n",
              "              \n",
              "              \n",
              "                      [[[-0.2417, -0.1780,  0.3052],\n",
              "                        [-0.1125, -0.1182, -0.3225],\n",
              "                        [-0.1909,  0.0833, -0.0440]]],\n",
              "              \n",
              "              \n",
              "                      [[[-0.2420,  0.0078, -0.2277],\n",
              "                        [-0.2828, -0.1836, -0.2917],\n",
              "                        [-0.2122,  0.3332,  0.0630]]]], device='cuda:0')),\n",
              "             ('conv_block_1.0.bias',\n",
              "              tensor([ 0.1027, -0.3109, -0.2189, -0.1110,  0.0521, -0.2933, -0.1436, -0.1996,\n",
              "                       0.0009, -0.1240], device='cuda:0')),\n",
              "             ('conv_block_1.2.weight',\n",
              "              tensor([[[[-0.0073, -0.0714, -0.0724],\n",
              "                        [-0.0615, -0.0361, -0.0832],\n",
              "                        [ 0.0884, -0.0209,  0.0907]],\n",
              "              \n",
              "                       [[ 0.0328, -0.0893,  0.0729],\n",
              "                        [-0.0290, -0.0404, -0.0875],\n",
              "                        [-0.1048,  0.0302, -0.0230]],\n",
              "              \n",
              "                       [[ 0.0410, -0.0865,  0.0783],\n",
              "                        [-0.0774, -0.0182,  0.0220],\n",
              "                        [ 0.0544,  0.0851,  0.0960]],\n",
              "              \n",
              "                       [[-0.0836,  0.0265, -0.0453],\n",
              "                        [-0.0116, -0.0789,  0.0960],\n",
              "                        [-0.0774,  0.0563,  0.0370]],\n",
              "              \n",
              "                       [[ 0.0343, -0.0570,  0.0958],\n",
              "                        [ 0.0232,  0.0136, -0.0929],\n",
              "                        [ 0.0442, -0.0158, -0.0483]],\n",
              "              \n",
              "                       [[ 0.0905,  0.0235, -0.0583],\n",
              "                        [-0.0534, -0.0050,  0.0589],\n",
              "                        [-0.0269, -0.0601, -0.0361]],\n",
              "              \n",
              "                       [[-0.0787,  0.0376,  0.0816],\n",
              "                        [-0.0992,  0.0245,  0.0545],\n",
              "                        [ 0.0191, -0.0375,  0.0550]],\n",
              "              \n",
              "                       [[ 0.0554,  0.0394, -0.0185],\n",
              "                        [-0.0279,  0.0113, -0.0186],\n",
              "                        [-0.0314,  0.0674,  0.0906]],\n",
              "              \n",
              "                       [[-0.0104, -0.0236,  0.0015],\n",
              "                        [-0.0063,  0.0253,  0.0295],\n",
              "                        [-0.0957, -0.0389,  0.0888]],\n",
              "              \n",
              "                       [[ 0.0411, -0.0052, -0.0636],\n",
              "                        [-0.0645, -0.0944, -0.0344],\n",
              "                        [ 0.0356,  0.0672,  0.0487]]],\n",
              "              \n",
              "              \n",
              "                      [[[-0.0932, -0.0634, -0.0166],\n",
              "                        [ 0.1020,  0.0152, -0.0273],\n",
              "                        [ 0.0436, -0.0401, -0.0682]],\n",
              "              \n",
              "                       [[ 0.0769, -0.0479, -0.0211],\n",
              "                        [-0.1049,  0.0705,  0.0799],\n",
              "                        [ 0.0384, -0.0735, -0.1040]],\n",
              "              \n",
              "                       [[-0.0856,  0.0786,  0.0506],\n",
              "                        [ 0.0887,  0.0552,  0.0267],\n",
              "                        [-0.0010, -0.0802, -0.0903]],\n",
              "              \n",
              "                       [[-0.0986,  0.0432, -0.0518],\n",
              "                        [-0.0212, -0.0607, -0.0192],\n",
              "                        [-0.0742, -0.0689,  0.0350]],\n",
              "              \n",
              "                       [[-0.0313,  0.0651, -0.0338],\n",
              "                        [-0.0773, -0.0186, -0.0511],\n",
              "                        [-0.0322, -0.1003,  0.0590]],\n",
              "              \n",
              "                       [[-0.0734,  0.0530,  0.0478],\n",
              "                        [ 0.0753, -0.0809,  0.0758],\n",
              "                        [-0.0498,  0.0391,  0.0990]],\n",
              "              \n",
              "                       [[-0.0149, -0.0008, -0.0243],\n",
              "                        [-0.0880,  0.0506, -0.1046],\n",
              "                        [ 0.0654,  0.0789,  0.0997]],\n",
              "              \n",
              "                       [[-0.0249, -0.0866,  0.0237],\n",
              "                        [ 0.0582, -0.1049, -0.0239],\n",
              "                        [-0.0632, -0.0092, -0.0519]],\n",
              "              \n",
              "                       [[-0.0431, -0.0335, -0.1002],\n",
              "                        [ 0.0865,  0.0884, -0.0165],\n",
              "                        [-0.0120, -0.0430, -0.0952]],\n",
              "              \n",
              "                       [[-0.1026,  0.0392, -0.0579],\n",
              "                        [-0.0678, -0.0082, -0.0351],\n",
              "                        [-0.0341,  0.0034, -0.0224]]],\n",
              "              \n",
              "              \n",
              "                      [[[-0.0363, -0.0505, -0.0858],\n",
              "                        [ 0.0884, -0.0422,  0.0279],\n",
              "                        [-0.0366,  0.0086,  0.0983]],\n",
              "              \n",
              "                       [[ 0.0486, -0.0913,  0.0418],\n",
              "                        [ 0.1001,  0.0277,  0.0707],\n",
              "                        [ 0.1039, -0.0162,  0.0219]],\n",
              "              \n",
              "                       [[-0.0733, -0.0217,  0.0781],\n",
              "                        [ 0.0540, -0.0667, -0.0845],\n",
              "                        [-0.0720, -0.1040, -0.0813]],\n",
              "              \n",
              "                       [[-0.0261,  0.0711,  0.0176],\n",
              "                        [-0.0802, -0.0846,  0.0524],\n",
              "                        [-0.0784, -0.0130,  0.0506]],\n",
              "              \n",
              "                       [[-0.0488, -0.0115, -0.0092],\n",
              "                        [-0.0249, -0.0534, -0.0940],\n",
              "                        [-0.0852, -0.0564,  0.1018]],\n",
              "              \n",
              "                       [[-0.0509, -0.0708,  0.0256],\n",
              "                        [ 0.0291,  0.0578,  0.0801],\n",
              "                        [ 0.0587, -0.1045,  0.0093]],\n",
              "              \n",
              "                       [[ 0.0639, -0.0097, -0.0621],\n",
              "                        [ 0.1005, -0.0394, -0.0600],\n",
              "                        [-0.0950,  0.0047,  0.0467]],\n",
              "              \n",
              "                       [[ 0.0233,  0.0208, -0.0799],\n",
              "                        [-0.0984,  0.0019,  0.0961],\n",
              "                        [ 0.0608, -0.0614, -0.0137]],\n",
              "              \n",
              "                       [[-0.0777, -0.0509,  0.0191],\n",
              "                        [ 0.0574,  0.0873, -0.0968],\n",
              "                        [ 0.0705, -0.0743,  0.0395]],\n",
              "              \n",
              "                       [[ 0.0892,  0.0015,  0.0959],\n",
              "                        [-0.0898, -0.0403,  0.0615],\n",
              "                        [-0.0230, -0.0216, -0.0439]]],\n",
              "              \n",
              "              \n",
              "                      [[[ 0.0727,  0.0517,  0.0338],\n",
              "                        [-0.0592, -0.0856,  0.0114],\n",
              "                        [ 0.0312, -0.0487, -0.0295]],\n",
              "              \n",
              "                       [[ 0.0712,  0.0084,  0.0048],\n",
              "                        [-0.0259, -0.0955, -0.0991],\n",
              "                        [-0.0504, -0.0536,  0.0328]],\n",
              "              \n",
              "                       [[-0.0307, -0.0412,  0.1005],\n",
              "                        [ 0.0367,  0.0751, -0.0510],\n",
              "                        [-0.0431,  0.0387, -0.0702]],\n",
              "              \n",
              "                       [[-0.0689, -0.0051, -0.0386],\n",
              "                        [-0.0790,  0.0625,  0.0848],\n",
              "                        [ 0.0171, -0.0184, -0.0976]],\n",
              "              \n",
              "                       [[-0.0384,  0.0268,  0.0497],\n",
              "                        [-0.0133, -0.0417,  0.0587],\n",
              "                        [-0.0839,  0.0666, -0.0409]],\n",
              "              \n",
              "                       [[ 0.0016, -0.0208,  0.0128],\n",
              "                        [-0.0319,  0.0766, -0.0027],\n",
              "                        [ 0.0823,  0.1013, -0.0514]],\n",
              "              \n",
              "                       [[-0.0769,  0.0846,  0.0826],\n",
              "                        [-0.0805, -0.0081, -0.1039],\n",
              "                        [-0.0863,  0.0204,  0.0280]],\n",
              "              \n",
              "                       [[ 0.0223, -0.0287,  0.0972],\n",
              "                        [ 0.0151, -0.0622, -0.0060],\n",
              "                        [ 0.0253,  0.0369, -0.0745]],\n",
              "              \n",
              "                       [[ 0.0395, -0.0539, -0.0876],\n",
              "                        [-0.0576,  0.1017,  0.0901],\n",
              "                        [ 0.0944,  0.0619,  0.0796]],\n",
              "              \n",
              "                       [[-0.0141, -0.0580,  0.0527],\n",
              "                        [-0.0546, -0.0711, -0.0337],\n",
              "                        [ 0.0221,  0.0543, -0.0409]]],\n",
              "              \n",
              "              \n",
              "                      [[[-0.0620,  0.0142, -0.0621],\n",
              "                        [-0.0686,  0.0549, -0.0177],\n",
              "                        [ 0.0963,  0.1025,  0.0315]],\n",
              "              \n",
              "                       [[ 0.0363,  0.0243,  0.0017],\n",
              "                        [-0.0077,  0.0014,  0.0394],\n",
              "                        [ 0.0980, -0.0273, -0.0446]],\n",
              "              \n",
              "                       [[-0.0255, -0.0509,  0.0179],\n",
              "                        [ 0.0787,  0.0824,  0.0484],\n",
              "                        [-0.0776, -0.0566, -0.0232]],\n",
              "              \n",
              "                       [[-0.0194,  0.0087, -0.0968],\n",
              "                        [ 0.0328, -0.0804, -0.0667],\n",
              "                        [-0.0876,  0.0918, -0.0998]],\n",
              "              \n",
              "                       [[ 0.0795, -0.0035, -0.0123],\n",
              "                        [ 0.0659, -0.0097,  0.0661],\n",
              "                        [ 0.0762, -0.0915,  0.0406]],\n",
              "              \n",
              "                       [[ 0.0199,  0.0227,  0.0154],\n",
              "                        [ 0.0288, -0.0507, -0.0135],\n",
              "                        [ 0.1002,  0.0708, -0.0040]],\n",
              "              \n",
              "                       [[-0.0991,  0.0046, -0.0718],\n",
              "                        [ 0.0857, -0.0640, -0.0076],\n",
              "                        [-0.0234,  0.0188,  0.0992]],\n",
              "              \n",
              "                       [[ 0.0100,  0.0610,  0.0818],\n",
              "                        [ 0.0851, -0.0364, -0.0236],\n",
              "                        [ 0.0508, -0.0288,  0.0494]],\n",
              "              \n",
              "                       [[-0.0230, -0.0715,  0.0429],\n",
              "                        [ 0.0162,  0.0470,  0.1047],\n",
              "                        [ 0.0720,  0.0999,  0.0056]],\n",
              "              \n",
              "                       [[-0.0907, -0.0739, -0.0655],\n",
              "                        [-0.0929, -0.0528, -0.0970],\n",
              "                        [-0.0973, -0.0630, -0.1039]]],\n",
              "              \n",
              "              \n",
              "                      [[[-0.0647,  0.0402,  0.0879],\n",
              "                        [-0.0314, -0.0307,  0.0563],\n",
              "                        [-0.0520, -0.0498,  0.0649]],\n",
              "              \n",
              "                       [[-0.0918,  0.0129,  0.0931],\n",
              "                        [ 0.0181,  0.0287, -0.0614],\n",
              "                        [-0.0015,  0.0058,  0.0259]],\n",
              "              \n",
              "                       [[ 0.0410,  0.0916, -0.0805],\n",
              "                        [ 0.0032, -0.0527, -0.0834],\n",
              "                        [-0.0084, -0.0928,  0.0736]],\n",
              "              \n",
              "                       [[ 0.0122, -0.0568,  0.0551],\n",
              "                        [-0.0998, -0.0408, -0.0205],\n",
              "                        [-0.0896, -0.0670, -0.0172]],\n",
              "              \n",
              "                       [[ 0.0800,  0.1018,  0.0671],\n",
              "                        [-0.0629, -0.0690,  0.0920],\n",
              "                        [ 0.0373,  0.0028,  0.0143]],\n",
              "              \n",
              "                       [[-0.0847, -0.0352,  0.1015],\n",
              "                        [-0.0260, -0.0053, -0.0875],\n",
              "                        [-0.0590, -0.0022, -0.0655]],\n",
              "              \n",
              "                       [[-0.0131,  0.0429, -0.1031],\n",
              "                        [ 0.0313, -0.0697, -0.0514],\n",
              "                        [ 0.0405,  0.0838, -0.0288]],\n",
              "              \n",
              "                       [[-0.0433, -0.0953, -0.0544],\n",
              "                        [-0.0923, -0.0241,  0.0215],\n",
              "                        [-0.0988,  0.0920,  0.0661]],\n",
              "              \n",
              "                       [[-0.1032, -0.0503,  0.0344],\n",
              "                        [-0.0217, -0.0115, -0.0476],\n",
              "                        [ 0.0847, -0.0589,  0.0874]],\n",
              "              \n",
              "                       [[ 0.0068,  0.0212,  0.0822],\n",
              "                        [-0.0174, -0.0600, -0.0170],\n",
              "                        [ 0.0855, -0.0782,  0.0239]]],\n",
              "              \n",
              "              \n",
              "                      [[[-0.1036,  0.0553,  0.0389],\n",
              "                        [ 0.0045,  0.0452,  0.0001],\n",
              "                        [ 0.0583, -0.0834, -0.0155]],\n",
              "              \n",
              "                       [[ 0.0468,  0.1050,  0.0537],\n",
              "                        [-0.0767,  0.0811, -0.0235],\n",
              "                        [-0.0225, -0.0958, -0.0166]],\n",
              "              \n",
              "                       [[ 0.0746,  0.0147, -0.0614],\n",
              "                        [ 0.0324, -0.0338,  0.0962],\n",
              "                        [-0.0915, -0.0333, -0.1018]],\n",
              "              \n",
              "                       [[-0.0415,  0.0332,  0.1015],\n",
              "                        [ 0.0177,  0.1033,  0.0206],\n",
              "                        [ 0.0609,  0.0845,  0.0881]],\n",
              "              \n",
              "                       [[-0.0590,  0.0969,  0.0639],\n",
              "                        [-0.0493, -0.0503, -0.0884],\n",
              "                        [ 0.0265, -0.0854,  0.0445]],\n",
              "              \n",
              "                       [[ 0.0333, -0.0916,  0.0287],\n",
              "                        [-0.0086,  0.0482,  0.0605],\n",
              "                        [-0.1048,  0.0967,  0.0884]],\n",
              "              \n",
              "                       [[ 0.0419, -0.0963, -0.0377],\n",
              "                        [-0.0305, -0.0271,  0.0594],\n",
              "                        [ 0.0383,  0.0835, -0.0395]],\n",
              "              \n",
              "                       [[ 0.0355,  0.0375, -0.0878],\n",
              "                        [-0.1022, -0.0547,  0.0722],\n",
              "                        [-0.0992, -0.0918,  0.0591]],\n",
              "              \n",
              "                       [[ 0.0569,  0.0867, -0.0796],\n",
              "                        [-0.0771,  0.0541,  0.0917],\n",
              "                        [ 0.0631,  0.0165,  0.0347]],\n",
              "              \n",
              "                       [[ 0.1000, -0.0680, -0.0479],\n",
              "                        [ 0.0737, -0.0721, -0.0581],\n",
              "                        [ 0.0769,  0.0333,  0.0341]]],\n",
              "              \n",
              "              \n",
              "                      [[[-0.0447, -0.0015,  0.0965],\n",
              "                        [-0.0633,  0.0008,  0.0501],\n",
              "                        [-0.0728,  0.1024, -0.0527]],\n",
              "              \n",
              "                       [[-0.0253, -0.0285, -0.0687],\n",
              "                        [-0.1034,  0.0594,  0.0280],\n",
              "                        [-0.0987, -0.0678,  0.1042]],\n",
              "              \n",
              "                       [[ 0.0403,  0.0423, -0.0631],\n",
              "                        [-0.0462, -0.0159, -0.0193],\n",
              "                        [-0.0722,  0.0087,  0.0105]],\n",
              "              \n",
              "                       [[-0.0133,  0.0146, -0.0418],\n",
              "                        [ 0.0274,  0.0398, -0.0555],\n",
              "                        [-0.1045,  0.0552,  0.0251]],\n",
              "              \n",
              "                       [[-0.0536,  0.1016, -0.0477],\n",
              "                        [ 0.0712,  0.0535, -0.0884],\n",
              "                        [ 0.0680, -0.0969, -0.0584]],\n",
              "              \n",
              "                       [[-0.0176, -0.0711,  0.1030],\n",
              "                        [-0.0211,  0.0419, -0.0941],\n",
              "                        [ 0.0607, -0.0328, -0.0802]],\n",
              "              \n",
              "                       [[ 0.0154,  0.0511,  0.0912],\n",
              "                        [-0.0644, -0.0519,  0.0203],\n",
              "                        [ 0.0286,  0.0405,  0.0579]],\n",
              "              \n",
              "                       [[-0.0239,  0.0586,  0.0777],\n",
              "                        [-0.0275,  0.0750,  0.0515],\n",
              "                        [ 0.0930, -0.0599, -0.0521]],\n",
              "              \n",
              "                       [[-0.0305,  0.0053,  0.0633],\n",
              "                        [-0.0602,  0.0528, -0.0378],\n",
              "                        [ 0.0637, -0.0050, -0.0923]],\n",
              "              \n",
              "                       [[-0.0580, -0.0763,  0.0523],\n",
              "                        [-0.0707, -0.0088,  0.0227],\n",
              "                        [-0.0578,  0.0304, -0.1029]]],\n",
              "              \n",
              "              \n",
              "                      [[[-0.0754, -0.0955, -0.0319],\n",
              "                        [-0.0384,  0.0151, -0.0195],\n",
              "                        [ 0.0496,  0.0966,  0.0378]],\n",
              "              \n",
              "                       [[-0.0415, -0.0987,  0.0382],\n",
              "                        [-0.0522,  0.0536,  0.0705],\n",
              "                        [ 0.0407,  0.0989,  0.1001]],\n",
              "              \n",
              "                       [[ 0.0223, -0.0768,  0.0942],\n",
              "                        [-0.0500, -0.0498,  0.0882],\n",
              "                        [ 0.0817,  0.0318,  0.0066]],\n",
              "              \n",
              "                       [[-0.0887, -0.0109,  0.1011],\n",
              "                        [ 0.0268,  0.0090, -0.0219],\n",
              "                        [-0.0368,  0.0628,  0.0065]],\n",
              "              \n",
              "                       [[ 0.0686, -0.0187,  0.0461],\n",
              "                        [ 0.0435,  0.0168,  0.0662],\n",
              "                        [ 0.0661,  0.0977,  0.0810]],\n",
              "              \n",
              "                       [[-0.0270, -0.0892,  0.0193],\n",
              "                        [-0.0009, -0.0275, -0.0177],\n",
              "                        [ 0.0050,  0.0769,  0.0329]],\n",
              "              \n",
              "                       [[-0.0374, -0.0433, -0.0261],\n",
              "                        [-0.0407,  0.0948,  0.0558],\n",
              "                        [ 0.0952,  0.0003,  0.0213]],\n",
              "              \n",
              "                       [[ 0.0366, -0.0998,  0.0094],\n",
              "                        [-0.0071, -0.0591, -0.0818],\n",
              "                        [ 0.0933,  0.0857,  0.0489]],\n",
              "              \n",
              "                       [[ 0.1006, -0.0428, -0.0182],\n",
              "                        [ 0.0399, -0.0174, -0.0207],\n",
              "                        [-0.0871,  0.0283, -0.0637]],\n",
              "              \n",
              "                       [[ 0.0038,  0.1028, -0.0324],\n",
              "                        [-0.0332,  0.0636, -0.0388],\n",
              "                        [-0.0091,  0.0984, -0.0432]]],\n",
              "              \n",
              "              \n",
              "                      [[[-0.0754, -0.0590, -0.0292],\n",
              "                        [-0.0500, -0.0547,  0.0426],\n",
              "                        [ 0.0179, -0.0337, -0.0819]],\n",
              "              \n",
              "                       [[-0.0332, -0.0445, -0.0343],\n",
              "                        [-0.0951,  0.0227, -0.0774],\n",
              "                        [-0.0821, -0.0861,  0.0440]],\n",
              "              \n",
              "                       [[-0.0635, -0.0435,  0.0826],\n",
              "                        [ 0.0560,  0.0604, -0.1001],\n",
              "                        [-0.0756, -0.0398,  0.0871]],\n",
              "              \n",
              "                       [[ 0.0108, -0.0788,  0.0007],\n",
              "                        [-0.0819, -0.0231, -0.0290],\n",
              "                        [ 0.0912,  0.0326, -0.0184]],\n",
              "              \n",
              "                       [[ 0.0178, -0.0304,  0.0414],\n",
              "                        [ 0.0417,  0.0283, -0.0411],\n",
              "                        [ 0.0899, -0.0152, -0.0410]],\n",
              "              \n",
              "                       [[ 0.0660,  0.0859,  0.1049],\n",
              "                        [ 0.0312, -0.0359,  0.0535],\n",
              "                        [ 0.0904, -0.1034, -0.0131]],\n",
              "              \n",
              "                       [[-0.0719,  0.0196,  0.0436],\n",
              "                        [-0.0218, -0.0088,  0.0474],\n",
              "                        [-0.0177, -0.0885,  0.0843]],\n",
              "              \n",
              "                       [[-0.0531, -0.0116,  0.0099],\n",
              "                        [-0.0063, -0.0992,  0.0484],\n",
              "                        [-0.0479, -0.0547,  0.0252]],\n",
              "              \n",
              "                       [[-0.0550, -0.0487, -0.0355],\n",
              "                        [-0.0396, -0.0440, -0.0284],\n",
              "                        [ 0.0274, -0.0853, -0.0638]],\n",
              "              \n",
              "                       [[ 0.0015,  0.0147,  0.0582],\n",
              "                        [-0.0740,  0.0336,  0.0599],\n",
              "                        [ 0.0585, -0.0982, -0.0402]]]], device='cuda:0')),\n",
              "             ('conv_block_1.2.bias',\n",
              "              tensor([-0.0906, -0.0667,  0.0587, -0.0157,  0.0448, -0.0619,  0.0160, -0.0638,\n",
              "                       0.0527, -0.0461], device='cuda:0')),\n",
              "             ('conv_block_2.0.weight',\n",
              "              tensor([[[[-2.6432e-02, -9.1456e-02,  3.4822e-04],\n",
              "                        [ 1.0008e-01,  5.1163e-02, -5.6240e-02],\n",
              "                        [ 1.4176e-03, -1.1558e-02, -8.4862e-02]],\n",
              "              \n",
              "                       [[ 8.2650e-02,  1.6993e-03,  2.2199e-02],\n",
              "                        [-4.2567e-02, -4.9323e-02,  1.7381e-02],\n",
              "                        [ 3.8971e-02,  2.3643e-02, -5.0801e-02]],\n",
              "              \n",
              "                       [[ 1.0234e-01, -1.5517e-02, -6.4554e-02],\n",
              "                        [-4.9301e-02,  1.0377e-01,  5.0766e-06],\n",
              "                        [-1.4309e-02, -4.3867e-02, -2.7633e-02]],\n",
              "              \n",
              "                       [[-8.8779e-02, -8.3767e-02,  6.1695e-02],\n",
              "                        [ 9.0172e-02,  1.0059e-01, -7.6099e-02],\n",
              "                        [ 5.7012e-02, -6.5245e-02,  6.2883e-02]],\n",
              "              \n",
              "                       [[ 7.6058e-02,  8.1573e-02,  7.5900e-02],\n",
              "                        [ 6.5941e-02,  2.0516e-03,  4.8434e-02],\n",
              "                        [-3.7712e-02,  4.5899e-02, -3.3879e-02]],\n",
              "              \n",
              "                       [[-1.7700e-03, -9.1746e-02, -2.7562e-02],\n",
              "                        [-5.5432e-02, -3.5557e-02, -6.7313e-02],\n",
              "                        [-9.4810e-02,  6.8639e-03,  6.8408e-02]],\n",
              "              \n",
              "                       [[ 9.6001e-02,  6.1512e-02, -5.4638e-02],\n",
              "                        [-1.0425e-01,  3.9983e-02,  5.9062e-02],\n",
              "                        [-9.0495e-02,  3.7798e-02,  8.9121e-02]],\n",
              "              \n",
              "                       [[ 6.3853e-03, -6.3505e-02,  8.6423e-02],\n",
              "                        [ 4.5011e-02,  6.9802e-02, -7.1287e-02],\n",
              "                        [ 6.1342e-02, -7.2002e-02,  1.0430e-01]],\n",
              "              \n",
              "                       [[-4.4662e-02,  6.3516e-02,  2.1107e-02],\n",
              "                        [ 2.7935e-02, -1.6165e-02,  4.3295e-02],\n",
              "                        [-4.3932e-02, -9.9357e-02, -4.0499e-02]],\n",
              "              \n",
              "                       [[ 8.2592e-02, -2.7751e-02,  3.3132e-02],\n",
              "                        [-3.8973e-02,  7.9073e-02,  6.3086e-02],\n",
              "                        [ 3.7211e-02, -5.3881e-02, -8.6133e-02]]],\n",
              "              \n",
              "              \n",
              "                      [[[ 3.9686e-03, -6.1839e-02,  8.6667e-02],\n",
              "                        [-1.0130e-01,  4.7104e-02,  1.0508e-01],\n",
              "                        [ 5.2792e-02,  3.5942e-02, -1.0142e-01]],\n",
              "              \n",
              "                       [[ 1.0139e-01, -1.8030e-02, -9.8495e-02],\n",
              "                        [ 1.0406e-01, -4.2894e-02, -7.4575e-03],\n",
              "                        [ 9.6479e-02, -7.3070e-02, -7.4576e-02]],\n",
              "              \n",
              "                       [[ 1.7141e-02, -1.4109e-02,  2.4280e-02],\n",
              "                        [-8.8407e-02,  3.1524e-03, -4.6882e-02],\n",
              "                        [-5.1820e-02, -9.6517e-02,  5.5890e-02]],\n",
              "              \n",
              "                       [[ 2.0306e-02, -8.9118e-02,  8.3648e-02],\n",
              "                        [ 3.1794e-02,  1.9560e-02, -6.1890e-02],\n",
              "                        [ 1.5896e-02,  1.0157e-01,  7.2299e-02]],\n",
              "              \n",
              "                       [[-8.2100e-02,  9.6220e-02,  8.1702e-03],\n",
              "                        [ 5.0698e-02,  8.1869e-02,  8.9862e-02],\n",
              "                        [-8.2170e-02,  9.2303e-02, -7.1591e-02]],\n",
              "              \n",
              "                       [[ 7.9021e-03, -7.3656e-02, -2.3109e-02],\n",
              "                        [-4.7901e-03, -1.2611e-02, -1.6652e-02],\n",
              "                        [ 8.3137e-03,  1.0398e-01,  6.1244e-02]],\n",
              "              \n",
              "                       [[ 5.8973e-02,  4.2190e-02,  8.1606e-02],\n",
              "                        [-4.8645e-03,  8.3813e-03,  2.1693e-02],\n",
              "                        [-9.1931e-02, -8.4913e-02,  1.2923e-02]],\n",
              "              \n",
              "                       [[-4.1241e-02, -1.9342e-03, -2.4187e-02],\n",
              "                        [ 1.6408e-02,  6.8581e-02, -3.4958e-02],\n",
              "                        [ 8.4418e-02,  8.3227e-02, -8.0901e-02]],\n",
              "              \n",
              "                       [[-8.1400e-02, -8.5284e-02, -5.7766e-02],\n",
              "                        [-4.1033e-02, -7.9341e-03, -2.5635e-02],\n",
              "                        [-5.3258e-02, -3.3488e-02, -3.8131e-02]],\n",
              "              \n",
              "                       [[ 1.0341e-01, -3.9068e-02, -7.5473e-02],\n",
              "                        [ 4.3818e-02, -6.0886e-03,  8.0698e-02],\n",
              "                        [ 6.5863e-02,  9.6843e-02, -7.7197e-02]]],\n",
              "              \n",
              "              \n",
              "                      [[[ 6.7764e-02,  8.8464e-02, -5.2054e-02],\n",
              "                        [ 9.6890e-02,  7.9019e-02,  1.1544e-03],\n",
              "                        [ 5.0823e-02, -3.6853e-02, -9.1936e-02]],\n",
              "              \n",
              "                       [[ 2.6645e-02,  3.1425e-02, -6.8891e-02],\n",
              "                        [ 5.1123e-02, -9.0043e-02,  9.0718e-02],\n",
              "                        [ 1.0208e-01,  2.8699e-02, -6.6137e-02]],\n",
              "              \n",
              "                       [[ 5.1300e-02,  1.7963e-02,  2.8663e-02],\n",
              "                        [ 3.4643e-02,  8.0254e-02, -4.5309e-02],\n",
              "                        [-2.3711e-02,  2.8746e-02,  1.1486e-02]],\n",
              "              \n",
              "                       [[ 8.5000e-02, -5.5365e-02, -3.8387e-03],\n",
              "                        [ 1.9696e-02, -2.7996e-02,  7.1859e-02],\n",
              "                        [ 1.1530e-02, -9.7422e-02, -1.1420e-02]],\n",
              "              \n",
              "                       [[-4.7809e-02,  1.0243e-02, -1.2250e-02],\n",
              "                        [-1.0456e-01, -1.9208e-02, -1.0096e-02],\n",
              "                        [-3.1083e-02,  9.6848e-02, -2.3000e-02]],\n",
              "              \n",
              "                       [[ 6.7717e-02,  2.6112e-02, -8.8979e-02],\n",
              "                        [ 2.4770e-02,  8.7356e-02, -6.8948e-02],\n",
              "                        [-6.8134e-02,  1.0318e-01,  8.4697e-02]],\n",
              "              \n",
              "                       [[-5.8807e-02,  6.3429e-02, -1.3485e-02],\n",
              "                        [-1.0393e-01,  7.9198e-03,  3.4057e-02],\n",
              "                        [-3.1619e-02,  3.6670e-02, -9.0136e-02]],\n",
              "              \n",
              "                       [[ 7.3050e-02,  8.9865e-02,  5.8130e-02],\n",
              "                        [ 1.7866e-02,  3.4716e-02, -7.6269e-02],\n",
              "                        [-2.6339e-02, -1.0063e-02, -5.8659e-02]],\n",
              "              \n",
              "                       [[-7.7857e-02,  7.0900e-02,  7.1535e-02],\n",
              "                        [-9.5731e-02,  3.3542e-02,  4.2881e-02],\n",
              "                        [ 1.0014e-01,  6.0985e-02,  9.6907e-02]],\n",
              "              \n",
              "                       [[-3.4510e-02,  7.3827e-02,  8.5740e-02],\n",
              "                        [-9.9541e-02, -8.4613e-02,  2.1335e-02],\n",
              "                        [ 5.7557e-02, -5.2369e-02,  1.1609e-02]]],\n",
              "              \n",
              "              \n",
              "                      [[[-1.5303e-04,  2.6680e-02, -5.6642e-02],\n",
              "                        [ 5.9455e-02,  7.0098e-02, -7.3139e-02],\n",
              "                        [ 1.0211e-03,  2.9247e-04,  3.3849e-02]],\n",
              "              \n",
              "                       [[ 9.8198e-02,  3.0913e-02, -2.3951e-02],\n",
              "                        [ 9.4672e-02, -4.0112e-02, -3.0608e-02],\n",
              "                        [ 7.1969e-03, -8.0270e-02,  1.1470e-02]],\n",
              "              \n",
              "                       [[-7.1518e-02,  1.0838e-02,  1.0099e-02],\n",
              "                        [ 1.4591e-02, -8.8891e-02, -1.0012e-01],\n",
              "                        [ 4.8501e-02,  9.0399e-02, -9.3537e-02]],\n",
              "              \n",
              "                       [[ 3.9043e-02, -7.7594e-02,  6.6082e-03],\n",
              "                        [ 9.8068e-02,  7.9965e-02, -7.7069e-02],\n",
              "                        [ 6.5203e-02,  5.5057e-02, -1.6168e-04]],\n",
              "              \n",
              "                       [[ 1.0211e-01, -4.1866e-02, -2.4530e-02],\n",
              "                        [-5.3275e-02,  1.5168e-02,  2.7911e-02],\n",
              "                        [ 8.3990e-03, -5.9307e-02, -4.7452e-02]],\n",
              "              \n",
              "                       [[ 3.5855e-02, -9.2426e-02, -1.6416e-02],\n",
              "                        [-2.3350e-03, -4.2708e-02,  3.8360e-02],\n",
              "                        [ 6.7940e-03,  7.4004e-02, -9.3616e-03]],\n",
              "              \n",
              "                       [[-6.6528e-02,  7.4477e-02,  1.4720e-02],\n",
              "                        [-3.0189e-02, -6.9476e-02,  2.4707e-02],\n",
              "                        [-1.0053e-01,  2.7762e-02,  5.2119e-02]],\n",
              "              \n",
              "                       [[-9.2465e-02, -6.9009e-02, -7.5781e-02],\n",
              "                        [ 8.8597e-02,  8.9611e-02,  6.5987e-03],\n",
              "                        [ 9.8959e-02, -3.5239e-02, -1.0233e-01]],\n",
              "              \n",
              "                       [[ 3.6819e-02,  3.7343e-02,  1.0334e-01],\n",
              "                        [-3.0510e-05,  8.0785e-02,  6.4612e-02],\n",
              "                        [ 7.6292e-02, -1.0460e-01,  8.6800e-02]],\n",
              "              \n",
              "                       [[-8.9856e-02,  9.4501e-02, -4.3682e-03],\n",
              "                        [-9.3415e-02,  2.9314e-02, -2.1456e-02],\n",
              "                        [-9.4678e-02, -3.8215e-02,  1.0868e-02]]],\n",
              "              \n",
              "              \n",
              "                      [[[ 8.2098e-02, -3.2406e-02,  6.2610e-02],\n",
              "                        [ 1.3200e-02,  3.5531e-03,  2.0170e-02],\n",
              "                        [-6.9177e-02, -8.7616e-02, -3.3121e-02]],\n",
              "              \n",
              "                       [[-9.8226e-02, -4.9158e-02,  4.8494e-03],\n",
              "                        [-6.9424e-02, -4.3723e-02, -1.8941e-02],\n",
              "                        [-1.2144e-02, -5.8187e-02,  5.0650e-03]],\n",
              "              \n",
              "                       [[-1.4795e-02,  3.0147e-02,  4.7611e-03],\n",
              "                        [-5.2638e-02, -3.6291e-02, -1.2149e-03],\n",
              "                        [-6.5774e-02,  8.2520e-03, -7.4425e-03]],\n",
              "              \n",
              "                       [[ 4.0897e-02,  2.4947e-02,  7.8887e-02],\n",
              "                        [-3.4749e-03, -7.7887e-02,  4.7119e-02],\n",
              "                        [-7.1240e-02, -1.4489e-02, -3.4132e-02]],\n",
              "              \n",
              "                       [[-3.9997e-02, -3.9000e-02,  9.6863e-02],\n",
              "                        [ 6.0342e-02,  2.9213e-02,  9.8975e-02],\n",
              "                        [-9.5524e-02,  1.7010e-02,  6.7481e-02]],\n",
              "              \n",
              "                       [[ 7.0022e-02, -8.3890e-02,  3.7514e-02],\n",
              "                        [-6.0050e-02, -4.1187e-03, -2.1996e-02],\n",
              "                        [-8.8013e-02, -1.0055e-01, -6.9349e-02]],\n",
              "              \n",
              "                       [[ 4.7832e-02,  4.8218e-02, -9.1681e-02],\n",
              "                        [-3.9586e-02,  1.7218e-03, -9.1135e-02],\n",
              "                        [ 5.9393e-02,  9.5473e-02,  1.8643e-02]],\n",
              "              \n",
              "                       [[-7.8321e-02,  2.4580e-02,  3.8265e-02],\n",
              "                        [ 8.3468e-02, -5.6085e-02, -9.4437e-02],\n",
              "                        [ 4.6312e-02,  6.5624e-03, -3.4345e-02]],\n",
              "              \n",
              "                       [[-4.4169e-02, -5.4351e-02,  8.5328e-02],\n",
              "                        [-1.8187e-02,  7.6022e-02,  9.4094e-02],\n",
              "                        [ 1.3353e-02,  2.2454e-02, -7.1789e-03]],\n",
              "              \n",
              "                       [[ 7.2397e-02, -9.4983e-02,  4.1919e-02],\n",
              "                        [-1.7174e-02,  4.8132e-02, -4.6949e-04],\n",
              "                        [-3.9029e-02, -1.1379e-02,  5.6920e-02]]],\n",
              "              \n",
              "              \n",
              "                      [[[-7.3210e-02, -6.6629e-02, -2.3611e-02],\n",
              "                        [-3.8235e-02,  4.1409e-02,  7.0937e-02],\n",
              "                        [-1.1289e-02,  9.9672e-02, -4.4042e-02]],\n",
              "              \n",
              "                       [[-5.9151e-02, -4.7191e-02, -7.2624e-02],\n",
              "                        [-7.3885e-02, -9.3921e-02, -9.3422e-02],\n",
              "                        [ 2.7512e-02,  6.4284e-02,  9.8963e-02]],\n",
              "              \n",
              "                       [[ 8.9787e-02, -6.0709e-03,  2.0454e-02],\n",
              "                        [-6.3068e-02,  4.0743e-02, -1.0107e-01],\n",
              "                        [ 4.9719e-02,  1.9334e-02,  3.2393e-02]],\n",
              "              \n",
              "                       [[ 3.8595e-02, -4.8394e-02,  9.0452e-02],\n",
              "                        [ 5.0307e-02,  6.9243e-02,  1.3922e-02],\n",
              "                        [ 6.6196e-02,  7.0941e-02,  4.7775e-02]],\n",
              "              \n",
              "                       [[ 8.0297e-02, -1.9119e-02,  6.9310e-02],\n",
              "                        [ 2.4286e-02,  6.3424e-02,  1.0267e-01],\n",
              "                        [ 2.3869e-02, -3.9124e-02, -1.0488e-02]],\n",
              "              \n",
              "                       [[ 2.9676e-02,  1.7773e-02, -2.8795e-02],\n",
              "                        [ 8.2590e-02,  6.3331e-02, -6.5475e-02],\n",
              "                        [-8.5889e-03, -1.0119e-02, -6.6063e-02]],\n",
              "              \n",
              "                       [[ 1.5374e-02, -3.2360e-02, -5.4419e-02],\n",
              "                        [-3.3894e-02, -3.7584e-02,  1.0084e-01],\n",
              "                        [ 4.0432e-02,  1.0373e-01,  2.8903e-02]],\n",
              "              \n",
              "                       [[ 2.3868e-02,  4.3333e-02,  1.8092e-02],\n",
              "                        [-8.2722e-02, -6.2334e-02, -2.5538e-02],\n",
              "                        [ 1.5846e-03,  3.9709e-02,  4.0588e-02]],\n",
              "              \n",
              "                       [[ 8.3623e-02,  2.1458e-02, -3.5975e-02],\n",
              "                        [-7.9271e-02, -7.7203e-02, -6.2965e-02],\n",
              "                        [ 3.1792e-02,  5.6950e-02,  9.2224e-02]],\n",
              "              \n",
              "                       [[-3.3342e-02, -8.3150e-03, -3.1303e-02],\n",
              "                        [-3.8517e-04,  3.3837e-02, -2.3160e-03],\n",
              "                        [ 4.8799e-03,  1.3354e-02,  3.9256e-02]]],\n",
              "              \n",
              "              \n",
              "                      [[[-3.1981e-02, -6.2855e-02,  2.4869e-02],\n",
              "                        [-1.2481e-02, -4.7753e-02,  4.4268e-02],\n",
              "                        [ 9.5597e-04, -1.5333e-02, -5.1027e-02]],\n",
              "              \n",
              "                       [[-1.3868e-02, -8.9632e-02,  2.3980e-02],\n",
              "                        [ 1.5818e-03,  6.3966e-02,  6.8063e-03],\n",
              "                        [ 8.4277e-03,  2.8715e-02,  8.0210e-02]],\n",
              "              \n",
              "                       [[-4.9812e-02,  6.2930e-02,  2.5779e-02],\n",
              "                        [-7.0320e-02,  3.6702e-02, -6.3217e-02],\n",
              "                        [-3.3181e-02, -5.0245e-02, -7.1711e-02]],\n",
              "              \n",
              "                       [[ 8.3017e-02, -9.4217e-02,  5.2706e-02],\n",
              "                        [-9.4870e-02, -1.2829e-02,  6.2868e-03],\n",
              "                        [ 7.4937e-02, -3.8147e-02,  3.0340e-02]],\n",
              "              \n",
              "                       [[ 1.6329e-02,  6.2021e-02,  6.2667e-03],\n",
              "                        [ 3.9470e-02, -6.3677e-02, -7.3250e-02],\n",
              "                        [ 9.3928e-02, -7.6808e-02, -1.7945e-02]],\n",
              "              \n",
              "                       [[-1.2742e-02,  1.0308e-01, -2.2780e-02],\n",
              "                        [-8.0249e-02, -2.6721e-02,  5.4372e-02],\n",
              "                        [ 4.1773e-02,  8.7204e-02, -2.1579e-02]],\n",
              "              \n",
              "                       [[ 4.9653e-02, -9.9194e-02,  4.0787e-02],\n",
              "                        [ 4.8432e-02,  6.7998e-02, -6.0446e-02],\n",
              "                        [-2.8142e-02,  2.5502e-02, -7.4905e-02]],\n",
              "              \n",
              "                       [[-8.3851e-02, -1.0141e-01,  5.8842e-03],\n",
              "                        [ 6.5458e-02,  2.7075e-02,  6.4263e-03],\n",
              "                        [ 3.6727e-02, -6.6240e-02,  1.1113e-02]],\n",
              "              \n",
              "                       [[-2.6186e-02, -5.2193e-02,  9.0902e-02],\n",
              "                        [-8.1550e-02,  1.5448e-02, -9.2624e-02],\n",
              "                        [-3.5762e-03, -4.6840e-02,  3.4695e-02]],\n",
              "              \n",
              "                       [[-5.9191e-02,  6.7466e-02, -8.5536e-02],\n",
              "                        [ 6.3313e-02, -7.9181e-02,  5.6456e-02],\n",
              "                        [-4.4384e-02, -2.4556e-04, -1.9238e-02]]],\n",
              "              \n",
              "              \n",
              "                      [[[ 6.8414e-02,  3.4546e-02, -9.2887e-02],\n",
              "                        [ 9.6914e-03, -7.2718e-02,  7.8800e-02],\n",
              "                        [ 1.7319e-02, -2.7109e-02, -5.3777e-02]],\n",
              "              \n",
              "                       [[ 3.6485e-02, -6.3129e-02,  4.9992e-02],\n",
              "                        [ 5.7519e-02,  6.4701e-02,  2.7537e-02],\n",
              "                        [-9.2272e-02,  7.5823e-02, -3.2700e-02]],\n",
              "              \n",
              "                       [[-3.1163e-02, -1.1325e-02,  7.7068e-02],\n",
              "                        [ 8.1052e-02,  1.6276e-02,  5.0296e-02],\n",
              "                        [-9.8241e-02,  2.4900e-04, -9.3254e-02]],\n",
              "              \n",
              "                       [[ 3.5876e-02, -7.5099e-02, -3.7568e-02],\n",
              "                        [ 7.3684e-02,  1.0074e-01, -6.3286e-02],\n",
              "                        [-5.8503e-02,  1.3055e-02,  4.1437e-02]],\n",
              "              \n",
              "                       [[-1.7168e-02, -3.2918e-02, -6.9237e-02],\n",
              "                        [ 4.4997e-02,  1.0328e-01, -5.1026e-02],\n",
              "                        [ 4.9718e-02,  5.1481e-02,  8.4728e-02]],\n",
              "              \n",
              "                       [[-1.2001e-02,  3.3202e-03,  7.7444e-02],\n",
              "                        [ 6.6631e-02,  1.0411e-01, -3.0207e-02],\n",
              "                        [ 4.1709e-02,  7.3605e-02, -7.1553e-02]],\n",
              "              \n",
              "                       [[ 2.0940e-02, -2.3586e-02,  6.7760e-02],\n",
              "                        [-4.7342e-02,  7.3933e-03,  6.3067e-02],\n",
              "                        [-9.6567e-02, -8.9004e-02, -5.3989e-02]],\n",
              "              \n",
              "                       [[ 6.7611e-02,  7.0680e-02, -7.1991e-02],\n",
              "                        [ 2.0100e-02, -5.5854e-02, -4.8926e-02],\n",
              "                        [ 9.0907e-02,  5.0914e-02, -2.8828e-02]],\n",
              "              \n",
              "                       [[ 1.5516e-02,  2.0424e-02,  2.4691e-02],\n",
              "                        [-3.6079e-02, -6.2074e-02,  6.9788e-02],\n",
              "                        [ 1.4164e-02,  4.4119e-02, -3.9922e-02]],\n",
              "              \n",
              "                       [[ 5.1057e-02,  7.6713e-02,  6.4107e-02],\n",
              "                        [ 2.8660e-02,  1.0371e-01, -2.3053e-04],\n",
              "                        [ 2.2441e-02,  1.0015e-01,  1.0245e-01]]],\n",
              "              \n",
              "              \n",
              "                      [[[-4.4506e-02,  9.4953e-02,  3.8902e-02],\n",
              "                        [-1.1799e-02,  9.2038e-02, -5.4605e-02],\n",
              "                        [ 6.8490e-02,  1.0445e-01, -7.2701e-02]],\n",
              "              \n",
              "                       [[-6.2201e-02, -1.0445e-01, -1.8970e-02],\n",
              "                        [-9.5733e-02, -3.5304e-02,  3.2002e-02],\n",
              "                        [ 7.4511e-02,  5.8717e-02,  5.8511e-02]],\n",
              "              \n",
              "                       [[ 4.3730e-02, -6.5378e-02, -8.3694e-02],\n",
              "                        [ 4.3696e-03,  1.0009e-01,  5.9351e-03],\n",
              "                        [-9.0662e-03, -7.1545e-02, -5.2266e-02]],\n",
              "              \n",
              "                       [[-8.1256e-02,  8.4398e-02, -1.7174e-02],\n",
              "                        [-9.3119e-02,  1.1308e-02,  7.6494e-03],\n",
              "                        [-1.3023e-02,  3.7733e-02,  5.6687e-02]],\n",
              "              \n",
              "                       [[-9.9128e-02, -8.0753e-02, -5.0639e-03],\n",
              "                        [-9.7729e-02, -9.5750e-02,  9.3067e-02],\n",
              "                        [-8.0174e-03, -5.2113e-02, -3.6157e-02]],\n",
              "              \n",
              "                       [[-8.2295e-02,  8.2258e-02, -2.2857e-02],\n",
              "                        [-5.9265e-02, -7.9944e-02,  6.1611e-02],\n",
              "                        [-1.4571e-02, -1.1074e-02, -2.7473e-02]],\n",
              "              \n",
              "                       [[-5.0883e-02,  1.8751e-02,  8.1099e-02],\n",
              "                        [-6.1093e-02,  5.0504e-03, -8.0165e-02],\n",
              "                        [-4.9426e-02,  9.2525e-02,  1.1052e-03]],\n",
              "              \n",
              "                       [[ 1.0154e-01, -1.8468e-02, -5.7453e-02],\n",
              "                        [-6.2981e-02,  9.3426e-02, -8.1058e-02],\n",
              "                        [ 5.5318e-02,  2.6203e-02,  3.1107e-02]],\n",
              "              \n",
              "                       [[ 5.9476e-02, -2.7577e-02,  6.5223e-02],\n",
              "                        [-8.3982e-02, -3.7087e-02,  7.7164e-02],\n",
              "                        [ 3.1283e-02, -1.4038e-02, -2.4616e-02]],\n",
              "              \n",
              "                       [[-6.4364e-02,  6.4098e-02, -3.3520e-03],\n",
              "                        [-3.5664e-03,  2.4929e-02,  7.7787e-02],\n",
              "                        [-5.3778e-02, -3.6303e-02,  7.1429e-02]]],\n",
              "              \n",
              "              \n",
              "                      [[[ 5.9532e-02, -5.1855e-02, -1.0428e-01],\n",
              "                        [ 1.9555e-02,  5.5434e-02,  2.5178e-02],\n",
              "                        [ 7.4768e-02, -8.3640e-02,  5.3156e-02]],\n",
              "              \n",
              "                       [[-6.5531e-02,  5.9325e-02,  7.8394e-02],\n",
              "                        [ 3.3385e-02,  8.5284e-02, -6.9481e-02],\n",
              "                        [-9.4275e-02, -1.0135e-01,  6.6179e-02]],\n",
              "              \n",
              "                       [[ 3.6926e-02, -7.7188e-02,  5.1048e-02],\n",
              "                        [ 9.6177e-02, -1.0394e-01,  7.6466e-02],\n",
              "                        [ 1.6167e-02,  9.8053e-03,  9.4847e-02]],\n",
              "              \n",
              "                       [[ 9.5458e-02,  4.4414e-02,  8.3288e-02],\n",
              "                        [ 4.3853e-02,  1.7176e-02, -9.2656e-02],\n",
              "                        [ 1.9689e-02, -7.4993e-02,  3.2452e-02]],\n",
              "              \n",
              "                       [[ 1.8598e-02,  2.3681e-03, -7.2071e-02],\n",
              "                        [-6.3899e-02,  7.7912e-02,  5.1336e-02],\n",
              "                        [ 5.5576e-02, -3.1410e-02, -1.8151e-02]],\n",
              "              \n",
              "                       [[-2.7014e-02,  7.2489e-02, -4.5504e-02],\n",
              "                        [ 6.6394e-02,  7.2679e-02, -9.6403e-02],\n",
              "                        [ 6.4369e-04, -2.0076e-02, -5.8273e-02]],\n",
              "              \n",
              "                       [[ 4.5507e-02, -1.2807e-02,  9.2287e-02],\n",
              "                        [-6.5976e-02,  4.8976e-02, -8.9998e-02],\n",
              "                        [-5.2833e-02,  7.1903e-03,  8.3283e-02]],\n",
              "              \n",
              "                       [[ 5.5521e-02, -8.6550e-02,  1.1676e-02],\n",
              "                        [-6.2138e-02,  4.5674e-03, -8.7814e-02],\n",
              "                        [-3.0924e-02,  7.2297e-02, -9.6717e-02]],\n",
              "              \n",
              "                       [[-1.0050e-01,  1.9200e-02,  1.4450e-02],\n",
              "                        [-1.9278e-02,  9.2045e-02, -6.3466e-02],\n",
              "                        [-6.3992e-02, -7.8791e-02, -1.9619e-02]],\n",
              "              \n",
              "                       [[-2.6901e-02,  6.5222e-02, -5.9186e-03],\n",
              "                        [ 3.3663e-02, -4.3804e-02,  8.5507e-02],\n",
              "                        [ 8.8862e-02, -9.4401e-02, -2.7090e-02]]]], device='cuda:0')),\n",
              "             ('conv_block_2.0.bias',\n",
              "              tensor([-0.0894,  0.0448, -0.0921, -0.0498,  0.1053, -0.1007,  0.0778,  0.0089,\n",
              "                       0.0843, -0.0535], device='cuda:0')),\n",
              "             ('conv_block_2.2.weight',\n",
              "              tensor([[[[ 6.9236e-02,  1.2718e-02,  8.1073e-03],\n",
              "                        [ 7.1945e-02, -1.0019e-01, -8.4902e-02],\n",
              "                        [ 1.0180e-01, -6.3298e-02, -7.5980e-02]],\n",
              "              \n",
              "                       [[-5.1539e-03, -3.3742e-02, -1.4421e-02],\n",
              "                        [-7.0623e-02,  3.8034e-02, -9.0703e-02],\n",
              "                        [ 8.5374e-03,  6.1510e-02,  2.0253e-02]],\n",
              "              \n",
              "                       [[ 1.4006e-02,  1.5418e-02, -3.0880e-02],\n",
              "                        [-2.0080e-02, -4.4450e-02, -7.1207e-02],\n",
              "                        [-5.5810e-02,  1.0420e-01, -1.7641e-02]],\n",
              "              \n",
              "                       [[ 3.6924e-02,  7.2896e-02, -8.2343e-03],\n",
              "                        [-5.6707e-02, -7.1419e-02, -3.8833e-02],\n",
              "                        [ 3.7624e-02, -8.8771e-02, -1.2870e-02]],\n",
              "              \n",
              "                       [[ 4.0096e-02,  8.5999e-02,  3.1721e-02],\n",
              "                        [ 2.0846e-02,  7.2162e-02,  4.8708e-02],\n",
              "                        [ 3.5661e-02, -3.2682e-02, -8.4528e-02]],\n",
              "              \n",
              "                       [[-2.2769e-02, -1.9117e-02,  7.7410e-03],\n",
              "                        [-1.1593e-02,  4.2616e-02,  7.0050e-02],\n",
              "                        [-4.2735e-02, -1.0002e-01, -5.4081e-02]],\n",
              "              \n",
              "                       [[-5.0436e-02,  5.9750e-02, -6.7994e-02],\n",
              "                        [-9.9145e-03, -2.2340e-02, -6.3976e-02],\n",
              "                        [ 4.7780e-02, -4.3909e-02, -5.4531e-03]],\n",
              "              \n",
              "                       [[-7.4112e-02, -1.0632e-02,  1.4977e-02],\n",
              "                        [-4.2894e-03, -3.9386e-02,  3.1315e-02],\n",
              "                        [-2.7311e-02, -5.8439e-02, -7.7732e-02]],\n",
              "              \n",
              "                       [[-2.2329e-02, -9.9578e-02,  8.7492e-02],\n",
              "                        [-5.0357e-02, -4.3684e-02,  9.7439e-03],\n",
              "                        [ 2.7326e-02, -9.9393e-03,  7.2313e-02]],\n",
              "              \n",
              "                       [[-6.1448e-02,  3.7777e-02, -2.3773e-04],\n",
              "                        [-8.5747e-02, -4.0824e-02,  2.6825e-02],\n",
              "                        [ 2.0138e-02,  7.6647e-02,  7.0518e-02]]],\n",
              "              \n",
              "              \n",
              "                      [[[-5.7493e-02, -4.5013e-02, -2.2351e-02],\n",
              "                        [-7.5517e-02, -2.8459e-02, -8.6258e-02],\n",
              "                        [ 4.0092e-02,  7.4583e-02,  8.3459e-03]],\n",
              "              \n",
              "                       [[-7.5460e-02, -7.9827e-02, -4.1036e-02],\n",
              "                        [ 3.0659e-02,  2.5711e-03,  1.9166e-02],\n",
              "                        [ 9.9346e-02,  4.8956e-02,  2.2665e-02]],\n",
              "              \n",
              "                       [[-2.1327e-02,  4.9864e-02,  3.8563e-02],\n",
              "                        [-9.4879e-02, -6.2266e-02,  3.5381e-03],\n",
              "                        [ 3.9997e-02,  5.1282e-02, -6.2748e-02]],\n",
              "              \n",
              "                       [[-1.0458e-01, -5.4909e-03, -1.2050e-02],\n",
              "                        [ 3.0588e-02, -2.8988e-02,  8.0588e-02],\n",
              "                        [ 7.0333e-03,  7.6975e-02, -7.3398e-02]],\n",
              "              \n",
              "                       [[ 4.2167e-02,  1.2560e-02, -5.2720e-02],\n",
              "                        [ 5.2256e-02, -1.0372e-01,  8.5220e-02],\n",
              "                        [ 8.4947e-03,  1.0178e-02,  4.8746e-02]],\n",
              "              \n",
              "                       [[ 8.7503e-03,  4.5184e-02,  6.7063e-02],\n",
              "                        [-8.2268e-02,  6.9735e-02, -1.5784e-02],\n",
              "                        [-2.4513e-02,  2.1217e-02,  8.2446e-02]],\n",
              "              \n",
              "                       [[-5.7302e-02, -7.1039e-02,  6.5418e-02],\n",
              "                        [-4.9507e-02,  3.3937e-02, -1.5530e-02],\n",
              "                        [ 2.9014e-02,  8.0439e-02, -5.3421e-02]],\n",
              "              \n",
              "                       [[-5.1151e-02,  5.1716e-02,  5.7714e-03],\n",
              "                        [-1.1601e-02, -9.2590e-02,  8.9309e-02],\n",
              "                        [-3.9919e-03, -1.9415e-02, -4.3269e-02]],\n",
              "              \n",
              "                       [[-2.0801e-02,  5.1233e-02, -2.4227e-03],\n",
              "                        [ 9.0147e-02, -6.0858e-03, -1.5122e-02],\n",
              "                        [ 5.9498e-02, -2.7275e-03, -2.1039e-02]],\n",
              "              \n",
              "                       [[ 3.5231e-02,  8.3129e-02,  2.6305e-02],\n",
              "                        [ 7.3398e-02,  6.8309e-02,  2.9810e-02],\n",
              "                        [ 3.6650e-02,  3.4014e-02,  1.0934e-02]]],\n",
              "              \n",
              "              \n",
              "                      [[[ 8.9675e-02,  9.7308e-02,  3.7524e-02],\n",
              "                        [-5.2640e-03,  9.4509e-02, -8.2042e-02],\n",
              "                        [ 7.7453e-02,  5.5849e-02,  6.7687e-02]],\n",
              "              \n",
              "                       [[-8.0992e-03, -7.8646e-02,  7.5193e-02],\n",
              "                        [-4.6091e-02,  2.7734e-02,  5.9719e-02],\n",
              "                        [-9.8508e-02,  6.9954e-03, -3.7444e-02]],\n",
              "              \n",
              "                       [[ 7.4815e-02, -6.7114e-02,  6.4001e-02],\n",
              "                        [ 6.5730e-02,  5.8156e-02,  1.0119e-01],\n",
              "                        [ 1.5964e-02, -9.5541e-02,  7.5248e-02]],\n",
              "              \n",
              "                       [[ 9.6499e-03,  2.0918e-03, -1.0041e-01],\n",
              "                        [-2.3691e-02, -5.1162e-02,  1.0324e-01],\n",
              "                        [ 7.5054e-02,  7.8634e-02,  7.2188e-02]],\n",
              "              \n",
              "                       [[-6.5340e-02, -4.5270e-02, -4.1252e-02],\n",
              "                        [-4.2257e-02,  8.2054e-02,  3.5815e-02],\n",
              "                        [ 8.4470e-02, -4.9309e-03, -9.3965e-02]],\n",
              "              \n",
              "                       [[-3.0582e-02,  7.4081e-02,  6.4174e-02],\n",
              "                        [ 3.2632e-02, -3.0919e-02, -9.8386e-02],\n",
              "                        [-5.6639e-02,  5.4958e-02, -4.2518e-02]],\n",
              "              \n",
              "                       [[ 5.0421e-02,  2.8781e-02, -4.0486e-02],\n",
              "                        [ 6.4202e-02, -3.3871e-02, -3.5020e-03],\n",
              "                        [-4.0152e-02, -9.9988e-02,  1.6996e-02]],\n",
              "              \n",
              "                       [[ 3.0460e-02, -5.3072e-02,  6.4663e-02],\n",
              "                        [-9.4558e-02, -1.0161e-01, -6.5106e-02],\n",
              "                        [-3.6430e-02, -1.1707e-02, -2.0370e-02]],\n",
              "              \n",
              "                       [[ 4.8108e-02, -9.2510e-02,  1.5521e-02],\n",
              "                        [ 1.8254e-03,  2.7842e-02,  1.0479e-01],\n",
              "                        [ 6.4874e-02, -5.8366e-02, -8.6378e-02]],\n",
              "              \n",
              "                       [[-2.5520e-02, -5.2876e-02,  3.6820e-02],\n",
              "                        [ 9.6628e-04,  8.4783e-02,  4.1405e-02],\n",
              "                        [-1.9382e-02,  3.6229e-03,  2.5244e-02]]],\n",
              "              \n",
              "              \n",
              "                      [[[-1.3080e-02,  8.5058e-02, -8.2420e-02],\n",
              "                        [ 5.1377e-02, -6.7192e-02, -9.2347e-02],\n",
              "                        [-2.1640e-02,  5.1366e-02,  7.4478e-02]],\n",
              "              \n",
              "                       [[ 2.6452e-02, -9.1104e-03, -5.9092e-03],\n",
              "                        [-4.2731e-02, -9.4592e-03, -7.2831e-03],\n",
              "                        [ 8.9699e-02,  6.1690e-02, -8.4351e-02]],\n",
              "              \n",
              "                       [[ 4.3604e-04, -6.4834e-02, -1.6733e-02],\n",
              "                        [-8.3776e-02,  2.7402e-02, -7.6008e-02],\n",
              "                        [ 1.0406e-01,  7.9605e-02, -7.2559e-02]],\n",
              "              \n",
              "                       [[-9.9239e-02,  4.1128e-03, -2.9425e-02],\n",
              "                        [ 3.0945e-02, -7.1353e-02,  4.3148e-02],\n",
              "                        [-9.1047e-02, -5.5632e-02, -5.5414e-02]],\n",
              "              \n",
              "                       [[ 5.1007e-02, -2.7597e-03, -1.0130e-01],\n",
              "                        [-6.0201e-02, -4.8781e-02, -9.7802e-02],\n",
              "                        [ 1.3497e-02,  3.7561e-02, -1.9340e-02]],\n",
              "              \n",
              "                       [[-4.1947e-02, -6.3926e-04, -8.3725e-02],\n",
              "                        [-6.4184e-02, -2.4040e-03,  9.3643e-02],\n",
              "                        [-3.2414e-02,  5.2247e-02, -4.1484e-02]],\n",
              "              \n",
              "                       [[-2.8060e-02, -1.0034e-01,  8.7330e-02],\n",
              "                        [ 1.0264e-01, -2.2139e-03,  6.6974e-02],\n",
              "                        [ 8.6219e-02,  5.2359e-02,  5.4288e-02]],\n",
              "              \n",
              "                       [[-1.0035e-01, -9.9050e-02, -8.0906e-02],\n",
              "                        [ 3.2970e-02, -9.1177e-02, -8.0464e-02],\n",
              "                        [-5.1092e-02, -9.7154e-02,  1.4203e-04]],\n",
              "              \n",
              "                       [[ 1.5207e-02, -6.1686e-02,  6.9018e-02],\n",
              "                        [-4.0018e-02, -2.9676e-02,  8.0309e-02],\n",
              "                        [ 9.0499e-02, -1.2093e-02, -7.5671e-02]],\n",
              "              \n",
              "                       [[-5.2881e-02,  1.3423e-02,  6.1790e-02],\n",
              "                        [ 5.2477e-02, -4.6547e-02, -9.9650e-02],\n",
              "                        [-9.2249e-02, -3.3537e-02,  1.3223e-03]]],\n",
              "              \n",
              "              \n",
              "                      [[[-4.7347e-02, -8.3348e-02,  1.1109e-02],\n",
              "                        [-8.3668e-02, -8.0946e-02, -8.5692e-02],\n",
              "                        [-2.8563e-02,  9.3104e-02,  4.1207e-02]],\n",
              "              \n",
              "                       [[-1.2498e-02,  2.1694e-02,  4.1975e-02],\n",
              "                        [ 6.1414e-04, -8.5020e-02, -6.4944e-02],\n",
              "                        [-7.1610e-02, -2.6766e-03, -9.6492e-02]],\n",
              "              \n",
              "                       [[-1.9166e-02, -3.8545e-02,  1.0345e-01],\n",
              "                        [ 8.5679e-02,  6.1227e-02,  5.9116e-03],\n",
              "                        [-3.4129e-02,  2.6887e-02, -7.2830e-02]],\n",
              "              \n",
              "                       [[-4.4957e-02, -2.1175e-02, -2.4766e-02],\n",
              "                        [-9.9854e-02,  4.1903e-02,  8.6803e-02],\n",
              "                        [-5.8141e-02,  2.8415e-02, -1.2225e-02]],\n",
              "              \n",
              "                       [[-3.8445e-03,  6.1443e-03,  9.1346e-02],\n",
              "                        [ 1.4124e-02, -6.6690e-02, -3.7917e-02],\n",
              "                        [ 5.1495e-02,  3.2893e-02,  2.0487e-03]],\n",
              "              \n",
              "                       [[-1.3912e-02, -4.1012e-02, -3.7413e-02],\n",
              "                        [-5.5602e-02,  1.7273e-02,  2.9603e-02],\n",
              "                        [ 8.0717e-02, -2.3813e-02,  7.5461e-03]],\n",
              "              \n",
              "                       [[ 6.8125e-02,  4.5852e-02,  1.3544e-02],\n",
              "                        [ 3.2390e-02,  5.4714e-03, -9.0419e-02],\n",
              "                        [ 4.0636e-03, -2.3040e-02,  9.5123e-02]],\n",
              "              \n",
              "                       [[ 9.5145e-02,  2.0912e-02,  9.4215e-02],\n",
              "                        [-5.4288e-02,  9.1619e-02,  9.0756e-02],\n",
              "                        [-4.0288e-03, -8.4592e-02, -3.4015e-02]],\n",
              "              \n",
              "                       [[-2.8189e-02,  1.7411e-03, -9.5569e-02],\n",
              "                        [ 1.9535e-02, -4.3839e-02, -2.6989e-02],\n",
              "                        [-5.4443e-02, -2.2255e-02, -9.7896e-02]],\n",
              "              \n",
              "                       [[-5.5885e-02,  9.7108e-03,  6.9072e-02],\n",
              "                        [ 9.5790e-02, -7.9737e-02,  4.4264e-02],\n",
              "                        [-5.9419e-02, -8.1498e-02, -4.6417e-03]]],\n",
              "              \n",
              "              \n",
              "                      [[[-6.0468e-02, -9.0783e-02, -9.8509e-02],\n",
              "                        [-7.0556e-02,  8.6619e-02,  5.8788e-02],\n",
              "                        [-4.1726e-02, -7.0553e-02, -8.1085e-02]],\n",
              "              \n",
              "                       [[-6.2246e-02, -4.3376e-02,  6.3308e-02],\n",
              "                        [ 3.4496e-02, -4.0622e-02,  7.2567e-02],\n",
              "                        [-6.5484e-02, -8.5876e-02,  2.3006e-02]],\n",
              "              \n",
              "                       [[-5.8123e-02,  2.9987e-02,  8.9306e-02],\n",
              "                        [-4.9849e-02, -7.3556e-02,  3.9676e-02],\n",
              "                        [-9.5200e-02,  9.4044e-02, -4.9780e-02]],\n",
              "              \n",
              "                       [[ 5.0961e-02, -8.3818e-02, -7.1348e-02],\n",
              "                        [ 1.1611e-02,  3.7463e-02,  8.1734e-02],\n",
              "                        [ 8.8158e-02, -6.0623e-03, -1.3552e-02]],\n",
              "              \n",
              "                       [[ 1.7424e-02, -2.4486e-02,  3.5882e-03],\n",
              "                        [-9.9828e-02, -8.6531e-02,  7.2233e-02],\n",
              "                        [-6.1597e-02,  8.3008e-02,  1.1568e-02]],\n",
              "              \n",
              "                       [[ 2.5676e-02,  9.5804e-02, -5.8628e-02],\n",
              "                        [-1.6640e-02,  1.8675e-02,  3.6012e-02],\n",
              "                        [-1.0259e-01,  3.7464e-02, -6.2163e-02]],\n",
              "              \n",
              "                       [[ 1.3846e-02,  7.1315e-02, -1.0500e-02],\n",
              "                        [-3.3346e-03, -7.8757e-03,  8.7962e-02],\n",
              "                        [ 5.9907e-02,  1.7727e-02, -6.3437e-02]],\n",
              "              \n",
              "                       [[-5.7241e-02,  8.3964e-02,  7.5834e-02],\n",
              "                        [ 6.1033e-02, -8.2189e-02,  8.2092e-02],\n",
              "                        [-1.0076e-02,  7.7661e-02,  9.1553e-02]],\n",
              "              \n",
              "                       [[ 1.1554e-02, -4.3863e-02,  9.9153e-02],\n",
              "                        [-5.4931e-02,  6.8876e-02, -1.0108e-01],\n",
              "                        [-3.3153e-02, -9.1902e-02, -4.7284e-02]],\n",
              "              \n",
              "                       [[ 4.4759e-02, -7.5529e-02, -9.1158e-02],\n",
              "                        [ 7.5371e-02,  5.6270e-02, -1.1527e-03],\n",
              "                        [-7.4309e-02, -2.7927e-02, -3.4129e-02]]],\n",
              "              \n",
              "              \n",
              "                      [[[ 6.5100e-02, -3.4478e-02, -3.0360e-02],\n",
              "                        [-7.4720e-02, -4.9646e-02,  5.7074e-02],\n",
              "                        [ 6.7914e-02,  1.5315e-02, -3.9549e-02]],\n",
              "              \n",
              "                       [[ 1.0124e-01,  2.0806e-02, -4.0688e-02],\n",
              "                        [-3.6535e-02, -1.4752e-02,  4.9974e-02],\n",
              "                        [ 3.8555e-02,  7.6418e-02, -4.7494e-03]],\n",
              "              \n",
              "                       [[ 8.7183e-02, -4.2816e-02, -4.8547e-02],\n",
              "                        [-3.8927e-02, -9.8896e-02, -6.9195e-02],\n",
              "                        [-9.5382e-02, -6.2294e-03,  9.9374e-04]],\n",
              "              \n",
              "                       [[-2.7358e-02, -7.2035e-02,  9.5637e-02],\n",
              "                        [-3.4926e-02,  5.0233e-02,  7.3408e-02],\n",
              "                        [-6.9291e-02, -1.3179e-02,  6.0923e-02]],\n",
              "              \n",
              "                       [[ 1.0218e-01, -1.3299e-02,  7.6382e-02],\n",
              "                        [-8.2732e-02, -6.8489e-02,  8.6682e-02],\n",
              "                        [-9.9801e-03,  1.0414e-01,  7.6651e-03]],\n",
              "              \n",
              "                       [[-4.3714e-02,  1.0011e-01,  9.2179e-02],\n",
              "                        [ 9.7826e-03, -6.3900e-02, -4.5639e-03],\n",
              "                        [-5.0693e-02,  7.6810e-02,  4.8829e-03]],\n",
              "              \n",
              "                       [[ 2.2191e-02,  6.3927e-02,  3.4916e-02],\n",
              "                        [-6.5803e-02,  8.7566e-02,  6.4758e-02],\n",
              "                        [-6.5073e-02,  7.9700e-02,  2.9905e-02]],\n",
              "              \n",
              "                       [[-2.0750e-02, -7.5385e-02, -1.7490e-02],\n",
              "                        [-1.0335e-01,  6.0163e-02,  7.6343e-02],\n",
              "                        [-3.0347e-02,  9.7720e-02, -3.9032e-02]],\n",
              "              \n",
              "                       [[ 1.8051e-02, -7.3459e-02, -4.4565e-03],\n",
              "                        [ 4.2610e-02,  4.5403e-02, -3.5346e-03],\n",
              "                        [-5.3154e-02,  7.3680e-02,  6.9788e-02]],\n",
              "              \n",
              "                       [[ 1.6916e-02, -4.8475e-02,  2.2349e-02],\n",
              "                        [ 2.8186e-04,  9.6302e-02,  1.5621e-02],\n",
              "                        [ 8.1301e-03,  7.2057e-03,  5.6079e-02]]],\n",
              "              \n",
              "              \n",
              "                      [[[-1.3024e-03,  9.0351e-02,  5.4917e-02],\n",
              "                        [-7.9650e-02, -1.2063e-06, -8.9472e-02],\n",
              "                        [-8.0934e-02,  2.0480e-02,  2.3687e-02]],\n",
              "              \n",
              "                       [[-9.2246e-03,  1.0019e-01, -5.6627e-02],\n",
              "                        [-4.4176e-02, -1.6881e-02,  6.3911e-04],\n",
              "                        [-8.9284e-03,  9.4909e-02, -4.4519e-02]],\n",
              "              \n",
              "                       [[-5.5137e-02,  9.0599e-03,  7.9171e-02],\n",
              "                        [ 2.5019e-02,  5.6787e-02,  2.0406e-02],\n",
              "                        [ 8.9839e-02,  6.3311e-02,  7.5428e-02]],\n",
              "              \n",
              "                       [[-1.4198e-02, -8.7268e-02, -5.0002e-02],\n",
              "                        [ 3.5910e-02,  7.3950e-02, -4.1184e-02],\n",
              "                        [ 8.7218e-02,  1.5150e-02,  4.1869e-04]],\n",
              "              \n",
              "                       [[ 4.1093e-03, -1.8623e-02,  9.8683e-02],\n",
              "                        [ 4.5784e-03,  6.4564e-02, -8.8967e-02],\n",
              "                        [-5.4309e-02,  1.1852e-02,  8.4169e-02]],\n",
              "              \n",
              "                       [[ 5.0184e-02,  2.0076e-02, -1.0414e-01],\n",
              "                        [ 1.9816e-03, -6.9581e-02, -9.0006e-02],\n",
              "                        [ 1.4414e-02, -6.6693e-02,  9.5674e-02]],\n",
              "              \n",
              "                       [[-5.7294e-02,  3.3970e-02,  6.1871e-02],\n",
              "                        [-8.1928e-02,  5.3946e-02, -1.4114e-02],\n",
              "                        [ 5.4619e-02,  1.0201e-01, -4.4922e-02]],\n",
              "              \n",
              "                       [[-4.5653e-02,  8.3753e-02,  1.1722e-02],\n",
              "                        [-1.0513e-02,  7.9971e-02, -5.0928e-02],\n",
              "                        [-5.2047e-03,  7.2403e-02,  4.1195e-02]],\n",
              "              \n",
              "                       [[-6.8180e-02,  2.7398e-02, -8.0368e-02],\n",
              "                        [-5.7245e-02,  6.7779e-02, -2.8093e-02],\n",
              "                        [-5.3691e-02,  7.4717e-03,  2.5759e-02]],\n",
              "              \n",
              "                       [[-6.5524e-02, -7.1084e-02, -1.0209e-01],\n",
              "                        [ 2.7236e-02, -6.8013e-02,  8.0331e-03],\n",
              "                        [-2.3576e-02, -6.8923e-02, -3.3636e-02]]],\n",
              "              \n",
              "              \n",
              "                      [[[-8.1027e-02, -5.5797e-02, -3.2857e-03],\n",
              "                        [-9.0116e-02, -9.2447e-02,  7.8958e-02],\n",
              "                        [ 9.9188e-03, -4.6618e-02, -3.5047e-03]],\n",
              "              \n",
              "                       [[ 7.8168e-02, -8.7939e-02, -5.5886e-02],\n",
              "                        [-7.6226e-02, -7.6634e-03, -3.6274e-03],\n",
              "                        [-8.2146e-02,  7.3163e-02, -8.0946e-02]],\n",
              "              \n",
              "                       [[ 9.8414e-02, -7.2560e-02, -1.4446e-02],\n",
              "                        [ 1.9710e-02, -4.6852e-02,  9.6939e-02],\n",
              "                        [-7.2673e-02, -5.8427e-03, -7.7398e-02]],\n",
              "              \n",
              "                       [[ 2.9261e-02,  8.9871e-02,  9.7776e-02],\n",
              "                        [ 1.2514e-02, -5.2773e-02,  1.0244e-01],\n",
              "                        [ 7.8667e-03,  7.1317e-02, -5.4751e-02]],\n",
              "              \n",
              "                       [[-4.8920e-02, -8.7504e-02,  9.6990e-02],\n",
              "                        [ 1.7486e-02, -7.5704e-02,  9.0535e-03],\n",
              "                        [-4.5211e-02,  5.2659e-03,  3.4988e-02]],\n",
              "              \n",
              "                       [[-5.2308e-02,  1.8394e-02, -6.6553e-02],\n",
              "                        [ 2.0312e-02, -1.0178e-01,  1.6797e-02],\n",
              "                        [ 1.0473e-01,  9.7094e-02,  3.8451e-02]],\n",
              "              \n",
              "                       [[ 7.7563e-02,  1.0248e-01,  2.9870e-02],\n",
              "                        [ 3.5156e-02,  1.3707e-02,  9.3322e-02],\n",
              "                        [ 9.0551e-02, -4.9570e-02, -4.3333e-03]],\n",
              "              \n",
              "                       [[-5.3110e-02,  3.7824e-02, -1.0214e-01],\n",
              "                        [ 3.7301e-02, -2.8929e-02,  3.8227e-02],\n",
              "                        [ 3.2899e-02, -5.2454e-02,  5.4687e-02]],\n",
              "              \n",
              "                       [[ 4.4762e-02, -8.9602e-02,  1.0517e-01],\n",
              "                        [ 9.0731e-02,  6.5584e-02, -1.0699e-02],\n",
              "                        [ 3.7345e-02, -5.7028e-02, -3.5818e-02]],\n",
              "              \n",
              "                       [[ 4.9749e-02,  4.6925e-02,  4.1741e-02],\n",
              "                        [-1.0053e-01,  8.7350e-02, -4.4028e-02],\n",
              "                        [ 9.1223e-02,  8.6852e-02,  3.9070e-02]]],\n",
              "              \n",
              "              \n",
              "                      [[[ 1.0502e-01,  6.0528e-02,  6.1821e-02],\n",
              "                        [-3.5794e-02,  9.7766e-02,  2.7627e-02],\n",
              "                        [ 6.2280e-02, -2.3834e-02,  7.6340e-02]],\n",
              "              \n",
              "                       [[ 9.3509e-02, -8.0770e-02,  8.6415e-02],\n",
              "                        [-6.9664e-02, -7.2571e-02, -8.8089e-02],\n",
              "                        [ 3.0459e-02, -7.9144e-02, -3.9680e-02]],\n",
              "              \n",
              "                       [[-5.2988e-02,  2.8172e-02, -1.0349e-01],\n",
              "                        [-4.8324e-02,  7.7112e-04,  9.4660e-03],\n",
              "                        [-4.7605e-02,  3.7764e-02, -6.9544e-02]],\n",
              "              \n",
              "                       [[-8.9270e-02, -1.4986e-02, -5.6989e-02],\n",
              "                        [ 6.6443e-02, -7.2049e-02, -8.8494e-03],\n",
              "                        [ 4.3782e-02, -9.2311e-02,  8.1599e-02]],\n",
              "              \n",
              "                       [[-4.7895e-02, -2.8684e-02, -6.4480e-02],\n",
              "                        [-3.9279e-02, -4.0645e-02, -9.3801e-02],\n",
              "                        [ 3.6019e-02, -3.3768e-04,  1.0311e-01]],\n",
              "              \n",
              "                       [[ 7.1117e-02,  9.1699e-02,  3.1014e-02],\n",
              "                        [ 5.5388e-02,  9.8704e-02,  8.6545e-02],\n",
              "                        [-8.0996e-02, -2.3636e-02, -1.0166e-01]],\n",
              "              \n",
              "                       [[ 3.9877e-03, -3.7229e-02,  9.1486e-02],\n",
              "                        [ 1.6666e-02,  1.1601e-03, -7.6248e-02],\n",
              "                        [-8.2718e-02,  1.6594e-02, -5.2376e-02]],\n",
              "              \n",
              "                       [[-4.8409e-02,  7.3938e-02, -5.4952e-02],\n",
              "                        [-4.6918e-02,  8.0934e-02,  4.1183e-02],\n",
              "                        [-5.9894e-02,  3.1923e-02,  5.3141e-02]],\n",
              "              \n",
              "                       [[-9.3625e-02,  1.9691e-02,  2.4083e-02],\n",
              "                        [-4.1054e-03,  1.0107e-01, -6.9673e-02],\n",
              "                        [ 5.7144e-02, -5.5995e-02, -9.0242e-02]],\n",
              "              \n",
              "                       [[ 7.1838e-02, -5.0567e-02,  4.9544e-03],\n",
              "                        [ 5.5435e-02, -8.7981e-02, -9.0229e-02],\n",
              "                        [ 3.5888e-02,  9.1909e-02, -1.1154e-02]]]], device='cuda:0')),\n",
              "             ('conv_block_2.2.bias',\n",
              "              tensor([ 0.0742,  0.0370,  0.0301, -0.0672,  0.1003,  0.0483,  0.0163,  0.0746,\n",
              "                      -0.0906,  0.0227], device='cuda:0')),\n",
              "             ('classifier.1.weight',\n",
              "              tensor([[-0.0213, -0.0046,  0.0148,  ...,  0.0231, -0.0055,  0.0110],\n",
              "                      [ 0.0236, -0.0167, -0.0251,  ...,  0.0182,  0.0316,  0.0255],\n",
              "                      [ 0.0331,  0.0095,  0.0289,  ..., -0.0337,  0.0175, -0.0010],\n",
              "                      ...,\n",
              "                      [ 0.0195,  0.0264,  0.0107,  ..., -0.0179, -0.0387, -0.0048],\n",
              "                      [-0.0172, -0.0427,  0.0161,  ..., -0.0098, -0.0390, -0.0085],\n",
              "                      [ 0.0383,  0.0393, -0.0153,  ..., -0.0444, -0.0171, -0.0142]],\n",
              "                     device='cuda:0')),\n",
              "             ('classifier.1.bias',\n",
              "              tensor([-0.0397,  0.0161, -0.0354,  0.0261,  0.0092,  0.0006, -0.0241, -0.0154,\n",
              "                       0.0110,  0.0434], device='cuda:0'))])"
            ]
          },
          "metadata": {},
          "execution_count": 122
        }
      ]
    },
    {
      "cell_type": "markdown",
      "source": [
        "### 7.4 Training and Testing our CNN Model\n"
      ],
      "metadata": {
        "id": "Fwohb2Xykhad"
      }
    },
    {
      "cell_type": "code",
      "source": [
        "torch.manual_seed(42)\n",
        "torch.cuda.manual_seed(42)\n",
        "\n",
        "# Measure time\n",
        "from timeit import default_timer as timer\n",
        "train_time_start_model2 = timer()\n",
        "\n",
        "# Train and Test Model\n",
        "epochs = 3\n",
        "for epoch in tqdm(range(epochs)):\n",
        "  print(f'Epoch: {epoch}')\n",
        "  train_step(model=model2,\n",
        "             data_loader=train_dataloader,\n",
        "             loss_fn=loss_fn,\n",
        "             optimizer=optimizer,\n",
        "             accuracy_fn=accuracy_fn,\n",
        "             device=device)\n",
        "  test_step(model=model2,\n",
        "            data_loader=test_dataloader,\n",
        "            loss_fn=loss_fn,\n",
        "            accuracy_fn=accuracy_fn,\n",
        "            device=device)\n",
        "\n",
        "train_time_end_model2 = timer()\n",
        "\n",
        "total_train_time_model2 = print_train_time(start=train_time_start_model2,\n",
        "                                           end=train_time_end_model2,\n",
        "                                           device=device)"
      ],
      "metadata": {
        "colab": {
          "base_uri": "https://localhost:8080/",
          "height": 495,
          "referenced_widgets": [
            "7a6ee27417e447ae9c9fea66f8c44e6d",
            "43455a2919e14f84a94fcce0056e6aa3",
            "a41ff03baff443d582a88c883a1646bd",
            "8b25fe80ec434a98a58b83a291a28c9b",
            "ccdf1f24f80a4f7b9bc3d73b6256d46b",
            "a43278abe1cb45b8be37d241d04d1bfa",
            "69f1758a599d4b15a42e5b154eccdd8a",
            "4be915928d514aed83caa4f82a96c4dc",
            "b4c40cc9565440fa9b04d0df3e8859e4",
            "a6c22588f86241a98b6aedde2a68adac",
            "1617412a8c61452cae1dbaa7ec7e9bb1"
          ]
        },
        "id": "od1ysoiykbvp",
        "outputId": "5115ccbf-5aff-4bed-b512-c5309ae09e41"
      },
      "execution_count": 123,
      "outputs": [
        {
          "output_type": "display_data",
          "data": {
            "text/plain": [
              "  0%|          | 0/3 [00:00<?, ?it/s]"
            ],
            "application/vnd.jupyter.widget-view+json": {
              "version_major": 2,
              "version_minor": 0,
              "model_id": "7a6ee27417e447ae9c9fea66f8c44e6d"
            }
          },
          "metadata": {}
        },
        {
          "output_type": "stream",
          "name": "stdout",
          "text": [
            "Epoch: 0\n",
            "Looked at 0/60000 samples.\n",
            "Looked at 12800/60000 samples.\n",
            "Looked at 25600/60000 samples.\n",
            "Looked at 38400/60000 samples.\n",
            "Looked at 51200/60000 samples.\n",
            "Train Loss: 0.64843 | Train Acc: 76.36%\n",
            "Test Loss: 0.38452 | Test Acc: 86.15%\n",
            "Epoch: 1\n",
            "Looked at 0/60000 samples.\n",
            "Looked at 12800/60000 samples.\n",
            "Looked at 25600/60000 samples.\n",
            "Looked at 38400/60000 samples.\n",
            "Looked at 51200/60000 samples.\n",
            "Train Loss: 0.35810 | Train Acc: 87.11%\n",
            "Test Loss: 0.35070 | Test Acc: 87.35%\n",
            "Epoch: 2\n",
            "Looked at 0/60000 samples.\n",
            "Looked at 12800/60000 samples.\n",
            "Looked at 25600/60000 samples.\n",
            "Looked at 38400/60000 samples.\n",
            "Looked at 51200/60000 samples.\n",
            "Train Loss: 0.32136 | Train Acc: 88.41%\n",
            "Test Loss: 0.32320 | Test Acc: 88.44%\n",
            "Train time on cuda: 36.496812 seconds\n"
          ]
        }
      ]
    },
    {
      "cell_type": "code",
      "source": [
        "# Get model2 results\n",
        "model2_results = eval_model(model2, test_dataloader, loss_fn, accuracy_fn, device)\n",
        "model2_results"
      ],
      "metadata": {
        "colab": {
          "base_uri": "https://localhost:8080/",
          "height": 103,
          "referenced_widgets": [
            "54c29f25bfd74d6381f3c8f4297940ba",
            "48e00169802547a99cf4ff9273e0c039",
            "278b0e81293d47b2ad60be9fd9dba11a",
            "a33acc26926e4da78ed2c040637d32fe",
            "5eb8fd54e0224411b6ec6addb1379d40",
            "f5d95c82061b4588a1c5742c51ce332a",
            "332d20ed7ac440ac90775e1fc2f7e872",
            "8234ded416964e2a9f22dcdccd1eb041",
            "684bf7f83a34475091af71fc6c4ec00c",
            "348f00ad58f1448caee16f0a50a18c53",
            "d07c8c5f12fc41bb87edced4b4bbb55a"
          ]
        },
        "id": "zUDw7rpPlnsu",
        "outputId": "66bb117c-3524-403b-f8ab-26ebbc2f3e3e"
      },
      "execution_count": 124,
      "outputs": [
        {
          "output_type": "display_data",
          "data": {
            "text/plain": [
              "  0%|          | 0/313 [00:00<?, ?it/s]"
            ],
            "application/vnd.jupyter.widget-view+json": {
              "version_major": 2,
              "version_minor": 0,
              "model_id": "54c29f25bfd74d6381f3c8f4297940ba"
            }
          },
          "metadata": {}
        },
        {
          "output_type": "execute_result",
          "data": {
            "text/plain": [
              "{'model_name': 'FashionMNISTModelv2',\n",
              " 'model_loss': 0.323201060295105,\n",
              " 'model_acc': 88.43849840255591}"
            ]
          },
          "metadata": {},
          "execution_count": 124
        }
      ]
    },
    {
      "cell_type": "markdown",
      "source": [
        "## 8. Comparing model results and training time.\n"
      ],
      "metadata": {
        "id": "TF05Bys2mQBB"
      }
    },
    {
      "cell_type": "code",
      "source": [
        "import pandas as pd\n",
        "compare_results = pd.DataFrame([model0_results,\n",
        "                                model1_results,\n",
        "                                model2_results])\n",
        "compare_results"
      ],
      "metadata": {
        "colab": {
          "base_uri": "https://localhost:8080/",
          "height": 143
        },
        "id": "KSwwltPZmW_I",
        "outputId": "6aded934-0577-4e31-a03e-3d71a0c9f4a1"
      },
      "execution_count": 125,
      "outputs": [
        {
          "output_type": "execute_result",
          "data": {
            "text/plain": [
              "            model_name  model_loss  model_acc\n",
              "0  FashionMNISTModelV0    0.476639  83.426518\n",
              "1  FashionMNISTModelV1    0.497079  82.767572\n",
              "2  FashionMNISTModelv2    0.323201  88.438498"
            ],
            "text/html": [
              "\n",
              "  <div id=\"df-d9e5d421-c246-46c0-a7f9-dc63c26fd43f\" class=\"colab-df-container\">\n",
              "    <div>\n",
              "<style scoped>\n",
              "    .dataframe tbody tr th:only-of-type {\n",
              "        vertical-align: middle;\n",
              "    }\n",
              "\n",
              "    .dataframe tbody tr th {\n",
              "        vertical-align: top;\n",
              "    }\n",
              "\n",
              "    .dataframe thead th {\n",
              "        text-align: right;\n",
              "    }\n",
              "</style>\n",
              "<table border=\"1\" class=\"dataframe\">\n",
              "  <thead>\n",
              "    <tr style=\"text-align: right;\">\n",
              "      <th></th>\n",
              "      <th>model_name</th>\n",
              "      <th>model_loss</th>\n",
              "      <th>model_acc</th>\n",
              "    </tr>\n",
              "  </thead>\n",
              "  <tbody>\n",
              "    <tr>\n",
              "      <th>0</th>\n",
              "      <td>FashionMNISTModelV0</td>\n",
              "      <td>0.476639</td>\n",
              "      <td>83.426518</td>\n",
              "    </tr>\n",
              "    <tr>\n",
              "      <th>1</th>\n",
              "      <td>FashionMNISTModelV1</td>\n",
              "      <td>0.497079</td>\n",
              "      <td>82.767572</td>\n",
              "    </tr>\n",
              "    <tr>\n",
              "      <th>2</th>\n",
              "      <td>FashionMNISTModelv2</td>\n",
              "      <td>0.323201</td>\n",
              "      <td>88.438498</td>\n",
              "    </tr>\n",
              "  </tbody>\n",
              "</table>\n",
              "</div>\n",
              "    <div class=\"colab-df-buttons\">\n",
              "\n",
              "  <div class=\"colab-df-container\">\n",
              "    <button class=\"colab-df-convert\" onclick=\"convertToInteractive('df-d9e5d421-c246-46c0-a7f9-dc63c26fd43f')\"\n",
              "            title=\"Convert this dataframe to an interactive table.\"\n",
              "            style=\"display:none;\">\n",
              "\n",
              "  <svg xmlns=\"http://www.w3.org/2000/svg\" height=\"24px\" viewBox=\"0 -960 960 960\">\n",
              "    <path d=\"M120-120v-720h720v720H120Zm60-500h600v-160H180v160Zm220 220h160v-160H400v160Zm0 220h160v-160H400v160ZM180-400h160v-160H180v160Zm440 0h160v-160H620v160ZM180-180h160v-160H180v160Zm440 0h160v-160H620v160Z\"/>\n",
              "  </svg>\n",
              "    </button>\n",
              "\n",
              "  <style>\n",
              "    .colab-df-container {\n",
              "      display:flex;\n",
              "      gap: 12px;\n",
              "    }\n",
              "\n",
              "    .colab-df-convert {\n",
              "      background-color: #E8F0FE;\n",
              "      border: none;\n",
              "      border-radius: 50%;\n",
              "      cursor: pointer;\n",
              "      display: none;\n",
              "      fill: #1967D2;\n",
              "      height: 32px;\n",
              "      padding: 0 0 0 0;\n",
              "      width: 32px;\n",
              "    }\n",
              "\n",
              "    .colab-df-convert:hover {\n",
              "      background-color: #E2EBFA;\n",
              "      box-shadow: 0px 1px 2px rgba(60, 64, 67, 0.3), 0px 1px 3px 1px rgba(60, 64, 67, 0.15);\n",
              "      fill: #174EA6;\n",
              "    }\n",
              "\n",
              "    .colab-df-buttons div {\n",
              "      margin-bottom: 4px;\n",
              "    }\n",
              "\n",
              "    [theme=dark] .colab-df-convert {\n",
              "      background-color: #3B4455;\n",
              "      fill: #D2E3FC;\n",
              "    }\n",
              "\n",
              "    [theme=dark] .colab-df-convert:hover {\n",
              "      background-color: #434B5C;\n",
              "      box-shadow: 0px 1px 3px 1px rgba(0, 0, 0, 0.15);\n",
              "      filter: drop-shadow(0px 1px 2px rgba(0, 0, 0, 0.3));\n",
              "      fill: #FFFFFF;\n",
              "    }\n",
              "  </style>\n",
              "\n",
              "    <script>\n",
              "      const buttonEl =\n",
              "        document.querySelector('#df-d9e5d421-c246-46c0-a7f9-dc63c26fd43f button.colab-df-convert');\n",
              "      buttonEl.style.display =\n",
              "        google.colab.kernel.accessAllowed ? 'block' : 'none';\n",
              "\n",
              "      async function convertToInteractive(key) {\n",
              "        const element = document.querySelector('#df-d9e5d421-c246-46c0-a7f9-dc63c26fd43f');\n",
              "        const dataTable =\n",
              "          await google.colab.kernel.invokeFunction('convertToInteractive',\n",
              "                                                    [key], {});\n",
              "        if (!dataTable) return;\n",
              "\n",
              "        const docLinkHtml = 'Like what you see? Visit the ' +\n",
              "          '<a target=\"_blank\" href=https://colab.research.google.com/notebooks/data_table.ipynb>data table notebook</a>'\n",
              "          + ' to learn more about interactive tables.';\n",
              "        element.innerHTML = '';\n",
              "        dataTable['output_type'] = 'display_data';\n",
              "        await google.colab.output.renderOutput(dataTable, element);\n",
              "        const docLink = document.createElement('div');\n",
              "        docLink.innerHTML = docLinkHtml;\n",
              "        element.appendChild(docLink);\n",
              "      }\n",
              "    </script>\n",
              "  </div>\n",
              "\n",
              "\n",
              "<div id=\"df-25142942-c022-46b3-8b23-a07f46b42ef5\">\n",
              "  <button class=\"colab-df-quickchart\" onclick=\"quickchart('df-25142942-c022-46b3-8b23-a07f46b42ef5')\"\n",
              "            title=\"Suggest charts\"\n",
              "            style=\"display:none;\">\n",
              "\n",
              "<svg xmlns=\"http://www.w3.org/2000/svg\" height=\"24px\"viewBox=\"0 0 24 24\"\n",
              "     width=\"24px\">\n",
              "    <g>\n",
              "        <path d=\"M19 3H5c-1.1 0-2 .9-2 2v14c0 1.1.9 2 2 2h14c1.1 0 2-.9 2-2V5c0-1.1-.9-2-2-2zM9 17H7v-7h2v7zm4 0h-2V7h2v10zm4 0h-2v-4h2v4z\"/>\n",
              "    </g>\n",
              "</svg>\n",
              "  </button>\n",
              "\n",
              "<style>\n",
              "  .colab-df-quickchart {\n",
              "      --bg-color: #E8F0FE;\n",
              "      --fill-color: #1967D2;\n",
              "      --hover-bg-color: #E2EBFA;\n",
              "      --hover-fill-color: #174EA6;\n",
              "      --disabled-fill-color: #AAA;\n",
              "      --disabled-bg-color: #DDD;\n",
              "  }\n",
              "\n",
              "  [theme=dark] .colab-df-quickchart {\n",
              "      --bg-color: #3B4455;\n",
              "      --fill-color: #D2E3FC;\n",
              "      --hover-bg-color: #434B5C;\n",
              "      --hover-fill-color: #FFFFFF;\n",
              "      --disabled-bg-color: #3B4455;\n",
              "      --disabled-fill-color: #666;\n",
              "  }\n",
              "\n",
              "  .colab-df-quickchart {\n",
              "    background-color: var(--bg-color);\n",
              "    border: none;\n",
              "    border-radius: 50%;\n",
              "    cursor: pointer;\n",
              "    display: none;\n",
              "    fill: var(--fill-color);\n",
              "    height: 32px;\n",
              "    padding: 0;\n",
              "    width: 32px;\n",
              "  }\n",
              "\n",
              "  .colab-df-quickchart:hover {\n",
              "    background-color: var(--hover-bg-color);\n",
              "    box-shadow: 0 1px 2px rgba(60, 64, 67, 0.3), 0 1px 3px 1px rgba(60, 64, 67, 0.15);\n",
              "    fill: var(--button-hover-fill-color);\n",
              "  }\n",
              "\n",
              "  .colab-df-quickchart-complete:disabled,\n",
              "  .colab-df-quickchart-complete:disabled:hover {\n",
              "    background-color: var(--disabled-bg-color);\n",
              "    fill: var(--disabled-fill-color);\n",
              "    box-shadow: none;\n",
              "  }\n",
              "\n",
              "  .colab-df-spinner {\n",
              "    border: 2px solid var(--fill-color);\n",
              "    border-color: transparent;\n",
              "    border-bottom-color: var(--fill-color);\n",
              "    animation:\n",
              "      spin 1s steps(1) infinite;\n",
              "  }\n",
              "\n",
              "  @keyframes spin {\n",
              "    0% {\n",
              "      border-color: transparent;\n",
              "      border-bottom-color: var(--fill-color);\n",
              "      border-left-color: var(--fill-color);\n",
              "    }\n",
              "    20% {\n",
              "      border-color: transparent;\n",
              "      border-left-color: var(--fill-color);\n",
              "      border-top-color: var(--fill-color);\n",
              "    }\n",
              "    30% {\n",
              "      border-color: transparent;\n",
              "      border-left-color: var(--fill-color);\n",
              "      border-top-color: var(--fill-color);\n",
              "      border-right-color: var(--fill-color);\n",
              "    }\n",
              "    40% {\n",
              "      border-color: transparent;\n",
              "      border-right-color: var(--fill-color);\n",
              "      border-top-color: var(--fill-color);\n",
              "    }\n",
              "    60% {\n",
              "      border-color: transparent;\n",
              "      border-right-color: var(--fill-color);\n",
              "    }\n",
              "    80% {\n",
              "      border-color: transparent;\n",
              "      border-right-color: var(--fill-color);\n",
              "      border-bottom-color: var(--fill-color);\n",
              "    }\n",
              "    90% {\n",
              "      border-color: transparent;\n",
              "      border-bottom-color: var(--fill-color);\n",
              "    }\n",
              "  }\n",
              "</style>\n",
              "\n",
              "  <script>\n",
              "    async function quickchart(key) {\n",
              "      const quickchartButtonEl =\n",
              "        document.querySelector('#' + key + ' button');\n",
              "      quickchartButtonEl.disabled = true;  // To prevent multiple clicks.\n",
              "      quickchartButtonEl.classList.add('colab-df-spinner');\n",
              "      try {\n",
              "        const charts = await google.colab.kernel.invokeFunction(\n",
              "            'suggestCharts', [key], {});\n",
              "      } catch (error) {\n",
              "        console.error('Error during call to suggestCharts:', error);\n",
              "      }\n",
              "      quickchartButtonEl.classList.remove('colab-df-spinner');\n",
              "      quickchartButtonEl.classList.add('colab-df-quickchart-complete');\n",
              "    }\n",
              "    (() => {\n",
              "      let quickchartButtonEl =\n",
              "        document.querySelector('#df-25142942-c022-46b3-8b23-a07f46b42ef5 button');\n",
              "      quickchartButtonEl.style.display =\n",
              "        google.colab.kernel.accessAllowed ? 'block' : 'none';\n",
              "    })();\n",
              "  </script>\n",
              "</div>\n",
              "\n",
              "  <div id=\"id_e601ca75-d932-4824-9026-6052173e4fde\">\n",
              "    <style>\n",
              "      .colab-df-generate {\n",
              "        background-color: #E8F0FE;\n",
              "        border: none;\n",
              "        border-radius: 50%;\n",
              "        cursor: pointer;\n",
              "        display: none;\n",
              "        fill: #1967D2;\n",
              "        height: 32px;\n",
              "        padding: 0 0 0 0;\n",
              "        width: 32px;\n",
              "      }\n",
              "\n",
              "      .colab-df-generate:hover {\n",
              "        background-color: #E2EBFA;\n",
              "        box-shadow: 0px 1px 2px rgba(60, 64, 67, 0.3), 0px 1px 3px 1px rgba(60, 64, 67, 0.15);\n",
              "        fill: #174EA6;\n",
              "      }\n",
              "\n",
              "      [theme=dark] .colab-df-generate {\n",
              "        background-color: #3B4455;\n",
              "        fill: #D2E3FC;\n",
              "      }\n",
              "\n",
              "      [theme=dark] .colab-df-generate:hover {\n",
              "        background-color: #434B5C;\n",
              "        box-shadow: 0px 1px 3px 1px rgba(0, 0, 0, 0.15);\n",
              "        filter: drop-shadow(0px 1px 2px rgba(0, 0, 0, 0.3));\n",
              "        fill: #FFFFFF;\n",
              "      }\n",
              "    </style>\n",
              "    <button class=\"colab-df-generate\" onclick=\"generateWithVariable('compare_results')\"\n",
              "            title=\"Generate code using this dataframe.\"\n",
              "            style=\"display:none;\">\n",
              "\n",
              "  <svg xmlns=\"http://www.w3.org/2000/svg\" height=\"24px\"viewBox=\"0 0 24 24\"\n",
              "       width=\"24px\">\n",
              "    <path d=\"M7,19H8.4L18.45,9,17,7.55,7,17.6ZM5,21V16.75L18.45,3.32a2,2,0,0,1,2.83,0l1.4,1.43a1.91,1.91,0,0,1,.58,1.4,1.91,1.91,0,0,1-.58,1.4L9.25,21ZM18.45,9,17,7.55Zm-12,3A5.31,5.31,0,0,0,4.9,8.1,5.31,5.31,0,0,0,1,6.5,5.31,5.31,0,0,0,4.9,4.9,5.31,5.31,0,0,0,6.5,1,5.31,5.31,0,0,0,8.1,4.9,5.31,5.31,0,0,0,12,6.5,5.46,5.46,0,0,0,6.5,12Z\"/>\n",
              "  </svg>\n",
              "    </button>\n",
              "    <script>\n",
              "      (() => {\n",
              "      const buttonEl =\n",
              "        document.querySelector('#id_e601ca75-d932-4824-9026-6052173e4fde button.colab-df-generate');\n",
              "      buttonEl.style.display =\n",
              "        google.colab.kernel.accessAllowed ? 'block' : 'none';\n",
              "\n",
              "      buttonEl.onclick = () => {\n",
              "        google.colab.notebook.generateWithVariable('compare_results');\n",
              "      }\n",
              "      })();\n",
              "    </script>\n",
              "  </div>\n",
              "\n",
              "    </div>\n",
              "  </div>\n"
            ],
            "application/vnd.google.colaboratory.intrinsic+json": {
              "type": "dataframe",
              "variable_name": "compare_results",
              "summary": "{\n  \"name\": \"compare_results\",\n  \"rows\": 3,\n  \"fields\": [\n    {\n      \"column\": \"model_name\",\n      \"properties\": {\n        \"dtype\": \"string\",\n        \"num_unique_values\": 3,\n        \"samples\": [\n          \"FashionMNISTModelV0\",\n          \"FashionMNISTModelV1\",\n          \"FashionMNISTModelv2\"\n        ],\n        \"semantic_type\": \"\",\n        \"description\": \"\"\n      }\n    },\n    {\n      \"column\": \"model_loss\",\n      \"properties\": {\n        \"dtype\": \"number\",\n        \"std\": 0.09503899308829428,\n        \"min\": 0.323201060295105,\n        \"max\": 0.49707889556884766,\n        \"num_unique_values\": 3,\n        \"samples\": [\n          0.47663888335227966,\n          0.49707889556884766,\n          0.323201060295105\n        ],\n        \"semantic_type\": \"\",\n        \"description\": \"\"\n      }\n    },\n    {\n      \"column\": \"model_acc\",\n      \"properties\": {\n        \"dtype\": \"number\",\n        \"std\": 3.1014396880856845,\n        \"min\": 82.76757188498402,\n        \"max\": 88.43849840255591,\n        \"num_unique_values\": 3,\n        \"samples\": [\n          83.42651757188499,\n          82.76757188498402,\n          88.43849840255591\n        ],\n        \"semantic_type\": \"\",\n        \"description\": \"\"\n      }\n    }\n  ]\n}"
            }
          },
          "metadata": {},
          "execution_count": 125
        }
      ]
    },
    {
      "cell_type": "code",
      "source": [
        "compare_results[\"training_time\"] = [total_train_time_model0,\n",
        "                                    total_train_time_model1,\n",
        "                                    total_train_time_model2]\n",
        "\n",
        "compare_results"
      ],
      "metadata": {
        "colab": {
          "base_uri": "https://localhost:8080/",
          "height": 143
        },
        "id": "0iJyZlZBmEKZ",
        "outputId": "90d85403-ad0f-49f3-c4fa-0ade21ef907e"
      },
      "execution_count": 126,
      "outputs": [
        {
          "output_type": "execute_result",
          "data": {
            "text/plain": [
              "            model_name  model_loss  model_acc  training_time\n",
              "0  FashionMNISTModelV0    0.476639  83.426518      26.601601\n",
              "1  FashionMNISTModelV1    0.497079  82.767572      29.260083\n",
              "2  FashionMNISTModelv2    0.323201  88.438498      36.496812"
            ],
            "text/html": [
              "\n",
              "  <div id=\"df-864df608-4a91-4f76-893a-6cc96993349a\" class=\"colab-df-container\">\n",
              "    <div>\n",
              "<style scoped>\n",
              "    .dataframe tbody tr th:only-of-type {\n",
              "        vertical-align: middle;\n",
              "    }\n",
              "\n",
              "    .dataframe tbody tr th {\n",
              "        vertical-align: top;\n",
              "    }\n",
              "\n",
              "    .dataframe thead th {\n",
              "        text-align: right;\n",
              "    }\n",
              "</style>\n",
              "<table border=\"1\" class=\"dataframe\">\n",
              "  <thead>\n",
              "    <tr style=\"text-align: right;\">\n",
              "      <th></th>\n",
              "      <th>model_name</th>\n",
              "      <th>model_loss</th>\n",
              "      <th>model_acc</th>\n",
              "      <th>training_time</th>\n",
              "    </tr>\n",
              "  </thead>\n",
              "  <tbody>\n",
              "    <tr>\n",
              "      <th>0</th>\n",
              "      <td>FashionMNISTModelV0</td>\n",
              "      <td>0.476639</td>\n",
              "      <td>83.426518</td>\n",
              "      <td>26.601601</td>\n",
              "    </tr>\n",
              "    <tr>\n",
              "      <th>1</th>\n",
              "      <td>FashionMNISTModelV1</td>\n",
              "      <td>0.497079</td>\n",
              "      <td>82.767572</td>\n",
              "      <td>29.260083</td>\n",
              "    </tr>\n",
              "    <tr>\n",
              "      <th>2</th>\n",
              "      <td>FashionMNISTModelv2</td>\n",
              "      <td>0.323201</td>\n",
              "      <td>88.438498</td>\n",
              "      <td>36.496812</td>\n",
              "    </tr>\n",
              "  </tbody>\n",
              "</table>\n",
              "</div>\n",
              "    <div class=\"colab-df-buttons\">\n",
              "\n",
              "  <div class=\"colab-df-container\">\n",
              "    <button class=\"colab-df-convert\" onclick=\"convertToInteractive('df-864df608-4a91-4f76-893a-6cc96993349a')\"\n",
              "            title=\"Convert this dataframe to an interactive table.\"\n",
              "            style=\"display:none;\">\n",
              "\n",
              "  <svg xmlns=\"http://www.w3.org/2000/svg\" height=\"24px\" viewBox=\"0 -960 960 960\">\n",
              "    <path d=\"M120-120v-720h720v720H120Zm60-500h600v-160H180v160Zm220 220h160v-160H400v160Zm0 220h160v-160H400v160ZM180-400h160v-160H180v160Zm440 0h160v-160H620v160ZM180-180h160v-160H180v160Zm440 0h160v-160H620v160Z\"/>\n",
              "  </svg>\n",
              "    </button>\n",
              "\n",
              "  <style>\n",
              "    .colab-df-container {\n",
              "      display:flex;\n",
              "      gap: 12px;\n",
              "    }\n",
              "\n",
              "    .colab-df-convert {\n",
              "      background-color: #E8F0FE;\n",
              "      border: none;\n",
              "      border-radius: 50%;\n",
              "      cursor: pointer;\n",
              "      display: none;\n",
              "      fill: #1967D2;\n",
              "      height: 32px;\n",
              "      padding: 0 0 0 0;\n",
              "      width: 32px;\n",
              "    }\n",
              "\n",
              "    .colab-df-convert:hover {\n",
              "      background-color: #E2EBFA;\n",
              "      box-shadow: 0px 1px 2px rgba(60, 64, 67, 0.3), 0px 1px 3px 1px rgba(60, 64, 67, 0.15);\n",
              "      fill: #174EA6;\n",
              "    }\n",
              "\n",
              "    .colab-df-buttons div {\n",
              "      margin-bottom: 4px;\n",
              "    }\n",
              "\n",
              "    [theme=dark] .colab-df-convert {\n",
              "      background-color: #3B4455;\n",
              "      fill: #D2E3FC;\n",
              "    }\n",
              "\n",
              "    [theme=dark] .colab-df-convert:hover {\n",
              "      background-color: #434B5C;\n",
              "      box-shadow: 0px 1px 3px 1px rgba(0, 0, 0, 0.15);\n",
              "      filter: drop-shadow(0px 1px 2px rgba(0, 0, 0, 0.3));\n",
              "      fill: #FFFFFF;\n",
              "    }\n",
              "  </style>\n",
              "\n",
              "    <script>\n",
              "      const buttonEl =\n",
              "        document.querySelector('#df-864df608-4a91-4f76-893a-6cc96993349a button.colab-df-convert');\n",
              "      buttonEl.style.display =\n",
              "        google.colab.kernel.accessAllowed ? 'block' : 'none';\n",
              "\n",
              "      async function convertToInteractive(key) {\n",
              "        const element = document.querySelector('#df-864df608-4a91-4f76-893a-6cc96993349a');\n",
              "        const dataTable =\n",
              "          await google.colab.kernel.invokeFunction('convertToInteractive',\n",
              "                                                    [key], {});\n",
              "        if (!dataTable) return;\n",
              "\n",
              "        const docLinkHtml = 'Like what you see? Visit the ' +\n",
              "          '<a target=\"_blank\" href=https://colab.research.google.com/notebooks/data_table.ipynb>data table notebook</a>'\n",
              "          + ' to learn more about interactive tables.';\n",
              "        element.innerHTML = '';\n",
              "        dataTable['output_type'] = 'display_data';\n",
              "        await google.colab.output.renderOutput(dataTable, element);\n",
              "        const docLink = document.createElement('div');\n",
              "        docLink.innerHTML = docLinkHtml;\n",
              "        element.appendChild(docLink);\n",
              "      }\n",
              "    </script>\n",
              "  </div>\n",
              "\n",
              "\n",
              "<div id=\"df-c368e13a-56e7-4765-be82-302840c1d4b2\">\n",
              "  <button class=\"colab-df-quickchart\" onclick=\"quickchart('df-c368e13a-56e7-4765-be82-302840c1d4b2')\"\n",
              "            title=\"Suggest charts\"\n",
              "            style=\"display:none;\">\n",
              "\n",
              "<svg xmlns=\"http://www.w3.org/2000/svg\" height=\"24px\"viewBox=\"0 0 24 24\"\n",
              "     width=\"24px\">\n",
              "    <g>\n",
              "        <path d=\"M19 3H5c-1.1 0-2 .9-2 2v14c0 1.1.9 2 2 2h14c1.1 0 2-.9 2-2V5c0-1.1-.9-2-2-2zM9 17H7v-7h2v7zm4 0h-2V7h2v10zm4 0h-2v-4h2v4z\"/>\n",
              "    </g>\n",
              "</svg>\n",
              "  </button>\n",
              "\n",
              "<style>\n",
              "  .colab-df-quickchart {\n",
              "      --bg-color: #E8F0FE;\n",
              "      --fill-color: #1967D2;\n",
              "      --hover-bg-color: #E2EBFA;\n",
              "      --hover-fill-color: #174EA6;\n",
              "      --disabled-fill-color: #AAA;\n",
              "      --disabled-bg-color: #DDD;\n",
              "  }\n",
              "\n",
              "  [theme=dark] .colab-df-quickchart {\n",
              "      --bg-color: #3B4455;\n",
              "      --fill-color: #D2E3FC;\n",
              "      --hover-bg-color: #434B5C;\n",
              "      --hover-fill-color: #FFFFFF;\n",
              "      --disabled-bg-color: #3B4455;\n",
              "      --disabled-fill-color: #666;\n",
              "  }\n",
              "\n",
              "  .colab-df-quickchart {\n",
              "    background-color: var(--bg-color);\n",
              "    border: none;\n",
              "    border-radius: 50%;\n",
              "    cursor: pointer;\n",
              "    display: none;\n",
              "    fill: var(--fill-color);\n",
              "    height: 32px;\n",
              "    padding: 0;\n",
              "    width: 32px;\n",
              "  }\n",
              "\n",
              "  .colab-df-quickchart:hover {\n",
              "    background-color: var(--hover-bg-color);\n",
              "    box-shadow: 0 1px 2px rgba(60, 64, 67, 0.3), 0 1px 3px 1px rgba(60, 64, 67, 0.15);\n",
              "    fill: var(--button-hover-fill-color);\n",
              "  }\n",
              "\n",
              "  .colab-df-quickchart-complete:disabled,\n",
              "  .colab-df-quickchart-complete:disabled:hover {\n",
              "    background-color: var(--disabled-bg-color);\n",
              "    fill: var(--disabled-fill-color);\n",
              "    box-shadow: none;\n",
              "  }\n",
              "\n",
              "  .colab-df-spinner {\n",
              "    border: 2px solid var(--fill-color);\n",
              "    border-color: transparent;\n",
              "    border-bottom-color: var(--fill-color);\n",
              "    animation:\n",
              "      spin 1s steps(1) infinite;\n",
              "  }\n",
              "\n",
              "  @keyframes spin {\n",
              "    0% {\n",
              "      border-color: transparent;\n",
              "      border-bottom-color: var(--fill-color);\n",
              "      border-left-color: var(--fill-color);\n",
              "    }\n",
              "    20% {\n",
              "      border-color: transparent;\n",
              "      border-left-color: var(--fill-color);\n",
              "      border-top-color: var(--fill-color);\n",
              "    }\n",
              "    30% {\n",
              "      border-color: transparent;\n",
              "      border-left-color: var(--fill-color);\n",
              "      border-top-color: var(--fill-color);\n",
              "      border-right-color: var(--fill-color);\n",
              "    }\n",
              "    40% {\n",
              "      border-color: transparent;\n",
              "      border-right-color: var(--fill-color);\n",
              "      border-top-color: var(--fill-color);\n",
              "    }\n",
              "    60% {\n",
              "      border-color: transparent;\n",
              "      border-right-color: var(--fill-color);\n",
              "    }\n",
              "    80% {\n",
              "      border-color: transparent;\n",
              "      border-right-color: var(--fill-color);\n",
              "      border-bottom-color: var(--fill-color);\n",
              "    }\n",
              "    90% {\n",
              "      border-color: transparent;\n",
              "      border-bottom-color: var(--fill-color);\n",
              "    }\n",
              "  }\n",
              "</style>\n",
              "\n",
              "  <script>\n",
              "    async function quickchart(key) {\n",
              "      const quickchartButtonEl =\n",
              "        document.querySelector('#' + key + ' button');\n",
              "      quickchartButtonEl.disabled = true;  // To prevent multiple clicks.\n",
              "      quickchartButtonEl.classList.add('colab-df-spinner');\n",
              "      try {\n",
              "        const charts = await google.colab.kernel.invokeFunction(\n",
              "            'suggestCharts', [key], {});\n",
              "      } catch (error) {\n",
              "        console.error('Error during call to suggestCharts:', error);\n",
              "      }\n",
              "      quickchartButtonEl.classList.remove('colab-df-spinner');\n",
              "      quickchartButtonEl.classList.add('colab-df-quickchart-complete');\n",
              "    }\n",
              "    (() => {\n",
              "      let quickchartButtonEl =\n",
              "        document.querySelector('#df-c368e13a-56e7-4765-be82-302840c1d4b2 button');\n",
              "      quickchartButtonEl.style.display =\n",
              "        google.colab.kernel.accessAllowed ? 'block' : 'none';\n",
              "    })();\n",
              "  </script>\n",
              "</div>\n",
              "\n",
              "  <div id=\"id_53bc6a69-98eb-4b2f-8e07-6e186d94ba9f\">\n",
              "    <style>\n",
              "      .colab-df-generate {\n",
              "        background-color: #E8F0FE;\n",
              "        border: none;\n",
              "        border-radius: 50%;\n",
              "        cursor: pointer;\n",
              "        display: none;\n",
              "        fill: #1967D2;\n",
              "        height: 32px;\n",
              "        padding: 0 0 0 0;\n",
              "        width: 32px;\n",
              "      }\n",
              "\n",
              "      .colab-df-generate:hover {\n",
              "        background-color: #E2EBFA;\n",
              "        box-shadow: 0px 1px 2px rgba(60, 64, 67, 0.3), 0px 1px 3px 1px rgba(60, 64, 67, 0.15);\n",
              "        fill: #174EA6;\n",
              "      }\n",
              "\n",
              "      [theme=dark] .colab-df-generate {\n",
              "        background-color: #3B4455;\n",
              "        fill: #D2E3FC;\n",
              "      }\n",
              "\n",
              "      [theme=dark] .colab-df-generate:hover {\n",
              "        background-color: #434B5C;\n",
              "        box-shadow: 0px 1px 3px 1px rgba(0, 0, 0, 0.15);\n",
              "        filter: drop-shadow(0px 1px 2px rgba(0, 0, 0, 0.3));\n",
              "        fill: #FFFFFF;\n",
              "      }\n",
              "    </style>\n",
              "    <button class=\"colab-df-generate\" onclick=\"generateWithVariable('compare_results')\"\n",
              "            title=\"Generate code using this dataframe.\"\n",
              "            style=\"display:none;\">\n",
              "\n",
              "  <svg xmlns=\"http://www.w3.org/2000/svg\" height=\"24px\"viewBox=\"0 0 24 24\"\n",
              "       width=\"24px\">\n",
              "    <path d=\"M7,19H8.4L18.45,9,17,7.55,7,17.6ZM5,21V16.75L18.45,3.32a2,2,0,0,1,2.83,0l1.4,1.43a1.91,1.91,0,0,1,.58,1.4,1.91,1.91,0,0,1-.58,1.4L9.25,21ZM18.45,9,17,7.55Zm-12,3A5.31,5.31,0,0,0,4.9,8.1,5.31,5.31,0,0,0,1,6.5,5.31,5.31,0,0,0,4.9,4.9,5.31,5.31,0,0,0,6.5,1,5.31,5.31,0,0,0,8.1,4.9,5.31,5.31,0,0,0,12,6.5,5.46,5.46,0,0,0,6.5,12Z\"/>\n",
              "  </svg>\n",
              "    </button>\n",
              "    <script>\n",
              "      (() => {\n",
              "      const buttonEl =\n",
              "        document.querySelector('#id_53bc6a69-98eb-4b2f-8e07-6e186d94ba9f button.colab-df-generate');\n",
              "      buttonEl.style.display =\n",
              "        google.colab.kernel.accessAllowed ? 'block' : 'none';\n",
              "\n",
              "      buttonEl.onclick = () => {\n",
              "        google.colab.notebook.generateWithVariable('compare_results');\n",
              "      }\n",
              "      })();\n",
              "    </script>\n",
              "  </div>\n",
              "\n",
              "    </div>\n",
              "  </div>\n"
            ],
            "application/vnd.google.colaboratory.intrinsic+json": {
              "type": "dataframe",
              "variable_name": "compare_results",
              "summary": "{\n  \"name\": \"compare_results\",\n  \"rows\": 3,\n  \"fields\": [\n    {\n      \"column\": \"model_name\",\n      \"properties\": {\n        \"dtype\": \"string\",\n        \"num_unique_values\": 3,\n        \"samples\": [\n          \"FashionMNISTModelV0\",\n          \"FashionMNISTModelV1\",\n          \"FashionMNISTModelv2\"\n        ],\n        \"semantic_type\": \"\",\n        \"description\": \"\"\n      }\n    },\n    {\n      \"column\": \"model_loss\",\n      \"properties\": {\n        \"dtype\": \"number\",\n        \"std\": 0.09503899308829428,\n        \"min\": 0.323201060295105,\n        \"max\": 0.49707889556884766,\n        \"num_unique_values\": 3,\n        \"samples\": [\n          0.47663888335227966,\n          0.49707889556884766,\n          0.323201060295105\n        ],\n        \"semantic_type\": \"\",\n        \"description\": \"\"\n      }\n    },\n    {\n      \"column\": \"model_acc\",\n      \"properties\": {\n        \"dtype\": \"number\",\n        \"std\": 3.1014396880856845,\n        \"min\": 82.76757188498402,\n        \"max\": 88.43849840255591,\n        \"num_unique_values\": 3,\n        \"samples\": [\n          83.42651757188499,\n          82.76757188498402,\n          88.43849840255591\n        ],\n        \"semantic_type\": \"\",\n        \"description\": \"\"\n      }\n    },\n    {\n      \"column\": \"training_time\",\n      \"properties\": {\n        \"dtype\": \"number\",\n        \"std\": 5.121083349201129,\n        \"min\": 26.601601144000142,\n        \"max\": 36.49681206000014,\n        \"num_unique_values\": 3,\n        \"samples\": [\n          26.601601144000142,\n          29.260083472000133,\n          36.49681206000014\n        ],\n        \"semantic_type\": \"\",\n        \"description\": \"\"\n      }\n    }\n  ]\n}"
            }
          },
          "metadata": {},
          "execution_count": 126
        }
      ]
    },
    {
      "cell_type": "code",
      "source": [
        "# Visualize our model comparisions\n",
        "compare_results.set_index(\"model_name\")[\"model_acc\"].plot(kind='barh')\n",
        "plt.xlabel('Accuracy (%)')\n",
        "plt.ylabel(\"model\");"
      ],
      "metadata": {
        "colab": {
          "base_uri": "https://localhost:8080/",
          "height": 446
        },
        "id": "h2AlNFz7nm0R",
        "outputId": "9f08780b-df36-4e04-982d-0c4ffa809b43"
      },
      "execution_count": 127,
      "outputs": [
        {
          "output_type": "display_data",
          "data": {
            "text/plain": [
              "<Figure size 640x480 with 1 Axes>"
            ],
            "image/png": "[encoded data removed]"
          },
          "metadata": {}
        }
      ]
    },
    {
      "cell_type": "markdown",
      "source": [
        "## 9. Make and evaluate random predictions with best model"
      ],
      "metadata": {
        "id": "o5mQUTt8pzXJ"
      }
    },
    {
      "cell_type": "code",
      "source": [
        "def make_predictions(model: nn.Module,\n",
        "                     data: list,\n",
        "                     device: torch.device = None):\n",
        "\n",
        "  pred_probs = []\n",
        "\n",
        "  model.to(device)\n",
        "  model.eval()\n",
        "  with torch.inference_mode():\n",
        "    for sample in data:\n",
        "      # Prepare the sample by adding batch dimension and then moving to device.\n",
        "      sample = torch.unsqueeze(sample, dim=0).to(device)\n",
        "\n",
        "      # Forward pass (outputs raw logits)\n",
        "      pred_logit = model(sample)\n",
        "\n",
        "      # Get prediction probability\n",
        "      pred_prob = torch.softmax(pred_logit.squeeze(), dim=0)\n",
        "\n",
        "      # Get pred_prob off the GPU because we'll use matplotlib too.\n",
        "      pred_probs.append(pred_prob.cpu())\n",
        "\n",
        "\n",
        "  # Stack the pred probs to turn list to tensor.\n",
        "  return torch.stack(pred_probs)"
      ],
      "metadata": {
        "id": "3OMUQxa1ppxF"
      },
      "execution_count": 128,
      "outputs": []
    },
    {
      "cell_type": "code",
      "source": [
        "image, label = test_data[0][:10]\n",
        "image.shape, label"
      ],
      "metadata": {
        "colab": {
          "base_uri": "https://localhost:8080/"
        },
        "id": "R1dCA88QrjIx",
        "outputId": "34b8f1a1-9d39-43e3-8aad-2e107d9b831b"
      },
      "execution_count": 129,
      "outputs": [
        {
          "output_type": "execute_result",
          "data": {
            "text/plain": [
              "(torch.Size([1, 28, 28]), 9)"
            ]
          },
          "metadata": {},
          "execution_count": 129
        }
      ]
    },
    {
      "cell_type": "code",
      "source": [
        "import random\n",
        "random.seed(42)\n",
        "test_samples = []\n",
        "test_labels = []\n",
        "\n",
        "# 9 samples\n",
        "for sample, label in random.sample(list(test_data), k=9):\n",
        "  test_samples.append(sample)\n",
        "  test_labels.append(label)\n",
        "\n",
        "# View the first sample shape\n",
        "test_samples[0].shape"
      ],
      "metadata": {
        "colab": {
          "base_uri": "https://localhost:8080/"
        },
        "id": "kchupM4BrK8e",
        "outputId": "736be13f-726f-4499-c3c0-100b99705564"
      },
      "execution_count": 130,
      "outputs": [
        {
          "output_type": "execute_result",
          "data": {
            "text/plain": [
              "torch.Size([1, 28, 28])"
            ]
          },
          "metadata": {},
          "execution_count": 130
        }
      ]
    },
    {
      "cell_type": "code",
      "source": [
        "plt.imshow(test_samples[0].squeeze(0), cmap='gray')\n",
        "plt.title(class_names[test_labels[0]])"
      ],
      "metadata": {
        "colab": {
          "base_uri": "https://localhost:8080/",
          "height": 470
        },
        "id": "PIbDF9Lar2OL",
        "outputId": "18d1329c-06d6-4030-be7b-d1eec96db7cd"
      },
      "execution_count": 131,
      "outputs": [
        {
          "output_type": "execute_result",
          "data": {
            "text/plain": [
              "Text(0.5, 1.0, 'Sandal')"
            ]
          },
          "metadata": {},
          "execution_count": 131
        },
        {
          "output_type": "display_data",
          "data": {
            "text/plain": [
              "<Figure size 640x480 with 1 Axes>"
            ],
            "image/png": "[encoded data removed]"
          },
          "metadata": {}
        }
      ]
    },
    {
      "cell_type": "code",
      "source": [
        "# Make predictions\n",
        "pred_probs = make_predictions(model2, test_samples, device)\n",
        "pred_probs[:2], pred_probs.shape"
      ],
      "metadata": {
        "colab": {
          "base_uri": "https://localhost:8080/"
        },
        "id": "Jj2ZvlUIr5xl",
        "outputId": "63ec61d0-7d9a-4627-9efd-627a0c744d58"
      },
      "execution_count": 132,
      "outputs": [
        {
          "output_type": "execute_result",
          "data": {
            "text/plain": [
              "(tensor([[8.8954e-09, 1.8744e-10, 2.2173e-09, 3.3575e-10, 1.5839e-11, 9.9994e-01,\n",
              "          1.8029e-08, 5.9983e-08, 2.2921e-07, 5.8094e-05],\n",
              "         [5.8781e-02, 5.5103e-01, 1.1453e-02, 1.4400e-01, 1.8757e-01, 4.9822e-04,\n",
              "          4.5237e-02, 7.2711e-04, 5.3159e-04, 1.7596e-04]]),\n",
              " torch.Size([9, 10]))"
            ]
          },
          "metadata": {},
          "execution_count": 132
        }
      ]
    },
    {
      "cell_type": "code",
      "source": [
        "# Converting prediction probabilities to labels\n",
        "pred_classes = pred_probs.argmax(dim=1)\n",
        "pred_classes"
      ],
      "metadata": {
        "colab": {
          "base_uri": "https://localhost:8080/"
        },
        "id": "QBl18np2seCn",
        "outputId": "b7fef7dd-4f8a-486e-ac81-6f21c5b270a6"
      },
      "execution_count": 133,
      "outputs": [
        {
          "output_type": "execute_result",
          "data": {
            "text/plain": [
              "tensor([5, 1, 7, 4, 3, 6, 4, 7, 1])"
            ]
          },
          "metadata": {},
          "execution_count": 133
        }
      ]
    },
    {
      "cell_type": "code",
      "source": [
        "test_labels"
      ],
      "metadata": {
        "colab": {
          "base_uri": "https://localhost:8080/"
        },
        "id": "MH61TPd-s0In",
        "outputId": "50a3cf32-353f-4c92-d909-444ef7bb0e89"
      },
      "execution_count": 134,
      "outputs": [
        {
          "output_type": "execute_result",
          "data": {
            "text/plain": [
              "[5, 1, 7, 4, 3, 0, 4, 7, 1]"
            ]
          },
          "metadata": {},
          "execution_count": 134
        }
      ]
    },
    {
      "cell_type": "code",
      "source": [
        "# Plot predictions\n",
        "plt.figure(figsize=(9, 9))\n",
        "nrows = 3\n",
        "ncols = 3\n",
        "for i, sample in enumerate(test_samples):\n",
        "  # Create a subplot\n",
        "  plt.subplot(nrows, ncols, i+1)\n",
        "\n",
        "  # Plot the target image\n",
        "  plt.imshow(sample.squeeze(), cmap=\"gray\")\n",
        "\n",
        "  # Find the prediction label (in text form, e.g. \"Sandal\")\n",
        "  pred_label = class_names[pred_classes[i]]\n",
        "\n",
        "  # Get the truth label (in text form, e.g. \"T-shirt\")\n",
        "  truth_label = class_names[test_labels[i]]\n",
        "\n",
        "  # Create the title text of the plot\n",
        "  title_text = f\"Pred: {pred_label} | Truth: {truth_label}\"\n",
        "\n",
        "  # Check for equality and change title colour accordingly\n",
        "  if pred_label == truth_label:\n",
        "      plt.title(title_text, fontsize=10, c=\"g\") # green text if correct\n",
        "  else:\n",
        "      plt.title(title_text, fontsize=10, c=\"r\") # red text if wrong\n",
        "  plt.axis(False);"
      ],
      "metadata": {
        "colab": {
          "base_uri": "https://localhost:8080/",
          "height": 726
        },
        "id": "JqWM1SZus2Rb",
        "outputId": "1a58ee18-8275-4a9d-c469-2deb3edcea89"
      },
      "execution_count": 135,
      "outputs": [
        {
          "output_type": "display_data",
          "data": {
            "text/plain": [
              "<Figure size 900x900 with 9 Axes>"
            ],
            "image/png": "[encoded data removed]"
          },
          "metadata": {}
        }
      ]
    },
    {
      "cell_type": "markdown",
      "source": [
        "## 10. Making a confusion matrix for further prediction evaluation.\n",
        "\n",
        "Confusion matrix is a fantastic way of evaluating classification models visually.\n",
        "\n",
        "1. Make predictions with our trained model on test dataset.\n",
        "2. Make the confusion matrix with [`torchmetrics.classiciation.MulticlassConfusionMatrix`](https://lightning.ai/docs/torchmetrics/stable/classification/confusion_matrix.html)\n",
        "3. Plot the confusion matrix using [`mlxtend.plotting.plot_confusion_matrix()`](https://rasbt.github.io/mlxtend/user_guide/plotting/plot_confusion_matrix/)."
      ],
      "metadata": {
        "id": "YdA_N7DF9ctk"
      }
    },
    {
      "cell_type": "code",
      "source": [
        "from tqdm.auto import tqdm\n",
        "\n",
        "# Make predictions from trained model.\n",
        "y_preds = []\n",
        "model2.eval()\n",
        "with torch.inference_mode():\n",
        "  for X, y in tqdm(test_dataloader, desc = 'Making predictions...'):\n",
        "    # Send the data and targets to target device\n",
        "    X = X.to(device)\n",
        "    y = y.to(device)\n",
        "\n",
        "    # Make predictions\n",
        "    y_logit = model2(X)\n",
        "\n",
        "    # Convert predictions to labels\n",
        "    y_pred = torch.softmax(y_logit, dim=1).argmax(dim=1)  # note: perform softmax on the \"logits\" dimension, not \"batch\" dimension (in this case we have a batch size of 32, so can perform on dim=1)\n",
        "\n",
        "    # Put prediction on CPU for evaluation.\n",
        "    y_preds.append(y_pred.cpu())\n",
        "\n",
        "  # Concatenate list of predictions in a tensor.\n",
        "  # print(y_preds)\n",
        "  y_pred_tensor = torch.cat(y_preds)\n",
        "  y_pred_tensor"
      ],
      "metadata": {
        "colab": {
          "base_uri": "https://localhost:8080/",
          "height": 49,
          "referenced_widgets": [
            "9642888a1b7e41078afd376e5431371a",
            "d943ad50fa764524b9a07bde66abe2c2",
            "d9416277b0304001b6df52f3f7f34f90",
            "82b120d327c0401fb6903a783e128d14",
            "ba3329e516e9486482970a5be15a307d",
            "030ce50972b34e0db7a6194777351e75",
            "ae14b1f26c2d42159fd42cf3598eef8d",
            "54d50de76b8b4bf78d3ce8d61ffbbee7",
            "1316d03ea11e4ca5b869a78cdf925bfa",
            "0f64b7885f6a494492ad8758b7bbc1aa",
            "145372337c7947058878e2fe598c9a8a"
          ]
        },
        "id": "KVd4FDfQ_Vl0",
        "outputId": "9f238950-5e45-41e5-e04f-2ca541239193"
      },
      "execution_count": 141,
      "outputs": [
        {
          "output_type": "display_data",
          "data": {
            "text/plain": [
              "Making predictions...:   0%|          | 0/313 [00:00<?, ?it/s]"
            ],
            "application/vnd.jupyter.widget-view+json": {
              "version_major": 2,
              "version_minor": 0,
              "model_id": "9642888a1b7e41078afd376e5431371a"
            }
          },
          "metadata": {}
        }
      ]
    },
    {
      "cell_type": "code",
      "source": [
        "len(y_pred_tensor)"
      ],
      "metadata": {
        "colab": {
          "base_uri": "https://localhost:8080/"
        },
        "id": "7xMa7jSSBsjG",
        "outputId": "e41de809-0a2a-4b4b-9cd0-cfd282351aa2"
      },
      "execution_count": 142,
      "outputs": [
        {
          "output_type": "execute_result",
          "data": {
            "text/plain": [
              "10000"
            ]
          },
          "metadata": {},
          "execution_count": 142
        }
      ]
    },
    {
      "cell_type": "code",
      "source": [
        "y_pred_tensor"
      ],
      "metadata": {
        "colab": {
          "base_uri": "https://localhost:8080/"
        },
        "id": "Ki76DydCCHQk",
        "outputId": "f3f9892a-a23a-4b15-e490-e6cee2c61bad"
      },
      "execution_count": 143,
      "outputs": [
        {
          "output_type": "execute_result",
          "data": {
            "text/plain": [
              "tensor([9, 2, 1,  ..., 8, 1, 5])"
            ]
          },
          "metadata": {},
          "execution_count": 143
        }
      ]
    },
    {
      "cell_type": "code",
      "source": [
        "try:\n",
        "  import torchmetrics, mlxtend\n",
        "  print(f\"mlxtend version: {mlxtend.__version__}\")\n",
        "  assert int(mlxtend.__version__.split('.')[1]) >= 19, 'mlxtend version should be >= 0.19'\n",
        "except:\n",
        "  !pip install -q torchmetrics -U mlxtend\n",
        "  import torchmetrics, mlxtend\n",
        "  print(f'mlxtend version: {mlxtend.__version__}')\n"
      ],
      "metadata": {
        "colab": {
          "base_uri": "https://localhost:8080/"
        },
        "id": "CPWcz_xTF4jK",
        "outputId": "de85a4fb-b37e-4e09-89e8-978bdcf7ca68"
      },
      "execution_count": 144,
      "outputs": [
        {
          "output_type": "stream",
          "name": "stdout",
          "text": [
            "mlxtend version: 0.23.1\n"
          ]
        }
      ]
    },
    {
      "cell_type": "code",
      "source": [
        "from torchmetrics import ConfusionMatrix\n",
        "from mlxtend.plotting import plot_confusion_matrix\n",
        "\n",
        "# 2. Setup confusion matrix instance and compare predictions to targets\n",
        "confmat = ConfusionMatrix(num_classes=len(class_names), task='multiclass')\n",
        "confmat_tensor = confmat(preds=y_pred_tensor,\n",
        "                         target=test_data.targets)\n",
        "\n",
        "# 3. Plot the confusion matrix\n",
        "fig, ax = plot_confusion_matrix(\n",
        "    conf_mat=confmat_tensor.numpy(), # matplotlib likes working with NumPy\n",
        "    class_names=class_names, # turn the row and column labels into class names\n",
        "    figsize=(10, 7)\n",
        ");"
      ],
      "metadata": {
        "colab": {
          "base_uri": "https://localhost:8080/",
          "height": 667
        },
        "id": "9Lm0RJZjtRzp",
        "outputId": "6b9107c8-6709-45d1-c6e0-47201a96add9"
      },
      "execution_count": 145,
      "outputs": [
        {
          "output_type": "display_data",
          "data": {
            "text/plain": [
              "<Figure size 1000x700 with 1 Axes>"
            ],
            "image/png": "[encoded data removed]"
          },
          "metadata": {}
        }
      ]
    },
    {
      "cell_type": "markdown",
      "source": [
        "## 11. Save and Load best performing model\n"
      ],
      "metadata": {
        "id": "DQvHvgZaFgy1"
      }
    },
    {
      "cell_type": "code",
      "source": [
        "from pathlib import Path\n",
        "\n",
        "# Create model directory path\n",
        "MODEL_PATH = Path(\"models\")\n",
        "MODEL_PATH.mkdir(parents=True,\n",
        "                 exist_ok = True)\n",
        "\n",
        "# Create model save path\n",
        "MODEL_NAME = '03_pytorch_computer_vision_cnn_model.pth'\n",
        "MODEL_SAVE_PATH = MODEL_PATH / MODEL_NAME\n",
        "\n",
        "# Save the model state_dict\n",
        "print(f'Saving model to: {MODEL_SAVE_PATH}')\n",
        "torch.save(obj = model2.state_dict(),\n",
        "           f = MODEL_SAVE_PATH)"
      ],
      "metadata": {
        "id": "rsxNYpUn_Qq7",
        "colab": {
          "base_uri": "https://localhost:8080/"
        },
        "outputId": "ccc1a75f-0f7b-46ca-cd7e-4230bf8d2041"
      },
      "execution_count": 146,
      "outputs": [
        {
          "output_type": "stream",
          "name": "stdout",
          "text": [
            "Saving model to: models/03_pytorch_computer_vision_cnn_model.pth\n"
          ]
        }
      ]
    },
    {
      "cell_type": "code",
      "source": [
        "# Create a new instance of model\n",
        "loaded_model2 = FashionMNISTModelv2(input_shape = 1,\n",
        "                                    hidden_units = 10,\n",
        "                                    output_shape = len(class_names))\n",
        "\n",
        "# Load in the saved state_dict\n",
        "loaded_model2.load_state_dict(torch.load(f = MODEL_SAVE_PATH))\n",
        "\n",
        "# Send the model to target device\n",
        "loaded_model2.to(device)"
      ],
      "metadata": {
        "colab": {
          "base_uri": "https://localhost:8080/"
        },
        "id": "DJsLhNSbGisn",
        "outputId": "0d20d8f5-b63c-4fe4-d906-492f012d8389"
      },
      "execution_count": 147,
      "outputs": [
        {
          "output_type": "execute_result",
          "data": {
            "text/plain": [
              "FashionMNISTModelv2(\n",
              "  (conv_block_1): Sequential(\n",
              "    (0): Conv2d(1, 10, kernel_size=(3, 3), stride=(1, 1), padding=(1, 1))\n",
              "    (1): ReLU()\n",
              "    (2): Conv2d(10, 10, kernel_size=(3, 3), stride=(1, 1), padding=(1, 1))\n",
              "    (3): ReLU()\n",
              "    (4): MaxPool2d(kernel_size=2, stride=2, padding=0, dilation=1, ceil_mode=False)\n",
              "  )\n",
              "  (conv_block_2): Sequential(\n",
              "    (0): Conv2d(10, 10, kernel_size=(3, 3), stride=(1, 1), padding=(1, 1))\n",
              "    (1): ReLU()\n",
              "    (2): Conv2d(10, 10, kernel_size=(3, 3), stride=(1, 1), padding=(1, 1))\n",
              "    (3): ReLU()\n",
              "    (4): MaxPool2d(kernel_size=2, stride=2, padding=0, dilation=1, ceil_mode=False)\n",
              "  )\n",
              "  (classifier): Sequential(\n",
              "    (0): Flatten(start_dim=1, end_dim=-1)\n",
              "    (1): Linear(in_features=490, out_features=10, bias=True)\n",
              "  )\n",
              ")"
            ]
          },
          "metadata": {},
          "execution_count": 147
        }
      ]
    },
    {
      "cell_type": "code",
      "source": [
        "model2_results"
      ],
      "metadata": {
        "colab": {
          "base_uri": "https://localhost:8080/"
        },
        "id": "ocp7-Fo8HR_m",
        "outputId": "6037a19e-18c8-48de-db8a-c56250296d79"
      },
      "execution_count": 148,
      "outputs": [
        {
          "output_type": "execute_result",
          "data": {
            "text/plain": [
              "{'model_name': 'FashionMNISTModelv2',\n",
              " 'model_loss': 0.323201060295105,\n",
              " 'model_acc': 88.43849840255591}"
            ]
          },
          "metadata": {},
          "execution_count": 148
        }
      ]
    },
    {
      "cell_type": "code",
      "source": [
        "# Evaluate loaded model\n",
        "torch.manual_seed(42)\n",
        "torch.cuda.manual_seed(42)\n",
        "\n",
        "loaded_model2_results = eval_model(\n",
        "    loaded_model2,\n",
        "    test_dataloader,\n",
        "    loss_fn,\n",
        "    accuracy_fn,\n",
        "    device\n",
        ")\n",
        "\n",
        "loaded_model2_results"
      ],
      "metadata": {
        "colab": {
          "base_uri": "https://localhost:8080/",
          "height": 103,
          "referenced_widgets": [
            "4c1b9044609e41d08f8a0f644eae4dba",
            "adbffc5ba0104126809cefd132fa471f",
            "a6635fab72954177b651d6803e5fd481",
            "ab6e17d164d548ca9979d8ccf0d0acdd",
            "976de094cd414f86b525931730932bc2",
            "dc107d47ddf242d1b6de9e5afda23748",
            "3825fbe635494a84b49a82d9943fc27d",
            "cff146af79824b3c86eeda367c84b5a9",
            "a0421c8bc2d6454380e5d9fcacd91e21",
            "97d15f31554645189dfdd04894cffce7",
            "3d2bf62f61f6402688d6958bc4412170"
          ]
        },
        "id": "s3T17sF4HMY7",
        "outputId": "93e51a04-25d6-4c39-9ae9-b0734d949c45"
      },
      "execution_count": 149,
      "outputs": [
        {
          "output_type": "display_data",
          "data": {
            "text/plain": [
              "  0%|          | 0/313 [00:00<?, ?it/s]"
            ],
            "application/vnd.jupyter.widget-view+json": {
              "version_major": 2,
              "version_minor": 0,
              "model_id": "4c1b9044609e41d08f8a0f644eae4dba"
            }
          },
          "metadata": {}
        },
        {
          "output_type": "execute_result",
          "data": {
            "text/plain": [
              "{'model_name': 'FashionMNISTModelv2',\n",
              " 'model_loss': 0.323201060295105,\n",
              " 'model_acc': 88.43849840255591}"
            ]
          },
          "metadata": {},
          "execution_count": 149
        }
      ]
    },
    {
      "cell_type": "code",
      "source": [
        "# Check if model results are close to each other\n",
        "torch.isclose(torch.tensor(model2_results['model_loss']),\n",
        "              torch.tensor(loaded_model2_results['model_loss']))"
      ],
      "metadata": {
        "colab": {
          "base_uri": "https://localhost:8080/"
        },
        "id": "yh8cHrHYHoa4",
        "outputId": "9df44505-45b0-4796-f70b-5f334a03d075"
      },
      "execution_count": 150,
      "outputs": [
        {
          "output_type": "execute_result",
          "data": {
            "text/plain": [
              "tensor(True)"
            ]
          },
          "metadata": {},
          "execution_count": 150
        }
      ]
    },
    {
      "cell_type": "code",
      "source": [],
      "metadata": {
        "id": "6WJ8QXkvIAee"
      },
      "execution_count": null,
      "outputs": []
    }
  ]
}