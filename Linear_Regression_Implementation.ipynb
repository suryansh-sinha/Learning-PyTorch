{
  "nbformat": 4,
  "nbformat_minor": 0,
  "metadata": {
    "colab": {
      "provenance": [],
      "collapsed_sections": [],
      "authorship_tag": "ABX9TyOWz6Dwxxtjnj6fOytBgAUN",
      "include_colab_link": true
    },
    "kernelspec": {
      "name": "python3",
      "display_name": "Python 3"
    },
    "language_info": {
      "name": "python"
    }
  },
  "cells": [
    {
      "cell_type": "markdown",
      "metadata": {
        "id": "view-in-github",
        "colab_type": "text"
      },
      "source": [
        "<a href=\"https://colab.research.google.com/github/suryansh-sinha/DeepLearningIntro/blob/main/Basic_Linear_Regression_Implementation.ipynb\" target=\"_parent\"><img src=\"https://colab.research.google.com/assets/colab-badge.svg\" alt=\"Open In Colab\"/></a>"
      ]
    },
    {
      "cell_type": "code",
      "execution_count": 19,
      "metadata": {
        "colab": {
          "base_uri": "https://localhost:8080/",
          "height": 35
        },
        "id": "g-ARSLlim1UN",
        "outputId": "bba550c9-fc26-4e5e-debd-66b86799f43b"
      },
      "outputs": [
        {
          "output_type": "execute_result",
          "data": {
            "text/plain": [
              "'1.12.1+cu113'"
            ],
            "application/vnd.google.colaboratory.intrinsic+json": {
              "type": "string"
            }
          },
          "metadata": {},
          "execution_count": 19
        }
      ],
      "source": [
        "import torch\n",
        "from torch import nn  # nn contains basic building blocks of all neural network graphs (Tree graph)\n",
        "import matplotlib.pyplot as plt\n",
        "\n",
        "# Checking PyTorch version.\n",
        "torch.__version__"
      ]
    },
    {
      "cell_type": "markdown",
      "source": [
        "## We now start implementation of our first machine learning algorithm in the PyTorch framework.\n",
        "\n",
        "We are creating a simple linear regression algorithm (not neural network). And we optimize the parameters using normal gradient descent algorithm.\n"
      ],
      "metadata": {
        "id": "6E_APs9OB50F"
      }
    },
    {
      "cell_type": "code",
      "source": [
        "# Known parameters. We want our model to calculate and get to this value for weights and biases.\n",
        "weight = 0.7\n",
        "bias = 0.3\n",
        "\n",
        "# Create data\n",
        "start = 0\n",
        "end = 1\n",
        "step = 0.02\n",
        "X = torch.arange(start, end, step).unsqueeze(dim=1) # X in machine learning is usually a tensor. It represents our features.\n",
        "# unsqueeze(dim=1) adds an extra dimension so we have 1 more bracket in our tensor.\n",
        "y = weight * X + bias # y contains our labels or data to be predicted.\n",
        "\n",
        "X[:10], y[:10]"
      ],
      "metadata": {
        "colab": {
          "base_uri": "https://localhost:8080/"
        },
        "id": "5Ye4ehzK0StX",
        "outputId": "8b162564-2b7f-4a4d-a8aa-24df769c31e3"
      },
      "execution_count": 20,
      "outputs": [
        {
          "output_type": "execute_result",
          "data": {
            "text/plain": [
              "(tensor([[0.0000],\n",
              "         [0.0200],\n",
              "         [0.0400],\n",
              "         [0.0600],\n",
              "         [0.0800],\n",
              "         [0.1000],\n",
              "         [0.1200],\n",
              "         [0.1400],\n",
              "         [0.1600],\n",
              "         [0.1800]]), tensor([[0.3000],\n",
              "         [0.3140],\n",
              "         [0.3280],\n",
              "         [0.3420],\n",
              "         [0.3560],\n",
              "         [0.3700],\n",
              "         [0.3840],\n",
              "         [0.3980],\n",
              "         [0.4120],\n",
              "         [0.4260]]))"
            ]
          },
          "metadata": {},
          "execution_count": 20
        }
      ]
    },
    {
      "cell_type": "markdown",
      "source": [
        "Now, we're going to update our parameters so that the function best represents our data. To do that, first we need to split up our dataset into a training and test set. (and a validation set if needed)"
      ],
      "metadata": {
        "id": "lyqergqr0nlp"
      }
    },
    {
      "cell_type": "code",
      "source": [
        "train_split = int(0.8 * len(X)) # 80% data used for training set, 20% dataset used for testing.\n",
        "X_train, y_train = X[:train_split], y[:train_split]\n",
        "X_test, y_test = X[train_split:], y[train_split:]\n",
        "\n",
        "len(X_train), len(y_train), len(X_test), len(y_test)"
      ],
      "metadata": {
        "colab": {
          "base_uri": "https://localhost:8080/"
        },
        "id": "sFJzbTCs1Bc9",
        "outputId": "c3d07569-d43e-4cf3-aed8-de91d7fe3e2f"
      },
      "execution_count": 21,
      "outputs": [
        {
          "output_type": "execute_result",
          "data": {
            "text/plain": [
              "(40, 40, 10, 10)"
            ]
          },
          "metadata": {},
          "execution_count": 21
        }
      ]
    },
    {
      "cell_type": "markdown",
      "source": [
        "Now, let's create a function to visualize our data instead of it just being numbers on a page. To do that, we use pyplot."
      ],
      "metadata": {
        "id": "Yf-DlOMt112i"
      }
    },
    {
      "cell_type": "code",
      "source": [
        "def plot_predictions(train_data = X_train, train_labels = y_train,\n",
        "                     test_data = X_test, test_labels = y_test,\n",
        "                     predictions = None):\n",
        "  \n",
        "  # Plots training and test data and compares predictions.\n",
        "\n",
        "  plt.figure(figsize=(10,7))  # Creates a new figure. figsize parameter takes width and height of figure in inches.\n",
        "\n",
        "  # plt.scatter creates a scatter plot of y vs x. With varying marker size and/or color.\n",
        "  # s represents the marker size. c represents the color of the marker.\n",
        "\n",
        "  # Creating blue points for training data.\n",
        "  plt.scatter(train_data, train_labels, s=4, c='b', marker='x', label=\"Training Data\")\n",
        "\n",
        "  # Creating green points for testing data. We can change the marker's shape also.\n",
        "  plt.scatter(test_data, test_labels, s=4, c='g', marker='x', label=\"Testing Data\")\n",
        "\n",
        "  # Creating red points for our predicted data.\n",
        "  if predictions is not None:\n",
        "    # Plot the predictions if they exist.\n",
        "    plt.scatter(test_data, predictions, c='r', s=4, label=\"Predictions\")\n",
        "\n",
        "  plt.legend(prop={'size': 14});"
      ],
      "metadata": {
        "id": "8UV8o6gv2cCY"
      },
      "execution_count": 22,
      "outputs": []
    },
    {
      "cell_type": "code",
      "source": [
        "plot_predictions();"
      ],
      "metadata": {
        "colab": {
          "base_uri": "https://localhost:8080/",
          "height": 428
        },
        "id": "NmF0KzfA4AFO",
        "outputId": "4677251e-1249-45c1-9b70-a80d31c4ef68"
      },
      "execution_count": 23,
      "outputs": [
        {
          "output_type": "display_data",
          "data": {
            "text/plain": [
              "<Figure size 720x504 with 1 Axes>"
            ],
            "image/png": "[encoded data removed]"
          },
          "metadata": {
            "needs_background": "light"
          }
        }
      ]
    },
    {
      "cell_type": "markdown",
      "source": [
        "##2. Building our model."
      ],
      "metadata": {
        "id": "srKrnAQO4Gf8"
      }
    },
    {
      "cell_type": "code",
      "source": [
        "# Create a linear regression model class.\n",
        "\n",
        "# Almost everything in PyTorch inherits from nn.Module.\n",
        "# Modules can also contain other modules so, you can nest them in a tree structure.\n",
        "# Our class LinearRegressionModel inherits nn.Module class.\n",
        "# We can name our class anything though. It's not like yahi hona chahiye bas.\n",
        "class LinearRegressionModel(nn.Module):\n",
        "  def __init__(self):\n",
        "    super().__init__()\n",
        "\n",
        "    # Initialize model parameters. This step is also not necessary.\n",
        "    self.weights = nn.Parameter(torch.randn(1,                      # Start with random weight. This will get adjusted as model learns.\n",
        "                                            requires_grad = True,   # Can we update this value with gradient descent.\n",
        "                                            dtype=torch.float))     # PyTorch loves float32 by default. \n",
        "\n",
        "    self.bias = nn.Parameter(torch.rand(1,\n",
        "                                        requires_grad = True,\n",
        "                                        dtype=torch.float))\n",
        "    \n",
        "  # Writing the function for forward propagation. When a value is passed through a neuron, what happens.\n",
        "  # The node/neuron does mx + b, then uses the activation function.\n",
        "  # Forward defines the computation made at every call.\n",
        "  # Any subclass of nn.Module requires forward method to be overwritten.\n",
        "  def forward(self, x: torch.Tensor) -> torch.Tensor:   # 'x' is expected to be of type torch.Tensor and the function outputs torch.Tensor.\n",
        "    return self.weights * x + self.bias   # This is the linear regression formula (y = mx + b)\n"
      ],
      "metadata": {
        "id": "oomrQiLm7e5X"
      },
      "execution_count": 24,
      "outputs": []
    },
    {
      "cell_type": "markdown",
      "source": [
        "### PyTorch Model Building Essentials\n",
        "\n",
        "* `torch.nn` - contains all the building blocks for computational graphs (neural networks)\n",
        "* `torch.nn.Parameter` - what parameters should our model try and learn. Often, a pytorch layer from torch.nn will set this for us.\n",
        "* `torch.nn.Module` - base class for all neural network modules. if you subclass it, you should override forward method.\n",
        "* `torch.optim` - this is where the optimizers in pyTorch live. They help with gradient descent calculations.\n",
        "* `def forward()` -  All nn.Module subclasses require you to override forward(). This method defines what happens in the forward computation."
      ],
      "metadata": {
        "id": "IqcPbHB5_4D8"
      }
    },
    {
      "cell_type": "markdown",
      "source": [
        "### Checking the contents of our PyTorch model.\n",
        "\n",
        "We can check our model parameters or what's inside our model using `.parameters()` function."
      ],
      "metadata": {
        "id": "YKXt5uIxBBk3"
      }
    },
    {
      "cell_type": "code",
      "source": [
        "torch.manual_seed(42) # Starts generating random numbers. Always generates .3367 first!\n",
        "torch.randn(1)"
      ],
      "metadata": {
        "colab": {
          "base_uri": "https://localhost:8080/"
        },
        "id": "Nv-9YaTXUXNI",
        "outputId": "9d5aa5ec-1e8d-489c-ee54-660954977b2b"
      },
      "execution_count": 25,
      "outputs": [
        {
          "output_type": "execute_result",
          "data": {
            "text/plain": [
              "tensor([0.3367])"
            ]
          },
          "metadata": {},
          "execution_count": 25
        }
      ]
    },
    {
      "cell_type": "code",
      "source": [
        "# Creating a random seed.\n",
        "torch.manual_seed(42)\n",
        "\n",
        "# Create an instance of our class.\n",
        "model_0 = LinearRegressionModel()\n",
        "\n",
        "# Checking out parameters.\n",
        "list(model_0.parameters())"
      ],
      "metadata": {
        "colab": {
          "base_uri": "https://localhost:8080/"
        },
        "id": "cS9Bpsm_CCMO",
        "outputId": "6ba53d2c-0e12-4d16-d147-200e293c90d4"
      },
      "execution_count": 26,
      "outputs": [
        {
          "output_type": "execute_result",
          "data": {
            "text/plain": [
              "[Parameter containing:\n",
              " tensor([0.3367], requires_grad=True), Parameter containing:\n",
              " tensor([0.3904], requires_grad=True)]"
            ]
          },
          "metadata": {},
          "execution_count": 26
        }
      ]
    },
    {
      "cell_type": "markdown",
      "source": [
        "### Making predictions using `torch.inference_mode()`\n",
        "\n",
        "To check our model's predictive power, let's see how our model predicts 'y_test' compared to 'X_test'\n",
        "\n",
        "`inference_mode()` is not required to make predictions. What inference mode does is that it stops tracking gradients for parameters which results in faster performance. So, when we're not training, we can use this method to improve performance.\n",
        "\n",
        "`torch.inference_mode()` is `torch.no_grad()` on steroids. Basically both functions do the same thing but the first one is better."
      ],
      "metadata": {
        "id": "KNeq1A7rTmec"
      }
    },
    {
      "cell_type": "code",
      "source": [
        "# With keyword ensures that program terminates properly if an exception is raised\n",
        "with torch.inference_mode():\n",
        "  y_preds = model_0(X_test) # Inference mode is a context manager that ensures that you are not keeping track of gradients during your operations.\n",
        "  # This is true for testing.\n",
        "\n",
        "# This was the older method for doing the above process but now torch.inference_mode() is more favoured.\n",
        "# with torch.no_grad():\n",
        "#   y_preds = model_0(X_test) \n",
        "\n",
        "y_preds"
      ],
      "metadata": {
        "colab": {
          "base_uri": "https://localhost:8080/"
        },
        "id": "4Z9sAksmVcsI",
        "outputId": "39ac6ef3-6e8f-40e2-b130-6c04329a7441"
      },
      "execution_count": 27,
      "outputs": [
        {
          "output_type": "execute_result",
          "data": {
            "text/plain": [
              "tensor([[0.6598],\n",
              "        [0.6665],\n",
              "        [0.6733],\n",
              "        [0.6800],\n",
              "        [0.6867],\n",
              "        [0.6935],\n",
              "        [0.7002],\n",
              "        [0.7069],\n",
              "        [0.7137],\n",
              "        [0.7204]])"
            ]
          },
          "metadata": {},
          "execution_count": 27
        }
      ]
    },
    {
      "cell_type": "code",
      "source": [
        "y_pred = model_0(X_test)\n",
        "# This does the same thing as the above function but, it keeps track of the gradient even during testing which is not required.\n",
        "# Gradient is only needed to be tracked during the training phase."
      ],
      "metadata": {
        "id": "ZlDFT3CRW6Ai"
      },
      "execution_count": 28,
      "outputs": []
    },
    {
      "cell_type": "code",
      "source": [
        "# Plotting predictions made by our random parameters that we created. We will train our model to adjust these parameters.\n",
        "plot_predictions(predictions=y_preds)"
      ],
      "metadata": {
        "colab": {
          "base_uri": "https://localhost:8080/",
          "height": 428
        },
        "id": "cvg8-BxmV-ei",
        "outputId": "ca64c711-589a-4e33-f5aa-2c9855175b27"
      },
      "execution_count": 29,
      "outputs": [
        {
          "output_type": "display_data",
          "data": {
            "text/plain": [
              "<Figure size 720x504 with 1 Axes>"
            ],
            "image/png": "[encoded data removed]"
          },
          "metadata": {
            "needs_background": "light"
          }
        }
      ]
    },
    {
      "cell_type": "markdown",
      "source": [
        "## 3. Training Model\n",
        "\n",
        "The whole idea of training a model is to move from *unknown* random parameters to *known* parameters. Which basically represent the data in a better manner.\n",
        "\n",
        "Our function should be able to predict the values such that the cost function gives us minimum value. To do that, we use gradient descent.\n",
        "\n",
        "* **Loss Function** -  measures how poor our model's predictions are compared to the ideal values.\n",
        "\n",
        "* **Optimizer** - Takes into account the value of our loss and then changes the values of our parameters such that we're minimizing the loss.\n",
        "Inside the optimizer, you'll often have to set two values -\n",
        "  1. `params` - the model parameters you'd like to optimize.\n",
        "  2. `lr` - The learning rate. How fast or slow you want your parameter values to be updated.\n",
        "\n",
        "Specifically for PyTorch, we need -\n",
        "* A training loop\n",
        "* A testing loop"
      ],
      "metadata": {
        "id": "mD1moA-2Wgf0"
      }
    },
    {
      "cell_type": "code",
      "source": [
        "list(model_0.parameters())"
      ],
      "metadata": {
        "colab": {
          "base_uri": "https://localhost:8080/"
        },
        "id": "uWrF3gUeKOk0",
        "outputId": "715a2775-c3bb-474b-fa40-18d6e574be82"
      },
      "execution_count": 30,
      "outputs": [
        {
          "output_type": "execute_result",
          "data": {
            "text/plain": [
              "[Parameter containing:\n",
              " tensor([0.3367], requires_grad=True), Parameter containing:\n",
              " tensor([0.3904], requires_grad=True)]"
            ]
          },
          "metadata": {},
          "execution_count": 30
        }
      ]
    },
    {
      "cell_type": "code",
      "source": [
        "# Check out our model's parameters in the form of an ordered dictionary.\n",
        "model_0.state_dict()"
      ],
      "metadata": {
        "colab": {
          "base_uri": "https://localhost:8080/"
        },
        "id": "c7mJMR7nLj0Z",
        "outputId": "9285d30a-12ce-4bd6-b602-7ca6c64b4334"
      },
      "execution_count": 31,
      "outputs": [
        {
          "output_type": "execute_result",
          "data": {
            "text/plain": [
              "OrderedDict([('weights', tensor([0.3367])), ('bias', tensor([0.3904]))])"
            ]
          },
          "metadata": {},
          "execution_count": 31
        }
      ]
    },
    {
      "cell_type": "code",
      "source": [
        "# Setup a loss function\n",
        "lossFunc = nn.L1Loss()  # L1 Loss is mean absolute error. Difference ka absolute value leke, uska mean.\n",
        "\n",
        "# Setup an optimizer (we're using stochastic gradient descent)\n",
        "optimizer = torch.optim.SGD(model_0.parameters(), lr=0.01) # lr is learning rate."
      ],
      "metadata": {
        "id": "IpyMsEdVLujz"
      },
      "execution_count": 32,
      "outputs": []
    },
    {
      "cell_type": "markdown",
      "source": [
        "## Building a training loop in PyTorch\n",
        "\n",
        "A couple of things we need in a training loop:\n",
        "0. Loop through the data\n",
        "1. Forward pass (this involves moving data through our model's `forward()` function) to make predictions on data. This is also called forward propagation.\n",
        "2. Calculate the loss (compare forward pass predictions to actual values)\n",
        "3. Optimizer zero grad\n",
        "4. Backward Propagation - move backwards through the network, adjusting our weights and biases by finding their gradients with respect to the loss function.\n",
        "5. Gradient Descent - Use the optimizer to adjust the weights and biases such that it improves loss."
      ],
      "metadata": {
        "id": "p_1cgXSHO4_g"
      }
    },
    {
      "cell_type": "code",
      "source": [
        "list(model_0.parameters())  # This block shows our original random values of parameters."
      ],
      "metadata": {
        "colab": {
          "base_uri": "https://localhost:8080/"
        },
        "id": "a4DidL8DYh_g",
        "outputId": "a8ac4b55-079a-409e-96fc-9b58d4be762c"
      },
      "execution_count": 33,
      "outputs": [
        {
          "output_type": "execute_result",
          "data": {
            "text/plain": [
              "[Parameter containing:\n",
              " tensor([0.3367], requires_grad=True), Parameter containing:\n",
              " tensor([0.3904], requires_grad=True)]"
            ]
          },
          "metadata": {},
          "execution_count": 33
        }
      ]
    },
    {
      "cell_type": "code",
      "source": [
        "# Setting a manual seed to control the randomness of the program.\n",
        "torch.manual_seed(42)\n",
        "\n",
        "# An epoch is one loop through our data. This is a hyperparameter (because we've set it ourselves)\n",
        "epochs = 200\n",
        "\n",
        "# Track different values\n",
        "epoch_count = []\n",
        "loss_values = []\n",
        "test_loss_values = []\n",
        "\n",
        "### Training\n",
        "# 0. Loop through the data.\n",
        "for epoch in range(epochs):\n",
        "  # Set the model to training mode.\n",
        "  model_0.train() # Train mode sets all parameters that require gradient to require gradient.\n",
        "\n",
        "  # 1. Forward propagation\n",
        "  y_pred = model_0(X_train)\n",
        "\n",
        "  # 2. Calculate our loss\n",
        "  loss = lossFunc(y_pred, y_train)  # Calculating the value of our loss function.\n",
        "  # print(f'Loss: {loss}')\n",
        "  # We take partial derivative of loss function wrt each parameter during backpropagation.\n",
        "\n",
        "  # 3. Optimizer zero grad.\n",
        "  optimizer.zero_grad() # This functions sets the gradwrients of all our parameters to be zero. Because they add up after each epoch, we set them to zero for fresh starts.\n",
        "\n",
        "  # 4. Backpropagation\n",
        "  loss.backward() # Backward function calculates the gradient descent for all the parameters of our model that have reqires_grad=True\n",
        "\n",
        "  # 5. Step the optimizer (perform gradient descent)\n",
        "  optimizer.step()  # Step function is basically updating our parameters based on the gradient descent we calculated.\n",
        "\n",
        "  ### Testing\n",
        "  model_0.eval()  # Turns off settings which we don't need during testing.\n",
        "  with torch.inference_mode():  # Turns off gradient tracking. Inference mode is torch.no_grad() on steroids!\n",
        "    # 1. Forward Pass\n",
        "    test_pred = model_0(X_test)\n",
        "    # 2. Loss Calculation\n",
        "    test_loss = lossFunc(test_pred, y_test)\n",
        "\n",
        "  # Print out what's happening\n",
        "  if epoch%5 == 0:\n",
        "    epoch_count.append(epoch)\n",
        "    loss_values.append(loss)\n",
        "    test_loss_values.append(test_loss)\n",
        "    print(f'Epoch: {epoch} | Loss: {loss} | Test Loss: {test_loss}')\n",
        "    print(model_0.state_dict())\n",
        "    print()\n"
      ],
      "metadata": {
        "colab": {
          "base_uri": "https://localhost:8080/"
        },
        "id": "qCpHpKdLO8em",
        "outputId": "66f532f1-1fbf-4a3d-ab7a-3527caae09f5"
      },
      "execution_count": 34,
      "outputs": [
        {
          "output_type": "stream",
          "name": "stdout",
          "text": [
            "Epoch: 0 | Loss: 0.08169572055339813 | Test Loss: 0.22662055492401123\n",
            "OrderedDict([('weights', tensor([0.3398])), ('bias', tensor([0.3939]))])\n",
            "\n",
            "Epoch: 5 | Loss: 0.07310795783996582 | Test Loss: 0.2008223533630371\n",
            "OrderedDict([('weights', tensor([0.3542])), ('bias', tensor([0.4069]))])\n",
            "\n",
            "Epoch: 10 | Loss: 0.06808149069547653 | Test Loss: 0.1807345449924469\n",
            "OrderedDict([('weights', tensor([0.3672])), ('bias', tensor([0.4154]))])\n",
            "\n",
            "Epoch: 15 | Loss: 0.06489682197570801 | Test Loss: 0.1665084809064865\n",
            "OrderedDict([('weights', tensor([0.3787])), ('bias', tensor([0.4194]))])\n",
            "\n",
            "Epoch: 20 | Loss: 0.06258393079042435 | Test Loss: 0.15627031028270721\n",
            "OrderedDict([('weights', tensor([0.3891])), ('bias', tensor([0.4204]))])\n",
            "\n",
            "Epoch: 25 | Loss: 0.0605839304625988 | Test Loss: 0.14737029373645782\n",
            "OrderedDict([('weights', tensor([0.3991])), ('bias', tensor([0.4204]))])\n",
            "\n",
            "Epoch: 30 | Loss: 0.05879194289445877 | Test Loss: 0.1418602615594864\n",
            "OrderedDict([('weights', tensor([0.4081])), ('bias', tensor([0.4179]))])\n",
            "\n",
            "Epoch: 35 | Loss: 0.05704693868756294 | Test Loss: 0.13635022938251495\n",
            "OrderedDict([('weights', tensor([0.4171])), ('bias', tensor([0.4154]))])\n",
            "\n",
            "Epoch: 40 | Loss: 0.05530194193124771 | Test Loss: 0.13084018230438232\n",
            "OrderedDict([('weights', tensor([0.4261])), ('bias', tensor([0.4129]))])\n",
            "\n",
            "Epoch: 45 | Loss: 0.05355694144964218 | Test Loss: 0.12533016502857208\n",
            "OrderedDict([('weights', tensor([0.4351])), ('bias', tensor([0.4104]))])\n",
            "\n",
            "Epoch: 50 | Loss: 0.051822252571582794 | Test Loss: 0.12050700187683105\n",
            "OrderedDict([('weights', tensor([0.4439])), ('bias', tensor([0.4074]))])\n",
            "\n",
            "Epoch: 55 | Loss: 0.050105344504117966 | Test Loss: 0.11637072265148163\n",
            "OrderedDict([('weights', tensor([0.4525])), ('bias', tensor([0.4039]))])\n",
            "\n",
            "Epoch: 60 | Loss: 0.04838593676686287 | Test Loss: 0.11223447322845459\n",
            "OrderedDict([('weights', tensor([0.4610])), ('bias', tensor([0.4004]))])\n",
            "\n",
            "Epoch: 65 | Loss: 0.04666654020547867 | Test Loss: 0.10809819400310516\n",
            "OrderedDict([('weights', tensor([0.4696])), ('bias', tensor([0.3969]))])\n",
            "\n",
            "Epoch: 70 | Loss: 0.044948760420084 | Test Loss: 0.10464880615472794\n",
            "OrderedDict([('weights', tensor([0.4780])), ('bias', tensor([0.3929]))])\n",
            "\n",
            "Epoch: 75 | Loss: 0.04323454201221466 | Test Loss: 0.10051252692937851\n",
            "OrderedDict([('weights', tensor([0.4866])), ('bias', tensor([0.3894]))])\n",
            "\n",
            "Epoch: 80 | Loss: 0.04152031987905502 | Test Loss: 0.09637625515460968\n",
            "OrderedDict([('weights', tensor([0.4951])), ('bias', tensor([0.3859]))])\n",
            "\n",
            "Epoch: 85 | Loss: 0.03980172425508499 | Test Loss: 0.09224001318216324\n",
            "OrderedDict([('weights', tensor([0.5037])), ('bias', tensor([0.3824]))])\n",
            "\n",
            "Epoch: 90 | Loss: 0.03808232396841049 | Test Loss: 0.08810374140739441\n",
            "OrderedDict([('weights', tensor([0.5123])), ('bias', tensor([0.3789]))])\n",
            "\n",
            "Epoch: 95 | Loss: 0.03636292368173599 | Test Loss: 0.08396747708320618\n",
            "OrderedDict([('weights', tensor([0.5209])), ('bias', tensor([0.3754]))])\n",
            "\n",
            "Epoch: 100 | Loss: 0.034646838903427124 | Test Loss: 0.08051808178424835\n",
            "OrderedDict([('weights', tensor([0.5293])), ('bias', tensor([0.3714]))])\n",
            "\n",
            "Epoch: 105 | Loss: 0.03293261304497719 | Test Loss: 0.07638178765773773\n",
            "OrderedDict([('weights', tensor([0.5378])), ('bias', tensor([0.3679]))])\n",
            "\n",
            "Epoch: 110 | Loss: 0.031217509880661964 | Test Loss: 0.0722455382347107\n",
            "OrderedDict([('weights', tensor([0.5464])), ('bias', tensor([0.3644]))])\n",
            "\n",
            "Epoch: 115 | Loss: 0.029498090967535973 | Test Loss: 0.06810928881168365\n",
            "OrderedDict([('weights', tensor([0.5550])), ('bias', tensor([0.3609]))])\n",
            "\n",
            "Epoch: 120 | Loss: 0.027778705582022667 | Test Loss: 0.06397300213575363\n",
            "OrderedDict([('weights', tensor([0.5636])), ('bias', tensor([0.3574]))])\n",
            "\n",
            "Epoch: 125 | Loss: 0.02605929970741272 | Test Loss: 0.05983671545982361\n",
            "OrderedDict([('weights', tensor([0.5722])), ('bias', tensor([0.3539]))])\n",
            "\n",
            "Epoch: 130 | Loss: 0.024344902485609055 | Test Loss: 0.05638733506202698\n",
            "OrderedDict([('weights', tensor([0.5805])), ('bias', tensor([0.3499]))])\n",
            "\n",
            "Epoch: 135 | Loss: 0.022630682215094566 | Test Loss: 0.05225106328725815\n",
            "OrderedDict([('weights', tensor([0.5891])), ('bias', tensor([0.3464]))])\n",
            "\n",
            "Epoch: 140 | Loss: 0.020913895219564438 | Test Loss: 0.04811479523777962\n",
            "OrderedDict([('weights', tensor([0.5977])), ('bias', tensor([0.3429]))])\n",
            "\n",
            "Epoch: 145 | Loss: 0.01919448934495449 | Test Loss: 0.043978530913591385\n",
            "OrderedDict([('weights', tensor([0.6063])), ('bias', tensor([0.3394]))])\n",
            "\n",
            "Epoch: 150 | Loss: 0.017475087195634842 | Test Loss: 0.03984225541353226\n",
            "OrderedDict([('weights', tensor([0.6148])), ('bias', tensor([0.3359]))])\n",
            "\n",
            "Epoch: 155 | Loss: 0.015757188200950623 | Test Loss: 0.03639286011457443\n",
            "OrderedDict([('weights', tensor([0.6232])), ('bias', tensor([0.3319]))])\n",
            "\n",
            "Epoch: 160 | Loss: 0.014042967930436134 | Test Loss: 0.0322565920650959\n",
            "OrderedDict([('weights', tensor([0.6318])), ('bias', tensor([0.3284]))])\n",
            "\n",
            "Epoch: 165 | Loss: 0.012328749522566795 | Test Loss: 0.028120320290327072\n",
            "OrderedDict([('weights', tensor([0.6404])), ('bias', tensor([0.3249]))])\n",
            "\n",
            "Epoch: 170 | Loss: 0.010610274039208889 | Test Loss: 0.02398405596613884\n",
            "OrderedDict([('weights', tensor([0.6490])), ('bias', tensor([0.3214]))])\n",
            "\n",
            "Epoch: 175 | Loss: 0.008890870027244091 | Test Loss: 0.019847780466079712\n",
            "OrderedDict([('weights', tensor([0.6575])), ('bias', tensor([0.3179]))])\n",
            "\n",
            "Epoch: 180 | Loss: 0.007171472068876028 | Test Loss: 0.015711510553956032\n",
            "OrderedDict([('weights', tensor([0.6661])), ('bias', tensor([0.3144]))])\n",
            "\n",
            "Epoch: 185 | Loss: 0.00545525923371315 | Test Loss: 0.012262111529707909\n",
            "OrderedDict([('weights', tensor([0.6745])), ('bias', tensor([0.3104]))])\n",
            "\n",
            "Epoch: 190 | Loss: 0.003741039428859949 | Test Loss: 0.008125847205519676\n",
            "OrderedDict([('weights', tensor([0.6831])), ('bias', tensor([0.3069]))])\n",
            "\n",
            "Epoch: 195 | Loss: 0.0020317495800554752 | Test Loss: 0.0033116161357611418\n",
            "OrderedDict([('weights', tensor([0.6918])), ('bias', tensor([0.3039]))])\n",
            "\n"
          ]
        }
      ]
    },
    {
      "cell_type": "code",
      "source": [
        "model_0.state_dict()  # Parameters after 1 epoch"
      ],
      "metadata": {
        "colab": {
          "base_uri": "https://localhost:8080/"
        },
        "id": "aGMNHs0ZT-ht",
        "outputId": "aa2db41a-1525-4e9e-d82d-1139f0d58691"
      },
      "execution_count": 35,
      "outputs": [
        {
          "output_type": "execute_result",
          "data": {
            "text/plain": [
              "OrderedDict([('weights', tensor([0.6962])), ('bias', tensor([0.3064]))])"
            ]
          },
          "metadata": {},
          "execution_count": 35
        }
      ]
    },
    {
      "cell_type": "code",
      "source": [
        "with torch.inference_mode():\n",
        "  finalPredictions = model_0(X_test)\n",
        "\n",
        "plot_predictions(predictions=finalPredictions)"
      ],
      "metadata": {
        "colab": {
          "base_uri": "https://localhost:8080/",
          "height": 428
        },
        "id": "oWgZPCjSYpyk",
        "outputId": "abb293b5-e74b-466c-c1f9-076d8d25353e"
      },
      "execution_count": 36,
      "outputs": [
        {
          "output_type": "display_data",
          "data": {
            "text/plain": [
              "<Figure size 720x504 with 1 Axes>"
            ],
            "image/png": "[encoded data removed]"
          },
          "metadata": {
            "needs_background": "light"
          }
        }
      ]
    },
    {
      "cell_type": "code",
      "source": [
        "torch.tensor(loss_values).numpy()"
      ],
      "metadata": {
        "colab": {
          "base_uri": "https://localhost:8080/"
        },
        "id": "_POQMPSmtvMj",
        "outputId": "fc05e80a-a256-4d4b-d056-1d0860539f4b"
      },
      "execution_count": 37,
      "outputs": [
        {
          "output_type": "execute_result",
          "data": {
            "text/plain": [
              "array([0.08169572, 0.07310796, 0.06808149, 0.06489682, 0.06258393,\n",
              "       0.06058393, 0.05879194, 0.05704694, 0.05530194, 0.05355694,\n",
              "       0.05182225, 0.05010534, 0.04838594, 0.04666654, 0.04494876,\n",
              "       0.04323454, 0.04152032, 0.03980172, 0.03808232, 0.03636292,\n",
              "       0.03464684, 0.03293261, 0.03121751, 0.02949809, 0.02777871,\n",
              "       0.0260593 , 0.0243449 , 0.02263068, 0.0209139 , 0.01919449,\n",
              "       0.01747509, 0.01575719, 0.01404297, 0.01232875, 0.01061027,\n",
              "       0.00889087, 0.00717147, 0.00545526, 0.00374104, 0.00203175],\n",
              "      dtype=float32)"
            ]
          },
          "metadata": {},
          "execution_count": 37
        }
      ]
    },
    {
      "cell_type": "code",
      "source": [
        "# Plotting the loss curves.\n",
        "plt.plot(epoch_count, torch.tensor(loss_values).numpy(), label=\"Train Loss\")\n",
        "plt.plot(epoch_count, torch.tensor(test_loss_values).numpy(), label=\"Test Loss\")\n",
        "plt.title(\"Training and Testing Loss Curves\")\n",
        "plt.xlabel('Epochs')\n",
        "plt.ylabel('Loss')\n",
        "plt.legend();"
      ],
      "metadata": {
        "colab": {
          "base_uri": "https://localhost:8080/",
          "height": 295
        },
        "id": "SkYgU6xmpFWv",
        "outputId": "916827f2-d43b-4aad-ca82-ea1ceb83f881"
      },
      "execution_count": 38,
      "outputs": [
        {
          "output_type": "display_data",
          "data": {
            "text/plain": [
              "<Figure size 432x288 with 1 Axes>"
            ],
            "image/png": "[encoded data removed]"
          },
          "metadata": {
            "needs_background": "light"
          }
        }
      ]
    },
    {
      "cell_type": "markdown",
      "source": [
        "# Saving and Loading Model Data\n",
        "\n",
        "PyTorch uses the pickle module from python to save and load models. In pickle, we use the word serializing for saving and de-serializing for loading.\n",
        "\n",
        "There are 3 main functions you need to know for saving and loading models in PyTorch:\n",
        "\n",
        "1. `torch.save()` - allows you to save a PyTorch model in Python's pickle format.\n",
        "2. `torch.load()` - allows you to load a saved PyTorch object.\n",
        "3. `torch.nn.Module.load_state_dict()` - allows to load a model's saved state dictionary."
      ],
      "metadata": {
        "id": "qdERwV6Wt86g"
      }
    },
    {
      "cell_type": "code",
      "source": [
        "model_0.state_dict()  # PyTorch saves our model's important parameters in a dictionary."
      ],
      "metadata": {
        "colab": {
          "base_uri": "https://localhost:8080/"
        },
        "id": "GgXzvzKrZeoO",
        "outputId": "62dbec59-043d-4898-868c-6de3ba4f262f"
      },
      "execution_count": 39,
      "outputs": [
        {
          "output_type": "execute_result",
          "data": {
            "text/plain": [
              "OrderedDict([('weights', tensor([0.6962])), ('bias', tensor([0.3064]))])"
            ]
          },
          "metadata": {},
          "execution_count": 39
        }
      ]
    },
    {
      "cell_type": "markdown",
      "source": [
        "There are 2 ways of saving/loading a model.\n",
        "1. You can either save the state dict of the model.\n",
        "2. You can save the entire model."
      ],
      "metadata": {
        "id": "VX-DR1_NbI7C"
      }
    },
    {
      "cell_type": "code",
      "source": [
        "# Saving our PyTorch model.\n",
        "from pathlib import Path\n",
        "\n",
        "# 1. Create our model directory.\n",
        "MODEL_PATH = Path(\"models\") # The folder we want to save our models to.\n",
        "MODEL_PATH.mkdir(parents=True, exist_ok=True) # If it already exists, it won't throw us an error.\n",
        "\n",
        "# 2. Create model save path.\n",
        "MODEL_NAME = '01_simple_linear_regression.pt' # PyTorch models are usually saved with the extension .pt or .pth\n",
        "MODEL_SAVE_PATH = MODEL_PATH / MODEL_NAME\n",
        "\n",
        "MODEL_SAVE_PATH # This creates a path. This doesn't save the model.\n",
        "\n",
        "# 3. Saving our model to the path generated.\n",
        "print(f'Saving model to: {MODEL_SAVE_PATH}')\n",
        "torch.save(obj = model_0.state_dict(),\n",
        "           f = MODEL_SAVE_PATH)"
      ],
      "metadata": {
        "colab": {
          "base_uri": "https://localhost:8080/"
        },
        "id": "fHkdvOS5atxB",
        "outputId": "5ef56131-dcd3-4fba-9856-68470a8b1840"
      },
      "execution_count": 40,
      "outputs": [
        {
          "output_type": "stream",
          "name": "stdout",
          "text": [
            "Saving model to: models/01_simple_linear_regression.pt\n"
          ]
        }
      ]
    },
    {
      "cell_type": "code",
      "source": [
        "model_1 = LinearRegressionModel()\n",
        "model_1.load_state_dict(torch.load(MODEL_SAVE_PATH))\n",
        "model_1.eval()\n",
        "model_1.state_dict()"
      ],
      "metadata": {
        "colab": {
          "base_uri": "https://localhost:8080/"
        },
        "id": "9HX83-BRch44",
        "outputId": "1b6cfe7c-58bb-4c94-f63c-1a005de5fd31"
      },
      "execution_count": 41,
      "outputs": [
        {
          "output_type": "execute_result",
          "data": {
            "text/plain": [
              "OrderedDict([('weights', tensor([0.6962])), ('bias', tensor([0.3064]))])"
            ]
          },
          "metadata": {},
          "execution_count": 41
        }
      ]
    },
    {
      "cell_type": "code",
      "source": [
        "# Testing our loaded model's predictions.\n",
        "with torch.inference_mode():\n",
        "  modelPredictions = model_1(X_test)\n",
        "\n",
        "modelPredictions == finalPredictions  # Comparing if both our models are predicting the same values.\n"
      ],
      "metadata": {
        "colab": {
          "base_uri": "https://localhost:8080/"
        },
        "id": "FKaRRJDSeCqa",
        "outputId": "d8b3f7ad-ff13-4cfa-90cf-1944ca2cf4c4"
      },
      "execution_count": 42,
      "outputs": [
        {
          "output_type": "execute_result",
          "data": {
            "text/plain": [
              "tensor([[True],\n",
              "        [True],\n",
              "        [True],\n",
              "        [True],\n",
              "        [True],\n",
              "        [True],\n",
              "        [True],\n",
              "        [True],\n",
              "        [True],\n",
              "        [True]])"
            ]
          },
          "metadata": {},
          "execution_count": 42
        }
      ]
    },
    {
      "cell_type": "markdown",
      "source": [
        "## 6. Putting it all together\n",
        "\n",
        "Revising everything and going back through all the steps above in one place."
      ],
      "metadata": {
        "id": "QpbTdTH6fP4u"
      }
    },
    {
      "cell_type": "code",
      "source": [
        "import torch\n",
        "from torch import nn\n",
        "import numpy as np\n",
        "import matplotlib.pyplot as plt\n",
        "\n",
        "# Checking pytorch version\n",
        "torch.__version__"
      ],
      "metadata": {
        "colab": {
          "base_uri": "https://localhost:8080/",
          "height": 35
        },
        "id": "g3fHJyo7f-UV",
        "outputId": "9d03ee94-42be-4395-95be-e084199d8469"
      },
      "execution_count": 43,
      "outputs": [
        {
          "output_type": "execute_result",
          "data": {
            "text/plain": [
              "'1.12.1+cu113'"
            ],
            "application/vnd.google.colaboratory.intrinsic+json": {
              "type": "string"
            }
          },
          "metadata": {},
          "execution_count": 43
        }
      ]
    },
    {
      "cell_type": "markdown",
      "source": [
        "Create device-agnostic code. Utilizing a gpu if it's available. This will improve performance drastically."
      ],
      "metadata": {
        "id": "CcqZ0Vi7gWD4"
      }
    },
    {
      "cell_type": "code",
      "source": [
        "device = 'cuda' if torch.cuda.is_available() else 'cpu'\n",
        "print(f'Using device: {device}')"
      ],
      "metadata": {
        "colab": {
          "base_uri": "https://localhost:8080/"
        },
        "id": "T_8_fsx8gmfc",
        "outputId": "d6f8ac33-38bd-4cf0-d469-fe4f56d4aa0d"
      },
      "execution_count": 44,
      "outputs": [
        {
          "output_type": "stream",
          "name": "stdout",
          "text": [
            "Using device: cpu\n"
          ]
        }
      ]
    },
    {
      "cell_type": "markdown",
      "source": [
        "### 6.1 Data "
      ],
      "metadata": {
        "id": "YsT8nv8tfzLU"
      }
    },
    {
      "cell_type": "code",
      "source": [
        "weight = 0.7\n",
        "bias = 0.3\n",
        "\n",
        "# Create range values \n",
        "start = 0\n",
        "end = 1\n",
        "step = 0.02\n",
        "\n",
        "# Create X and y (features and labels)\n",
        "X = torch.arange(start, end, step).unsqueeze(dim=1)\n",
        "y = X * weight + bias"
      ],
      "metadata": {
        "id": "Rnb68-cNfxUT"
      },
      "execution_count": 45,
      "outputs": []
    },
    {
      "cell_type": "code",
      "source": [
        "# Splitting the data\n",
        "split_ratio = int(0.8 * len(X))\n",
        "X_train, X_test = X[:split_ratio], X[split_ratio:]\n",
        "y_train, y_test = y[:split_ratio], y[split_ratio:]"
      ],
      "metadata": {
        "id": "gSOr9NiyiTaK"
      },
      "execution_count": 46,
      "outputs": []
    },
    {
      "cell_type": "code",
      "source": [
        "def plot_predictions(train_data = X_train, train_labels = y_train,\n",
        "                     test_data = X_test, test_labels = y_test,\n",
        "                     predictions = None):\n",
        "  \n",
        "  # Plots training and test data and compares predictions.\n",
        "\n",
        "  plt.figure(figsize=(10,7))  # Creates a new figure. figsize parameter takes width and height of figure in inches.\n",
        "\n",
        "  # plt.scatter creates a scatter plot of y vs x. With varying marker size and/or color.\n",
        "  # s represents the marker size. c represents the color of the marker.\n",
        "\n",
        "  # Creating blue points for training data.\n",
        "  plt.scatter(train_data, train_labels, s=4, c='b', marker='x', label=\"Training Data\")\n",
        "\n",
        "  # Creating green points for testing data. We can change the marker's shape also.\n",
        "  plt.scatter(test_data, test_labels, s=4, c='g', marker='x', label=\"Testing Data\")\n",
        "\n",
        "  # Creating red points for our predicted data.\n",
        "  if predictions is not None:\n",
        "    # Plot the predictions if they exist.\n",
        "    plt.scatter(test_data, predictions, c='r', s=4, label=\"Predictions\")\n",
        "\n",
        "  plt.legend(prop={'size': 14});"
      ],
      "metadata": {
        "id": "ASGKBI96nN3W"
      },
      "execution_count": 47,
      "outputs": []
    },
    {
      "cell_type": "code",
      "source": [
        "# Plot the data -\n",
        "plot_predictions()"
      ],
      "metadata": {
        "colab": {
          "base_uri": "https://localhost:8080/",
          "height": 428
        },
        "id": "YMR8mTtCiz-S",
        "outputId": "94de0c71-ea9b-4bdd-88a5-9d5a4fd7c9f0"
      },
      "execution_count": 48,
      "outputs": [
        {
          "output_type": "display_data",
          "data": {
            "text/plain": [
              "<Figure size 720x504 with 1 Axes>"
            ],
            "image/png": "[encoded data removed]"
          },
          "metadata": {
            "needs_background": "light"
          }
        }
      ]
    },
    {
      "cell_type": "markdown",
      "source": [
        "### 6.2 Creating Model"
      ],
      "metadata": {
        "id": "pxLDmbS1g-re"
      }
    },
    {
      "cell_type": "code",
      "source": [
        "class LinearRegression(nn.Module):\n",
        "\n",
        "  def __init__(self):\n",
        "    super().__init__()\n",
        "\n",
        "    # self.weights = nn.Parameter(torch.randn(1),\n",
        "    #                             requires_grad=True)\n",
        "    \n",
        "    # self.bias = nn.Parameter(torch.randn(1),\n",
        "    #                          requires_grad=True)\n",
        "\n",
        "    self.linear_layer = nn.Linear(in_features=1,\n",
        "                                  out_features=1,\n",
        "                                  bias=True)\n",
        "    \n",
        "  def forward(self, x: torch.Tensor) -> torch.Tensor:\n",
        "    # return self.weights * x + self.bias\n",
        "    return self.linear_layer(x) # Calling the layer in our forward method."
      ],
      "metadata": {
        "id": "6bvg9qdYjAZt"
      },
      "execution_count": 49,
      "outputs": []
    },
    {
      "cell_type": "code",
      "source": [
        "torch.manual_seed(42)\n",
        "finalModel = LinearRegression() # Creating an instance of our class.\n",
        "finalModel.state_dict()"
      ],
      "metadata": {
        "colab": {
          "base_uri": "https://localhost:8080/"
        },
        "id": "tbDPP3fYgpor",
        "outputId": "df75c89c-9667-4a39-c7fa-7f3b399cbae5"
      },
      "execution_count": 50,
      "outputs": [
        {
          "output_type": "execute_result",
          "data": {
            "text/plain": [
              "OrderedDict([('linear_layer.weight', tensor([[0.7645]])),\n",
              "             ('linear_layer.bias', tensor([0.8300]))])"
            ]
          },
          "metadata": {},
          "execution_count": 50
        }
      ]
    },
    {
      "cell_type": "markdown",
      "source": [
        "### 6.3 Checking if our model predicts values and plotting those."
      ],
      "metadata": {
        "id": "WbnI3S8ciI7i"
      }
    },
    {
      "cell_type": "code",
      "source": [
        "with torch.inference_mode():\n",
        "  preds = finalModel(X_test)\n",
        "\n",
        "finalModel.eval()\n",
        "plot_predictions(predictions=preds)"
      ],
      "metadata": {
        "colab": {
          "base_uri": "https://localhost:8080/",
          "height": 428
        },
        "id": "ewdsVC8QhNIO",
        "outputId": "d5cfbf9d-59c9-402b-83a3-406a903d815a"
      },
      "execution_count": 51,
      "outputs": [
        {
          "output_type": "display_data",
          "data": {
            "text/plain": [
              "<Figure size 720x504 with 1 Axes>"
            ],
            "image/png": "[encoded data removed]"
          },
          "metadata": {
            "needs_background": "light"
          }
        }
      ]
    },
    {
      "cell_type": "markdown",
      "source": [
        "###6.4 Training Our Model"
      ],
      "metadata": {
        "id": "UmtTy_8ciom1"
      }
    },
    {
      "cell_type": "code",
      "source": [
        "loss_function = nn.L1Loss()\n",
        "\n",
        "optimizer = torch.optim.SGD(finalModel.parameters(), lr=0.015)"
      ],
      "metadata": {
        "id": "Te6avH2OiW_g"
      },
      "execution_count": 52,
      "outputs": []
    },
    {
      "cell_type": "code",
      "source": [
        "epochs = 500\n",
        "\n",
        "for epoch in range(epochs):\n",
        "\n",
        "  finalModel.train()  # Go to training mode.\n",
        "\n",
        "  preds = finalModel(X_train) # Forward Propagation\n",
        "\n",
        "  lossValue = loss_function(preds, y_train)  # Calculating the loss.\n",
        "\n",
        "  optimizer.zero_grad() # Setting gradients to zero.\n",
        "\n",
        "  lossValue.backward() # Backpropagation. Calculate derivative wrt loss.\n",
        "  \n",
        "  optimizer.step() # Optimizing values."
      ],
      "metadata": {
        "id": "k4M7XAn_kbR1"
      },
      "execution_count": 53,
      "outputs": []
    },
    {
      "cell_type": "code",
      "source": [
        "finalModel.state_dict()"
      ],
      "metadata": {
        "colab": {
          "base_uri": "https://localhost:8080/"
        },
        "id": "MZbMIkuol4iq",
        "outputId": "934c90a4-0705-4742-9a79-7e53e919a4ac"
      },
      "execution_count": 54,
      "outputs": [
        {
          "output_type": "execute_result",
          "data": {
            "text/plain": [
              "OrderedDict([('linear_layer.weight', tensor([[0.6926]])),\n",
              "             ('linear_layer.bias', tensor([0.3133]))])"
            ]
          },
          "metadata": {},
          "execution_count": 54
        }
      ]
    },
    {
      "cell_type": "code",
      "source": [
        "finalModel.eval()\n",
        "with torch.inference_mode():\n",
        "  predTest = finalModel(X_test)\n",
        "\n",
        "plot_predictions(predictions=predTest)"
      ],
      "metadata": {
        "colab": {
          "base_uri": "https://localhost:8080/",
          "height": 428
        },
        "id": "8Y46vIwAmAr1",
        "outputId": "11ec796a-dce5-4efe-9d9f-138ede25de74"
      },
      "execution_count": 55,
      "outputs": [
        {
          "output_type": "display_data",
          "data": {
            "text/plain": [
              "<Figure size 720x504 with 1 Axes>"
            ],
            "image/png": "[encoded data removed]"
          },
          "metadata": {
            "needs_background": "light"
          }
        }
      ]
    },
    {
      "cell_type": "code",
      "source": [],
      "metadata": {
        "id": "3Vm5VvuamTwu"
      },
      "execution_count": 55,
      "outputs": []
    }
  ]
}