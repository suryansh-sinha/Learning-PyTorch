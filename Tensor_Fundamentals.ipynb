{
  "nbformat": 4,
  "nbformat_minor": 0,
  "metadata": {
    "colab": {
      "provenance": [],
      "collapsed_sections": [],
      "authorship_tag": "ABX9TyNZ+R7j0QUUG7eHRHZLKcE8",
      "include_colab_link": true
    },
    "kernelspec": {
      "name": "python3",
      "display_name": "Python 3"
    },
    "language_info": {
      "name": "python"
    },
    "gpuClass": "standard",
    "accelerator": "GPU"
  },
  "cells": [
    {
      "cell_type": "markdown",
      "metadata": {
        "id": "view-in-github",
        "colab_type": "text"
      },
      "source": [
        "<a href=\"https://colab.research.google.com/github/suryansh-sinha/DeepLearningIntro/blob/main/PyTorch_Fundamentals.ipynb\" target=\"_parent\"><img src=\"https://colab.research.google.com/assets/colab-badge.svg\" alt=\"Open In Colab\"/></a>"
      ]
    },
    {
      "cell_type": "code",
      "execution_count": null,
      "metadata": {
        "colab": {
          "base_uri": "https://localhost:8080/"
        },
        "id": "yRALpnLgkAyj",
        "outputId": "afd261fe-ba5e-451d-ebec-53048f95a3a2"
      },
      "outputs": [
        {
          "output_type": "stream",
          "name": "stdout",
          "text": [
            "NVIDIA-SMI has failed because it couldn't communicate with the NVIDIA driver. Make sure that the latest NVIDIA driver is installed and running.\n",
            "\n"
          ]
        }
      ],
      "source": [
        "!nvidia-smi # Tells us what GPU our machine is using ^_^ 🫡."
      ]
    },
    {
      "cell_type": "code",
      "source": [
        "import torch\n",
        "import numpy as np\n",
        "import pandas as pd\n",
        "import matplotlib.pyplot as plt\n",
        "print(torch.__version__)"
      ],
      "metadata": {
        "colab": {
          "base_uri": "https://localhost:8080/"
        },
        "id": "xG6FjIpBkP4a",
        "outputId": "dc371abd-f3e7-417e-f75f-69297d1504d2"
      },
      "execution_count": null,
      "outputs": [
        {
          "output_type": "stream",
          "name": "stdout",
          "text": [
            "1.12.0+cu113\n"
          ]
        }
      ]
    },
    {
      "cell_type": "code",
      "source": [
        "print('Hello! I\\'m excited to learn PyTorch')"
      ],
      "metadata": {
        "colab": {
          "base_uri": "https://localhost:8080/"
        },
        "id": "1dcUCU5Zku3h",
        "outputId": "72b33373-13b7-4a39-e4f6-b80883e32e82"
      },
      "execution_count": null,
      "outputs": [
        {
          "output_type": "stream",
          "name": "stdout",
          "text": [
            "Hello! I'm excited to learn PyTorch\n"
          ]
        }
      ]
    },
    {
      "cell_type": "markdown",
      "source": [
        "## Introduction to Tensors\n",
        "\n",
        "A tensor, according to PyTorch is a n-dimensioned matrix that contains data of similar datatype.\n",
        "\n",
        "### Creating Tensors\n",
        "\n",
        "PyTorch tensors are created using torch.tensor()\n",
        "Assignment: Read through torch.Tensor documentation for 10 mins atleast.\n"
      ],
      "metadata": {
        "id": "f5gvz6y4mixn"
      }
    },
    {
      "cell_type": "code",
      "source": [
        "# scalar\n",
        "scalar = torch.tensor(7)\n",
        "scalar"
      ],
      "metadata": {
        "colab": {
          "base_uri": "https://localhost:8080/"
        },
        "id": "q9aiRvB8mmbf",
        "outputId": "ce979a62-aefd-4198-9d97-e1d7cb3e714e"
      },
      "execution_count": null,
      "outputs": [
        {
          "output_type": "execute_result",
          "data": {
            "text/plain": [
              "tensor(7)"
            ]
          },
          "metadata": {},
          "execution_count": 4
        }
      ]
    },
    {
      "cell_type": "code",
      "source": [
        "scalar.ndim # Gives us the number of dimensions in our tensor.\n",
        "# A scalar has 0 dimensions."
      ],
      "metadata": {
        "colab": {
          "base_uri": "https://localhost:8080/"
        },
        "id": "i3Ugq-AZm4wy",
        "outputId": "cd614bfc-ce79-48f3-b683-f2d923b432d8"
      },
      "execution_count": null,
      "outputs": [
        {
          "output_type": "execute_result",
          "data": {
            "text/plain": [
              "0"
            ]
          },
          "metadata": {},
          "execution_count": 5
        }
      ]
    },
    {
      "cell_type": "code",
      "source": [
        "# Get scalar back as a python int.\n",
        "scalar.item()"
      ],
      "metadata": {
        "colab": {
          "base_uri": "https://localhost:8080/"
        },
        "id": "mVfbTu7KoMFs",
        "outputId": "2fbe3435-65d2-4bb7-f40f-d876fdec34c9"
      },
      "execution_count": null,
      "outputs": [
        {
          "output_type": "execute_result",
          "data": {
            "text/plain": [
              "7"
            ]
          },
          "metadata": {},
          "execution_count": 6
        }
      ]
    },
    {
      "cell_type": "code",
      "source": [
        "# vector\n",
        "vector = torch.tensor([7,7])\n",
        "vector"
      ],
      "metadata": {
        "colab": {
          "base_uri": "https://localhost:8080/"
        },
        "id": "6iteyqK4n4hm",
        "outputId": "65a24a05-1c09-436b-824b-bd7572fb14df"
      },
      "execution_count": null,
      "outputs": [
        {
          "output_type": "execute_result",
          "data": {
            "text/plain": [
              "tensor([7, 7])"
            ]
          },
          "metadata": {},
          "execution_count": 7
        }
      ]
    },
    {
      "cell_type": "code",
      "source": [
        "vector.ndim # You can assume that the dimension is the number of indices required to reference value in the tensor."
      ],
      "metadata": {
        "colab": {
          "base_uri": "https://localhost:8080/"
        },
        "id": "65gPgbcNoiU2",
        "outputId": "c13ed14c-0695-4b65-e97b-30a0b96a59cb"
      },
      "execution_count": null,
      "outputs": [
        {
          "output_type": "execute_result",
          "data": {
            "text/plain": [
              "1"
            ]
          },
          "metadata": {},
          "execution_count": 8
        }
      ]
    },
    {
      "cell_type": "code",
      "source": [
        "vector.shape"
      ],
      "metadata": {
        "colab": {
          "base_uri": "https://localhost:8080/"
        },
        "id": "I5bcymeWolv4",
        "outputId": "597c47d2-37b3-42f4-defc-712c02e6a1b2"
      },
      "execution_count": null,
      "outputs": [
        {
          "output_type": "execute_result",
          "data": {
            "text/plain": [
              "torch.Size([2])"
            ]
          },
          "metadata": {},
          "execution_count": 9
        }
      ]
    },
    {
      "cell_type": "code",
      "source": [
        "# MATRIX\n",
        "MATRIX = torch.tensor([[7, 8],\n",
        "                       [9, 10]])\n",
        "\n",
        "MATRIX"
      ],
      "metadata": {
        "colab": {
          "base_uri": "https://localhost:8080/"
        },
        "id": "kIlIPllno0hr",
        "outputId": "5236a1d1-465d-4d93-c657-c8b037a94b48"
      },
      "execution_count": null,
      "outputs": [
        {
          "output_type": "execute_result",
          "data": {
            "text/plain": [
              "tensor([[ 7,  8],\n",
              "        [ 9, 10]])"
            ]
          },
          "metadata": {},
          "execution_count": 10
        }
      ]
    },
    {
      "cell_type": "code",
      "source": [
        "MATRIX.ndim"
      ],
      "metadata": {
        "colab": {
          "base_uri": "https://localhost:8080/"
        },
        "id": "AgNjBahNpG3v",
        "outputId": "aacd4dae-a403-4639-9228-d25a4fca35e7"
      },
      "execution_count": null,
      "outputs": [
        {
          "output_type": "execute_result",
          "data": {
            "text/plain": [
              "2"
            ]
          },
          "metadata": {},
          "execution_count": 11
        }
      ]
    },
    {
      "cell_type": "code",
      "source": [
        "MATRIX[0] # Gives us the tensor at 1st dimension."
      ],
      "metadata": {
        "colab": {
          "base_uri": "https://localhost:8080/"
        },
        "id": "vwxCRX91pISw",
        "outputId": "913864b4-4db1-4fb7-e83f-ef6fcfb600db"
      },
      "execution_count": null,
      "outputs": [
        {
          "output_type": "execute_result",
          "data": {
            "text/plain": [
              "tensor([7, 8])"
            ]
          },
          "metadata": {},
          "execution_count": 12
        }
      ]
    },
    {
      "cell_type": "code",
      "source": [
        "MATRIX[1] # Gives us the tensor at 2nd dimension."
      ],
      "metadata": {
        "colab": {
          "base_uri": "https://localhost:8080/"
        },
        "id": "iDTemLtepUaL",
        "outputId": "a8adb382-4e96-40b5-92bd-b2e040bfe34d"
      },
      "execution_count": null,
      "outputs": [
        {
          "output_type": "execute_result",
          "data": {
            "text/plain": [
              "tensor([ 9, 10])"
            ]
          },
          "metadata": {},
          "execution_count": 13
        }
      ]
    },
    {
      "cell_type": "code",
      "source": [
        "MATRIX.shape"
      ],
      "metadata": {
        "colab": {
          "base_uri": "https://localhost:8080/"
        },
        "id": "98HtnIe_pZCO",
        "outputId": "5808adf6-3f5a-4f0c-ff1e-3be43d36a2d2"
      },
      "execution_count": null,
      "outputs": [
        {
          "output_type": "execute_result",
          "data": {
            "text/plain": [
              "torch.Size([2, 2])"
            ]
          },
          "metadata": {},
          "execution_count": 14
        }
      ]
    },
    {
      "cell_type": "code",
      "source": [
        "# TENSOR\n",
        "TENSOR = torch.tensor([[[1,2,3],\n",
        "                        [3,7,8],\n",
        "                        [2,7,9]]])\n",
        "TENSOR"
      ],
      "metadata": {
        "colab": {
          "base_uri": "https://localhost:8080/"
        },
        "id": "eKilbMD7pcZP",
        "outputId": "8af22544-1903-45e4-bb72-9ed8baaec393"
      },
      "execution_count": null,
      "outputs": [
        {
          "output_type": "execute_result",
          "data": {
            "text/plain": [
              "tensor([[[1, 2, 3],\n",
              "         [3, 7, 8],\n",
              "         [2, 7, 9]]])"
            ]
          },
          "metadata": {},
          "execution_count": 15
        }
      ]
    },
    {
      "cell_type": "code",
      "source": [
        "TENSOR.ndim"
      ],
      "metadata": {
        "colab": {
          "base_uri": "https://localhost:8080/"
        },
        "id": "WEgYqFIEp1G1",
        "outputId": "0f906ea1-05f9-4fb5-915a-5c89913f30a6"
      },
      "execution_count": null,
      "outputs": [
        {
          "output_type": "execute_result",
          "data": {
            "text/plain": [
              "3"
            ]
          },
          "metadata": {},
          "execution_count": 16
        }
      ]
    },
    {
      "cell_type": "code",
      "source": [
        "TENSOR.shape  # Gives us number of elements in each dimension."
      ],
      "metadata": {
        "colab": {
          "base_uri": "https://localhost:8080/"
        },
        "id": "WVtKCJEHp266",
        "outputId": "c4769f85-c022-4338-82aa-c4c2422ba491"
      },
      "execution_count": null,
      "outputs": [
        {
          "output_type": "execute_result",
          "data": {
            "text/plain": [
              "torch.Size([1, 3, 3])"
            ]
          },
          "metadata": {},
          "execution_count": 17
        }
      ]
    },
    {
      "cell_type": "markdown",
      "source": [
        "### Notation:\n",
        "This is how they're written. Not a compulsion though!\n",
        "Scalars and Vectors are written lower case. a, b, names, etc.\n",
        "\n",
        "Matrices and Tensors are written in upper case. X, MATRIX etc."
      ],
      "metadata": {
        "id": "zI6_9lIKp5Xi"
      }
    },
    {
      "cell_type": "markdown",
      "source": [
        "### Random Tensors\n",
        "\n",
        "Why random tensors?\n",
        "\n",
        "Random tensors are important because the neural networks start out with a tensor full of random values and then improve those values according to observations and patterns they see. They change those numbers to better represent that data."
      ],
      "metadata": {
        "id": "uruYWdKTvwF0"
      }
    },
    {
      "cell_type": "code",
      "source": [
        "# Creating a random tensor of size (3,4) or shape(3,4).\n",
        "random_tensor = torch.rand(3,4)\n",
        "# The above line is the same as\n",
        "# random_tensor = torch.rand(size=(3,4))\n",
        "random_tensor"
      ],
      "metadata": {
        "colab": {
          "base_uri": "https://localhost:8080/"
        },
        "id": "VM3wMBdgvtoH",
        "outputId": "19a94cba-af9c-44ea-fb55-33e5fd1949f6"
      },
      "execution_count": null,
      "outputs": [
        {
          "output_type": "execute_result",
          "data": {
            "text/plain": [
              "tensor([[0.1584, 0.6358, 0.9124, 0.8084],\n",
              "        [0.4251, 0.0469, 0.4741, 0.8343],\n",
              "        [0.8134, 0.6713, 0.2601, 0.5700]])"
            ]
          },
          "metadata": {},
          "execution_count": 18
        }
      ]
    },
    {
      "cell_type": "code",
      "source": [
        "# Creating a random tensor with similar shape to an image tensor.\n",
        "# Let's suppose, the image is rgb and has resolution 224, 224.\n",
        "random_image_tensor = torch.rand(size=(224,224,3))  # 224 height, 224 width, 3 channels (R, G, B)"
      ],
      "metadata": {
        "id": "aSpWUC0Owp11"
      },
      "execution_count": null,
      "outputs": []
    },
    {
      "cell_type": "code",
      "source": [
        "random_image_tensor.ndim"
      ],
      "metadata": {
        "colab": {
          "base_uri": "https://localhost:8080/"
        },
        "id": "YioRwmsyx0vR",
        "outputId": "70c600f0-03a2-434f-efb9-df579d9cf47f"
      },
      "execution_count": null,
      "outputs": [
        {
          "output_type": "execute_result",
          "data": {
            "text/plain": [
              "3"
            ]
          },
          "metadata": {},
          "execution_count": 20
        }
      ]
    },
    {
      "cell_type": "code",
      "source": [
        "random_image_tensor.shape"
      ],
      "metadata": {
        "colab": {
          "base_uri": "https://localhost:8080/"
        },
        "id": "NLYzPRgox4ZT",
        "outputId": "333efabe-c544-47a0-f45b-8bce05fa52d9"
      },
      "execution_count": null,
      "outputs": [
        {
          "output_type": "execute_result",
          "data": {
            "text/plain": [
              "torch.Size([224, 224, 3])"
            ]
          },
          "metadata": {},
          "execution_count": 21
        }
      ]
    },
    {
      "cell_type": "markdown",
      "source": [
        "### Zeros and Ones"
      ],
      "metadata": {
        "id": "rht4hLKsx6KS"
      }
    },
    {
      "cell_type": "code",
      "source": [
        "# Creating a tensor of all zeros\n",
        "zeros = torch.zeros(size=(3,4))\n",
        "zeros"
      ],
      "metadata": {
        "colab": {
          "base_uri": "https://localhost:8080/"
        },
        "id": "COmUgj6-ypQt",
        "outputId": "b0876c12-d041-4d5f-b5ab-2155f37e7dd2"
      },
      "execution_count": null,
      "outputs": [
        {
          "output_type": "execute_result",
          "data": {
            "text/plain": [
              "tensor([[0., 0., 0., 0.],\n",
              "        [0., 0., 0., 0.],\n",
              "        [0., 0., 0., 0.]])"
            ]
          },
          "metadata": {},
          "execution_count": 22
        }
      ]
    },
    {
      "cell_type": "code",
      "source": [
        "zeros * random_tensor # This is element wise multiplication, so elements at corresponding positions are multiplied."
      ],
      "metadata": {
        "colab": {
          "base_uri": "https://localhost:8080/"
        },
        "id": "oWfZVygAy3vn",
        "outputId": "d4f379bc-630f-444f-b352-53c46cd3471f"
      },
      "execution_count": null,
      "outputs": [
        {
          "output_type": "execute_result",
          "data": {
            "text/plain": [
              "tensor([[0., 0., 0., 0.],\n",
              "        [0., 0., 0., 0.],\n",
              "        [0., 0., 0., 0.]])"
            ]
          },
          "metadata": {},
          "execution_count": 23
        }
      ]
    },
    {
      "cell_type": "code",
      "source": [
        "# Creating a tensor of all ones\n",
        "ones = torch.ones(size=(3,4))\n",
        "ones"
      ],
      "metadata": {
        "colab": {
          "base_uri": "https://localhost:8080/"
        },
        "id": "YaLf5BAFy_AC",
        "outputId": "4df7b58a-1af3-4692-edfd-74ccaef15b3a"
      },
      "execution_count": null,
      "outputs": [
        {
          "output_type": "execute_result",
          "data": {
            "text/plain": [
              "tensor([[1., 1., 1., 1.],\n",
              "        [1., 1., 1., 1.],\n",
              "        [1., 1., 1., 1.]])"
            ]
          },
          "metadata": {},
          "execution_count": 24
        }
      ]
    },
    {
      "cell_type": "code",
      "source": [
        "ones.dtype  # Tells us the datatype of the object or variable."
      ],
      "metadata": {
        "colab": {
          "base_uri": "https://localhost:8080/"
        },
        "id": "GwMZzIiEzJbb",
        "outputId": "8fbbd7cb-760e-4d52-ecb4-a4f02682950f"
      },
      "execution_count": null,
      "outputs": [
        {
          "output_type": "execute_result",
          "data": {
            "text/plain": [
              "torch.float32"
            ]
          },
          "metadata": {},
          "execution_count": 25
        }
      ]
    },
    {
      "cell_type": "code",
      "source": [
        "random_tensor.dtype"
      ],
      "metadata": {
        "colab": {
          "base_uri": "https://localhost:8080/"
        },
        "id": "qoM_PtKHzOuL",
        "outputId": "fa4d2d86-d236-467e-b57c-7fe21e01dbac"
      },
      "execution_count": null,
      "outputs": [
        {
          "output_type": "execute_result",
          "data": {
            "text/plain": [
              "torch.float32"
            ]
          },
          "metadata": {},
          "execution_count": 26
        }
      ]
    },
    {
      "cell_type": "markdown",
      "source": [
        "By default, any tensor created by PyTorch will be of the datatype float32 unless specified."
      ],
      "metadata": {
        "id": "_308fJB3Ib9E"
      }
    },
    {
      "cell_type": "markdown",
      "source": [
        "### Creating a range of Tensors and tensors-like"
      ],
      "metadata": {
        "id": "QnvFlJJLzRQm"
      }
    },
    {
      "cell_type": "code",
      "source": [
        "# Creating a 1D tensor (vector/array) with a specific number range.\n",
        "# torch.range(0, 10)  # This function will be deprecated. Instead use torch.arange()\n",
        "oneToTen = torch.arange(0,10)  # first index included, last index excluded. We can also add a step variable like in python."
      ],
      "metadata": {
        "id": "2f9RMvlozd8s"
      },
      "execution_count": null,
      "outputs": []
    },
    {
      "cell_type": "code",
      "source": [
        "# Creating tensors like\n",
        "ten_zeros = torch.zeros_like(input=oneToTen)  # This creates a zero tensor with the same shape as input tensor.\n",
        "ten_zeros"
      ],
      "metadata": {
        "colab": {
          "base_uri": "https://localhost:8080/"
        },
        "id": "CVhzBUhOzlFL",
        "outputId": "c49a604d-0fdb-4bca-c5f4-111f09e2da30"
      },
      "execution_count": null,
      "outputs": [
        {
          "output_type": "execute_result",
          "data": {
            "text/plain": [
              "tensor([0, 0, 0, 0, 0, 0, 0, 0, 0, 0])"
            ]
          },
          "metadata": {},
          "execution_count": 28
        }
      ]
    },
    {
      "cell_type": "markdown",
      "source": [
        "### Tensor Datatypes\n",
        "\n",
        "**Note:-** Tensorflow datatypes are one of the big 3 errors that you'll run into in PyTorch and Deep Learning.\n",
        "1. Tensors not right datatype\n",
        "2. Tensors not right shape\n",
        "3. Tensors not on the right device"
      ],
      "metadata": {
        "id": "SqPAQUL80asj"
      }
    },
    {
      "cell_type": "code",
      "source": [
        "# Float 32 Tensor\n",
        "float_32_tensor = torch.tensor([3.0, 6.0, 9.0],\n",
        "                               dtype=None,  # Specifies the datatype of the tensor.\n",
        "                               device=None, # We decide where the tensor is calculated. 'cuda' for gpu. 'cpu' for cpu.\n",
        "                               requires_grad=False) # Whether or not to track gradients with this tensor's operations.\n",
        "float_32_tensor.dtype"
      ],
      "metadata": {
        "colab": {
          "base_uri": "https://localhost:8080/"
        },
        "id": "KoBLVzaX0zHM",
        "outputId": "98c808ab-c7ec-4da3-d4dc-6c827a27af28"
      },
      "execution_count": null,
      "outputs": [
        {
          "output_type": "execute_result",
          "data": {
            "text/plain": [
              "torch.float32"
            ]
          },
          "metadata": {},
          "execution_count": 29
        }
      ]
    },
    {
      "cell_type": "markdown",
      "source": [
        "The above code outputs float32 eventhough we specified dtype as none because, in PyTorch, default datatype for any tensor is float32. We can change that though by explicitly specifying another datatype."
      ],
      "metadata": {
        "id": "OzI7ay8r1a1Z"
      }
    },
    {
      "cell_type": "code",
      "source": [
        "float_16_tensor = torch.tensor([3.0, 6.0, 9.0],\n",
        "                               dtype=torch.float16)\n",
        "\n",
        "#We could also do -\n",
        "# float_16_tensor = float_32_tensor.type(torch.float16)\n",
        "\n",
        "float_16_tensor.dtype"
      ],
      "metadata": {
        "colab": {
          "base_uri": "https://localhost:8080/"
        },
        "id": "v-4_nM061X8_",
        "outputId": "cd26be22-2024-4b0c-9d3a-e939f2dd3314"
      },
      "execution_count": null,
      "outputs": [
        {
          "output_type": "execute_result",
          "data": {
            "text/plain": [
              "torch.float16"
            ]
          },
          "metadata": {},
          "execution_count": 30
        }
      ]
    },
    {
      "cell_type": "code",
      "source": [
        "ten = float_16_tensor * float_32_tensor # automatically casts float16 tensor to float32 tensor"
      ],
      "metadata": {
        "id": "Tir5XnDN1yIe"
      },
      "execution_count": null,
      "outputs": []
    },
    {
      "cell_type": "code",
      "source": [
        "ten.dtype"
      ],
      "metadata": {
        "colab": {
          "base_uri": "https://localhost:8080/"
        },
        "id": "TXwvaRPX38pc",
        "outputId": "7c85278e-5ed4-47b3-f4b6-61233b64e965"
      },
      "execution_count": null,
      "outputs": [
        {
          "output_type": "execute_result",
          "data": {
            "text/plain": [
              "torch.float32"
            ]
          },
          "metadata": {},
          "execution_count": 32
        }
      ]
    },
    {
      "cell_type": "markdown",
      "source": [
        "### Getting information from tensors (Tensor Attributes).\n",
        "1. Tensors not right datatype - to get datatype of tensor, we use `tensor.dtype`\n",
        "2. Tensors not right shape - to get shape of tensor, we use `tensor.shape`\n",
        "3. Tensors not on the right device - to get device of tensor, we use `tensor.device`"
      ],
      "metadata": {
        "id": "EtDw3J6b4BXR"
      }
    },
    {
      "cell_type": "code",
      "source": [
        "# Create a random tensor\n",
        "some_tensor = torch.rand(3, 4)\n",
        "some_tensor"
      ],
      "metadata": {
        "colab": {
          "base_uri": "https://localhost:8080/"
        },
        "id": "4adeCVIa5Qk2",
        "outputId": "c14b7597-bd88-48ba-e044-cc0bde5071b0"
      },
      "execution_count": null,
      "outputs": [
        {
          "output_type": "execute_result",
          "data": {
            "text/plain": [
              "tensor([[0.0290, 0.6415, 0.4318, 0.7625],\n",
              "        [0.2525, 0.0516, 0.5638, 0.7279],\n",
              "        [0.3049, 0.0347, 0.4200, 0.8585]])"
            ]
          },
          "metadata": {},
          "execution_count": 33
        }
      ]
    },
    {
      "cell_type": "code",
      "source": [
        "some_tensor.dtype # Datatype of tensor"
      ],
      "metadata": {
        "colab": {
          "base_uri": "https://localhost:8080/"
        },
        "id": "vOpE8gPa5kQA",
        "outputId": "4814a045-40c6-4c20-9ec5-a70af500a62c"
      },
      "execution_count": null,
      "outputs": [
        {
          "output_type": "execute_result",
          "data": {
            "text/plain": [
              "torch.float32"
            ]
          },
          "metadata": {},
          "execution_count": 34
        }
      ]
    },
    {
      "cell_type": "code",
      "source": [
        "some_tensor.device  # Device of tensor"
      ],
      "metadata": {
        "colab": {
          "base_uri": "https://localhost:8080/"
        },
        "id": "tHUE2YiC5nOD",
        "outputId": "59dab293-e9e1-43fc-840d-835303d39d54"
      },
      "execution_count": null,
      "outputs": [
        {
          "output_type": "execute_result",
          "data": {
            "text/plain": [
              "device(type='cpu')"
            ]
          },
          "metadata": {},
          "execution_count": 35
        }
      ]
    },
    {
      "cell_type": "code",
      "source": [
        "some_tensor.shape # Shape of tensor"
      ],
      "metadata": {
        "colab": {
          "base_uri": "https://localhost:8080/"
        },
        "id": "7qSQnbGB5oTF",
        "outputId": "8a86ce2f-705a-427e-8e04-cb99004fdb06"
      },
      "execution_count": null,
      "outputs": [
        {
          "output_type": "execute_result",
          "data": {
            "text/plain": [
              "torch.Size([3, 4])"
            ]
          },
          "metadata": {},
          "execution_count": 36
        }
      ]
    },
    {
      "cell_type": "code",
      "source": [
        "some_tensor.size()  # This is the function that returns the shape too."
      ],
      "metadata": {
        "colab": {
          "base_uri": "https://localhost:8080/"
        },
        "id": "jgHtSfJC5pvH",
        "outputId": "abf11cc8-db11-4ace-ee6d-0cb4ef42c516"
      },
      "execution_count": null,
      "outputs": [
        {
          "output_type": "execute_result",
          "data": {
            "text/plain": [
              "torch.Size([3, 4])"
            ]
          },
          "metadata": {},
          "execution_count": 37
        }
      ]
    },
    {
      "cell_type": "markdown",
      "source": [
        "### Manipulating Tensors (Tensor Operations)\n",
        "\n",
        "Tensor operations include -\n",
        "* Addition\n",
        "* Subtraction\n",
        "* Multiplication (Element-Wise)\n",
        "* Division\n",
        "* Matrix Multiplication"
      ],
      "metadata": {
        "id": "2ptjqrTi6To3"
      }
    },
    {
      "cell_type": "code",
      "source": [
        "# Creating a tensor and adding 10 to it.\n",
        "tensor = torch.tensor([1,2,3])\n",
        "tensor + 10 # Adds to each element"
      ],
      "metadata": {
        "colab": {
          "base_uri": "https://localhost:8080/"
        },
        "id": "8sdHJBiR7pe7",
        "outputId": "cfd212c5-1dd2-4928-ce14-e924f6d149b4"
      },
      "execution_count": null,
      "outputs": [
        {
          "output_type": "execute_result",
          "data": {
            "text/plain": [
              "tensor([11, 12, 13])"
            ]
          },
          "metadata": {},
          "execution_count": 38
        }
      ]
    },
    {
      "cell_type": "code",
      "source": [
        "# Multiplay tensor by 10\n",
        "tensor * 10 # Multiplies each element by scalar"
      ],
      "metadata": {
        "colab": {
          "base_uri": "https://localhost:8080/"
        },
        "id": "DHYJ0p4h8PqE",
        "outputId": "4b08a452-349c-4554-cb5d-e04653cc5401"
      },
      "execution_count": null,
      "outputs": [
        {
          "output_type": "execute_result",
          "data": {
            "text/plain": [
              "tensor([10, 20, 30])"
            ]
          },
          "metadata": {},
          "execution_count": 39
        }
      ]
    },
    {
      "cell_type": "code",
      "source": [
        "# Try out PyTorch in-built functions.\n",
        "torch.mul(tensor,10)"
      ],
      "metadata": {
        "colab": {
          "base_uri": "https://localhost:8080/"
        },
        "id": "nxZutRad8sfR",
        "outputId": "0aeb9853-6ae9-4cb9-a9ba-1fa7ad174d4b"
      },
      "execution_count": null,
      "outputs": [
        {
          "output_type": "execute_result",
          "data": {
            "text/plain": [
              "tensor([10, 20, 30])"
            ]
          },
          "metadata": {},
          "execution_count": 40
        }
      ]
    },
    {
      "cell_type": "code",
      "source": [
        "torch.add(tensor,10)"
      ],
      "metadata": {
        "colab": {
          "base_uri": "https://localhost:8080/"
        },
        "id": "cjr_TWA_9FwL",
        "outputId": "bd7b9c43-959a-48f4-d16a-be2fd6e7b312"
      },
      "execution_count": null,
      "outputs": [
        {
          "output_type": "execute_result",
          "data": {
            "text/plain": [
              "tensor([11, 12, 13])"
            ]
          },
          "metadata": {},
          "execution_count": 41
        }
      ]
    },
    {
      "cell_type": "markdown",
      "source": [
        "### Matrix Multiplication\n",
        "Two main ways of performing multiplication in Neural Networks and Deep Learning.\n",
        "1. Element-wise Multiplication\n",
        "2. Matrix Multiplication (Dot Product)"
      ],
      "metadata": {
        "id": "pZ6J7Tum9RD9"
      }
    },
    {
      "cell_type": "code",
      "source": [
        "# Elememt wise multiplication\n",
        "print(tensor, '*', tensor)\n",
        "print(f'Equals: {tensor * tensor}')"
      ],
      "metadata": {
        "colab": {
          "base_uri": "https://localhost:8080/"
        },
        "id": "BYL7fqGSRWh0",
        "outputId": "688e1192-8bca-4fc0-b4d7-d0dffa32cff5"
      },
      "execution_count": null,
      "outputs": [
        {
          "output_type": "stream",
          "name": "stdout",
          "text": [
            "tensor([1, 2, 3]) * tensor([1, 2, 3])\n",
            "Equals: tensor([1, 4, 9])\n"
          ]
        }
      ]
    },
    {
      "cell_type": "code",
      "source": [
        "# Matrix Multiplication (Dot Product)\n",
        "torch.matmul(tensor, tensor)"
      ],
      "metadata": {
        "colab": {
          "base_uri": "https://localhost:8080/"
        },
        "id": "cVs7bgPER8vh",
        "outputId": "6ad4c903-b009-42ee-b995-dd99324ea659"
      },
      "execution_count": null,
      "outputs": [
        {
          "output_type": "execute_result",
          "data": {
            "text/plain": [
              "tensor(14)"
            ]
          },
          "metadata": {},
          "execution_count": 43
        }
      ]
    },
    {
      "cell_type": "code",
      "source": [
        "# Why did we get 14 - yaha pe we're multiplying 3x1 with 3x1 which isn't possible.\n",
        "# This is because, matmul returns dot product if both matrices are 1 dimensional.\n",
        "# So, it automatically takes transpose of one of the matrices and multiplies that with the other matrix.\n",
        "# So, solving it by hand, \n",
        "1*1 + 2*2 + 3*3"
      ],
      "metadata": {
        "colab": {
          "base_uri": "https://localhost:8080/"
        },
        "id": "fMnFUBw6Xhj2",
        "outputId": "0c54c843-cf06-4a28-dea9-74c9f35c57a3"
      },
      "execution_count": null,
      "outputs": [
        {
          "output_type": "execute_result",
          "data": {
            "text/plain": [
              "14"
            ]
          },
          "metadata": {},
          "execution_count": 45
        }
      ]
    },
    {
      "cell_type": "code",
      "source": [
        "%%time\n",
        "value = 0\n",
        "for i in range(len(tensor)):\n",
        "  value += tensor[i] * tensor[i]\n",
        "print(value)"
      ],
      "metadata": {
        "colab": {
          "base_uri": "https://localhost:8080/"
        },
        "id": "uXjeeveeZNvZ",
        "outputId": "b5f7c2ac-95e5-4c80-cf43-fbf559d2fc04"
      },
      "execution_count": null,
      "outputs": [
        {
          "output_type": "stream",
          "name": "stdout",
          "text": [
            "tensor(14)\n",
            "CPU times: user 128 µs, sys: 2.19 ms, total: 2.32 ms\n",
            "Wall time: 1.85 ms\n"
          ]
        }
      ]
    },
    {
      "cell_type": "code",
      "source": [
        "%%time\n",
        "torch.matmul(tensor,tensor) # Much faster compared to above loop that does the same thing."
      ],
      "metadata": {
        "colab": {
          "base_uri": "https://localhost:8080/"
        },
        "id": "gp41lzN6Z3Ab",
        "outputId": "612eb357-77b9-414b-ae94-d44fa8ce1ea2"
      },
      "execution_count": null,
      "outputs": [
        {
          "output_type": "stream",
          "name": "stdout",
          "text": [
            "CPU times: user 70 µs, sys: 0 ns, total: 70 µs\n",
            "Wall time: 88.9 µs\n"
          ]
        },
        {
          "output_type": "execute_result",
          "data": {
            "text/plain": [
              "tensor(14)"
            ]
          },
          "metadata": {},
          "execution_count": 47
        }
      ]
    },
    {
      "cell_type": "markdown",
      "source": [
        "### Rules for Matrix Multiplication -\n",
        "1. The **inner dimensions** must match.\n",
        "* `(3,2) X (3,2)` won't work\n",
        "* `(3,2) X (2,3)` will work\n",
        "* `(2,3) X (3,2)` will work\n",
        "\n",
        "2. The resulting tensor will have the shape of the outer dimensions.\n",
        "* `(3,2) X (2,2) = (3,2)`\n",
        "* `(5,8) X (8,4) = (5,4)`"
      ],
      "metadata": {
        "id": "y1mkliLWZ-9E"
      }
    },
    {
      "cell_type": "code",
      "source": [
        "torch.matmul(torch.rand(3,2), torch.rand(3,2))  # This won't work, inner dimensions don't match"
      ],
      "metadata": {
        "colab": {
          "base_uri": "https://localhost:8080/",
          "height": 164
        },
        "id": "5FbkZaOkbQcl",
        "outputId": "5196ebda-5d84-4c69-8b63-290c5cc0e2fe"
      },
      "execution_count": null,
      "outputs": [
        {
          "output_type": "error",
          "ename": "RuntimeError",
          "evalue": "ignored",
          "traceback": [
            "\u001b[0;31m---------------------------------------------------------------------------\u001b[0m",
            "\u001b[0;31mRuntimeError\u001b[0m                              Traceback (most recent call last)",
            "\u001b[0;32m<ipython-input-48-5b5d35b4bf73>\u001b[0m in \u001b[0;36m<module>\u001b[0;34m()\u001b[0m\n\u001b[0;32m----> 1\u001b[0;31m \u001b[0mtorch\u001b[0m\u001b[0;34m.\u001b[0m\u001b[0mmatmul\u001b[0m\u001b[0;34m(\u001b[0m\u001b[0mtorch\u001b[0m\u001b[0;34m.\u001b[0m\u001b[0mrand\u001b[0m\u001b[0;34m(\u001b[0m\u001b[0;36m3\u001b[0m\u001b[0;34m,\u001b[0m\u001b[0;36m2\u001b[0m\u001b[0;34m)\u001b[0m\u001b[0;34m,\u001b[0m \u001b[0mtorch\u001b[0m\u001b[0;34m.\u001b[0m\u001b[0mrand\u001b[0m\u001b[0;34m(\u001b[0m\u001b[0;36m3\u001b[0m\u001b[0;34m,\u001b[0m\u001b[0;36m2\u001b[0m\u001b[0;34m)\u001b[0m\u001b[0;34m)\u001b[0m  \u001b[0;31m# This won't work, inner dimensions don't match\u001b[0m\u001b[0;34m\u001b[0m\u001b[0;34m\u001b[0m\u001b[0m\n\u001b[0m",
            "\u001b[0;31mRuntimeError\u001b[0m: mat1 and mat2 shapes cannot be multiplied (3x2 and 3x2)"
          ]
        }
      ]
    },
    {
      "cell_type": "code",
      "source": [
        "torch.matmul(torch.rand(3,2), torch.rand(2,2)).shape"
      ],
      "metadata": {
        "colab": {
          "base_uri": "https://localhost:8080/"
        },
        "id": "gc6I58ZbbXw5",
        "outputId": "9c58cb44-f987-4077-d224-bac952540bdb"
      },
      "execution_count": null,
      "outputs": [
        {
          "output_type": "execute_result",
          "data": {
            "text/plain": [
              "torch.Size([3, 2])"
            ]
          },
          "metadata": {},
          "execution_count": 49
        }
      ]
    },
    {
      "cell_type": "code",
      "source": [
        "torch.matmul(torch.rand(5,8), torch.rand(8,4)).shape"
      ],
      "metadata": {
        "colab": {
          "base_uri": "https://localhost:8080/"
        },
        "id": "GxStuaxYb7pp",
        "outputId": "7a769bd5-58a3-4674-be15-0a934e1139ac"
      },
      "execution_count": null,
      "outputs": [
        {
          "output_type": "execute_result",
          "data": {
            "text/plain": [
              "torch.Size([5, 4])"
            ]
          },
          "metadata": {},
          "execution_count": 50
        }
      ]
    },
    {
      "cell_type": "markdown",
      "source": [
        "### One of the most common errors in deep learning is the shape error."
      ],
      "metadata": {
        "id": "FogSQZxlcBZ-"
      }
    },
    {
      "cell_type": "code",
      "source": [
        "tensorA = torch.tensor([[1,2],\n",
        "                       [3,4],\n",
        "                       [5,6]])\n",
        "\n",
        "tensorB = torch.tensor([[7 ,8],\n",
        "                       [9 ,10],\n",
        "                       [11,12]])"
      ],
      "metadata": {
        "id": "etRraz4kdROZ"
      },
      "execution_count": null,
      "outputs": []
    },
    {
      "cell_type": "code",
      "source": [
        "# Now if we try to multiply them, we get an error because inner dimensions don't match.\n",
        "torch.mm(tensorA, tensorB)  # this is an alias function for torch.matmul(). Basically same function called using another name."
      ],
      "metadata": {
        "colab": {
          "base_uri": "https://localhost:8080/",
          "height": 181
        },
        "id": "OjrTgjMWdk0k",
        "outputId": "cc27e531-1fb8-4ef8-b9a2-5aeb4dacd4a3"
      },
      "execution_count": null,
      "outputs": [
        {
          "output_type": "error",
          "ename": "RuntimeError",
          "evalue": "ignored",
          "traceback": [
            "\u001b[0;31m---------------------------------------------------------------------------\u001b[0m",
            "\u001b[0;31mRuntimeError\u001b[0m                              Traceback (most recent call last)",
            "\u001b[0;32m<ipython-input-53-b5499f09ca94>\u001b[0m in \u001b[0;36m<module>\u001b[0;34m()\u001b[0m\n\u001b[1;32m      1\u001b[0m \u001b[0;31m# Now if we try to multiply them, we get an error because inner dimensions don't match.\u001b[0m\u001b[0;34m\u001b[0m\u001b[0;34m\u001b[0m\u001b[0;34m\u001b[0m\u001b[0m\n\u001b[0;32m----> 2\u001b[0;31m \u001b[0mtorch\u001b[0m\u001b[0;34m.\u001b[0m\u001b[0mmm\u001b[0m\u001b[0;34m(\u001b[0m\u001b[0mtensorA\u001b[0m\u001b[0;34m,\u001b[0m \u001b[0mtensorB\u001b[0m\u001b[0;34m)\u001b[0m  \u001b[0;31m# this is an alias function for torch.matmul(). Basically same function called using another name.\u001b[0m\u001b[0;34m\u001b[0m\u001b[0;34m\u001b[0m\u001b[0m\n\u001b[0m",
            "\u001b[0;31mRuntimeError\u001b[0m: mat1 and mat2 shapes cannot be multiplied (3x2 and 3x2)"
          ]
        }
      ]
    },
    {
      "cell_type": "code",
      "source": [
        "# To fix this shape error, we take the transpose of the 2nd or the 1st matrix.\n",
        "tensorB_transpose = tensorB.T\n",
        "tensorB_transpose # Row became column, column became row. ^_^."
      ],
      "metadata": {
        "colab": {
          "base_uri": "https://localhost:8080/"
        },
        "id": "2w8P4YOdd6R-",
        "outputId": "b484a765-6b3e-4274-d4aa-a6fc91453478"
      },
      "execution_count": null,
      "outputs": [
        {
          "output_type": "execute_result",
          "data": {
            "text/plain": [
              "tensor([[ 7,  9, 11],\n",
              "        [ 8, 10, 12]])"
            ]
          },
          "metadata": {},
          "execution_count": 58
        }
      ]
    },
    {
      "cell_type": "code",
      "source": [
        "torch.matmul(tensorA, tensorB_transpose)  # Shape error fixed!"
      ],
      "metadata": {
        "colab": {
          "base_uri": "https://localhost:8080/"
        },
        "id": "-ay_TZAceCvQ",
        "outputId": "432ceb7e-5de9-434e-f75f-40727d8f8e78"
      },
      "execution_count": null,
      "outputs": [
        {
          "output_type": "execute_result",
          "data": {
            "text/plain": [
              "tensor([[ 23,  29,  35],\n",
              "        [ 53,  67,  81],\n",
              "        [ 83, 105, 127]])"
            ]
          },
          "metadata": {},
          "execution_count": 59
        }
      ]
    },
    {
      "cell_type": "markdown",
      "source": [
        "### Finding the min, max, mean, sum etc (Tensor Aggregation)"
      ],
      "metadata": {
        "id": "x7Zk5s9QeygW"
      }
    },
    {
      "cell_type": "code",
      "source": [
        "# Creata a tensor\n",
        "x = torch.arange(0, 100, 10)\n",
        "x"
      ],
      "metadata": {
        "colab": {
          "base_uri": "https://localhost:8080/"
        },
        "id": "Xa64VrElgMdF",
        "outputId": "c3d8dec6-3bad-4034-be73-2ea30fc953ac"
      },
      "execution_count": null,
      "outputs": [
        {
          "output_type": "execute_result",
          "data": {
            "text/plain": [
              "tensor([ 0, 10, 20, 30, 40, 50, 60, 70, 80, 90])"
            ]
          },
          "metadata": {},
          "execution_count": 69
        }
      ]
    },
    {
      "cell_type": "code",
      "source": [
        "# Finding the min\n",
        "torch.min(x), x.min()"
      ],
      "metadata": {
        "colab": {
          "base_uri": "https://localhost:8080/"
        },
        "id": "JI0y3I_rgVMp",
        "outputId": "1cb6ead7-26f6-4124-89bb-ccbdfda5b923"
      },
      "execution_count": null,
      "outputs": [
        {
          "output_type": "execute_result",
          "data": {
            "text/plain": [
              "(tensor(0), tensor(0))"
            ]
          },
          "metadata": {},
          "execution_count": 70
        }
      ]
    },
    {
      "cell_type": "code",
      "source": [
        "# Finding the max\n",
        "torch.max(x), x.max()"
      ],
      "metadata": {
        "colab": {
          "base_uri": "https://localhost:8080/"
        },
        "id": "NIs8rctygb1X",
        "outputId": "9dfc0fce-9fb9-4206-ae7f-721a72f70eaf"
      },
      "execution_count": null,
      "outputs": [
        {
          "output_type": "execute_result",
          "data": {
            "text/plain": [
              "(tensor(90), tensor(90))"
            ]
          },
          "metadata": {},
          "execution_count": 71
        }
      ]
    },
    {
      "cell_type": "code",
      "source": [
        "# Finding the average\n",
        "torch.mean(x), x.mean() # ahhahahahhaha tensor not right datatype error."
      ],
      "metadata": {
        "colab": {
          "base_uri": "https://localhost:8080/",
          "height": 181
        },
        "id": "e7rG5AkygfwF",
        "outputId": "7bf8348c-9649-4c6e-ef51-b2450a5edd11"
      },
      "execution_count": null,
      "outputs": [
        {
          "output_type": "error",
          "ename": "RuntimeError",
          "evalue": "ignored",
          "traceback": [
            "\u001b[0;31m---------------------------------------------------------------------------\u001b[0m",
            "\u001b[0;31mRuntimeError\u001b[0m                              Traceback (most recent call last)",
            "\u001b[0;32m<ipython-input-72-16cd50b728c4>\u001b[0m in \u001b[0;36m<module>\u001b[0;34m()\u001b[0m\n\u001b[1;32m      1\u001b[0m \u001b[0;31m# Finding the average\u001b[0m\u001b[0;34m\u001b[0m\u001b[0;34m\u001b[0m\u001b[0;34m\u001b[0m\u001b[0m\n\u001b[0;32m----> 2\u001b[0;31m \u001b[0mtorch\u001b[0m\u001b[0;34m.\u001b[0m\u001b[0mmean\u001b[0m\u001b[0;34m(\u001b[0m\u001b[0mx\u001b[0m\u001b[0;34m)\u001b[0m\u001b[0;34m,\u001b[0m \u001b[0mx\u001b[0m\u001b[0;34m.\u001b[0m\u001b[0mmean\u001b[0m\u001b[0;34m(\u001b[0m\u001b[0;34m)\u001b[0m \u001b[0;31m# ahhahahahhaha tensor not right datatype error.\u001b[0m\u001b[0;34m\u001b[0m\u001b[0;34m\u001b[0m\u001b[0m\n\u001b[0m",
            "\u001b[0;31mRuntimeError\u001b[0m: mean(): could not infer output dtype. Input dtype must be either a floating point or complex dtype. Got: Long"
          ]
        }
      ]
    },
    {
      "cell_type": "code",
      "source": [
        "x.dtype # Our tensor is int64 (Long). But we need float or complex tensor in mean function."
      ],
      "metadata": {
        "colab": {
          "base_uri": "https://localhost:8080/"
        },
        "id": "e7zOiolWglCk",
        "outputId": "25166fb7-d99d-46b3-bca8-946b4c2efed6"
      },
      "execution_count": null,
      "outputs": [
        {
          "output_type": "execute_result",
          "data": {
            "text/plain": [
              "torch.int64"
            ]
          },
          "metadata": {},
          "execution_count": 73
        }
      ]
    },
    {
      "cell_type": "code",
      "source": [
        "# Finding the average (again)\n",
        "torch.mean(x.type(torch.float32)), x.type(torch.float32).mean()"
      ],
      "metadata": {
        "colab": {
          "base_uri": "https://localhost:8080/"
        },
        "id": "pCm22PgygtOY",
        "outputId": "302eb028-02f5-481d-c997-524cde929943"
      },
      "execution_count": null,
      "outputs": [
        {
          "output_type": "execute_result",
          "data": {
            "text/plain": [
              "(tensor(45.), tensor(45.))"
            ]
          },
          "metadata": {},
          "execution_count": 74
        }
      ]
    },
    {
      "cell_type": "code",
      "source": [
        "# Finding the sum\n",
        "torch.sum(x), x.sum()"
      ],
      "metadata": {
        "colab": {
          "base_uri": "https://localhost:8080/"
        },
        "id": "RBvVWnD4hREK",
        "outputId": "78e2b9e0-c588-4f8a-837f-9290c25c818c"
      },
      "execution_count": null,
      "outputs": [
        {
          "output_type": "execute_result",
          "data": {
            "text/plain": [
              "(tensor(450), tensor(450))"
            ]
          },
          "metadata": {},
          "execution_count": 75
        }
      ]
    },
    {
      "cell_type": "code",
      "source": [
        "# Position of min, max values in our tensors.\n",
        "torch.argmin(x), torch.argmax(x)\n",
        "# Could also do\n",
        "x.argmin(), x.argmax()"
      ],
      "metadata": {
        "colab": {
          "base_uri": "https://localhost:8080/"
        },
        "id": "zUQ2zP4MhzDE",
        "outputId": "c3f02a4d-7955-429a-c39f-b4f89c86899f"
      },
      "execution_count": null,
      "outputs": [
        {
          "output_type": "execute_result",
          "data": {
            "text/plain": [
              "(tensor(0), tensor(9))"
            ]
          },
          "metadata": {},
          "execution_count": 77
        }
      ]
    },
    {
      "cell_type": "markdown",
      "source": [
        "## Tensor Manipulation Part 2\n",
        "We perform the following manipulations on tensors -\n",
        "* reshape - changes the shape of the tensor to whatever we provide.\n",
        "* view - create another vector with different shape but that vector shares memory with the original vector.\n",
        "* stack - concatenating tensors along a single dimension.\n",
        "* squeeze - Removes the dimensions that have only 1 value in it (i.e dimensions of size 1).\n",
        "* unsqueeze - Adds single dimension at specified index in the tensor.\n",
        "* permute - Rearranges the dimensions of the tensor in specified way."
      ],
      "metadata": {
        "id": "WeEjzVr1h-tc"
      }
    },
    {
      "cell_type": "code",
      "source": [
        "import torch\n",
        "x = torch.arange(1, 11, 1)\n",
        "x"
      ],
      "metadata": {
        "colab": {
          "base_uri": "https://localhost:8080/"
        },
        "id": "BPIkcZmdmMZx",
        "outputId": "45eb57f3-7cfd-4b77-c672-0ef05bee28cf"
      },
      "execution_count": null,
      "outputs": [
        {
          "output_type": "execute_result",
          "data": {
            "text/plain": [
              "tensor([ 1,  2,  3,  4,  5,  6,  7,  8,  9, 10])"
            ]
          },
          "metadata": {},
          "execution_count": 78
        }
      ]
    },
    {
      "cell_type": "code",
      "source": [
        "x_reshaped1 = x.reshape(2,5)\n",
        "x_reshaped1"
      ],
      "metadata": {
        "colab": {
          "base_uri": "https://localhost:8080/"
        },
        "id": "BINUfzITmWuM",
        "outputId": "c2d42bf1-8fca-4f2a-859c-225758b41f89"
      },
      "execution_count": null,
      "outputs": [
        {
          "output_type": "execute_result",
          "data": {
            "text/plain": [
              "tensor([[ 1,  2,  3,  4,  5],\n",
              "        [ 6,  7,  8,  9, 10]])"
            ]
          },
          "metadata": {},
          "execution_count": 80
        }
      ]
    },
    {
      "cell_type": "code",
      "source": [
        "x_reshaped2 = x.reshape(5,2)\n",
        "x_reshaped2"
      ],
      "metadata": {
        "colab": {
          "base_uri": "https://localhost:8080/"
        },
        "id": "NdvkBzDQmcMh",
        "outputId": "69f9ea7e-24fc-4ed9-d49d-4495437309c0"
      },
      "execution_count": null,
      "outputs": [
        {
          "output_type": "execute_result",
          "data": {
            "text/plain": [
              "tensor([[ 1,  2],\n",
              "        [ 3,  4],\n",
              "        [ 5,  6],\n",
              "        [ 7,  8],\n",
              "        [ 9, 10]])"
            ]
          },
          "metadata": {},
          "execution_count": 81
        }
      ]
    },
    {
      "cell_type": "code",
      "source": [
        "# If the number of elements in the original array does not match the dimensions of new array, we get an error.\n",
        "x_reshape = x.reshape(3,3)\n",
        "x_reshape"
      ],
      "metadata": {
        "colab": {
          "base_uri": "https://localhost:8080/",
          "height": 198
        },
        "id": "qmEg7Rmzmk_b",
        "outputId": "905f8955-cc6b-4e8d-c9b7-7c01aaca28ad"
      },
      "execution_count": null,
      "outputs": [
        {
          "output_type": "error",
          "ename": "RuntimeError",
          "evalue": "ignored",
          "traceback": [
            "\u001b[0;31m---------------------------------------------------------------------------\u001b[0m",
            "\u001b[0;31mRuntimeError\u001b[0m                              Traceback (most recent call last)",
            "\u001b[0;32m<ipython-input-82-3fb2b129a9dd>\u001b[0m in \u001b[0;36m<module>\u001b[0;34m()\u001b[0m\n\u001b[1;32m      1\u001b[0m \u001b[0;31m# If the number of elements in the original array does not match the dimensions of new array, we get an error.\u001b[0m\u001b[0;34m\u001b[0m\u001b[0;34m\u001b[0m\u001b[0;34m\u001b[0m\u001b[0m\n\u001b[0;32m----> 2\u001b[0;31m \u001b[0mx_reshape\u001b[0m \u001b[0;34m=\u001b[0m \u001b[0mx\u001b[0m\u001b[0;34m.\u001b[0m\u001b[0mreshape\u001b[0m\u001b[0;34m(\u001b[0m\u001b[0;36m3\u001b[0m\u001b[0;34m,\u001b[0m\u001b[0;36m3\u001b[0m\u001b[0;34m)\u001b[0m\u001b[0;34m\u001b[0m\u001b[0;34m\u001b[0m\u001b[0m\n\u001b[0m\u001b[1;32m      3\u001b[0m \u001b[0mx_reshape\u001b[0m\u001b[0;34m\u001b[0m\u001b[0;34m\u001b[0m\u001b[0m\n",
            "\u001b[0;31mRuntimeError\u001b[0m: shape '[3, 3]' is invalid for input of size 10"
          ]
        }
      ]
    },
    {
      "cell_type": "code",
      "source": [
        "# Changing the view.\n",
        "z = x.view(2,5)\n",
        "z # This z variable shares memory with our original tensor x. So, changing any value in z will change x also."
      ],
      "metadata": {
        "colab": {
          "base_uri": "https://localhost:8080/"
        },
        "id": "KCQnt1b_mvSv",
        "outputId": "e0596b4f-9c03-4ea7-804f-d9fb96374549"
      },
      "execution_count": null,
      "outputs": [
        {
          "output_type": "execute_result",
          "data": {
            "text/plain": [
              "tensor([[ 1,  2,  3,  4,  5],\n",
              "        [ 6,  7,  8,  9, 10]])"
            ]
          },
          "metadata": {},
          "execution_count": 84
        }
      ]
    },
    {
      "cell_type": "code",
      "source": [
        "z[1,0] = 69\n",
        "z, x\n",
        "# As you can see, change reflected in x as well."
      ],
      "metadata": {
        "colab": {
          "base_uri": "https://localhost:8080/"
        },
        "id": "8xC9Xg28m3uz",
        "outputId": "438574ca-7c7d-446c-967f-202f2b7e465f"
      },
      "execution_count": null,
      "outputs": [
        {
          "output_type": "execute_result",
          "data": {
            "text/plain": [
              "(tensor([[ 1,  2,  3,  4,  5],\n",
              "         [69,  7,  8,  9, 10]]),\n",
              " tensor([ 1,  2,  3,  4,  5, 69,  7,  8,  9, 10]))"
            ]
          },
          "metadata": {},
          "execution_count": 85
        }
      ]
    },
    {
      "cell_type": "code",
      "source": [
        "# Stacking tensors on top of each other.\n",
        "x_stacked = torch.stack((x, x, x, x), dim=0)\n",
        "# dim 0 means that the tensors are added horizontally in the same row one by one. Along the x axis.\n",
        "x_stacked"
      ],
      "metadata": {
        "colab": {
          "base_uri": "https://localhost:8080/"
        },
        "id": "qvGz9YRFnHGX",
        "outputId": "24ceb0ba-fd15-4343-b727-12b0807bead0"
      },
      "execution_count": null,
      "outputs": [
        {
          "output_type": "execute_result",
          "data": {
            "text/plain": [
              "tensor([[ 1,  2,  3,  4,  5, 69,  7,  8,  9, 10],\n",
              "        [ 1,  2,  3,  4,  5, 69,  7,  8,  9, 10],\n",
              "        [ 1,  2,  3,  4,  5, 69,  7,  8,  9, 10],\n",
              "        [ 1,  2,  3,  4,  5, 69,  7,  8,  9, 10]])"
            ]
          },
          "metadata": {},
          "execution_count": 87
        }
      ]
    },
    {
      "cell_type": "code",
      "source": [
        "x_stacked2 = torch.stack((x,x,x,x), dim=1) \n",
        "# dim 1 means stacked along the y axis. Basically same index waale elements are stacked together in a single array.\n",
        "x_stacked2"
      ],
      "metadata": {
        "colab": {
          "base_uri": "https://localhost:8080/"
        },
        "id": "uUhuFpNInk3b",
        "outputId": "df014c39-3388-4e9b-f979-53c565ae37fa"
      },
      "execution_count": null,
      "outputs": [
        {
          "output_type": "execute_result",
          "data": {
            "text/plain": [
              "tensor([[ 1,  1,  1,  1],\n",
              "        [ 2,  2,  2,  2],\n",
              "        [ 3,  3,  3,  3],\n",
              "        [ 4,  4,  4,  4],\n",
              "        [ 5,  5,  5,  5],\n",
              "        [69, 69, 69, 69],\n",
              "        [ 7,  7,  7,  7],\n",
              "        [ 8,  8,  8,  8],\n",
              "        [ 9,  9,  9,  9],\n",
              "        [10, 10, 10, 10]])"
            ]
          },
          "metadata": {},
          "execution_count": 88
        }
      ]
    },
    {
      "cell_type": "code",
      "source": [
        "x_vertical = torch.vstack((x,x,x,x))\n",
        "x_vertical"
      ],
      "metadata": {
        "colab": {
          "base_uri": "https://localhost:8080/"
        },
        "id": "verrYenWn0iC",
        "outputId": "9164612f-72c4-4ad6-a1fa-0d3d83049a34"
      },
      "execution_count": null,
      "outputs": [
        {
          "output_type": "execute_result",
          "data": {
            "text/plain": [
              "tensor([[ 1,  2,  3,  4,  5, 69,  7,  8,  9, 10],\n",
              "        [ 1,  2,  3,  4,  5, 69,  7,  8,  9, 10],\n",
              "        [ 1,  2,  3,  4,  5, 69,  7,  8,  9, 10],\n",
              "        [ 1,  2,  3,  4,  5, 69,  7,  8,  9, 10]])"
            ]
          },
          "metadata": {},
          "execution_count": 90
        }
      ]
    },
    {
      "cell_type": "code",
      "source": [
        "x_horizontal = torch.hstack((x,x,x,x))\n",
        "x_horizontal"
      ],
      "metadata": {
        "colab": {
          "base_uri": "https://localhost:8080/"
        },
        "id": "hxNp7K8FoIyC",
        "outputId": "dbe5ff4d-047f-4d3d-95c8-07217e7bc67b"
      },
      "execution_count": null,
      "outputs": [
        {
          "output_type": "execute_result",
          "data": {
            "text/plain": [
              "tensor([ 1,  2,  3,  4,  5, 69,  7,  8,  9, 10,  1,  2,  3,  4,  5, 69,  7,  8,\n",
              "         9, 10,  1,  2,  3,  4,  5, 69,  7,  8,  9, 10,  1,  2,  3,  4,  5, 69,\n",
              "         7,  8,  9, 10])"
            ]
          },
          "metadata": {},
          "execution_count": 91
        }
      ]
    },
    {
      "cell_type": "code",
      "source": [
        "# Trying to use torch.squeeze()\n",
        "zeroTensor = torch.zeros(2,1,2,1,2)\n",
        "zeroTensor"
      ],
      "metadata": {
        "colab": {
          "base_uri": "https://localhost:8080/"
        },
        "id": "oW5XBTovoQPG",
        "outputId": "79825b64-b316-4088-a4d9-140929433899"
      },
      "execution_count": null,
      "outputs": [
        {
          "output_type": "execute_result",
          "data": {
            "text/plain": [
              "tensor([[[[[0., 0.]],\n",
              "\n",
              "          [[0., 0.]]]],\n",
              "\n",
              "\n",
              "\n",
              "        [[[[0., 0.]],\n",
              "\n",
              "          [[0., 0.]]]]])"
            ]
          },
          "metadata": {},
          "execution_count": 93
        }
      ]
    },
    {
      "cell_type": "code",
      "source": [
        "torch.squeeze(zeroTensor) # Basically the same as above but removed the dimensions where only 1 value was present."
      ],
      "metadata": {
        "colab": {
          "base_uri": "https://localhost:8080/"
        },
        "id": "_orDcgqWqNdF",
        "outputId": "b4921f13-88b1-4bfd-d19c-fe0389c26237"
      },
      "execution_count": null,
      "outputs": [
        {
          "output_type": "execute_result",
          "data": {
            "text/plain": [
              "tensor([[[0., 0.],\n",
              "         [0., 0.]],\n",
              "\n",
              "        [[0., 0.],\n",
              "         [0., 0.]]])"
            ]
          },
          "metadata": {},
          "execution_count": 94
        }
      ]
    },
    {
      "cell_type": "code",
      "source": [
        "zeroTensor.shape"
      ],
      "metadata": {
        "colab": {
          "base_uri": "https://localhost:8080/"
        },
        "id": "X40x4hWrs5B-",
        "outputId": "bb179952-82fa-4e5f-8ddc-b6677a217469"
      },
      "execution_count": null,
      "outputs": [
        {
          "output_type": "execute_result",
          "data": {
            "text/plain": [
              "torch.Size([2, 1, 2, 1, 2])"
            ]
          },
          "metadata": {},
          "execution_count": 95
        }
      ]
    },
    {
      "cell_type": "code",
      "source": [
        "squeezedAlongDim = torch.squeeze(zeroTensor, dim=1)  # Squeezes the tensor only along the dimension at index 1 in shape tuple of the tensor.\n",
        "squeezedAlongDim.shape"
      ],
      "metadata": {
        "colab": {
          "base_uri": "https://localhost:8080/"
        },
        "id": "hg9vvZxlrMYd",
        "outputId": "02337830-6a41-463f-9779-ba9f0abee0a6"
      },
      "execution_count": null,
      "outputs": [
        {
          "output_type": "execute_result",
          "data": {
            "text/plain": [
              "torch.Size([2, 2, 1, 2])"
            ]
          },
          "metadata": {},
          "execution_count": 96
        }
      ]
    },
    {
      "cell_type": "code",
      "source": [
        "# Trying to use torch.unsqueeze()\n",
        "# Adds a single dimension to the target tensor at the specified dim index. Basically the opposite of what squeeze does.\n",
        "\n",
        "print(f'Squeezed Zero Tensor: \\n{squeezedAlongDim}')\n",
        "print(f'Squeezed Zero Tensor\\'s Shape: {squeezedAlongDim.shape}')\n",
        "\n",
        "unsqueezed = torch.unsqueeze(squeezedAlongDim, dim=1)\n",
        "\n",
        "print()\n",
        "print(f'Unsqueezed Zero Tensor: \\n{unsqueezed}')\n",
        "print(f'Unsqueezed Zero Tensor\\'s Shape: {unsqueezed.shape}')"
      ],
      "metadata": {
        "colab": {
          "base_uri": "https://localhost:8080/"
        },
        "id": "4dU3K-zotCYn",
        "outputId": "6c949d09-060c-4f77-d01c-7784e248ec22"
      },
      "execution_count": null,
      "outputs": [
        {
          "output_type": "stream",
          "name": "stdout",
          "text": [
            "Squeezed Zero Tensor: \n",
            "tensor([[[[0., 0.]],\n",
            "\n",
            "         [[0., 0.]]],\n",
            "\n",
            "\n",
            "        [[[0., 0.]],\n",
            "\n",
            "         [[0., 0.]]]])\n",
            "Squeezed Zero Tensor's Shape: torch.Size([2, 2, 1, 2])\n",
            "\n",
            "Unsqueezed Zero Tensor: \n",
            "tensor([[[[[0., 0.]],\n",
            "\n",
            "          [[0., 0.]]]],\n",
            "\n",
            "\n",
            "\n",
            "        [[[[0., 0.]],\n",
            "\n",
            "          [[0., 0.]]]]])\n",
            "Unsqueezed Zero Tensor's Shape: torch.Size([2, 1, 2, 1, 2])\n"
          ]
        }
      ]
    },
    {
      "cell_type": "markdown",
      "source": [
        "You can see, single dimension added at index 1 (because dim=1)\n",
        "\n",
        "### Permutation -\n",
        "\n",
        "It retuns a view of the original tensor with rearranged dimensions. It shares the memory with the original tensor so any changes to either of the tensors will change the other one too!"
      ],
      "metadata": {
        "id": "KOuLHoG1uIf5"
      }
    },
    {
      "cell_type": "code",
      "source": [
        "pTest = torch.randn(2, 3, 5)  # This has shape as (2, 3, 5)\n",
        "permuted_pTest = torch.permute(pTest, (2, 0, 1))  \n",
        "# What we're doing is arranging dimensions such that dimension at index 2 in pTest ka shape tuple gets placed at index 0 in the new shape tuple.\n",
        "# Similarly, our 2nd dimension becomes index 0 of shape tuple of original tensor and, 3rd dimension becomes index 1. \n",
        "print(f'Original shape: {pTest.shape}')\n",
        "print(f'Permuted shape: {permuted_pTest.shape}')"
      ],
      "metadata": {
        "colab": {
          "base_uri": "https://localhost:8080/"
        },
        "id": "_Ub_c6XWt__N",
        "outputId": "eefc76e9-f433-4c5e-a77d-274b9aaa37f2"
      },
      "execution_count": null,
      "outputs": [
        {
          "output_type": "stream",
          "name": "stdout",
          "text": [
            "Original shape: torch.Size([2, 3, 5])\n",
            "Permuted shape: torch.Size([5, 2, 3])\n"
          ]
        }
      ]
    },
    {
      "cell_type": "markdown",
      "source": [
        "### A better example would be rearranging image data"
      ],
      "metadata": {
        "id": "UlbDcfupwavw"
      }
    },
    {
      "cell_type": "code",
      "source": [
        "img_data = torch.rand(28,28,3)  # [height, width, color]\n",
        "\n",
        "# Permute(rearrange) the original dimensions.\n",
        "# We want to rearrange such that color becomes 1st dimension, then height and then width.\n",
        "img_data_permuted = img_data.permute(2,0,1)  # Shifts dimension 2->0, 0->1, 1->2.\n",
        "\n",
        "print(f'Original shape: {img_data.shape}')\n",
        "print(f'Permuted shape: {img_data_permuted.shape}')"
      ],
      "metadata": {
        "colab": {
          "base_uri": "https://localhost:8080/"
        },
        "id": "MHS0v-EtwsBw",
        "outputId": "54416f1c-866c-4e28-ce0f-4e2bbd4911a0"
      },
      "execution_count": null,
      "outputs": [
        {
          "output_type": "stream",
          "name": "stdout",
          "text": [
            "Original shape: torch.Size([28, 28, 3])\n",
            "Permuted shape: torch.Size([3, 28, 28])\n"
          ]
        }
      ]
    },
    {
      "cell_type": "code",
      "source": [
        "img_data[0, 0, 0] = 420 # Permutation is just a view of the tensor. So changing original tensor changes permutation too.\n",
        "print(img_data_permuted[0, 0, 0])"
      ],
      "metadata": {
        "colab": {
          "base_uri": "https://localhost:8080/"
        },
        "id": "j1AVfoX4xim-",
        "outputId": "de2ca111-171f-47c4-ee02-a9861206903a"
      },
      "execution_count": null,
      "outputs": [
        {
          "output_type": "stream",
          "name": "stdout",
          "text": [
            "tensor(420.)\n"
          ]
        }
      ]
    },
    {
      "cell_type": "markdown",
      "source": [
        "## Indexing\n",
        "### Indexing with PyTorch is the similar to indexing with NumPy"
      ],
      "metadata": {
        "id": "1y9P3lj2ye8b"
      }
    },
    {
      "cell_type": "code",
      "source": [
        "# Create a tensor\n",
        "x = torch.arange(1, 10).reshape(1,3,3)\n",
        "x, x.shape"
      ],
      "metadata": {
        "colab": {
          "base_uri": "https://localhost:8080/"
        },
        "id": "LcGt1EVrzJLq",
        "outputId": "f0714e90-1dd9-4fc0-bdaf-9080e747a558"
      },
      "execution_count": null,
      "outputs": [
        {
          "output_type": "execute_result",
          "data": {
            "text/plain": [
              "(tensor([[[1, 2, 3],\n",
              "          [4, 5, 6],\n",
              "          [7, 8, 9]]]), torch.Size([1, 3, 3]))"
            ]
          },
          "metadata": {},
          "execution_count": 105
        }
      ]
    },
    {
      "cell_type": "code",
      "source": [
        "# Let's index the middle bracket containing 4,5,6\n",
        "x[0,1]"
      ],
      "metadata": {
        "colab": {
          "base_uri": "https://localhost:8080/"
        },
        "id": "j-IwzLUTzVzn",
        "outputId": "76808fe8-1d0c-4acf-9ee3-c995c52dedd7"
      },
      "execution_count": null,
      "outputs": [
        {
          "output_type": "execute_result",
          "data": {
            "text/plain": [
              "tensor([4, 5, 6])"
            ]
          },
          "metadata": {},
          "execution_count": 106
        }
      ]
    },
    {
      "cell_type": "code",
      "source": [
        "# Can also use other notation.\n",
        "x[0][1]"
      ],
      "metadata": {
        "colab": {
          "base_uri": "https://localhost:8080/"
        },
        "id": "WlWYvPFUzdWh",
        "outputId": "77b5e5c7-4d84-4724-c05b-60ab10551d6f"
      },
      "execution_count": null,
      "outputs": [
        {
          "output_type": "execute_result",
          "data": {
            "text/plain": [
              "tensor([4, 5, 6])"
            ]
          },
          "metadata": {},
          "execution_count": 107
        }
      ]
    },
    {
      "cell_type": "markdown",
      "source": [
        "## PyTorch Tensors and Numpy\n",
        "\n",
        "* Data in Numpy  -> Want in tensor --> `torch.from_numpy(ndarray)`\n",
        "* Data in tensor -> Want in Numpy  --> `torch.Tensor.numpy()`"
      ],
      "metadata": {
        "id": "zgbszNvUMBg2"
      }
    },
    {
      "cell_type": "code",
      "source": [
        "import torch\n",
        "import numpy as np\n",
        "\n",
        "array = np.arange(1.0, 8.0)\n",
        "tensor = torch.from_numpy(array)\n",
        "array, tensor"
      ],
      "metadata": {
        "colab": {
          "base_uri": "https://localhost:8080/"
        },
        "id": "jD4sVq6xM3JG",
        "outputId": "22f78a1f-3188-46d0-f023-ffdb22d92186"
      },
      "execution_count": null,
      "outputs": [
        {
          "output_type": "execute_result",
          "data": {
            "text/plain": [
              "(array([1., 2., 3., 4., 5., 6., 7.]),\n",
              " tensor([1., 2., 3., 4., 5., 6., 7.], dtype=torch.float64))"
            ]
          },
          "metadata": {},
          "execution_count": 1
        }
      ]
    },
    {
      "cell_type": "code",
      "source": [
        "# Default datatype in pytorch is float32, whereas it's float64 in numpy.\n",
        "# When converting from numpy array to pytorch tensor, numpy's default datatype float64 is used unless specified\n",
        "array.dtype, tensor.dtype"
      ],
      "metadata": {
        "colab": {
          "base_uri": "https://localhost:8080/"
        },
        "id": "H8Nvy_csNF7S",
        "outputId": "7c48ce01-9536-4b41-c9ff-31a756dbe8da"
      },
      "execution_count": null,
      "outputs": [
        {
          "output_type": "execute_result",
          "data": {
            "text/plain": [
              "(dtype('float64'), torch.float64)"
            ]
          },
          "metadata": {},
          "execution_count": 3
        }
      ]
    },
    {
      "cell_type": "code",
      "source": [
        "# Change the value of array, what will that do to tensor ?\n",
        "array = array + 1\n",
        "array, tensor"
      ],
      "metadata": {
        "colab": {
          "base_uri": "https://localhost:8080/"
        },
        "id": "9KjXsZYKOCAS",
        "outputId": "63044543-9180-48cf-a3e0-a87df6ee7687"
      },
      "execution_count": null,
      "outputs": [
        {
          "output_type": "execute_result",
          "data": {
            "text/plain": [
              "(array([2., 3., 4., 5., 6., 7., 8.]),\n",
              " tensor([1., 2., 3., 4., 5., 6., 7.], dtype=torch.float64))"
            ]
          },
          "metadata": {},
          "execution_count": 4
        }
      ]
    },
    {
      "cell_type": "code",
      "source": [
        "# Tensor to Numpy Array\n",
        "tensor = torch.ones(7)\n",
        "numpy_tensor = tensor.numpy()\n",
        "tensor, numpy_tensor"
      ],
      "metadata": {
        "colab": {
          "base_uri": "https://localhost:8080/"
        },
        "id": "cW4nVZgZQWDO",
        "outputId": "585e4cdf-d6e9-4e64-d0b5-9d7c7615c705"
      },
      "execution_count": null,
      "outputs": [
        {
          "output_type": "execute_result",
          "data": {
            "text/plain": [
              "(tensor([1., 1., 1., 1., 1., 1., 1.]),\n",
              " array([1., 1., 1., 1., 1., 1., 1.], dtype=float32))"
            ]
          },
          "metadata": {},
          "execution_count": 5
        }
      ]
    },
    {
      "cell_type": "code",
      "source": [
        "# Change the tensor, what happens to numpy_tensor ?\n",
        "tensor = tensor + 1\n",
        "tensor, numpy_tensor"
      ],
      "metadata": {
        "colab": {
          "base_uri": "https://localhost:8080/"
        },
        "id": "9QKhpyZvROj7",
        "outputId": "afa8e97b-f143-42e5-e31a-5437f3f861d9"
      },
      "execution_count": null,
      "outputs": [
        {
          "output_type": "execute_result",
          "data": {
            "text/plain": [
              "(tensor([2., 2., 2., 2., 2., 2., 2.]),\n",
              " array([1., 1., 1., 1., 1., 1., 1.], dtype=float32))"
            ]
          },
          "metadata": {},
          "execution_count": 6
        }
      ]
    },
    {
      "cell_type": "markdown",
      "source": [
        "## Reproducability (trying to take random out of the random)\n",
        "\n",
        "In short, how neural network learns:\n",
        "\n",
        "`start with random numbers -> tensor operations -> update random numbers to try to make them better representations of data -> repeat this...`\n",
        "\n",
        "To reduce the randomness in neural networks and PyTorch, we use the concept of random **seed**. To know what random seed is, watch the khan academy video on Cryptography."
      ],
      "metadata": {
        "id": "17pmlWKNRoXl"
      }
    },
    {
      "cell_type": "code",
      "source": [
        "import torch\n",
        "\n",
        "tensorA = torch.rand(3, 4)\n",
        "tensorB = torch.rand(3, 4)\n",
        "\n",
        "print(tensorA)\n",
        "print(tensorB)\n",
        "print(tensorA == tensorB) # Prints the condition for each element of the tensor(WOW!)"
      ],
      "metadata": {
        "colab": {
          "base_uri": "https://localhost:8080/"
        },
        "id": "EOOm78EtRdOn",
        "outputId": "31855a1c-10ab-4f99-fcbc-fc2d524220fe"
      },
      "execution_count": null,
      "outputs": [
        {
          "output_type": "stream",
          "name": "stdout",
          "text": [
            "tensor([[0.3635, 0.8706, 0.0373, 0.4461],\n",
            "        [0.0153, 0.9549, 0.5460, 0.2967],\n",
            "        [0.0163, 0.2187, 0.6573, 0.9268]])\n",
            "tensor([[0.8199, 0.1536, 0.7903, 0.2416],\n",
            "        [0.7715, 0.1026, 0.7560, 0.1694],\n",
            "        [0.6269, 0.7932, 0.5385, 0.8348]])\n",
            "tensor([[False, False, False, False],\n",
            "        [False, False, False, False],\n",
            "        [False, False, False, False]])\n"
          ]
        }
      ]
    },
    {
      "cell_type": "code",
      "source": [
        "# Let's make a random number pattern but make it reproducible.\n",
        "import torch\n",
        "\n",
        "# Set the random seed.\n",
        "RANDOM_SEED = 295 # RIP\n",
        "\n",
        "torch.manual_seed(RANDOM_SEED)\n",
        "tensorC = torch.rand(3,4)\n",
        "\n",
        "torch.manual_seed(RANDOM_SEED)\n",
        "tensorD = torch.rand(3,4)\n",
        "\n",
        "print(tensorC)\n",
        "print(tensorD)\n",
        "print(tensorC == tensorD) # Prints the condition for each element of the tensor(WOW!)"
      ],
      "metadata": {
        "colab": {
          "base_uri": "https://localhost:8080/"
        },
        "id": "wZ2mh2fpSMKD",
        "outputId": "9bbab08c-ecf2-4fe5-c5a5-b6a44274d1a9"
      },
      "execution_count": null,
      "outputs": [
        {
          "output_type": "stream",
          "name": "stdout",
          "text": [
            "tensor([[0.2713, 0.8702, 0.8820, 0.9400],\n",
            "        [0.2000, 0.4267, 0.3424, 0.8355],\n",
            "        [0.2013, 0.0134, 0.9623, 0.5154]])\n",
            "tensor([[0.2713, 0.8702, 0.8820, 0.9400],\n",
            "        [0.2000, 0.4267, 0.3424, 0.8355],\n",
            "        [0.2013, 0.0134, 0.9623, 0.5154]])\n",
            "tensor([[True, True, True, True],\n",
            "        [True, True, True, True],\n",
            "        [True, True, True, True]])\n"
          ]
        }
      ]
    },
    {
      "cell_type": "markdown",
      "source": [
        "## Running tensors and PyTorch objects on GPUs (and making faster computations)\n",
        "\n",
        "### 1. Getting a GPU.\n",
        "Easiest way to do that is using colab. You can also access your nvidia gpu if you have one. I have a mac m1 so smh."
      ],
      "metadata": {
        "id": "9McSicDDYycX"
      }
    },
    {
      "cell_type": "code",
      "source": [
        "!nvidia-smi"
      ],
      "metadata": {
        "colab": {
          "base_uri": "https://localhost:8080/"
        },
        "id": "T83BfppwcJ78",
        "outputId": "44e1d6e7-1b57-4ca0-b240-212fa7af5b6e"
      },
      "execution_count": null,
      "outputs": [
        {
          "output_type": "stream",
          "name": "stdout",
          "text": [
            "Fri Aug 26 04:38:56 2022       \n",
            "+-----------------------------------------------------------------------------+\n",
            "| NVIDIA-SMI 460.32.03    Driver Version: 460.32.03    CUDA Version: 11.2     |\n",
            "|-------------------------------+----------------------+----------------------+\n",
            "| GPU  Name        Persistence-M| Bus-Id        Disp.A | Volatile Uncorr. ECC |\n",
            "| Fan  Temp  Perf  Pwr:Usage/Cap|         Memory-Usage | GPU-Util  Compute M. |\n",
            "|                               |                      |               MIG M. |\n",
            "|===============================+======================+======================|\n",
            "|   0  Tesla T4            Off  | 00000000:00:04.0 Off |                    0 |\n",
            "| N/A   70C    P8    11W /  70W |      0MiB / 15109MiB |      0%      Default |\n",
            "|                               |                      |                  N/A |\n",
            "+-------------------------------+----------------------+----------------------+\n",
            "                                                                               \n",
            "+-----------------------------------------------------------------------------+\n",
            "| Processes:                                                                  |\n",
            "|  GPU   GI   CI        PID   Type   Process name                  GPU Memory |\n",
            "|        ID   ID                                                   Usage      |\n",
            "|=============================================================================|\n",
            "|  No running processes found                                                 |\n",
            "+-----------------------------------------------------------------------------+\n"
          ]
        }
      ]
    },
    {
      "cell_type": "markdown",
      "source": [
        "## Running Torch tensors on GPU.\n"
      ],
      "metadata": {
        "id": "sWPBQU6tclyO"
      }
    },
    {
      "cell_type": "code",
      "source": [
        "import torch\n",
        "torch.cuda.is_available() # Returns if GPU is available to work on."
      ],
      "metadata": {
        "colab": {
          "base_uri": "https://localhost:8080/"
        },
        "id": "i_8oK_0tcK_p",
        "outputId": "7396d57a-dc9d-43da-a2f7-59f584700945"
      },
      "execution_count": null,
      "outputs": [
        {
          "output_type": "execute_result",
          "data": {
            "text/plain": [
              "True"
            ]
          },
          "metadata": {},
          "execution_count": 3
        }
      ]
    },
    {
      "cell_type": "code",
      "source": [
        "# We create a device variable to store what kind of device we're working on\n",
        "device = 'cuda' if torch.cuda.is_available() else 'cpu' # This is good practice to write device agnostic code.\n",
        "device"
      ],
      "metadata": {
        "colab": {
          "base_uri": "https://localhost:8080/",
          "height": 35
        },
        "id": "B9CFgltAcyh_",
        "outputId": "bc827727-729b-4922-a8d6-3f3c235f54e5"
      },
      "execution_count": null,
      "outputs": [
        {
          "output_type": "execute_result",
          "data": {
            "text/plain": [
              "'cuda'"
            ],
            "application/vnd.google.colaboratory.intrinsic+json": {
              "type": "string"
            }
          },
          "metadata": {},
          "execution_count": 4
        }
      ]
    },
    {
      "cell_type": "code",
      "source": [
        "# Counting the number of GPUs available for us.\n",
        "torch.cuda.device_count()"
      ],
      "metadata": {
        "colab": {
          "base_uri": "https://localhost:8080/"
        },
        "id": "d5hxdu--dKxi",
        "outputId": "c4975c43-8b07-4673-9221-9047ebfb207e"
      },
      "execution_count": null,
      "outputs": [
        {
          "output_type": "execute_result",
          "data": {
            "text/plain": [
              "1"
            ]
          },
          "metadata": {},
          "execution_count": 6
        }
      ]
    },
    {
      "cell_type": "markdown",
      "source": [
        "## Putting tensors (and models) on GPU.\n",
        "\n",
        "To change the device of the tensor you're working with, you can call the `to(device)` function.\n",
        "\n",
        "Putting a tensor on GPU using `to(device)` (e.g. `some_tensor.to(device)`) returns a copy of that tensor, e.g. the same tensor will be on CPU and GPU. To overwrite tensors, reassign them:\n",
        "some_tensor = some_tensor.to(device)"
      ],
      "metadata": {
        "id": "hdMfMJEvd0Q0"
      }
    },
    {
      "cell_type": "code",
      "source": [
        "# Creating a Tensor on CPU.\n",
        "tensor = torch.tensor([1,2,3])\n",
        "tensor.device"
      ],
      "metadata": {
        "colab": {
          "base_uri": "https://localhost:8080/"
        },
        "id": "9rH-LVZYedAb",
        "outputId": "445df295-03d5-4f7f-cada-1ce99e762b86"
      },
      "execution_count": null,
      "outputs": [
        {
          "output_type": "execute_result",
          "data": {
            "text/plain": [
              "device(type='cpu')"
            ]
          },
          "metadata": {},
          "execution_count": 7
        }
      ]
    },
    {
      "cell_type": "code",
      "source": [
        "# tensorGPU = torch.tensor([1,2,3], device='cuda')\n",
        "tensorGPU = tensor.to(device) # Creates a copy of our tensor in upper code block and puts it on the gpu.\n",
        "tensorGPU.device"
      ],
      "metadata": {
        "colab": {
          "base_uri": "https://localhost:8080/"
        },
        "id": "Zv1AqEVyekHX",
        "outputId": "29bf12b2-b76b-454b-f186-79a41be9470f"
      },
      "execution_count": null,
      "outputs": [
        {
          "output_type": "execute_result",
          "data": {
            "text/plain": [
              "device(type='cuda', index=0)"
            ]
          },
          "metadata": {},
          "execution_count": 10
        }
      ]
    },
    {
      "cell_type": "markdown",
      "source": [
        "## Moving tensors back to CPU.\n",
        "\n",
        "You would do this if you want to interact with numpy arrays because numpy does not utilize GPUs.\n",
        "So, let's try using the `torch.Tensor.numpy()` method on our tensor."
      ],
      "metadata": {
        "id": "svTUUbZ_ep5q"
      }
    },
    {
      "cell_type": "code",
      "source": [
        "torch.Tensor.numpy(tensorGPU) # This throws an error saying that we can't convert a GPU tensor to numpy array.\n",
        "# We could also call tensorGPU.numpy() and it would be the same as the above line of code."
      ],
      "metadata": {
        "colab": {
          "base_uri": "https://localhost:8080/",
          "height": 169
        },
        "id": "MzKMMQXBfplo",
        "outputId": "71a0d2cd-c554-436e-cf17-c7957101eb14"
      },
      "execution_count": null,
      "outputs": [
        {
          "output_type": "error",
          "ename": "TypeError",
          "evalue": "ignored",
          "traceback": [
            "\u001b[0;31m---------------------------------------------------------------------------\u001b[0m",
            "\u001b[0;31mTypeError\u001b[0m                                 Traceback (most recent call last)",
            "\u001b[0;32m<ipython-input-11-b3b55737cb25>\u001b[0m in \u001b[0;36m<module>\u001b[0;34m\u001b[0m\n\u001b[0;32m----> 1\u001b[0;31m \u001b[0mtorch\u001b[0m\u001b[0;34m.\u001b[0m\u001b[0mTensor\u001b[0m\u001b[0;34m.\u001b[0m\u001b[0mnumpy\u001b[0m\u001b[0;34m(\u001b[0m\u001b[0mtensorGPU\u001b[0m\u001b[0;34m)\u001b[0m\u001b[0;34m\u001b[0m\u001b[0;34m\u001b[0m\u001b[0m\n\u001b[0m",
            "\u001b[0;31mTypeError\u001b[0m: can't convert cuda:0 device type tensor to numpy. Use Tensor.cpu() to copy the tensor to host memory first."
          ]
        }
      ]
    },
    {
      "cell_type": "code",
      "source": [
        "# To fix this issue, we use torch.Tensor.cpu()\n",
        "# This copies the Tensor to CPU memory so we can change it to arrays and shit.\n",
        "tensorCPU = torch.Tensor.cpu(tensorGPU).numpy()\n",
        "tensorCPU"
      ],
      "metadata": {
        "colab": {
          "base_uri": "https://localhost:8080/"
        },
        "id": "jaC28x3PfuKQ",
        "outputId": "76d3cdd0-72b7-46d6-ccef-7e64ee02d774"
      },
      "execution_count": null,
      "outputs": [
        {
          "output_type": "execute_result",
          "data": {
            "text/plain": [
              "array([1, 2, 3])"
            ]
          },
          "metadata": {},
          "execution_count": 13
        }
      ]
    },
    {
      "cell_type": "markdown",
      "source": [
        "## END OF THE FIRST UNIT. NOW WE MOVE ON TO CREATE A MODEL! EXCITING STUFF."
      ],
      "metadata": {
        "id": "YC50jLncgTVm"
      }
    },
    {
      "cell_type": "markdown",
      "source": [
        "## Exercise Solutions"
      ],
      "metadata": {
        "id": "uycSzwujigdO"
      }
    },
    {
      "cell_type": "code",
      "source": [
        "import torch\n",
        "device = 'cuda' if torch.cuda.is_available() else 'cpu'\n",
        "tensor = torch.rand((7,7))\n",
        "tensor"
      ],
      "metadata": {
        "colab": {
          "base_uri": "https://localhost:8080/"
        },
        "id": "Y-h7j_5eiitU",
        "outputId": "3d4a1681-37db-4f50-ab42-2d7ec67b4a08"
      },
      "execution_count": null,
      "outputs": [
        {
          "output_type": "execute_result",
          "data": {
            "text/plain": [
              "tensor([[0.1650, 0.2612, 0.7121, 0.1250, 0.1524, 0.6331, 0.8452],\n",
              "        [0.7520, 0.4110, 0.8999, 0.5232, 0.0271, 0.7865, 0.8536],\n",
              "        [0.6304, 0.1664, 0.5116, 0.0346, 0.0616, 0.4411, 0.6109],\n",
              "        [0.4282, 0.5123, 0.0234, 0.4680, 0.1241, 0.5615, 0.0980],\n",
              "        [0.8615, 0.7253, 0.6221, 0.4302, 0.4761, 0.9272, 0.0425],\n",
              "        [0.0430, 0.0393, 0.5586, 0.1858, 0.1772, 0.7231, 0.4892],\n",
              "        [0.6744, 0.1010, 0.8842, 0.0683, 0.6634, 0.1482, 0.2380]])"
            ]
          },
          "metadata": {},
          "execution_count": 9
        }
      ]
    },
    {
      "cell_type": "code",
      "source": [
        "tensor2 = torch.rand(1,7)\n",
        "multiplied = torch.matmul(tensor, tensor2.T)\n",
        "multiplied, multiplied.shape"
      ],
      "metadata": {
        "colab": {
          "base_uri": "https://localhost:8080/"
        },
        "id": "RULZXsiGiqsE",
        "outputId": "46910edd-de2c-46ff-c7bd-c64a29a08f1c"
      },
      "execution_count": null,
      "outputs": [
        {
          "output_type": "execute_result",
          "data": {
            "text/plain": [
              "(tensor([[1.2693],\n",
              "         [1.8060],\n",
              "         [0.9356],\n",
              "         [1.0878],\n",
              "         [1.6600],\n",
              "         [0.8066],\n",
              "         [0.9445]]), torch.Size([7, 1]))"
            ]
          },
          "metadata": {},
          "execution_count": 10
        }
      ]
    },
    {
      "cell_type": "code",
      "source": [
        "torch.cuda.manual_seed(1234)\n",
        "t1 = torch.rand((2,3)).to(device)\n",
        "t2 = torch.rand((2,3)).to(device)\n",
        "t1, t2"
      ],
      "metadata": {
        "colab": {
          "base_uri": "https://localhost:8080/"
        },
        "id": "-bwJaws7eZ-R",
        "outputId": "f25408d5-a72e-43d5-bcb8-7d5a7e2e8ca8"
      },
      "execution_count": null,
      "outputs": [
        {
          "output_type": "execute_result",
          "data": {
            "text/plain": [
              "(tensor([[0.4854, 0.0805, 0.0715],\n",
              "         [0.6668, 0.3048, 0.4776]], device='cuda:0'),\n",
              " tensor([[0.3680, 0.0393, 0.0917],\n",
              "         [0.5991, 0.9947, 0.0974]], device='cuda:0'))"
            ]
          },
          "metadata": {},
          "execution_count": 12
        }
      ]
    },
    {
      "cell_type": "code",
      "source": [
        "mul = torch.matmul(t1, t2.T)\n",
        "mul"
      ],
      "metadata": {
        "colab": {
          "base_uri": "https://localhost:8080/"
        },
        "id": "5t93KFfVhHHQ",
        "outputId": "1c3e99ef-fb5d-4a63-fa33-782141b900d4"
      },
      "execution_count": null,
      "outputs": [
        {
          "output_type": "execute_result",
          "data": {
            "text/plain": [
              "tensor([[0.1883, 0.3779],\n",
              "        [0.3011, 0.7493]], device='cuda:0')"
            ]
          },
          "metadata": {},
          "execution_count": 15
        }
      ]
    },
    {
      "cell_type": "code",
      "source": [
        "maxval = mul.max()\n",
        "minval = mul.min()\n",
        "\n",
        "maxval, minval"
      ],
      "metadata": {
        "colab": {
          "base_uri": "https://localhost:8080/"
        },
        "id": "NFG4XgJGjtBg",
        "outputId": "31583815-4f5b-4ebb-a038-d86250b11824"
      },
      "execution_count": null,
      "outputs": [
        {
          "output_type": "execute_result",
          "data": {
            "text/plain": [
              "(tensor(0.7493, device='cuda:0'), tensor(0.1883, device='cuda:0'))"
            ]
          },
          "metadata": {},
          "execution_count": 16
        }
      ]
    },
    {
      "cell_type": "code",
      "source": [
        "maxIndex = mul.argmax()\n",
        "minIndex = mul.argmin()"
      ],
      "metadata": {
        "id": "YvCGLrf_j7sv"
      },
      "execution_count": null,
      "outputs": []
    },
    {
      "cell_type": "code",
      "source": [
        "torch.cuda.manual_seed(7)\n",
        "TENSOR = torch.rand((1,1,1,10)).to(device)\n",
        "changedTensor = TENSOR.squeeze()\n",
        "TENSOR, changedTensor"
      ],
      "metadata": {
        "colab": {
          "base_uri": "https://localhost:8080/"
        },
        "id": "ipmY8o3tkQuH",
        "outputId": "96346f3e-4258-49bb-baeb-9f459d257342"
      },
      "execution_count": null,
      "outputs": [
        {
          "output_type": "execute_result",
          "data": {
            "text/plain": [
              "(tensor([[[[0.1780, 0.2494, 0.3752, 0.4403, 0.6001, 0.6964, 0.6927, 0.0142,\n",
              "            0.8724, 0.3349]]]], device='cuda:0'),\n",
              " tensor([0.1780, 0.2494, 0.3752, 0.4403, 0.6001, 0.6964, 0.6927, 0.0142, 0.8724,\n",
              "         0.3349], device='cuda:0'))"
            ]
          },
          "metadata": {},
          "execution_count": 19
        }
      ]
    },
    {
      "cell_type": "code",
      "source": [],
      "metadata": {
        "id": "zeuTk9ZVlJTh"
      },
      "execution_count": null,
      "outputs": []
    }
  ]
}